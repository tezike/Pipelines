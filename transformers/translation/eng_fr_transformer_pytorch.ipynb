{
  "nbformat": 4,
  "nbformat_minor": 0,
  "metadata": {
    "colab": {
      "name": "eng-fr-transformer_pytorch.ipynb",
      "provenance": [],
      "collapsed_sections": [],
      "authorship_tag": "ABX9TyNpwEOtVDsMEk0BR/tBIrv4"
    },
    "kernelspec": {
      "name": "python3",
      "display_name": "Python 3"
    },
    "accelerator": "GPU"
  },
  "cells": [
    {
      "cell_type": "markdown",
      "metadata": {
        "id": "U7g7L9eWM4gc",
        "colab_type": "text"
      },
      "source": [
        "##Core"
      ]
    },
    {
      "cell_type": "code",
      "metadata": {
        "id": "_ECpdOsxvpIL",
        "colab_type": "code",
        "colab": {
          "base_uri": "https://localhost:8080/",
          "height": 50
        },
        "outputId": "2f7f22a1-f5c8-4211-aad0-9f43bdcfd303"
      },
      "source": [
        "!pip install fastcore fastai2 tokenizers -q"
      ],
      "execution_count": null,
      "outputs": [
        {
          "output_type": "stream",
          "text": [
            "\u001b[K     |████████████████████████████████| 194kB 11.9MB/s \n",
            "\u001b[K     |████████████████████████████████| 3.8MB 28.2MB/s \n",
            "\u001b[?25h"
          ],
          "name": "stdout"
        }
      ]
    },
    {
      "cell_type": "code",
      "metadata": {
        "id": "_8n-epaRvstb",
        "colab_type": "code",
        "colab": {}
      },
      "source": [
        "from fastcore.foundation import *\n",
        "from fastai2.text.all import *\n",
        "# import pathlib"
      ],
      "execution_count": null,
      "outputs": []
    },
    {
      "cell_type": "code",
      "metadata": {
        "id": "NRNfH41qvya5",
        "colab_type": "code",
        "colab": {}
      },
      "source": [
        "# @patch\n",
        "# def ls(x: pathlib.Path):\n",
        "#     return list(x.iterdir())"
      ],
      "execution_count": null,
      "outputs": []
    },
    {
      "cell_type": "markdown",
      "metadata": {
        "id": "yQNK70EuxrRr",
        "colab_type": "text"
      },
      "source": [
        "## Colab_setup"
      ]
    },
    {
      "cell_type": "code",
      "metadata": {
        "id": "RiTyipOvcPQA",
        "colab_type": "code",
        "colab": {}
      },
      "source": [
        "import os\n",
        "\n",
        "from pathlib import Path\n",
        "from google.colab import drive"
      ],
      "execution_count": null,
      "outputs": []
    },
    {
      "cell_type": "code",
      "metadata": {
        "id": "nipZBIQ2amuD",
        "colab_type": "code",
        "colab": {}
      },
      "source": [
        "def create_path(path):\n",
        "    if not os.path.isdir(path):\n",
        "        path.mkdir(parents=True, exist_ok=True)\n",
        "    return path"
      ],
      "execution_count": null,
      "outputs": []
    },
    {
      "cell_type": "code",
      "metadata": {
        "id": "GdKS3nNT0IKp",
        "colab_type": "code",
        "colab": {
          "base_uri": "https://localhost:8080/",
          "height": 138
        },
        "outputId": "c817dd20-4707-49ce-ef87-25aa76312ef5"
      },
      "source": [
        "from google.colab import drive\n",
        "drive.mount('/content/drive')\n",
        "root_dir = Path('/content/drive/My Drive')\n",
        "base_path = create_path(root_dir/'seq2seq')\n",
        "base_path"
      ],
      "execution_count": null,
      "outputs": [
        {
          "output_type": "stream",
          "text": [
            "Go to this URL in a browser: https://accounts.google.com/o/oauth2/auth?client_id=947318989803-6bn6qk8qdgf4n4g3pfee6491hc0brc4i.apps.googleusercontent.com&redirect_uri=urn%3aietf%3awg%3aoauth%3a2.0%3aoob&response_type=code&scope=email%20https%3a%2f%2fwww.googleapis.com%2fauth%2fdocs.test%20https%3a%2f%2fwww.googleapis.com%2fauth%2fdrive%20https%3a%2f%2fwww.googleapis.com%2fauth%2fdrive.photos.readonly%20https%3a%2f%2fwww.googleapis.com%2fauth%2fpeopleapi.readonly\n",
            "\n",
            "Enter your authorization code:\n",
            "··········\n",
            "Mounted at /content/drive\n"
          ],
          "name": "stdout"
        },
        {
          "output_type": "execute_result",
          "data": {
            "text/plain": [
              "Path('/content/drive/My Drive/seq2seq')"
            ]
          },
          "metadata": {
            "tags": []
          },
          "execution_count": 7
        }
      ]
    },
    {
      "cell_type": "code",
      "metadata": {
        "id": "oIXgl6523wqb",
        "colab_type": "code",
        "colab": {}
      },
      "source": [
        "colab_path = Path('/content')"
      ],
      "execution_count": null,
      "outputs": []
    },
    {
      "cell_type": "code",
      "metadata": {
        "id": "8BTdMY8caahd",
        "colab_type": "code",
        "colab": {}
      },
      "source": [
        "data_path = create_path(base_path/'dataset')"
      ],
      "execution_count": null,
      "outputs": []
    },
    {
      "cell_type": "code",
      "metadata": {
        "id": "Gw59N97DV63P",
        "colab_type": "code",
        "colab": {}
      },
      "source": [
        "model_path = create_path(base_path/'models')"
      ],
      "execution_count": null,
      "outputs": []
    },
    {
      "cell_type": "markdown",
      "metadata": {
        "id": "EG1WZybmMuRT",
        "colab_type": "text"
      },
      "source": [
        "## Imports"
      ]
    },
    {
      "cell_type": "code",
      "metadata": {
        "id": "CFZ6mXrgMvyx",
        "colab_type": "code",
        "colab": {}
      },
      "source": [
        "# import torch\n",
        "# import torch.nn as nn\n",
        "# import torch.nn.functional as F\n",
        "# import numpy as np\n",
        "# import pandas as pd\n",
        "from tokenizers import ByteLevelBPETokenizer"
      ],
      "execution_count": null,
      "outputs": []
    },
    {
      "cell_type": "markdown",
      "metadata": {
        "id": "9Wx1RycIMftg",
        "colab_type": "text"
      },
      "source": [
        "##Get data"
      ]
    },
    {
      "cell_type": "code",
      "metadata": {
        "id": "72aANkuhMlDZ",
        "colab_type": "code",
        "colab": {
          "base_uri": "https://localhost:8080/",
          "height": 195
        },
        "outputId": "416cc4bc-569f-468a-f0ba-1f7bdf818b44"
      },
      "source": [
        "df = pd.read_csv(data_path/'en-fr-questions.csv'); df.head()"
      ],
      "execution_count": null,
      "outputs": [
        {
          "output_type": "execute_result",
          "data": {
            "text/html": [
              "<div>\n",
              "<style scoped>\n",
              "    .dataframe tbody tr th:only-of-type {\n",
              "        vertical-align: middle;\n",
              "    }\n",
              "\n",
              "    .dataframe tbody tr th {\n",
              "        vertical-align: top;\n",
              "    }\n",
              "\n",
              "    .dataframe thead th {\n",
              "        text-align: right;\n",
              "    }\n",
              "</style>\n",
              "<table border=\"1\" class=\"dataframe\">\n",
              "  <thead>\n",
              "    <tr style=\"text-align: right;\">\n",
              "      <th></th>\n",
              "      <th>eng</th>\n",
              "      <th>fr</th>\n",
              "    </tr>\n",
              "  </thead>\n",
              "  <tbody>\n",
              "    <tr>\n",
              "      <th>0</th>\n",
              "      <td>What is light ?</td>\n",
              "      <td>Qu’est-ce que la lumière?</td>\n",
              "    </tr>\n",
              "    <tr>\n",
              "      <th>1</th>\n",
              "      <td>Who are we?</td>\n",
              "      <td>Où sommes-nous?</td>\n",
              "    </tr>\n",
              "    <tr>\n",
              "      <th>2</th>\n",
              "      <td>Where did we come from?</td>\n",
              "      <td>D'où venons-nous?</td>\n",
              "    </tr>\n",
              "    <tr>\n",
              "      <th>3</th>\n",
              "      <td>What would we do without it?</td>\n",
              "      <td>Que ferions-nous sans elle ?</td>\n",
              "    </tr>\n",
              "    <tr>\n",
              "      <th>4</th>\n",
              "      <td>What is the absolute location (latitude and longitude) of Badger, Newfoundland and Labrador?</td>\n",
              "      <td>Quelle sont les coordonnées (latitude et longitude) de Badger, à Terre-Neuve-etLabrador?</td>\n",
              "    </tr>\n",
              "  </tbody>\n",
              "</table>\n",
              "</div>"
            ],
            "text/plain": [
              "                                                                                            eng                                                                                        fr\n",
              "0                                                                               What is light ?                                                                 Qu’est-ce que la lumière?\n",
              "1                                                                                   Who are we?                                                                           Où sommes-nous?\n",
              "2                                                                       Where did we come from?                                                                         D'où venons-nous?\n",
              "3                                                                  What would we do without it?                                                              Que ferions-nous sans elle ?\n",
              "4  What is the absolute location (latitude and longitude) of Badger, Newfoundland and Labrador?  Quelle sont les coordonnées (latitude et longitude) de Badger, à Terre-Neuve-etLabrador?"
            ]
          },
          "metadata": {
            "tags": []
          },
          "execution_count": 12
        }
      ]
    },
    {
      "cell_type": "code",
      "metadata": {
        "id": "C94LgaXJI6y7",
        "colab_type": "code",
        "colab": {}
      },
      "source": [
        "df.eng.to_csv(colab_path/'temp_eng.txt', header=None, index=None, sep=' ', mode='a')\n",
        "df.fr.to_csv(colab_path/'temp_fr.txt', header=None, index=None, sep=' ', mode='a')"
      ],
      "execution_count": null,
      "outputs": []
    },
    {
      "cell_type": "markdown",
      "metadata": {
        "id": "75chVZbDNRVS",
        "colab_type": "text"
      },
      "source": [
        "#tokenize text"
      ]
    },
    {
      "cell_type": "markdown",
      "metadata": {
        "id": "nV5AC34JNTIG",
        "colab_type": "text"
      },
      "source": [
        "I will be using the tokenizers library from huggingface to tokenize both the english and french texts using a BPE to avoid unknown tokens. SInce we are using a Bytelevel tokenizer, we have to train it on our own corpus for it to create it's vocab\n",
        "\n",
        "references: https://github.com/huggingface/tokenizers"
      ]
    },
    {
      "cell_type": "code",
      "metadata": {
        "id": "wxgmGR1gN8fn",
        "colab_type": "code",
        "colab": {}
      },
      "source": [
        "tokenizer_eng = ByteLevelBPETokenizer()\n",
        "tokenizer_eng.train(str(colab_path/'temp_eng.txt'), special_tokens=['<sos>', '<eos>', '<pad>'])"
      ],
      "execution_count": null,
      "outputs": []
    },
    {
      "cell_type": "code",
      "metadata": {
        "id": "Vp1kpEsFVryD",
        "colab_type": "code",
        "colab": {}
      },
      "source": [
        "tokenizer_fr = ByteLevelBPETokenizer()\n",
        "tokenizer_fr.train(str(colab_path/'temp_fr.txt'), special_tokens=['<sos>', '<eos>', '<pad>'])"
      ],
      "execution_count": null,
      "outputs": []
    },
    {
      "cell_type": "code",
      "metadata": {
        "id": "K10aBHMVTwjF",
        "colab_type": "code",
        "colab": {
          "base_uri": "https://localhost:8080/",
          "height": 50
        },
        "outputId": "ecc26001-a65a-449f-cf86-7dc38ddf738f"
      },
      "source": [
        "tokenizer_eng.save(str(data_path), 'bpe_eng_vocab')\n",
        "tokenizer_fr.save(str(data_path), 'bpe_fr_vocab')"
      ],
      "execution_count": null,
      "outputs": [
        {
          "output_type": "execute_result",
          "data": {
            "text/plain": [
              "['/content/drive/My Drive/seq2seq/dataset/bpe_fr_vocab-vocab.json',\n",
              " '/content/drive/My Drive/seq2seq/dataset/bpe_fr_vocab-merges.txt']"
            ]
          },
          "metadata": {
            "tags": []
          },
          "execution_count": 18
        }
      ]
    },
    {
      "cell_type": "code",
      "metadata": {
        "id": "cu4rXRVVUBwO",
        "colab_type": "code",
        "colab": {}
      },
      "source": [
        "tokenizer_eng = ByteLevelBPETokenizer(str(data_path/'bpe_eng_vocab-vocab.json'),\n",
        "                                      str(data_path/'bpe_eng_vocab-merges.txt'))\n",
        "\n",
        "tokenizer_fr = ByteLevelBPETokenizer(str(data_path/'bpe_fr_vocab-vocab.json'),\n",
        "                                      str(data_path/'bpe_fr_vocab-merges.txt'))"
      ],
      "execution_count": null,
      "outputs": []
    },
    {
      "cell_type": "code",
      "metadata": {
        "id": "au3Ihc3HVevH",
        "colab_type": "code",
        "colab": {
          "base_uri": "https://localhost:8080/",
          "height": 34
        },
        "outputId": "d4283240-1505-41a2-ac3f-20466cffcc37"
      },
      "source": [
        "vocab_size_eng = tokenizer_eng.get_vocab_size()\n",
        "vocab_size_fr = tokenizer_fr.get_vocab_size()\n",
        "\n",
        "print(vocab_size_eng, vocab_size_fr)"
      ],
      "execution_count": null,
      "outputs": [
        {
          "output_type": "stream",
          "text": [
            "23077 28091\n"
          ],
          "name": "stdout"
        }
      ]
    },
    {
      "cell_type": "code",
      "metadata": {
        "id": "R-9_89Jv0ykh",
        "colab_type": "code",
        "colab": {}
      },
      "source": [
        ""
      ],
      "execution_count": null,
      "outputs": []
    },
    {
      "cell_type": "code",
      "metadata": {
        "id": "i2VjLYEhVj62",
        "colab_type": "code",
        "colab": {}
      },
      "source": [
        "# PAD_TOKEN = tokenizer_fr.encode('<pad>').ids[0]; PAD_TOKEN\n",
        "PAD_TOKEN_ID = 2"
      ],
      "execution_count": null,
      "outputs": []
    },
    {
      "cell_type": "code",
      "metadata": {
        "id": "JiwbkbSZwanV",
        "colab_type": "code",
        "colab": {}
      },
      "source": [
        ""
      ],
      "execution_count": null,
      "outputs": []
    },
    {
      "cell_type": "code",
      "metadata": {
        "id": "vbi9qkE5cM9G",
        "colab_type": "code",
        "colab": {}
      },
      "source": [
        "vocab_fr = [k for k, v in sorted(tokenizer_fr.get_vocab().items(), key=lambda x: x[1])]\n",
        "vocab_eng = [k for k, v in sorted(tokenizer_eng.get_vocab().items(), key=lambda x: x[1])]"
      ],
      "execution_count": null,
      "outputs": []
    },
    {
      "cell_type": "code",
      "metadata": {
        "id": "RC1FqLxw00dP",
        "colab_type": "code",
        "colab": {
          "base_uri": "https://localhost:8080/",
          "height": 54
        },
        "outputId": "435f3164-867f-4a07-a94f-ad3cc48a2de6"
      },
      "source": [
        "print(vocab_eng)"
      ],
      "execution_count": null,
      "outputs": [
        {
          "output_type": "stream",
          "text": [
            "['<sos>', '<eos>', '<pad>', '!', '\"', '#', '$', '%', '&', \"'\", '(', ')', '*', '+', ',', '-', '.', '/', '0', '1', '2', '3', '4', '5', '6', '7', '8', '9', ':', ';', '<', '=', '>', '?', '@', 'A', 'B', 'C', 'D', 'E', 'F', 'G', 'H', 'I', 'J', 'K', 'L', 'M', 'N', 'O', 'P', 'Q', 'R', 'S', 'T', 'U', 'V', 'W', 'X', 'Y', 'Z', '[', '\\\\', ']', '^', '_', '`', 'a', 'b', 'c', 'd', 'e', 'f', 'g', 'h', 'i', 'j', 'k', 'l', 'm', 'n', 'o', 'p', 'q', 'r', 's', 't', 'u', 'v', 'w', 'x', 'y', 'z', '{', '|', '}', '~', '¡', '¢', '£', '¤', '¥', '¦', '§', '¨', '©', 'ª', '«', '¬', '®', '¯', '°', '±', '²', '³', '´', 'µ', '¶', '·', '¸', '¹', 'º', '»', '¼', '½', '¾', '¿', 'À', 'Á', 'Â', 'Ã', 'Ä', 'Å', 'Æ', 'Ç', 'È', 'É', 'Ê', 'Ë', 'Ì', 'Í', 'Î', 'Ï', 'Ð', 'Ñ', 'Ò', 'Ó', 'Ô', 'Õ', 'Ö', '×', 'Ø', 'Ù', 'Ú', 'Û', 'Ü', 'Ý', 'Þ', 'ß', 'à', 'á', 'â', 'ã', 'ä', 'å', 'æ', 'ç', 'è', 'é', 'ê', 'ë', 'ì', 'í', 'î', 'ï', 'ð', 'ñ', 'ò', 'ó', 'ô', 'õ', 'ö', '÷', 'ø', 'ù', 'ú', 'û', 'ü', 'ý', 'þ', 'ÿ', 'Ā', 'ā', 'Ă', 'ă', 'Ą', 'ą', 'Ć', 'ć', 'Ĉ', 'ĉ', 'Ċ', 'ċ', 'Č', 'č', 'Ď', 'ď', 'Đ', 'đ', 'Ē', 'ē', 'Ĕ', 'ĕ', 'Ė', 'ė', 'Ę', 'ę', 'Ě', 'ě', 'Ĝ', 'ĝ', 'Ğ', 'ğ', 'Ġ', 'ġ', 'Ģ', 'ģ', 'Ĥ', 'ĥ', 'Ħ', 'ħ', 'Ĩ', 'ĩ', 'Ī', 'ī', 'Ĭ', 'ĭ', 'Į', 'į', 'İ', 'ı', 'Ĳ', 'ĳ', 'Ĵ', 'ĵ', 'Ķ', 'ķ', 'ĸ', 'Ĺ', 'ĺ', 'Ļ', 'ļ', 'Ľ', 'ľ', 'Ŀ', 'ŀ', 'Ł', 'ł', 'Ń', 'Ġt', 'at', 'he', 'Ġa', '?\"', 'in', 're', 'Ġthe', 'Wh', 'on', 'What', 'Ġo', 'en', 'es', 'is', 'er', 'Ġc', 'Ġs', 'an', 'ou', 'or', 'Ġp', 'Ġw', 'Ġd', 'ion', 'it', 'Ġof', 'Ġin', 'al', 'Ġf', 'Ġb', 'Ġto', 'Ġan', 'ic', 'ed', 'ing', 'ro', 'Ġm', 'ent', 'ct', 'Ġis', 'Ġand', 'ar', 'Ġre', 'le', 'ation', 'Ġare', 've', 'Ġh', 'Ġbe', 'Ġy', 'Ġdo', 'Ġth', 'Ġe', 'Ġyou', 'om', 'il', 'ment', 'st', 'Ġn', 'Ġfor', 'Ġpro', 'se', 'ĠC', 'ld', 'im', 'ad', 'ce', 'as', 'id', 'ould', 'Ġl', 'Ġg', 'Why', 'if', 'ect', 'ur', 'ra', 'Ġcon', 'et', 'ol', 'pp', 'Ġor', 'ĠI', 'ch', 'Ġu', 'Ġha', 'ut', 'ies', 'Ġon', 'ig', 'ot', 'ul', 'ers', 'ess', 'iv', 'Whe', 'Ġst', 'Ġde', 'ate', 'ity', 'ow', 'ill', 'Ġwe', 'ly', 'ge', 'Ġcom', 'ort', 'ir', 'Ġne', 'Ġwh', 'Ġim', 'Ġsh', 'Ġsu', 'Ġthat', 'Ġthis', 'nt', 'ĠCan', 'Who', 'Ġhave', 'ure', 'Ġcan', 'op', 'ĠA', 'ĠCanad', 'qu', 'Ġas', 'Ġyour', 'Ġimp', 'her', 'ble', 'ĠP', 'ith', 'ak', 'ant', 'Ġex', 'Ġit', 'ive', 'th', 'Ġwith', 'ĠS', 'est', 'ver', 'ay', 'Ġwill', 'Ġshould', 'ial', 'Ġch', 'ter', 'ich', 'un', 'Ġdoes', 'ations', 'Ġme', 'out', 'act', 'Ġab', 'âĢ', 'for', 'Ġle', 'Ġmo', 'ions', 'ist', 'Ġres', 'art', 'Ġhe', 'Ġr', 'ri', 'ĠE', 'Ġif', 'Ġwould', 'form', 'Ġk', 'pe', 'ain', '\"\"', 'os', 'Ġabout', 'ĠCanada', 'red', 'ff', 'Where', 'Ġv', 'am', 'us', 'Ġen', 'vel', 'Ġapp', 'ac', 'du', 'lic', 'oc', 'When', 'rom', 'ip', 'Ġgo', 'od', 'Ġnot', 'age', 'Which', 'Ġad', 'res', 'ments', 'Ġ(', 'Ġfrom', 'ram', 'cess', 'ork', 'ities', 'ther', 'pl', 'um', 'ĠR', 'igh', 'nd', 'Ġse', 'alth', 'll', 'iz', 'Ġby', 'ĠD', 'formation', 'Ġcont', 'ult', 'em', 'Ġpl', 'âĢĻ', 'ud', 'and', 'Ġat', 'ind', 'ĠN', 'ĠM', 'erv', 'able', 'our', 'gram', 'Ġthese', \"'s\", 'ie', 'ian', 'Ġwhe', 'Ġneed', 'Ġinformation', 'ĠT', 'ome', 'ical', 'Ġpart', 'ard', 'ject', 'ĠF', 'Ġwas', 'ight', 'ens', 'Ġexp', 'ere', 'ges', 'ide', 'Ġcomm', 'Ġreg', 'Ġthey', 'end', 'ational', 'ice', 'ĠH', 'ake', 'Ġother', 'Ġint', 'ces', 'Ġus', 'ab', 'ance', 'Ġcomp', 'Ġtr', 'ated', 'Ġac', 'Ġwhat', 'Ġdid', 'ount', 'Ġwork', 'Ġact', 'ffect', 'Ġco', 'Ġca', 'ĠG', 'ence', 'ons', 'Ġhas', 'pt', 'vern', 'Ġtheir', 'one', 'Ġcons', 'Ġinc', 'ĠB', 'Ġhealth', 'ors', 'Ġwere', 'Ġbeen', 'Ġ\"\"', 'Ġpol', 'Ġhapp', 'Ġro', 'Ġdis', 'ans', 'Ġprogram', 'ub', 'og', 'ition', 'Ġchan', 'Ġuse', 'Ġbet', 'Ġresp', 'ary', 'Ġrequ', 'all', 'port', 'Ġper', 'rou', 'velop', 'Ġwhen', 'ĠW', 'fere', 'Ġprov', 'ĠCanadian', 'ru', 'duct', 'Ġob', 'omm', 'Ġimpact', 'Ġte', 'ices', 'Ġinv', 'Ġserv', 'Ġmost', 'ail', 'ue', 'ire', 'Ġdif', 'ms', 'Ġeffect', 'we', 'ear', 'Ġhow', 'Ġmy', 'Ġass', 'Ġinter', 'Ġem', 'Ġcl', 'ual', 'ublic', 'Ġnew', 'ific', 'Ġdevelop', 'ef', 'ust', 'oy', 'vernment', 'ress', 'ose', 'ry', 'ace', 'el', 'ĠO', 'pport', 'ign', 'Ġman', 'nder', 'ives', 'ible', 'Ġrel', ')?\"', 'Ġag', 'Ġrec', 'lect', 'ween', 'Ġunder', 'ink', 'Ġqu', 'Ġbetween', 'ative', 'Ġty', 'ke', 'Ġcommun', 'now', 'ade', 'rib', 'Ġrole', 'gan', 'Ġpe', 'cial', 'ia', 'Ġmore', 'Ġpre', 'ach', 'Ġout', 'ĠL', 'Ġall', 'Ġli', 'Ġso', 'per', 'ine', 'ility', 'Ġcould', 'enef', 'ploy', 'Ġdiffere', 'ents', 'ĠPro', 'rent', 'ep', 'Ġev', 'ime', 'ures', 'Ġpolic', 'Ġlevel', 'its', 'arch', 'Ġun', 'Ġkind', 'Ġpeop', 'con', 'ract', 'Ġpartic', 'Ġj', 'Ġorgan', 'Ġspe', 'und', 'Ġsy', 'Ġknow', 'ree', 'ren', 'Ġimport', 'uro', '00', 'Ġsome', 'Ġdec', 'Ġappro', 'Ġ2', 'Ġthere', 'Ġpr', 'hip', 'Ġprocess', 'Ġany', 'Ġpeople', 'ong', 'ark', 'Ġrese', 'stem', 'ern', 'ild', 'Ġ1', 'iss', 'ast', 'reat', 'ore', 'Ġbenef', 'Ġour', 'Ġadd', 'Ġproject', 'eral', 'Ġwho', 'Ġcount', 'Ġsub', 'Ġmean', 'Ġwhich', 'ues', 'Ġiss', 'Ġhappens', 'Ġlike', 'ĠEuro', 'ib', 'rit', 'Ġused', 'Ġsoc', 'Ġproduct', 'Ġpublic', 'Ġav', 'ish', 'ous', 'isk', 'ĠIn', 'ood', 'ĠEurope', 'enc', 'Ġthink', 'ĠSt', 'ization', 'ribut', 'Ġsuch', 'Ġactiv', 'Ġsupport', 'arn', 'vir', 'Ġits', 'Ġoff', 'lement', 'Ġal', 'Ġpers', 'viron', 'Ġtra', 'Ġrespons', 'Ġresearch', 'ates', 'Ġpos', 'ber', 'Ġemploy', 'ase', 'ural', 'pos', 'Ġcur', 'Ġind', 'vironment', 'ory', 'Ġdone', 'Ġsystem', 'Ġbeing', 'Ġgovernment', 'Ġimportant', 'Ġthem', 'Ġacc', 'ĠComm', 'Ġar', 'Ġmain', 'Ġam', 'oll', 'ved', 'Ġcost', 'ag', 'ax', 'Ġter', 'Ġsc', 'Ġtrans', 'Ġtak', 'Ġyear', 'ateg', 'ĠRe', 'ew', 'gh', 'ĠU', 'Ġmake', 'ord', 'ob', 'Ġmeas', 'Ġcurrent', 'Ġresult', 'Ġright', 'ang', 'Ġrisk', 'Ġtime', 'lud', 'Ġtake', 'Ġget', 'Ġfund', 'Ġke', 'Ġover', 'ired', 'ok', 'Ġfind', 'Ġpolicy', 'Ġavail', 'iness', 'ĠHe', 'Ġservices', 'wn', 'Ġinst', 'les', 'ision', 'als', 'xt', 'iew', 'tect', 'Ġsit', 'Ġinto', 'olog', 'usiness', 'Ġapplic', 'ings', 'Ġfact', 'get', 'ages', 'Ġlearn', 'Ġcare', 'ile', 'itut', 'Ġavailable', 'ĠâĢ', 'min', 'Ġconc', 'Ġbest', 'lp', 'ater', 'ident', 'cur', 'Ġel', 'Ġhelp', 'agement', 'int', 'Ġadv', 'ating', 'Ġgrou', 'Ġens', 'Ġexpect', 'chn', 'Ġreport', 'Ġenvironment', 'ied', 'ĠHealth', 'rateg', 'conom', 'Ġval', 'uc', 'ants', 'Ġparticip', 'are', 'ission', 'uation', 'Ġimplement', 'Ġsee', 'Ġdevelopment', 'chie', 'Ġplan', 'nce', 'tain', 'Ġinclud', 'ources', 'Ġbenefits', 'Ġdes', 'ame', 'Ġintern', 'inal', 'ack', 'Ġplace', 'Ġrequired', 'Ġone', 'Ġprotect', 'Ġ200', 'led', 'pect', 'Ġachie', 'Ġperson', 'ollow', 'Ġobject', 'ional', 'Ġinf', 'Ġfollow', 'Ġsect', 'Ġactivities', 'uture', 'Ġcommunity', 'Ġpat', 'Ġleg', 'Ġtyp', 'Ġspec', 'Ġmade', 'Ġchanges', 'Ġfe', 'ient', 'ining', 'resent', 'Ġinvol', 'Ġgen', 'te', 'Ġfuture', 'Ġcontribut', 'Ġchange', 'Ġexper', 'Ġregul', 'ccess', 'Ġpur', 'Ġhappen', 'Ġrequire', 'Ġbusiness', 'ced', 'irst', 'allen', 'Ġensure', 'Ġpract', 'Ġmed', 'ety', 'ards', 'Ġpo', 'Ġsp', 'Ġform', 'ass', 'Ġgroup', 'ider', 'omen', 'Ġpay', 'Ġissues', 'vent', 'Ġthan', 'ful', 'old', 'rior', 'Ġmark', 'Ġrece', 'Ġchallen', 'ap', 'Ġdifferent', 'ise', 'ook', 'Ġtype', 'Ġfactors', 'Ġstud', 'Ġeconom', 'ving', 'Ġway', 'uring', 'dust', 'Ġatt', 'angu', 'Ġtypes', 'Ġsa', 'ics', 'Ġtaken', 'Ġimpro', 'ential', 'Ġup', 'Ġsuccess', 'Ġsocial', 'Ġkey', 'ict', 'iti', 'Ġent', 'Ġtechn', 'ries', 'Ġmight', 'Ġpropos', 'ĠProgram', 'Ġmeasures', 'ĠEuropean', 'Ġstrateg', 'Ġprior', 'Ġnational', 'Ġinternational', 'ased', 'Ġmem', 'ency', 'Ġdoing', 'Ġdep', 'Ġaddress', 'Ġorganization', 'Ġwomen', 'Ġdet', 'Ġchild', 'Ġplay', 'Ġqual', 'ruct', 'ious', 'amil', 'Ġapply', 'come', 'ĠAct', 'Ġinvest', 'Ġed', \"'t\", 'inan', 'Ġproble', 'urn', 'Ġservice', 'Ġsur', 'Ġconsider', 'Ġassess', 'ences', 'cept', 'aw', 'uman', 'Ġmanagement', 'Ġrights', 'Ġaf', 'itions', 'ability', 'Ġexperi', 'Ġthose', 'ĠInt', 'Ġmak', 'ilities', 'Ġdisc', 'Ġyears', 'Ġfunding', 'Ġph', 'Ġwant', 'Ġfollowing', 'com', 'Ġnow', 'ederal', 'Ġaut', 'Ġdat', 'ĠGo', 'Ġeduc', 'Ġtax', 'Ġcap', 'Ġprovid', 'Ġresults', 'Ġchallenges', 'ĠCh', 'ular', 'Ġstat', 'Ġmet', 'arri', 'Ġrep', 'Ġstand', 'Ġregard', 'av', 'Ġmarket', 'cu', 'Ġret', 'der', 'Ġfamil', 'Ġloc', 'Ġlong', 'Ġaccess', 'ys', 'Ġindust', 'iven', 'Ġtraining', 'Ġprom', 'pri', 'ledge', 'Ġafter', 'Ġlangu', 'ife', 'ivers', 'Ġwhy', 'Ġwhere', 'Ġexist', 'Ġquest', 'Ġconcern', 'Ġ?\"', 'iver', '\"\"?\"', 'Ġsay', 'Ġfac', 'rough', 'Ġfinan', 'Ġeach', 'Ġchar', 'fer', 'Ġcol', 'Ġneeds', 'hed', 'erest', 'Ġobjectives', 'ĠCon', 'Ġcountry', 'ĠAb', 'eg', 'mit', 'ph', 'Ġresponsib', 'orld', 'eps', 'ivid', 'hor', 'Ġpot', 'Ġpartn', 'Ġcompan', 'ĠDo', 'Ġapplication', 'ss', 'Ġcrit', 'Ġmod', 'rug', 'ound', 'Ġrelations', 'Ġrev', 'tern', 'Ġcountries', 'ration', 'Ġcond', 'Ġdef', 'ty', 'Ġeffective', 'irect', 'ividual', 'Ġown', 'Ġinterest', 'Ġenvironmental', 'Ġpotential', 'Ġfood', 'chan', 'Ġimpacts', 'Ġimprove', 'lu', 'Ġcult', 'Ġdata', 'Ġgood', 'Ġincre', 'Ġprograms', 'ines', 'Ġhad', 'idence', 'Ġnext', 'Ġeffects', 'Ġiniti', 'ership', 'Ġemploye', 'Ġinstitut', 'ted', 'ĠCommission', 'Ġneeded', 'priate', 'io', 'Ġident', 'Ġmin', 'ts', 'Ġbu', 'ting', 'Ġest', 'Ġlook', 'Ġgu', 'Ġdel', 'Ġwithin', 'Ġsteps', 'Ġmust', 'ulation', 'Ġterms', 'ĠV', 'atives', 'Ġfirst', 'Ġequ', 'Ġreas', 'Ġlead', 'Ġknowledge', 'Ġoper', 'sel', 'Ġdifference', 'amp', 'Ġdeter', 'por', 'Ġappropriate', 'Ġindividual', 'ered', 'Ġmon', 'ote', 'ĠServ', 'Ġresponsible', 'Ġset', 'Ġcosts', 'Ġinvolved', 'Ġrequirements', 'Ġmay', 'Ġrespect', 'Ġspecific', 'ified', 'Ġcor', 'Ġfederal', 'Ġorder', 'igible', 'itional', 'Ġsaf', 'Ġpop', 'Ġeconomic', 'Ġareas', 'Ġmeet', 'ness', 'ost', 'ĠJ', 'Ġreal', 'Ġnat', 'Ġneg', 'ology', 'ool', 'idered', 'ning', 'Ġtw', 'Ġagree', 'Ġresources', 'Ġstatus', 'Ġduring', 'Ġsm', 'Ġelect', 'Ġachieve', 'Ġrelationship', 'ify', 'Ġsector', 'Ġauthor', 'bers', 'erg', 'Ġhuman', 'Ġsign', 'Ġconsidered', 'Ġprovide', 'Ġproducts', 'Ġarea', 'iginal', 'Ġcompet', 'Ġdem', 'Ġimplic', 'Ġparticular', 'cent', 'oci', 'ĠRes', 'Ġworking', 'pose', 'Ġthrough', 'Ġjob', 'ffic', 'iod', 'ring', 'arm', 'Ġprof', 'ĠCanadians', 'Ġdocu', 'ric', 'artment', 'Ġposs', 'ov', 'ĠEU', 'Ġdecision', 'Ġthen', 'Ġless', 'Ġprovin', 'Ġeducation', 'use', 'Ġworld', 'Ġgovern', 'Ġsituation', 'Ġnum', 'ommend', 'Ġimplications', 'Ġaffect', 'Ġconf', 'chool', 'Ġrem', 'Ġ19', 'Ġlanguage', 'ST', 'aim', 'ng', 'Ġrele', 'ĠAg', 'Ġaccount', 'ients', 'ĠGovernment', 'Ġtwo', 'fore', 'aj', 'Ġdon', 'iving', 'acy', 'Ġdrug', 'arget', 'Ġher', 'atory', 'abl', 'Ġdesign', 'Ġoc', 'Ġtreat', 'Ġpa', 'Ġno', 'Ġview', 'Ġcomple', 'Ġpriv', 'ital', 'Ġcome', 'antages', 'Ġeval', 'Ġfinancial', 'eria', 'Ġorganiz', 'Ġrecommend', 'Ġnon', 'Ġlaw', 'ĠK', 'Ġopt', 'ĠUn', 'Ġchildren', 'Ġconditions', 'cip', 'hes', 'ron', 'oun', 'ases', '__', 'ajor', 'ism', 'Ġperform', 'Ġeligible', 'Ġtrade', 'Ġassoci', 'Ġkinds', 'Ġlife', 'Ġcollect', 'ran', 'Ġ-', 'Ġtarget', 'original', 'Ġgoing', 'work', 'Ġwater', 'Ġmajor', 'ĠPublic', 'Ġsoci', 'sequ', 'ification', 'Ġfore', 'curity', 'Ġrepresent', 'Ġfamily', 'Ġindustry', 'Ġgr', 'ilit', 'Ġask', 'very', 'pportun', 'hold', 'ite', 'Ġmechan', 'Ġclaim', 'Ġreturn', 'Ġop', 'Ġconst', 'Ġcriteria', 'Ġaw', 'Ġbot', 'ĠIs', 'Ġinflu', 'arriers', 'ared', 'ĠY', 'Ġbefore', 'Ġusing', 'ths', 'ize', 'Ġaction', 'Ġcommunities', 'Ġpolicies', 'Ġmeth', 'ination', 'Ġsk', 'Ġschool', 'Ġlist', 'Ġstate', 'Ġbetter', 'rol', 'Ġhigh', 'ĠDe', 'Ġperiod', 'Ġexperience', 'ather', 'Ġopportun', 'Ġra', 'Ġcontact', 'row', 'Ġproper', 'Ġpercent', 'Ġposition', 'ister', 'Ġhis', 'Ġrisks', 'Ġvalue', 'isions', 'ĠReg', 'Ġestabl', 'Ġdeliver', 'Ġpersonal', 'itive', 'Ġins', 'Ġlevels', 'day', 'Ġbarriers', 'Ġcompl', 'duce', 'ically', 'Ġpolit', 'imate', 'Ġprotection', 'Ġpurpose', 'Ġregarding', 'gest', 'ators', 'Ġdist', 'Ġlim', 'Ġext', 'Ġproblems', 'ond', 'Ġbeh', 'Ġcommit', 'Ġapproach', 'Ġcompany', 'line', 'Ġtest', 'Ġstart', 'Ġgroups', 'rim', 'ized', 'other', 'ĠAre', 'reng', 'ĠâĢĵ', 'Ġmethod', 'Ġdate', 'Ġproposed', 'ĠAboriginal', 'Ġput', 'ols', 'arl', 'Ġsupp', 'Ġissue', 'Ġquality', 'isl', 'ution', 'Ġvis', 'cing', 'gress', 'Ġair', 'Ġcre', 'Ġspecial', 'ĠIntern', 'comes', 'incip', 'Ġstreng', 'cessary', 'Ġelse', 'Ġpractices', 'ged', 'itiz', 'raph', 'ower', 'ope', 'Ġlegal', 'ĠService', 'ited', 'Ġbas', 'Ġmat', 'stand', 'Ġconsequ', 'ĠWe', 'Ġassessment', 'air', 'ention', 'Ġlab', 'Ġconsum', 'Ġallow', 'Ġevidence', 'Ġnumber', 'eration', 'Ġshe', 'Ġsociety', 'ft', 'Ġtre', 'Ġprojects', 'Ġpresent', 'Ġbel', 'oti', 'Ġnecessary', 'Ġvar', 'Ġenc', 'Ġmakes', 'Ġemployees', 'ills', 'Ġobtain', 'Ġoffic', 'Ġlegisl', 'ructure', 'Ġbut', 'road', 'Ġprogress', 'Ġgiven', 'ramew', 'vention', 'Ġmembers', 'ramework', 'ks', 'tal', 'ived', 'uss', 'Ġgoals', 'Ġsecurity', 'Ġstrategies', 'Ġpopulation', 'cil', 'ert', 'Ġaccept', 'Ġreview', 'ouse', 'Ġrate', 'ĠNational', 'Ġreceive', 'Ġactions', 'Ġpercentage', 'ĠQ', 'Ġwell', 'Ġtrad', 'Ġsurve', 'lob', 'Ġdirect', 'ĠNew', 'Ġprovided', 'Ġdetermin', 'Ġnegoti', 'ave', 'Ġsame', 'Ġagain', 'Ġamount', 'Ġpriorities', 'Ġgreat', 'ules', 'Ġend', 'Ġrelated', 'Ġprincip', 'read', 'isms', 'ĠFor', 'Ġactivity', 'Ġindic', 'Ġgeneral', 'iversity', 'Ġsol', 'Ġhome', 'Ġbecome', 'Ġoccur', 'Ġcho', 'ource', 'Ġregist', 'Ġoffer', 'Ġpolitical', 'Ġonly', 'Ġsim', 'Ġdra', 'itor', 'Ġfil', 'Ġinteg', 'Ġbenefit', 'Ġday', 'Ġcommon', 'Ġassist', 'Ġlocal', 'ouncil', 'ances', 'Ġdeveloping', 'Ġcommunic', 'Ġlearned', 'Ġimplementation', 'Ġincluded', 'Ġcent', 'ough', 'Ġinn', 'Ġtools', 'unct', 'ield', 'aterial', 'Ġconsequences', 'Ġcitiz', 'imum', 'Ġsubject', 'Ġfeel', 'Ġsafety', 'Ġboth', 'lements', 'Ġothers', 'Ġassociated', 'co', 'Ġeth', 'lobal', 'Ġref', 'Ġproced', 'Ġdeal', 'Ġconsult', 'cond', 'Ġlikely', 'Ġexpected', 'Ġyoung', 'Ġimm', 'Ġadvantages', 'Ġpoint', 'Ġcapac', 'Ġquestions', 'Ġprofess', 'arlia', 'RA', 'erve', 'Ġful', 'Ġresponsibilities', 'Ġbuild', 'Ġpossible', 'Ġfur', 'Ġtoday', 'istics', 'Ġmechanisms', 'Ġopportunities', 'stain', 'encies', 'oura', 'Ġsustain', 'ĠTr', 'Ġoutcomes', 'Ġcultural', 'ference', 'Ġrecord', 'etwork', 'Ġselect', 'ender', 'Ġdise', 'Ġprep', 'Ġreporting', 'Ġsuccessful', 'oint', 'vant', 'ĠMan', 'pects', 'tee', 'tic', 'ished', 'Ġunderstand', 'Ġparticipation', 'Ġdepartment', 'ex', 'Ġcall', 'Ġmaterial', 'ĠAr', 'Ġquestion', 'Ġreason', 'ext', 'ised', 'Ġsal', 'Ġland', 'term', 'Ġcontrol', 'Ġcase', 'Ġinvestment', 'Ġorganizations', 'Ġinnov', 'Ġcapacity', 'arliament', 'Ġsources', 'icult', 'Ġthings', 'Ġgive', 'ĠPl', 'Ġvalues', 'Ġproblem', 'pro', 'ten', 'Ġpres', 'Ġfound', 'Ġlic', 'Ġcontin', 'udget', 'ension', 'Ġstudy', 'Ġstandards', 'acter', 'ograph', 'Ġfurther', 'ec', 'verage', 'Ġjust', 'Ġmodel', 'cy', 'crib', 'ĠCA', 'oney', 'Ġlessons', 'lig', 'Ġhig', 'Ġname', 'Ġcontract', 'Ġmanag', 'fact', 'Ġtow', 'Ġincluding', 'Ġfield', 'ended', 'Ġcurrently', 'Ġphys', 'Ġagreement', 'Ġperformance', 'Ġthree', 'Ġrules', 'ĠEn', 'ember', 'ĠThe', 'Ġprogramm', 'Ġmany', 'ĠStates', 'Ġtaking', 'ick', 'round', 'Ġmeasure', 'Ġresponsibility', 'ample', 'the', 'Ġcar', 'Ġbring', 'ĠCouncil', 'Ġemployment', 'Ġskills', 'ell', 'lines', 'Ġfunct', 'Ġexpl', 'ĠEx', 'ocus', 'Ġincome', 'Ġtechnology', 'Ġgovernments', 'Ġagainst', 'man', 'Ġbudget', 'Ġsubst', 'Ġaltern', 'Ġinstitutions', 'Ġbl', 'ishing', 'Ġsystems', 'self', 'mer', 'ising', 'Ġstrengths', 'Ġdr', 'ross', 'Ġtell', 'Ġadditional', 'Ġsubmit', 'ibility', 'Ġmaking', 'Ġ199', 'Ġevaluation', 'go', 'mb', 'Ġide', 'ator', 'Ġcop', 'Ġrest', 'Ġglobal', 'ists', 'reen', 'place', 'ĠFirst', 'Ġpromot', 'Ġcitizens', 'ank', 'Ġlar', 'Ġgrow', 'Ġwhile', 'Ġlearning', 'Ġinitiatives', 'Ġcomplain', 'aring', 'Ġhold', 'Ġyouth', 'Ġoblig', 'Ġprocesses', 'Ġproperty', 'ready', 'SA', 'nces', 'ove', 'Ġlink', 'Ġconduct', 'Ġappl', 'Ġcaus', 'Ġalready', 'Ġterm', 'lus', 'ner', 'put', 'ulations', 'Ġwithout', 'Ġcharacter', 'Ġ3', 'Ġelements', 'ĠCF', 'ird', 'Ġadop', 'ours', 'Ġwhether', 'Ġrequest', 'Ġinvolve', 'Ġcontribution', 'Ġnature', 'Ġbelie', 'CT', 'DS', 'up', 'uch', 'Ġmoney', 'ption', 'ually', 'iveness', 'unt', 'Ġtotal', 'Ġexam', 'force', 'Ġincrease', 'AT', 'ves', 'Ġfocus', 'Ġforms', 'ĠPr', 'Ġdiff', 'ological', 'Ġstrategy', 'side', 'Ġtele', 'Ġexisting', 'Ġrelevant', 'Ġopin', 'Ġvarious', 'IP', 'olic', 'Ġsignific', 'Ġlegislation', 'val', 'Ġcust', 'orts', 'Ġroles', 'Ġdocument', 'aff', 'ier', 'Ġreduce', 'ĠMin', 'ĠCommun', 'Ġpractice', 'Ġdefin', 'Ġconflic', 'oard', 'Ġframework', 'Ġcontain', 'Ġmember', 'Ġpromote', 'Ġguide', 'Ġnatural', 'Ġsmall', 'lf', 'hing', 'alk', 'Ġback', 'Ġanother', 'ĠPart', 'Ġcontext', 'Ġsite', 'minist', 'Ġpriority', 'iqu', 'Ġpass', 'Ġstake', 'Ġaspects', 'osure', 'HR', 'mp', 'Ġsug', 'ĠAss', 'Ġadver', 'nds', 'ĠInformation', 'Ġplanning', 'Ġtreatment', 'Ġanal', 'Ġmand', 'Ġways', 'Ġdocuments', 'Ġdifficult', 'aking', 'osed', 'Ġreasons', 'ying', 'Ġage', 'Ġaud', 'ories', 'Ġpast', 'Ġfl', 'ĠDep', 'Ġundert', 'Ġinitiative', 'ergy', 'Ġprivate', 'Ġforeign', 'eed', 'rong', 'ince', 'Ġche', 'Ġsport', 'Ġgender', 'igr', 'Ġweak', 'ĠParliament', 'Ġamong', 'ĠâĢ¨', 'Ġconcerns', 'Ġcorpor', 'Ġsuggest', 'oms', 'ĠSh', 'Ġparticipate', 'aps', 'Ġcred', 'Ġbod', 'ĠAd', 'duced', 'Ġdecisions', 'issions', 'ĠUnion', 'ronic', 'atic', 'Ġmuch', 'Ġrates', 'aches', 'Ġsecond', 'Ġprevent', 'Ġdecid', 'ĠYou', 'Ġencoura', 'Ġsurvey', 'Ġdisease', 'serv', 'Ġbi', 'ĠCom', 'Ġlive', 'Ġtravel', 'Ġregulations', 'Ġmedical', 'Ġofficial', 'CB', 'app', 'to', 'Ġinform', 'ale', 'Ġann', 'Ġplans', 'earch', 'Ġcontribute', 'Ġindividuals', 'nesses', 'Ġhist', 'hers', 'ights', 'Ġregional', 'Ġart', 'Ġkeep', 'Ġregulatory', 'Ġbasis', 'ĠPlan', '--', 'land', 'arc', 'Ġstaff', 'Ġexample', 'Ġcompon', 'Ġinclude', 'ging', 'ix', 'ience', 'Ġsen', 'Ġevery', 'ection', 'ending', 'ogn', 'Ġpatent', 'SC', 'itud', 'Ġmen', 'Ġeff', 'asing', 'Ġvi', 'Ġvol', 'Ġprim', 'Ġmedia', 'Ġstudents', 'Ġprovincial', 'Ġoptions', 'Ġmar', 'Ġuseful', 'avi', 'Ġpartnership', 'Ġtargets', 'Ġassistance', 'Ġstakehold', 'Ġbroad', 'Ġnetwork', 'ĠNations', 'ĠMember', 'Ġoutside', 'Ġpatients', 'range', 'Ġdelivery', 'Ġopinion', 'Ġwrit', 'ury', 'Ġstill', 'Ġdev', 'Ġadminist', 'Ġsomeone', 'Ġachieved', 'based', 'ality', 'orth', 'ĠAf', 'Ġhere', 'Ġproposal', 'Ġdiscuss', 'Ġaffected', 'PA', 'cer', 'ium', 'ret', 'Ġface', 'Ġmess', 'Ġread', 'Ġhaving', 'ode', 'ourt', 'iance', 'ĠGu', 'Ġrelation', 'Ġevents', 'Ġscope', 'Ġprinciples', 'ck', 'way', 'ystem', 'Ġciv', 'Ġbre', 'omet', 'Ġrad', 'Ġworkers', 'ĠState', 'Ġmethods', 'iation', 'Ġable', 'Ġanim', 'ames', 'Ġeng', 'Ġregion', 'ĠCommit', 'Ġimplemented', 'Ġdescrib', 'Ġhappened', 'Ġidentified', 'ilitary', 'ĠDevelop', 'Ġdistribut', 'ĠEnvironment', 'Ġcopy', 'Ġpower', 'itage', 'ĠInd', 'Ġleave', 'Ġpost', 'Ġculture', 'Ġasked', 'Ġnegotiations', 'sh', 'ering', 'Ġfir', 'Ġmult', 'vered', 'Ġlit', 'ians', 'Ġcompanies', 'Ġemployee', 'ca', 'Ġtim', 'Ġear', 'Ġshow', 'ultural', 'Ġdifferences', 'Ġinfluence', 'Ġgrowth', 'Ġobligations', 'Ġcharacteristics', 'Ġshort', 'ĠAl', 'Ġapproaches', 'ĠCont', 'Ġmonitor', '____', 'Ġmatter', 'ee', 'pr', 'Ġ4', 'Ġlast', 'urance', 'Ġdeb', 'Ġmove', 'Ġchanged', 'Ġarrange', 'Ġimplementing', 'Ġconstitut', 'Ġestablish', 'Ġweaknesses', 'ral', 'orpor', 'Ġdom', 'ĠCI', 'Ġdeveloped', 'Ġtransport', 'Ġparent', 'ĠManagement', 'meric', 'atis', 'ins', 'Ġcr', 'Ġgain', 'action', 'Ġself', 'Ġclimate', 'ĠResearch', 'Ġapplied', 'Ġconflict', 'ĠCommittee', 'Ġve', 'Ġfail', 'Ġfile', 'Ġbal', 'ilar', 'ĠApp', 'Ġbehavi', 'olicy', 'rated', 'sw', 'inary', 'Ġbased', 'Ġdeg', 'irc', 'estic', 'ĠFund', 'ployment', 'Ġsustainable', 'ĠCommunity', 'Ġcivil', 'hest', 'Ġdown', 'operation', 'Ġcovered', 'ĠGST', 'Ġtransfer', 'Ġinstru', 'Ġpartners', 'Ġminor', 'Ġdrugs', 'Ġlimit', 'Ġsimilar', 'ling', 'view', 'ward', 'orm', 'Ġexc', 'ĠOff', 'Ġproduction', 'Ġmaintain', 'Ġmedic', 'ĠInternet', 'PP', 'right', 'inical', 'onse', 'Ġmot', 'Ġlow', 'Ġstructure', 'ĠAmeric', 'Ġexport', 'Ġpositive', 'Ġaccom', 'ĠâĢĺ', 'Ġregulation', 'Ġauthorities', 'Ġevalu', 'Ġprimary', 'RC', 'equ', 'Ġtalk', 'ath', 'ercial', 'Ġfar', 'Ġtop', 'Ġmax', 'ĠDirect', 'ĠBe', 'Ġemerg', 'Ġspecies', 'ĠAgency', 'ufact', 'Ġhand', 'Ġmeans', 'Ġscient', 'Ġadvice', 'Ġparticipants', 'Ġfeat', 'Ġstandard', 'Ġinterests', 'pecial', 'osp', 'Ġparties', 'ĠStrateg', 'Ġauthority', 'reg', 'rect', 'Ġfarm', 'stitut', 'ĠCent', 'urs', 'Ġvac', 'Ġresponse', 'Ġrecogn', 'Ġeven', 'Ġfamilies', 'ĠDoes', 'Ġprivacy', 'Ġinvolvement', 'Ġstakeholders', 'ĠDevelopment', 'RI', 'gin', 'Ġaverage', 'ined', 'Ġpack', 'Ġfis', 'ogue', 'Ġteam', 'Ġrecent', 'Ġgoods', 'Ġtrends', 'Ġtowards', 'Ġcustom', 'Ġviol', 'aren', 'Ġcoll', 'Ġmilitary', 'Ġthreat', 'ĠSc', 'Ġmeant', 'Ġobserv', 'Ġresearc', 'Ġcapital', 'ysis', 'Ġidentify', 'Ġrecords', 'mine', 'not', 'tle', 'ven', 'Ġfive', 'Ġgaps', 'artments', 'Ġintro', 'ĠBoard', 'ĠLe', 'Ġdecide', 'Ġ20', 'Ġobjective', 'Ġsection', 'Ġpurch', 'Ġfacilit', 'selves', 'Ġdemand', 'Ġprofessional', 'DA', 'ger', 'ne', 'so', 'tt', 'ued', 'Ġcert', 'Ġsource', 'Ġsomet', 'Ġliving', 'ĠPark', 'Ġresol', 'Ġgener', 'Ġtechnical', 'Ġagreements', 'Ġelectronic', 'Ġprocedures', 'rict', 'ĠWhat', 'here', 'Ġsince', 'let', 'ĠGen', 'Ġseek', 'Ġreceived', 'ĠAbout', 'ats', 'ream', 'ally', 'edi', 'etic', 'Ġexpress', 'Ġuniversity', 'Ġdemoc', 'Ġrecommendations', 'Ġtraditional', 'Ġunderstanding', 'Ġdefinition', 'cast', 'While', 'ples', 'ulture', 'Ġcommercial', 'Ġclass', 'Ġevent', 'ologies', 'Ġbusinesses', 'Ġpayments', 'Ġeconomy', 'Ġdetermine', 'Ġextent', 'Ġturn', 'Ġcal', 'Ġser', 'Ġside', 'Ġfish', 'Ġant', 'Ġbegin', 'Ġproport', 'Ġexact', 'ĠSe', 'ĠTra', 'Ġagencies', 'Ġ2006', 'Ġinnovation', 'Ġbelieve', 'ored', 'rial', 'vis', 'Ġsatis', 'Ġwa', 'Ġfre', 'Ġfit', 'ĠPolicy', 'Ġenergy', 'ĠTax', 'Ġclinical', 'Ġprefer', 'Ġopen', 'ĠInternational', 'ĠTrans', 'Ġhighest', 'hood', 'ror', 'Ġ5', 'Ġill', 'Ġtem', 'rel', 'Ġsort', 'arant', 'structure', 'Ġnut', 'oss', 'Ġcontent', 'Ġeffectiveness', 'rench', 'Ġoverall', 'Ġdepartments', 'Ġpartner', 'Ġinstitution', 'ĠMinister', 'ĠDepartment', 'Ġencourage', 'Ġvolunt', 'cri', 'uct', 'Ġcateg', 'Ġeffic', 'ceed', 'ĠSu', 'ipment', 'Ġmeeting', 'LE', 'bit', 'me', 'zone', 'erc', 'Ġcirc', 'Ġsl', 'Ġpress', 'itable', 'rap', 'Ġenh', 'Ġsearch', 'ĠDis', 'ĠMe', 'abor', 'ĠBenef', 'Ġdisad', 'Ġpermit', 'ĠWork', 'duction', 'aching', 'Ġaddressed', 'Ġnegative', 'Ġpaid', 'Ġcomplete', 'Ġphysical', 'Ġsignificant', 'ĠGuide', 'Ġfeatures', 'mission', 'ars', 'Ġec', 'Ġforce', 'ival', 'Ġrural', 'Ġenforce', 'ĠFood', 'ubl', 'Ġgrant', 'Ġbehind', 'Ġchoose', 'HST', 'Ġold', 'Ġbig', 'roll', 'Ġreform', 'Ġge', 'Ġones', 'ĠFrench', 'Ġcoord', 'Ġjud', 'reement', 'Ġapplications', 'Ġsectors', 'Ġfoods', 'Ġgreatest', 'Ġcommunication', 'Ġethical', 'rep', 'Ġcrim', 'Ġment', 'rastructure', 'Ġvision', 'ock', 'ĠTe', 'Ġuses', 'Ġtrust', 'Ġrelative', 'Ġprev', 'order', 'Ġpatient', 'ĠShould', 'Ġbody', 'Ġbalance', 'Ġaccompl', 'Ps', 'oad', 'oid', 'za', 'ature', 'ertain', 'Ġtoget', 'ĠCl', 'Ġstop', 'ĠAc', 'ĠAn', 'actions', 'empt', 'ifications', 'ĠOffic', 'Ġfunds', 'Ġhappening', 'ĠServices', 'Ġcorrect', 'Ġconsumers', 'Ġcarry', 'Ġtogether', 'life', 'Ġur', 'Ġcle', 'iling', 'thing', 'Ġadj', 'Ġtrial', 'ommod', 'ellect', 'ĠâĢĶ', 'Ġpayment', 'Ġattract', 'ique', 'Ġmonitoring', 'Ġvacc', 'ellectual', 'AR', 'did', 'iers', 'ned', 'nel', 'Ġansw', 'Ġmer', 'aries', 'ialogue', 'istic', 'Ġappoint', 'ĠWest', 'ternal', 'Ġreally', 'Ġestablished', 'Ġimmigr', 'Ġfunction', 'Ġcauses', 'ĠAfric', 'ĠOffice', 'Ġexactly', 'back', 'Ġes', 'isation', 'Ġthird', 'Ġline', 'hern', 'ĠEm', 'duc', 'ĠHuman', 'Ġmanufact', 'Ġexpectations', 'Ġincreasing', 'Ġbuy', 'Ġparticularly', 'Ġprovince', 'Ġfull', 'Ġalternative', 'Ġefforts', 'cure', 'hen', 'eng', 'Ġsend', 'Ġpension', 'Ġpubl', 'uty', 'igation', 'Ġexposure', 'enda', 'abilities', 'ĠOr', 'Ġ10', 'Ġwhole', 'Ġalso', 'Ġinfrastructure', 'Ġlonger', 'Ġconcerned', 'Ġcritical', 'Ġminimum', 'Ġsuppl', 'Ġcreate', 'Ġregistration', 'Ġregistered', 'ought', 'Ġmandate', 'ĠEnvironmental', 'Ġinstruments', 'Ġresearchers', 'Ġproportion', \"Ġ'\", 'Ġaround', 'ĠIm', 'Ġonce', 'akes', 'Ġdoesn', 'Ġknown', 'Ġadded', 'poses', 'Ġcontributed', 'Ġentit', 'Ġlanguages', 'Ġguarant', 'Ġcompleted', 'Ġlabour', 'Ġmaterials', 'Ġadopt', 'Ġdomestic', 'Ġdegree', 'af', 'vantages', 'Ġ/', 'Ġpen', 'iting', 'itors', 'ĠIP', 'Ġshare', 'Ġcandid', 'ĠTh', 'ĠHer', 'aged', 'Ġpurposes', 'Ġenter', 'Ġintegration', 'ĠAssess', 'Ġcomponents', 'AC', 'mpt', 'Ġpred', 'Ġleast', 'ĠNeed', 'Ġrespond', 'Ġprovisions', 'ĠIniti', 'Ġperspect', 'Ġemployer', 'Ġscreen', 'Ġoption', 'ĠComp', 'Ġmotiv', '),', 'iet', 'Ġ6', 'stances', 'utions', 'Ġcomb', 'âĢ¨', 'endent', 'Ġacqu', 'Ġaccommod', 'Ġachieving', 'Ġattention', 'Ġlooking', 'Ġequipment', 'Ġviews', 'Ġlimits', 'Ġbuilding', 'Ġannual', 'Ġcopyright', 'CA', 'mon', 'tise', 'Ã©', 'Ġess', 'Ġcertain', 'oral', 'ither', 'Ġhous', 'ĠCons', 'Ġdead', 'Ġrather', 'Ġvers', 'ourse', 'Ġcooperation', 'Ġoutcome', 'enced', 'Ġsitu', 'Ġcareer', 'Ġstudies', 'Ġremain', 'Ġcredit', 'Ġarrangements', 'Ġpar', 'Ġdig', 'Ġbill', 'ario', 'ivity', 'ĠNorth', 'ĠTreat', 'Ġhealthy', 'Ġunit', 'Ġvalid', 'ictim', 'Ġtechnologies', 'Ġexperiences', 'Ġclaims', 'Ġcomplaint', 'Ġanalysis', 'Ġmaximum', 'Ġcalc', 'aign', 'pa', 'Ġsing', 'ange', 'Ġdue', 'Ġdialogue', 'Ġfree', 'Ġbank', 'Ġconn', 'Ġstay', 'Ġstage', 'Ġwhom', 'âĢĤ', 'amin', 'Ġpoll', 'Ġassum', 'Ġsympt', 'Ġterrit', 'Ġdiscrim', 'ampaign', 'Ġtesting', 'Ġsupply', 'Ġconsumer', 'Ġindicators', 'Ġmodels', 'Ġguidelines', 'Ġearly', 'areness', 'au', 'gn', 'new', 'of', 'Ġcross', 'Ġoften', 'Ġfinal', 'ask', 'Ġstruct', 'ensus', 'Ġregister', 'Ġusers', 'Ġcover', 'oking', 'chnology', 'conomic', 'Ġreceiving', 'change', 'Ġsett', 'Ġcompetition', 'ĠRegulations', 'Ġprocedure', 'Ġhigher', 'ĠHeritage', 'ME', 'yc', 'Ġsize', 'Ġfav', 'Ġfair', 'Ġreach', 'ĠII', 'Ġabove', 'Ġresource', 'ĠRights', 'Ġplac', 'Ġclients', 'Ġagency', 'Ġagric', 'Ġthemselves', 'iction', 'Ġselection', 'ĠStrategy', 'Ġsomething', 'Ġdisadvantages', 'bec', 'na', 'isd', 'Ġcarri', 'Ġhouse', 'Ġconcept', 'Ġcoming', 'Ġcannot', 'Ġexerc', 'ems', 'ĠFederal', 'Ġunique', 'Ġjo', 'Ġoffice', 'Ġgenetic', 'Ġeducational', 'cup', 'Ġindustrial', 'Ġfinancing', 'Ġimprovements', 'Ġadverse', 'Ġscientific', 'Ġcollabor', 'Ġserious', 'Ġcircum', 'Ġgeograph', 'Ġsymptoms', 'SS', 'icip', 'ĠCo', 'Ġexternal', 'ĠTo', 'enses', 'Ġworkplace', 'Ġassign', 'ĠReport', 'ruction', 'Ġproviding', 'Ġrecommended', 'ĠUnited', 'Ġbasic', 'Ġacceptable', 'Ġlarge', 'Ġparents', 'Ġessential', 'Ġsituations', 'oke', 'vers', 'Ġbook', 'leg', 'antage', 'dule', 'ĠNot', 'Ġtext', 'Ġadvantage', 'Ġattitud', 'Ġleadership', 'Ġoperations', 'Ġawareness', 'Ġstatements', 'Ġdraw', 'Ġprofession', 'Ġprepared', 'Ġminority', 'Ġprevious', 'ĠInitiative', 'IV', 'MP', 'less', 'rate', 'Ġcases', 'Ġsent', 'Ġhost', 'rain', 'Ġorig', 'Ġasse', 'Ġgoal', 'Ġactually', 'Ġinvent', 'Ġspeak', 'Ġavoid', 'ĠIndust', 'Ġamend', 'Ġmarkets', 'Ġlocated', 'Ġprovinces', 'ĠAgreement', 'Ġinsurance', 'Ġrestrict', 'Ġsingle', 'EC', 'SP', 'hic', 'ior', 'Whom', 'Ġded', 'Ġpros', 'ĠCourt', 'Ġloss', 'ached', 'ĠMon', 'Ġacross', 'ĠBusiness', 'Ġsold', 'Ġreported', 'Ġ2005', 'Ġcontributions', 'ĠConvention', 'Ġmessage', 'Ġenforcement', 'den', 'Ġer', 'Ġcity', 'Ġdest', 'Ġdang', 'Ġfew', 'ĠCRA', 'ids', 'eter', 'Ġweb', 'acco', 'lling', 'ĠProduct', 'Ġjur', 'Ġreports', 'Ġstrategic', 'Ġdiscl', 'ĠChild', 'Ġfacilities', 'Ġeffectively', 'Ġoperational', 'Ġgovernance', 'Ġcollective', 'ĠQu', 'going', 'lusion', 'Ġhistory', 'Ġadministr', 'mark', 'making', 'rition', 'orial', 'illance', 'orthern', 'ĠAs', 'Ġchos', 'Ġsex', 'Ġintellectual', 'Ġcause', 'Ġincent', 'Ġanything', 'ĠInv', 'Ġpersons', 'Ġadvance', 'Ġpattern', 'ĠKnow', 'Ġgreater', 'Ġbehaviour', 'pecially', 'related', 'ĠAcc', 'Ġadjust', 'Ġchosen', 'AF', 'ER', 'IS', 'az', 'over', 'ps', 'orate', 'itation', 'ift', 'Ġstates', 'Ġsum', 'Ġcancer', 'Ġyourself', 'aken', 'Ġability', 'Ġheld', 'Ġhead', 'Ġvictim', 'Ġregions', 'ables', 'ĠBrit', 'ĠOly', 'ĠUS', 'Ġapplicant', 'Ġpurs', 'ront', 'Ġaway', 'Ġcompliance', 'ĠQue', 'ĠPriv', 'Ġdescribes', 'Ġfacilitate', 'IN', 'be', 'ek', 'lant', 'ï¬', 'Ġopp', 'Ġcreat', 'Ġword', 'ides', 'lying', 'ĠSen', 'riend', 'ĠEng', 'ĠFramework', 'Ġcompared', 'Ġtrying', 'Ġrecru', 'ĠLear', 'Ġrequirement', 'Ġproposals', 'coming', 'Ġproviders', 'Ġbroadcast', 'Ġanimals', 'Ġmanufacture', 'Ġpenal', 'ĠAssessment', 'Ġperspective', 'Ġcircumstances', 'ĠOlymp', 'vision', 'Ġ%', 'Ġozone', 'ises', 'Ġmind', 'mental', 'Ġlet', 'Ġresid', 'Ġrational', 'ĠRisk', 'emic', 'Ġrecip', 'Ġalloc', 'ĠProtect', 'Ġaccord', 'Ġsche', 'Ġovercome', 'Ġsites', 'cury', 'Ġconcerning', 'rought', 'Ġincreased', 'Ġmonths', 'Ġsafe', 'Ġjobs', 'Ġdesignated', 'Ġlaws', 'Ġcommittee', 'Ġencount', 'Ġreasonable', 'Ġalternatives', 'Ġidea', 'Ġdistribution', 'Ġconstitutes', 'ĠGeneral', 'Ġespecially', 'CP', 'ls', 'Ġten', 'enza', 'Ġwast', 'Ġhar', 'Ġhim', 'Ġthing', 'Ġlives', 'ulate', 'Ġcomes', 'ĠAir', 'istance', 'Ġappear', 'ĠHIV', 'ĠWorld', '000', 'Ġmeaning', 'Ġ2007', 'Ġformal', 'Ġpopulations', 'Ġorganizational', 'Ġdetermining', 'Ġoccurred', 'ĠTrade', 'Ġmanagers', 'Ġblood', 'Ġpartnerships', 'cription', 'Ġcriminal', 'AI', 'TA', 'bacco', 'hib', 'lim', 'Ġtobacco', 'Ġproduce', 'iring', 'ĠDN', 'Ġteaching', 'ĠOnt', 'Ġarch', 'Ġsurv', 'ĠCommissioner', 'Ġsmoking', 'Ġgrad', 'Ġcreated', 'Ġprogrammes', 'Ġideas', 'Ġfisher', 'Ġimmigrants', 'ength', 'Ġhousing', 'ĠOlympic', 'CE', 'DC', 'DP', 'cal', 'par', 'Ġ[', 'Ġaim', 'Ġserve', 'Ġbo', 'Ġban', 'Ġantic', 'Ġmiss', 'sect', 'idance', 'oper', 'employment', 'Ġdisput', 'Ġobst', 'ĠProject', 'Ġunivers', 'Ġprice', 'aster', 'Ġsupporting', 'Ġfeed', 'Ġaccountability', 'Ġcommitment', 'airs', 'Ġfiling', 'Ġsales', 'Ġsubstance', 'Ġcorporate', 'Ġmental', 'ilingual', 'ĠTreaty', 'lantic', 'ĠOntario', 'Ġanticip', 'time', 'Ġvery', 'Ġdiversity', 'Ġfour', 'Ġbase', 'ash', 'Ġlog', 'Ġgas', 'Ġstrong', 'ĠSystem', 'Ġabroad', 'Ġrun', 'ducing', 'Ġadult', 'Ġcompar', 'ptions', 'Ġpolice', 'Ġchanging', 'Ġprevention', 'Ġindep', 'Ġtransition', 'Ġequality', 'Ġoccup', 'Ġconsultation', 'Ġsubmitted', 'Ġdecides', 'Ġnetworks', 'Ġfirm', 'cause', 'Ġviolence', 'Ġanswer', 'Ġprofessionals', 'Ġorigin', 'Ġjurisd', 'ban', 'comm', 'ole', 'uing', 'wh', 'Ġtherap', 'Ġpark', 'Ġwrong', 'Ġfall', 'Ġmother', 'Ġrefer', 'Ġharm', 'Ġhope', 'Ġbecause', 'ily', 'racy', 'Ġunt', 'ĠAt', 'ĠPCB', 'Ġresident', 'Ġvir', 'Ġadequ', 'ĠNO', 'Ġworks', 'Ġemissions', 'Ġclos', 'Ġclient', 'Ġ21', 'Ġoffered', 'Ġstudent', 'Ġoperating', 'Ġachievement', 'Ġremed', 'Ġallowed', 'ĠForces', 'Ġintegrated', 'government', 'Ġpromotion', 'Ġvehic', 'Ġaccomplish', 'Ġmercury', 'Ġdiscrimination', 'ĠQuebec', 'ead', 'ler', 'lation', 'ratic', 'ties', 'ones', 'Ġwor', 'Ġinj', 'Ġla', 'ets', 'Ġhabit', 'ession', 'Ġsure', 'ocial', 'Ġparty', 'Ġconsist', 'Ġquant', 'Ġfindings', 'ints', 'Ġformat', 'Ġimproving', 'ĠAction', 'Ġphot', 'Ġfaced', 'Ġinstitutional', 'Ġequity', 'Ġpoints', 'Ġcalled', 'Ġlicence', 'Ġtransportation', 'Ġpackage', 'ĠOrgan', 'FI', 'IC', 'load', 'ĠX', 'Ġtri', 'ison', 'Ġcard', 'anced', 'Ġwar', 'Ġreduction', 'Ġforward', 'ĠCode', 'Ġlength', 'Ġongoing', 'erson', 'Whose', 'oph', 'acles', 'ĠRuss', 'ervation', 'ĠGames', 'Ġarr', 'Ġpersonnel', 'Ġdifferently', 'Ġaddressing', 'ĠDec', 'Ġtreated', 'Ġsimp', 'Ġselected', 'Ġcontinue', 'Ġradio', 'ĠImport', 'AP', 'spect', 'Ġtour', 'atch', 'health', 'ense', 'Ġport', 'icial', 'ari', 'Ġhard', 'Ġhours', 'Ġeas', 'Ġeither', 'ĠCB', 'Ġlo', 'ately', 'illed', 'ands', 'Ġparts', 'Ġincorpor', 'Ġagenda', 'Ġsubs', 'Ġemployers', 'Ġexpertise', 'Ġspons', 'ventions', 'otechnology', 'Ġelection', 'Ġlicens', 'Ġundertaken', 'Ġenhance', 'Ġrationale', '10', 'apt', 'bour', 'rad', 'onst', 'vey', 'oman', 'ĠCS', 'Ġlay', 'ifically', 'ĠID', 'ulner', 'ĠPh', 'ĠSur', 'verty', 'âĢĵ', 'osystem', 'ĠDef', 'ĠHR', 'Ġintend', 'Ġinterview', 'Ġsymb', 'Ġprocessing', 'Ġ15', 'Ġ2000', 'Ġpoverty', 'Ġlocation', 'Ġidentity', 'Ġestim', 'Ġconstra', 'Ġopportunity', 'ticle', 'Ġprogramme', 'Ġsubstances', 'Ġsignificance', 'Ġfirms', 'Ġestablishment', 'ĠBritish', 'Ġobstacles', 'EA', 'FO', 'rs', 'Ġ$', 'Ġfriend', 'Ġbrought', 'rown', 'Ġmass', 'Ġreaction', 'imal', 'olution', 'igration', 'owers', 'Ġshared', 'Ġexchange', 'ays', 'Ġrat', 'ĠEA', 'Ġappe', 'ĠNH', 'Ġexpenses', 'Ġcomput', 'Ġactive', 'Ġcoverage', 'Ġprovision', 'Ġinterp', 'Ġissued', 'Ġcareg', 'Ġentry', 'Ġconsideration', 'ception', 'Ġphase', 'Ġfacing', 'Ġinterested', 'Ġmechanism', 'Ġinfluenza', 'Ġinspect', 'Ġdays', 'ĠCAN', 'Ġphysic', 'Ġadopted', 'Ġexamples', 'ĠAmerican', 'ĠCentre', 'Ġcustomers', 'Ġentitled', 'Ġdigital', 'Ġstructures', 'Ġincentives', 'ĠImportant', 'economic', 'ware', 'isis', 'Ġce', 'Ġcode', 'Ġfle', 'Ġflu', 'Ġlack', 'uration', 'ĠPS', 'ĠPer', 'pec', 'ĠNetwork', 'Ġregards', 'Ġintended', 'Ġimportance', 'Ġsupports', 'Ġgetting', 'Ġinstead', 'Ġpractical', 'Ġupon', 'ĠChar', 'Ġpossib', 'Ġnumbers', 'Ġsurveillance', 'Ġpromoting', 'Ġanimal', 'Ġliter', 'Ġdeadline', 'Ġpollution', 'Ġexercise', 'Os', 'ground', 'lish', 'ters', 'vin', 'Ġtable', 'Ġcourse', 'Ġpain', 'Ġdiv', 'Ġfem', 'Ġfishing', 'Ġred', 'Ġever', 'semin', 'ĠCare', 'ĠCorpor', 'Whether', 'ĠSub', 'ĠSDS', 'ĠEl', 'ĠNAT', 'ĠWill', 'aily', 'els', 'Ġscience', 'Ġapplicable', 'Ġensuring', 'Ġplanned', 'Ġspecifically', 'Ġpoor', 'Ġattribut', 'Ġdetail', 'Ġdatab', 'Ġfacility', 'Ġcharge', 'Ġmodern', 'Ġcondition', 'Ġdemonst', 'ĠWeb', 'Ġchoice', 'Ġfiled', 'Ġexplain', 'Ġmandatory', 'Ġflow', 'Ġchem', '----', 'ways', 'ĠCIHR', 'Ġrecognition', 'Ġvolunte', 'Ġscreening', 'Ġaccommodation', 'ĠIndustry', 'Ġdeduct', 'effect', 'uit', 'Ġmus', 'Ġmag', 'Ġnorm', 'Ġprob', 'Ġlif', 'Ġlower', 'ured', 'ĠPe', 'Ġvulner', 'ĠTB', 'Ġtry', 'Ġclose', 'ificate', 'ustain', 'Ġjour', 'rene', 'Ġpublication', 'Ġground', 'Ġconfidence', 'Ġreflect', 'Ġfulf', 'Ġdifficulties', 'Ġsatisfact', 'ĠBenefit', 'ĠEnglish', 'Ġuntil', '20', 'ees', 'my', 'where', 'Ġx', 'Ġcourt', 'Ġpict', 'Ġwish', 'ales', 'ingu', 'Ġrenew', 'Ġproduced', 'ĠIt', 'ute', 'Ġabs', 'Ġenable', 'Ġconsent', 'Ġroad', 'Ġpeace', 'arning', 'Ġ2004', 'Ġchallenge', 'Ġsaid', 'Ġrelease', 'Ġfunctions', 'Ġhistor', 'Ġintroduced', 'ĠAfrica', 'curement', 'Ġfavour', 'Ġcarried', 'Ġhousehold', 'ĠDND', 'Ġconstraints', 'MA', 'MS', 'br', 'lar', 'ug', 'reas', 'Ġwind', 'Ġreference', 'Ġhosp', 'Ġnation', 'uthor', 'Ġdeath', 'osition', 'Ġenough', 'ĠMed', 'ief', 'ĠGAT', 'Ġperce', 'ployed', 'ĠStat', 'Ġterror', 'Ġfunded', 'Ġconcent', 'Ġfees', 'Ġspend', 'Ġspace', 'Ġreven', 'Ġdefence', 'Ġowns', 'porary', 'Ġsetting', 'ranch', 'Ġofficers', 'Ġdirectly', 'Ġfully', 'Ġinnovative', 'Ġmanaging', 'Ġconducted', 'Ġdocumentation', 'Ġadvert', 'Ġtimes', '________', 'Ġdemocratic', 'Ġwait', 'Ġecosystem', 'Ġguarantee', 'Ġcandidates', 'Ġpredict', 'ĠAtlantic', 'CC', 'house', 'ihood', 'Ġcyc', 'Ġder', 'icro', 'Ġmit', 'Ġmission', 'Ġhy', 'Ġhaz', 'ĠElect', 'Ġvot', 'used', 'Ġseem', 'izing', 'Ġteac', 'cont', 'ĠInstitut', 'Ġsupported', 'ĠRec', 'ĠReview', 'ĠUs', 'ĠHead', 'Ġinfect', 'Ġapplying', 'Ġretire', 'useum', 'Ġpaper', 'Ġcollection', 'ĠForm', 'Ġsolutions', 'Ġtoward', 'Ġprogramming', 'lusions', 'IPO', 'Ġemergency', 'ĠParks', 'Ġgeographical', 'Ġassets', 'Ġdanger', 'Ġadministrative', 'Ġrecruit', '200', 'care', 'cultural', 'lt', 'site', 'rete', 'Ġbur', 'ici', 'Ġmail', 'Ġreplace', 'Ġhor', 'Ġforces', 'ĠImp', 'own', 'Ġweather', 'Ġhear', 'ĠNP', 'Ġcore', 'ĠGrou', 'ĠBr', 'ĠOb', 'Ġrelig', 'ĠLangu', 'ĠStud', 'ĠStand', 'Ġconcrete', 'Ġinvestig', 'egu', 'Ġleaders', 'Ġcompetitive', 'fficient', 'Ġcollected', 'Ġdealing', 'Ġcontrols', 'iques', 'Ġundertake', 'Ġcomponent', 'Ġbreak', 'Ġcrisis', 'Ġfreed', 'Ġcoordin', 'reprene', 'ĠOfficial', 'Ġjoin', 'Ġdisclosure', 'ĠPrivacy', 'dra', 'nic', 'off', 'Ġ7', 'head', 'outh', 'Ġpowers', 'Ġwild', 'Ġfight', 'Ġnames', 'Ġproceed', 'ĠCert', 'Ġitems', 'Ġleft', 'Ġvote', 'Ġadapt', 'ĠRep', 'ably', 'Ġunint', 'Ġparticipating', 'Ġregular', 'Ġentreprene', 'Ġtechniques', 'Ġcharity', 'Ġoperation', 'Ġsafegu', 'Ġforest', 'Ġdrawn', 'Ġcentre', 'Ġcentral', 'Ġlands', 'Ġdebt', 'Ġthreats', 'Ġpreferred', 'Ġnutri', 'Ġbiggest', 'Ġvulnerable', 'ĠGATS', 'ever', 'ipp', 'ires', 'kel', 'oot', 'yl', 'Ġtur', 'ina', 'inter', 'Ġsick', 'Ġduration', 'itial', 'Ġbecoming', 'stream', 'Ġprocurement', 'ĠCol', 'imb', 'ĠIM', 'unicip', 'isters', 'ffairs', 'Ġcontamin', 'Ġdispos', 'Ġdissemin', 'Ġinterference', 'Ġinterventions', 'ĠOut', 'Ġmanage', 'ĠLand', 'Ġ18', 'Ġconsidering', 'Ġimprovement', 'ĠVal', 'Ġpresented', 'Ġsolution', 'Ġethics', 'Ġsustainability', 'Ġdiseases', 'Ġprepare', 'Ġdrink', 'Ġexamination', 'Ġbodies', 'Ġmessages', 'Ġobservations', 'Ġefficient', 'ĠProducts', 'ĠLearning', 'Ġwaste', 'Ġunintended', 'PS', 'ev', 'joy', 'yond', 'anel', 'oud', 'Ġden', 'Ġdam', 'Ġinitial', 'Ġbr', 'Ġdoct', 'ĠCE', 'imize', 'Ġlight', 'Ġgreen', 'raft', 'Ġonline', 'Ġnever', 'Ġimage', 'ĠAll', 'ĠAccess', 'ĠEC', 'Ġenjoy', 'izon', 'ĠNation', 'endit', 'ĠHapp', 'Ġworked', 'Ġapproval', 'Ġfactor', 'Ġ2001', 'Ġpath', 'Ġgeneration', 'Ġqualify', 'Ġconsiderations', 'Ġindustries', 'Ġsmoke', 'Ġrelationships', 'Ġrepresentatives', 'Ġlisted', 'ĠRegist', 'Ġstrengthe', 'Ġdeterminants', 'Ġlargest', 'Ġtelevision', 'Ġclean', 'Ġversus', 'Ġhabitat', 'Ġadvertising', 'TC', 'gred', 'pay', 'uild', 'Ġcut', 'Ġcell', 'Ġcampaign', 'Ġfill', 'Ġbro', 'Ġbilingual', 'rop', 'Ġmill', 'Ġhon', 'Ġnet', 'ĠCO', 'Ġlost', 'eth', 'ĠIN', 'uties', 'uly', 'âĢĶ', 'ĠEduc', 'Ġplant', 'ĠGer', 'ĠWIPO', 'Ġmanner', 'Ġpeoples', 'Ġorganisation', 'Ġadvis', 'Ġautom', 'Ġmonth', 'Ġvisa', 'Ġvari', 'Ġobtained', 'Ġlegislative', 'Ġprincipal', 'Ġdraft', 'Ġcaused', 'Ġdecided', 'Ġdevices', 'Ġcrime', 'Ġsatisf', 'Ġfrequ', 'Ġattitudes', 'Ġpatterns', 'Ġvirus', 'Ġchemical', 'ustainable', 'che', 'clud', 'hol', 'oon', 'pid', 'tion', 'toc', 'lear', 'Ġult', 'Ġweight', 'Ġnear', 'ĠPension', 'Ġmob', 'ĠEast', 'iple', 'Ġsepar', 'uds', 'ĠHow', 'Ġcloud', 'Ġapproved', 'Ġpositions', 'Ġarg', 'aging', 'uccess', 'Ġinternal', 'Ġprotected', 'Ġimproved', 'Ġqualifications', 'ĠGovern', 'Ġmarketing', 'Ġelected', 'Ġtreatments', 'Ġaward', 'Ġtests', 'Ġcreation', 'ftware', 'Ġaccepted', 'elling', 'Ġaudit', 'appro', 'Ġlittle', 'Ġlimitations', 'Ġpurchase', 'Ġpressure', 'ĠGuidelines', 'Ġcoordination', 'Ġrestrictions', 'ĠInvest', 'ĠSenate', 'vincial', 'kelihood', 'AS', 'CF', 'DR', 'bon', 'pat', 'she', 'ta', 'Â®', 'Ġoil', 'ane', 'ancing', 'ancy', 'itis', 'Ġingred', 'Ġbeyond', 'Ġthough', 'see', 'eters', 'Ġweek', 'ĠSm', 'ĠSec', 'territ', 'Ġmoving', 'Ġseen', 'Ġsever', 'ĠMod', 'Ġactual', 'Ġ12', 'ĠInf', 'ĠInuit', 'Ġ2002', 'Ġinvestments', 'Ġcolle', 'Ġownership', 'Ġremo', 'hesion', 'Ġschools', 'Ġcommitments', 'Ġcentury', 'Ġsubjects', 'Ġinformed', 'Ġdebate', 'Ġfailure', 'Ġaccording', 'Ġanticipated', 'ĠDefence', 'Ġcomputer', 'Ġmusic', 'ĠGroup', 'bre', 'cl', 'rant', 'rans', 'year', 'ateral', 'ening', 'Ġsix', 'alf', 'Ġfather', 'Ġborder', 'Ġmigr', 'Ġmuseum', 'arity', 'Ġearn', 'Ġled', 'Ġoriginal', 'ots', 'Ġitself', 'ĠSocial', 'Ġrout', 'plac', 'umb', 'ĠRC', 'Ġath', 'ĠWith', 'Ġintervention', 'Ġintercultural', 'Ġpreval', 'Ġpregn', 'ĠLab', 'Ġlikelihood', 'Ġsubm', 'Ġsubmission', 'Ġalong', 'Ġfunda', 'Ġ2008', 'Ġspent', 'Ġspending', 'Ġassessing', 'Ġprovides', 'Ġguidance', 'Ġcompletion', 'Ġlimited', 'Ġstarting', 'Ġsalary', 'Ġmanager', 'Ġaudience', 'Ġexpressed', 'Ġdemocracy', 'ĠBenefits', 'Ġtrials', 'ĠWestern', 'Ġplaced', 'Ġagricultural', 'ĠAccount', 'Ġcreating', 'ĠProtection', 'FILE', 'Ġsatisfaction', 'Ġentrepreneurs', 'do', 'fort', 'gen', 'part', 'rum', 'uments', 'Ġwon', 'Ġduty', 'Ġdiet', 'Ġfue', 'Ġbird', 'Ġreached', 'Ġaren', 'Ġbear', 'Ġyet', 'Ġthought', 'olid', 'ĠIC', 'Ġstory', 'Ġsup', 'ĠSum', 'ĠSME', 'verse', 'Ġreserve', 'ĠEI', 'ĠEffect', 'ody', 'reshold', 'umul', 'ĠMar', 'ĠHouse', 'Ġcapt', 'Ġdiss', 'Ġnews', 'ribun', 'Ġorganis', 'Ġexperienced', 'Ġsigns', 'Ġcomplex', 'Ġconstruction', 'Ġaware', 'cohol', 'Ġimmedi', 'Ġmeasurement', 'Ġcorporation', 'ĠYouth', 'Ġdevice', 'ĠIndian', 'Ġresolution', 'Ġseeking', 'Ġcategories', 'Ġurban', 'Ġappointment', 'parent', 'Ġconnect', 'Ġcollaboration', 'Ġwebsite', 'Ġadjustments', 'ï¬ģ', 'Ġresidents', 'Ġgradu', 'Ġmissing', 'Ġindependent', 'Ġadequate', 'Ġestimated', 'Ġinterpret', 'draw', 'ĠGerman', \"'re\", 'NT', 'iors', 'ike', 'pons', 'Ġir', 'Ġsam', 'Ġsession', 'Ġfix', 'Ġretain', 'Ġthreshold', 'Ġnan', 'Ġlose', 'Ġcomments', 'Ġsha', 'Ġsharing', 'Ġsuitable', 'ĠAuthor', 'Ġabuse', 'Ġrange', 'ump', 'ĠDrug', 'ĠMarch', 'ĠFact', 'Ġcohesion', 'ĠBill', 'Ġdisabilities', 'rupt', 'ression', 'Ġquit', 'Ġprec', 'Ġprelim', 'Ġjoint', 'Ġthinking', 'Ġalways', 'Ġtrack', 'Ġscen', 'pectrum', 'Ġinfection', 'Ġmedium', 'Ġreceip', 'Ġdepend', 'Ġleading', 'Ġheritage', 'Ġsociet', 'Ġrepresentation', 'ĠQual', 'prof', 'mbuds', 'Ġ30', 'Ġsecondary', 'Ġsense', 'Ġeffort', 'Ġwriting', 'Ġmultiple', 'ĠAmerica', 'ĠDirective', 'ĠDirectorate', 'Ġcustomer', 'Ġanti', 'Ġtemper', 'Ġvoluntary', 'ĠSupport', 'Ġolder', 'rolled', 'Ġadoption', 'Ġschedule', 'ĠPCBs', 'Ġappeal', 'Ġperceived', 'ĠEducation', 'ĠSecret', 'Ġpreliminary', 'mbudsman', 'IA', 'face', 'ien', 'mail', 'nal', 'Ġver', 'aters', 'inct', 'Ġcoun', 'Ġsan', 'Ġparliament', 'Ġworth', 'Ġfront', 'Ġbad', 'Ġdoll', 'imes', 'ceased', 'iding', 'utrition', 'Ġneigh', 'Ġexempt', 'ĠSp', 'Ġwilling', 'osing', 'uses', 'ĠRE', 'ĠFinan', 'Ġexpendit', 'ferences', 'Ġscale', 'ĠUV', 'Ġconclusions', 'idential', 'Ġinfring', 'Ġpractition', 'Ġupd', 'Ġplayers', 'comp', 'ĠChina', 'phas', 'ĠJan', 'ĠResources', 'Ġrepresented', 'Ġreturns', 'Ġconsumption', 'Ġdetermines', 'ographic', 'Ġ1999', 'Ġbackground', 'itude', 'Ġmedicine', 'Ġobserved', 'ĠTraining', 'Ġillness', 'Ġcategory', 'Ġvaccine', 'ĠEmployment', 'Ġassumptions', 'ĠSurvey', 'Ġflex', 'Ġpicture', 'Ġcycle', 'tocol', 'ribunal', 'EP', 'EX', 'iency', 'law', 'overy', 'sy', 'uary', 'water', 'Ġice', 'atural', 'atically', 'Ġsens', 'Ġdim', 'Ġdia', 'Ġfram', 'Ġfire', 'Ġtox', 'Ġmor', 'Ġmunicip', 'Ġisn', 'Ġpropose', 'ĠCrown', 'igare', 'Ġdeceased', 'ĠPres', 'ung', 'Ġnotice', 'ĠMark', 'Ġuser', 'Ġusually', 'Ġdidn', 'Ġworkforce', 'ĠWE', 'Ġemphas', 'Ġuns', 'Ġdecl', 'Ġprices', 'ĠUN', 'ĠUse', 'Ġprotecting', 'Ġqualified', 'Ġassessments', 'awa', 'Ġprofile', 'Ġdonor', 'Ġraised', 'Ġintegr', 'Ġcontracts', 'manent', 'Ġlarger', 'Ġlinks', 'ĠPrime', 'ĠPartn', 'Ġcheck', 'Ġsports', 'Ġbiotechnology', 'PASS', 'shop', 'Ġearth', 'Ġemerging', 'Ġfiscal', 'Ġcertification', 'ĠOfficer', 'Ġconnection', 'Ġvictims', 'Ġencountered', 'Ġfisheries', 'Ġfeedback', 'Ġadults', 'Ġxen', 'ĠLanguages', 'Ġfreedom', 'Ġultimate', 'Ġseveral', 'pond', 'ship', 'wide', 'Ġtit', 'Ġtas', 'ata', 'Ġcities', 'organ', 'orrow', 'Ġduties', 'Ġboy', 'Ġmut', 'Ġmarri', 'Ġmention', 'Ġreb', 'Ġreject', 'ĠChe', 'ĠCap', 'imer', 'Ġlat', 'ifies', 'Ġord', 'ĠSouth', 'ocks', 'emark', 'employed', 'âĢĻ?\"', 'andemic', 'ĠNG', 'ĠNorthern', 'ĠTy', 'ensation', 'abled', 'Ġcomply', 'Ġconservation', 'ĠBank', 'Ġdisag', 'Ġperception', 'Ġmyself', 'Ġemb', 'ĠOper', 'Ġrelate', 'Ġsoftware', 'ĠProf', 'ĠProcess', 'Ġtraffic', 'ĠRequ', 'ght', 'Ġfee', 'Ġspouse', 'Ġattempt', 'Ġsuccesses', 'Ġinternationally', 'ĠInter', 'Ġdiscip', 'ĠConf', 'Ġrespective', 'Ġestablishing', 'Ġprinciple', 'Ġdealt', 'tenance', 'Ġcitizenship', 'Ġartists', 'Ġdiscussion', 'Ġengage', 'Ġarrangement', 'Ġevaluate', 'Ġfarmers', 'ĠLevel', 'Ġprospects', 'being', 'Ġrecipients', 'Ġuniversities', 'ersonal', 'Ġsimply', 'reasury', 'Ġretirement', 'Ġsubmissions', 'Ġfundamental', 'Ġtasks', 'ED', 'OC', 'PR', 'iences', 'men', 'Ġdaily', 'ently', 'Ġproof', 'cell', 'Ġlie', 'Ġgir', 'ĠPat', 'ĠPrior', 'ĠSustainable', 'lication', 'plant', 'Ġsea', 'ĠNutrition', 'ĠTreasury', 'Ġoutput', 'Ġunemployment', 'Ġsocio', 'Ġaccur', 'orders', 'Ġhelpful', 'Ġgrounds', 'Ġ2003', 'pected', 'Ġfeas', 'Ġattend', 'Ġinvestigation', 'Ġtaxes', 'Ġsets', 'ĠJust', 'Ġ198', 'Ġaccountable', 'Ġrepresentative', 'Ġstatement', 'Ġairport', 'Ġtrademark', 'ĠForce', 'Ġindicate', 'Ġcommunicate', 'Ġsuccessfully', 'Ġdepartmental', 'Ġprescrib', 'Ġcomplaints', 'Ġapplies', 'lusive', 'Ġsenior', 'Ġmarine', 'Ġadministration', 'ĠAlber', 'Ġmaintaining', 'Ġtalking', 'Ġtopics', 'Ġpublishing', 'Ġsuppliers', 'Ġagriculture', 'Ġfriends', 'ĠCANPASS', 'Ġburden', 'Ġstrengthen', 'ĠJanuary', 'Can', 'ma', 'mak', 'mosp', 'oh', 'oice', 'pir', 'vance', 'Ġ&', 'Ġahead', 'inate', 'esity', 'Ġwoman', 'ites', 'Ġfra', 'Ġfig', 'Ġbat', 'Ġtook', 'lete', 'illeg', 'Ġnuc', 'set', 'ĠCampaign', 'ching', 'ulated', 'Ġstor', 'Ġstress', 'Ġdepos', 'Ġcomfort', 'ĠAv', 'ĠSaf', 'Ġatmosp', 'ĠTV', 'ĠTer', 'Ġregime', 'Ġworkshop', 'Ġincident', 'ĠWater', 'Ġobesity', 'Ġunits', 'Ġprint', 'Ġanyone', 'Ġcounter', 'Ġtermin', 'Ġavailability', 'ĠInteg', 'Ġreality', 'ranc', 'Ġputting', 'Ġcitizen', 'Ġethnic', 'Ġconsulted', 'Ġconsultations', 'Ġimmun', 'Ġprepar', 'ticles', 'ĠArch', 'icultural', 'ĠExp', 'mbly', 'Ġbelief', 'Ġdefined', 'stitution', 'ttawa', 'Ġtemporary', 'Ġreforms', 'Ġclear', 'Ġparam', 'ĠMont', 'Ġpursue', 'Ġpenalty', 'Ġremedy', 'Ġinjury', 'Ġlicensing', 'ĠCharter', 'Ġdivision', 'ĠPeop', 'Ġhospital', 'Ġhorizon', 'ĠINAC', 'Ġsuperv', 'ID', 'PI', 'de', 'med', 'Ġtask', 'reme', 'ery', 'Ġcod', 'Ġcours', 'Ġcigare', 'Ġsorts', 'Ġwarm', 'Ġboard', 'ctic', 'ilateral', 'Ġnorthern', 'Ġproduc', 'asure', 'Ġgot', 'Ġgather', 'oping', 'ĠAffairs', 'ĠPay', 'ĠSA', 'Ġchance', 'Ġresistance', 'ains', 'osis', 'amber', 'Ġenvis', 'ĠRed', 'ĠRel', 'Ġplants', 'ensity', 'ensions', 'Ġintent', 'Ġincom', 'Ġperm', 'Ġpermanent', 'rust', 'Ġinvention', 'Ġagents', 'Ġunderlying', 'Ġunex', 'Ġknows', 'Ġmaintenance', 'Ġmeasuring', 'Ġgets', 'Ġkept', 'Ġinstance', 'Ġtypical', 'apan', 'anguage', 'amily', 'Ġrepay', 'ĠDoing', 'Ġthroughout', 'ĠAgric', 'Ġgrants', 'Ġmatters', 'Ġlabor', 'Ġamounts', 'Ġfeelings', 'condary', 'ĠArticle', 'Ġexplore', 'Ġanaly', 'ĠAdvis', 'Ġwritten', 'Ġradiation', 'Ġexclud', 'ĠLead', 'ney', 'Ġresolve', 'Ġvaccines', 'Ġappointed', 'Ġpublished', 'Ġenterpr', 'Ġsettlement', 'Ġsoldiers', 'Ġdispute', 'Ġjurisdiction', 'Ġvehicle', 'Ġsubsid', 'ĠEligible', 'Ġhazard', 'Ġrecruitment', 'Ġgirls', 'Ġcourses', 'Ġproducers', 'ET', 'arent', 'by', 'bership', 'ech', 'yle', 'ĠWhy', 'erce', 'Ġwest', 'Ġdi', 'Ġdiver', 'Ġinput', 'Ġdos', 'ilot', 'sec', 'ĠCost', 'Ġlines', 'Ġgl', 'urse', 'ray', 'Ġstrain', 'Ġwhose', 'Ġsuff', 'Ġsufficient', 'ivered', 'Ġheard', 'ĠFTA', 'endence', 'ĠHave', 'aby', 'Ġtrue', 'Ġdisability', 'ailable', 'Ġclust', 'key', 'ĠList', 'Ġaccident', 'Ġtranslation', 'Ġformer', 'compl', 'Ġequal', 'Ġcompetencies', 'Ġaccounts', 'Ġtargeted', 'Ġrac', 'Ġdelivering', 'Ġlabelling', 'Ġobtaining', 'Ġtrading', 'Ġindications', 'Ġfilm', 'Ġfiles', 'Ġexplo', 'Ġtelehealth', 'Ġcorporations', 'lands', 'SCE', 'Ġwrite', 'ĠMean', 'hens', 'Ġcombat', 'Ġterritory', 'Ġsexual', 'ĠKnowledge', 'Ġwords', 'Ġmanufacturers', 'Ġlaun', 'pecific', 'Ġfemale', 'ĠNATO', 'Ġdemonstrate', 'Ġjournal', 'Ġvoting', 'Ġreplacement', 'Ġreligious', 'umulative', 'Ġorganisations', 'Ġtemperature', 'ĠSecretari', 'sych', 'ĠMarket', 'plantation', 'dis', 'ze', 'zhe', 'Ġtack', 'Ġaqu', 'includ', 'real', 'rehens', 'Ġsample', 'Ġsought', 'Ġfin', 'Ġbio', 'ication', 'Ġreve', 'Ġeat', 'Ġeuro', 'Ġelement', 'Ġeco', 'ĠCensus', 'oles', 'Ġut', 'ula', 'ĠSpecial', 'ĠSAR', 'respond', 'Ġseas', 'ĠDFO', 'ĠMay', 'ĠTribunal', 'ensive', 'ĠHP', 'Ġworker', 'ĠOn', 'ĠProtocol', 'Ġsubsequ', 'Ġelig', 'Ġincludes', 'Ġfollowed', 'Ġpays', 'Ġentire', 'Ġmembership', 'Ġassessed', 'Ġleader', 'ĠJuly', 'Ġachievements', 'Ġauthorization', 'Ġoptimal', 'Ġperformed', 'Ġbott', 'Ġdistinct', 'Ġvisit', 'Ġtrend', 'Ġdetermined', 'Ġgenerally', 'Ġcentres', 'Ġcontinuing', 'Ġobligation', 'Ġconducting', 'Ġseniors', 'Ġdiscussed', 'ĠAlzhe', 'ĠAppro', 'Ġmedication', 'Ġrecently', 'Ġclassification', 'ĠTransfer', 'ĠAnal', 'ĠCompet', 'ĠNotice', 'Ġsponsors', 'Ġpossibilities', 'Ġdatabase', 'effective', 'Ġgreenhouse', 'Ġremoved', 'Ġprevalence', 'Ġfuel', 'Ġsanct', 'ĠNGOs', 'ĠAlberta', 'ĠPeople', 'Ġunexpected', 'ĠSecretariat', 'PO', 'Pro', 'RE', 'TE', 'gy', 'ipe', 'sp', 'Ġ8', 'Ġ9', 'Ġtend', 'Ġtables', 'rec', 'reed', 'ened', 'isher', 'Ġcame', 'Ġcouncil', 'Ġcash', 'Ġcumulative', 'itiveness', 'Ġbir', 'Ġbound', 'Ġtoo', 'Ġmap', 'Ġhum', 'Ġearl', 'oma', 'selling', 'ĠCount', 'Ġlater', 'Ġlingu', 'Ġconver', 'ĠICT', 'Ġstories', 'Ġwhite', 'Ġsun', 'ĠAm', 'Ġaspect', 'ĠPre', 'ĠPort', 'ĠSy', 'âĢ¦', 'istor', 'ume', 'ĠRole', 'ĠNatural', 'Ġcold', 'Ġdisaster', 'Ġdiffer', 'Ġinteractions', 'Ġclot', 'Ġdevelopments', 'Ġago', 'Ġrecovery', 'adequ', 'ĠProper', 'Ġ25', 'ĠIncome', 'Ġtransactions', 'Ġelim', 'Ġspread', 'Ġsave', 'Ġnationally', 'Ġinvestors', 'Ġdelivered', 'ĠJapan', 'ifying', 'Ġcompetitiveness', 'ĠReserve', 'ĠYour', 'ĠYear', 'ĠRegulation', 'Ġvisual', 'Ġallowance', 'Ġshel', 'Ġbelow', 'ourable', 'Ġjustice', 'Ġdriving', 'Ġdeciding', 'ĠAfgh', 'Ġ41', 'ĠFunding', 'Ġscientists', 'letes', 'Ġwaiting', 'Ġurg', 'Ġattractive', 'Ġplaces', 'Ġinventory', 'Ġamendments', 'AIDS', 'ĠNHP', 'Ġphysician', 'Ġmagn', 'Ġhistorical', 'uilding', 'Ġingredients', 'ĠType', 'Ġstorage', 'Ġreveal', 'Ġeligibility', 'ĠAlzheimer', '13', 'CS', 'TO', 'aving', 'fe', 'king', 'lers', 'mber', 'power', 'rance', 'ton', 'ument', 'uge', 'Ġaid', 'Ġaff', 'Ġsong', 'ana', 'Ġpul', 'Ġpandemic', 'Ġwent', 'itect', 'itative', 'Ġbar', 'Ġbiod', 'Ġtool', 'Ġanc', 'icit', 'Ġmix', 'arily', 'Ġreduced', 'Ġnurs', 'secondary', 'idd', 'Ġlate', 'Ġgap', 'char', 'oto', 'Ġstep', 'ĠAnt', 'Ġimply', 'une', '\"\",', 'Ġgoes', 'ĠRen', 'ĠRet', 'Ġsell', 'ĠNile', 'Ġacad', 'ĠGreat', 'ĠBl', 'Ġchances', 'ĠWH', 'ĠWN', 'Ġteach', 'Ġunion', 'Ġbenefici', 'Ġproductivity', 'encing', 'Ġmainstream', 'Ġamb', 'Ġtransform', 'Ġtakes', 'Ġapplicants', 'mines', 'Ġplayed', 'Ġsurface', 'ĠInterv', 'Ġpharm', 'Ġlocations', 'ĠConference', 'Ġpotentially', 'Ġinfluences', 'Ġinfluenced', 'Ġraise', 'Ġrapid', 'Ġproperly', 'Ġofficer', 'Ġdirection', 'Ġchoices', 'Ġcommunications', 'Ġcontinu', 'Ġblack', 'Ġ1990', 'overed', 'Ġconflicts', 'Ġsmaller', 'Ġeveryone', 'Ġmovement', 'Ġminorities', 'ĠSecurity', 'ĠTravel', 'ĠAnn', 'Ġbanks', 'operative', 'Ġjurisdict', 'Ġtherapy', 'ĠRussia', 'Ġtourism', 'ĠIDRC', 'Ġsafeguards', 'Ġnutrient', 'uccessful', 'ĠRCMP', 'Ġsamples', 'Ġemphasis', 'Ġtitle', 'ĠJustice', 'Ġnuclear', 'ĠFTAA', 'Ġsanctions', 'Ġearlier', 'CM', 'FA', 'cular', 'free', 'found', 'gence', 'light', 'no', 'opp', 'point', 'sc', 'Ġ<', 'atal', 'enous', 'Ġcensus', 'Ġsw', 'ann', 'any', 'oration', 'Ġple', 'Ġpsych', 'itob', 'ederation', 'Ġmil', 'Ġreducing', 'Ġgift', 'rable', 'etary', 'ĠIss', 'Ġship', 'Ġimposed', 'ĠSect', 'ĠSchool', 'ĠSection', 'resh', 'Ġsecure', 'ĠMS', 'ĠMore', 'ĠTD', 'ĠFore', 'Ġcommand', 'Ġcommission', 'ĠWA', 'ĠOttawa', 'Ġquick', 'Ġbeneficial', 'ĠInspect', 'Ġarise', 'Ġsched', 'Ġhelped', 'Ġlegit', 'Ġcontributing', 'Ġmediation', 'Ġentail', 'ĠProgramme', 'Ġdependent', 'ceptions', 'Ġprompt', 'Ġexists', 'Ġmeetings', 'Ġconfidential', 'Ġrelevance', 'ĠAgenda', 'Ġassociation', 'Ġlisting', 'Ġmethodology', 'Ġsupposed', 'Ġbelong', 'Ġpresence', 'Ġlicense', 'ellig', 'Ġfunctional', 'Ġpassport', 'Ġsuggestions', 'ĠCompl', 'Ġstaffing', 'ĠContribut', 'Ġgains', 'Ġgained', 'Ġevaluations', 'Ġefficiency', 'Ġecological', 'Ġgranted', 'Ġamendment', 'ĠAsse', 'Ġvehicles', 'Ġtrip', 'Ġnormal', 'Ġteachers', 'ĠObject', 'ĠCertificate', 'ĠColumb', 'Ġdisposal', 'Ġinterpretation', 'Ġreceipt', 'Ġboys', 'Ġmarriage', 'Canad', 'illegal', 'ĠAvailable', 'ĠSafety', 'rancoph', 'Ġbeliefs', 'Ġparameters', 'including', 'rehensive', 'itoba', 'ĠColumbia', '50', 'DE', 'ON', ']?\"', 'iate', 'language', 'most', 'non', 'risk', 'yn', 'herent', 'onom', 'Ġsound', 'ouble', 'oring', 'Ġpie', 'Ġwants', 'Ġfost', 'Ġtold', 'Ġtown', 'Ġmissions', 'Ġmigration', 'Ġrent', 'Ġforum', 'Ġprohib', 'igenous', 'otrans', 'Ġstre', 'Ġstore', 'Ġstored', 'Ġwelf', 'Ġsuc', 'Ġsuspect', 'ops', 'ĠAM', 'Ġhepat', 'ĠES', 'ĠEar', 'Ġnotification', 'Ġnothing', 'Ġcontem', 'ĠMus', 'Ġexposed', 'Ġcomposition', 'ĠGlobal', 'Ġdispl', 'ĠWomen', 'Ġagent', 'Ġprecip', 'Ġpreca', 'Ġapprox', 'Ġ13', 'Ġemployed', 'positive', 'Ġtransf', 'Ġtransp', 'Ġinvolving', 'tees', 'ĠPrograms', 'Ġsurround', 'Ġtaxpay', 'Ġcapabilities', 'ĠChange', 'Ġaccessible', 'Ġcharged', 'Ġdefine', 'Ġowners', 'Ġcultures', 'Ġcorrespond', 'osting', 'Ġhighly', 'Ġdistance', 'Ġstarted', 'Ġlabel', 'Ġsolid', 'Ġoccurring', 'Ġquestionna', 'Ġsale', 'Ġmeasured', 'Ġideal', 'Ġrequests', 'Ġbiological', 'Ġbroader', 'Ġreading', 'Ġengagement', 'Ġdescribed', 'Ġexpression', 'ĠThis', 'Ġhosting', 'ĠQuest', 'Ġopposed', 'Ġbroadcasting', 'Ġletter', 'Ġlayer', 'ĠPerform', 'Ġvolunteer', 'Ġdeduction', 'Ġfavourite', 'laration', 'Ġrevenues', 'ĠImpact', 'ĠNPRI', 'ĠStudy', 'Ġdrinking', 'ĠLabour', 'Ġimmediate', 'Ġsocieties', 'Ġinfringe', 'Ġmunicipal', 'Ġxenotrans', 'ĠMontreal', 'ĠAgriculture', 'ĠAdvisory', 'Ġbirth', 'ĠAfghan', 'ĠRenew', 'Ġwelfare', 'Ġhepatitis', '\\'?\"', 'BS', 'Is', 'craft', 'dep', 'eor', 'gr', 'know', 'uk', 'Ġz', 'isbon', 'Ġinadequ', 'Ġben', 'Ġbond', 'eding', 'Ġmis', 'Ġmort', 'Ġmoral', 'ental', 'Ġreactions', 'Ġhunt', 'Ġbecomes', 'iles', 'Ġnom', 'oler', 'ĠIT', 'ulating', 'atell', 'Ġweap', 'Ġimages', 'ĠAud', 'que', 'ĠPL', 'ĠPol', 'ĠPanel', 'Ġwithdraw', 'active', 'âĢ©', 'istan', 'ĠEDC', 'ĠEgy', 'Ġkids', 'Ġvoc', 'ĠDay', 'ĠDoc', 'ĠName', 'ĠTE', 'ĠFisher', 'Ġtrig', 'ĠGr', 'Ġroom', 'Ġdisabled', 'ĠOf', 'ĠOther', 'ĠOmbudsman', 'ĠLisbon', 'Ġliability', 'Ġdecade', 'ĠIns', 'lementary', 'Ġarts', 'Ġresulting', 'Ġhelping', 'Ġpaying', 'Ġentities', 'Ġcapability', 'Ġsays', 'mitted', 'Ġrevised', 'Ġequival', 'Ġcompetitors', 'ĠRespons', 'Ġprofit', 'Ġdonation', 'Ġdonors', 'Ġskilled', 'Ġdirections', 'Ġdetermination', 'Ġnegotiating', 'ĠArmy', 'program', 'Ġpreserve', 'ecut', 'Ġfields', 'Ġinformal', 'Ġmarg', 'Ġbreast', 'ĠStatement', 'Ġengaged', 'Ġtimel', 'Ġshown', 'Ġdomain', 'ĠApply', 'ĠApplication', 'Ġbehaviours', 'arency', 'Ġsometimes', 'Ġnutrition', 'ĠWorking', 'ĠClaim', 'Ġcarrying', 'ĠEmploy', 'Ġsupplier', 'Ġassume', 'Ġterritorial', 'Ġassigned', 'Ġattitude', 'Ġsummer', 'Ġpenalties', 'Ġrecipient', 'Ġallocation', 'Ġmeaningful', 'commun', 'Ġtherapies', 'Ġcloser', 'Ġphotograph', 'Ġcele', '--------', 'Ġdoctor', 'Ġbrok', 'Ġcolleag', 'break', 'ĠSMEs', 'ĠAuthority', 'ĠQuality', 'Ġtoxic', 'ĠPriority', 'makers', 'Ġsubsequent', 'Ġlinguistic', 'ĠProperty', 'ĠIntervention', 'Ġsucceed', 'Ġapproximate', 'Ġtransparency', 'ĠEgypt', \"'m\", 'BC', 'Cs', 'LI', 'ey', 'lo', 'medi', 'pes', 'wan', 'ĠWho', 'Ġign', 'inated', 'Ġspectrum', 'anc', 'Ġpick', 'itime', 'ications', 'Ġmicro', 'arian', 'learning', 'vere', 'Ġhind', 'ils', 'ilt', 'idents', 'Ġgame', 'ifts', 'geon', 'Ġshall', 'Ġsuper', 'Ġexcess', 'ford', 'Ġreserv', 'ĠEX', 'ĠEqu', 'ĠEth', 'Ġkill', 'Ġvit', 'ush', 'lict', 'ocation', 'ĠNext', 'ĠNRC', 'ĠMem', 'ĠFrance', 'Ġexpand', 'abit', 'Ġcompensation', 'Ġacid', 'ogen', 'ĠWTO', 'Ġserving', 'elf', 'Ġlibr', 'Ġ100', 'Ġalle', 'ĠCommons', 'Ġtransl', 'Ġprotective', 'assment', 'ventional', 'Ġattach', 'Ġtechnological', 'Ġqualifies', 'ĠChamber', 'Ġstatistics', 'Ġretention', 'Ġmodifications', 'Ġowner', 'ĠVis', 'Ġpopular', 'Ġpossibility', 'Ġreleases', 'Ġdesigned', 'Ġdesignation', 'Ġtreaties', 'Ġforesee', 'Ġgrand', 'ĠRegional', 'Ġpersonally', 'Ġextra', 'Ġcommitted', 'Ġvisitors', 'Ġaircraft', 'Ġacceptance', 'Ġreviews', 'Ġsolve', 'Ġrefused', 'ĠManitoba', 'Ġsalmon', 'Ġinnovations', 'ĠCAP', 'Ġsubstant', 'valuation', 'ĠMinisters', 'Ġsuggested', 'Ġtravelling', 'Ġvolume', 'Ġdescribe', 'Ġveter', 'Ġinstrument', 'Ġhandle', 'Ġslow', 'Ġaccomplished', 'Ġguarantees', 'Ġcandidate', 'Ġdisputes', 'Ġquantity', 'ĠCBSA', 'Ġloan', 'Ġcaregiver', 'Ġphysicians', 'Ġliterature', 'Ġdetails', 'ĠStatistics', 'Ġmitig', 'Ġmitigation', 'Ġhyd', 'Ġdamage', 'Ġsatisfied', 'Ġseparate', 'ĠGovernor', 'Ġthoughts', 'Ġgraduates', 'ĠGermany', 'Ġfixed', 'ĠFinancial', 'Ġexpenditure', 'Ġflexibility', 'Ġdiagn', 'Ġmutual', 'Ġcomfortable', 'Ġatmosphere', 'Ġcodes', 'Ġpermits', 'ĠSector', 'ĠAssembly', ',\"\"', 'MF', 'PD', 'RL', 'RP', 'border', 'body', 'came', 'gment', 'gments', 'iot', 'iable', 'rations', 'tical', 'ule', 'ught', 'vest', 'you', 'esign', 'orms', 'Ġwin', 'Ġwatch', 'Ġdram', 'icing', 'Ġrepe', 'Ġreimb', 'Ġbecame', 'ĠCH', 'ĠCN', 'ĠCor', 'Ġlies', 'olunt', 'pper', 'ĠIf', 'utical', 'Ġstation', 'Ġstages', 'Ġstock', 'Ġwear', 'blem', 'ĠSk', 'unsw', 'Ġresidence', 'Ġsec', 'ĠMy', 'ĠMex', 'Ġcomprom', 'Ġcomprehensive', 'ĠBul', 'Ġhealthcare', 'ansion', 'ĠWar', 'ductions', 'Ġrelating', 'ĠLic', 'rence', 'Ġtherefore', 'Ġ11', 'Ġ17', 'Ġourselves', 'Ġaddiction', 'Ġarticle', 'Ġamended', 'agers', 'ĠReven', 'Ġinstall', 'Ġconclud', 'Ġparticipant', 'Ġlegacy', 'Ġpool', 'Ġcapable', 'Ġcharitable', 'Ġminimize', 'Ġestimate', 'Ġsigned', 'ricity', 'ova', 'Ġgoverning', 'ĠKy', 'ounced', 'Ġextended', 'ĠArea', 'Ġelsewhere', 'Ġrefund', 'ĠArctic', 'Ġjustify', 'Ġdrive', 'Ġopinions', 'Ġcustoms', 'Ġcredits', 'Ġofficials', 'Ġmulticultural', 'ĠControl', 'Ġtransferred', 'Ġexclusive', 'ĠCentral', 'ĠSche', 'Ġdemands', 'Ġgenerate', 'Ġgenerated', 'uction', 'ĠSuper', 'Ġmotivation', 'Ġacquire', 'Ġcalculate', 'ĠAsia', 'Ġencounter', 'Ġarchitect', 'Ġharmon', 'Ġconsistent', 'ĠRussian', 'ĠDecision', 'Ġratio', 'ĠNHPs', 'Ġcaregivers', 'Ġpossibly', 'Ġattributes', 'Ġrenewal', 'Ġterrorism', 'Ġrevenue', 'ĠBrunsw', 'ĠStandard', 'ĠRepublic', 'Ġautomatically', 'Ġmobility', 'Â®?\"', 'Ġearnings', 'Ġentrepreneurship', 'Ġbirds', 'Ġcounselling', 'ĠPartnership', 'Ġmentioned', 'Ġrebate', 'Ġprescribed', 'Ġpreparation', 'Ġhorizontal', 'Ġexcluded', 'foundland', 'ĠObjectives', 'ĠPerformance', 'ĠFisheries', 'ĠMexic', 'ĠRevenue', 'ĠBrunswick', \"'ve\", 'FB', 'IT', 'OR', 'SB', 'SE', 'SO', 'cons', 'ded', 'irable', 'rary', 'wards', 'wise', 'âĦ', 'reach', 'Ġsn', 'orn', 'Ġwit', 'Ġwalk', 'Ġwaters', 'Ġinequ', 'Ġinherent', 'Ġfa', 'Ġfresh', 'Ġmount', 'Ġrein', 'Ġreplac', 'Ġey', 'Ġprosec', 'ĠCC', 'ades', 'Ġgiving', 'etter', 'Ġstri', 'Ġstream', 'Ġstocks', 'Ġwealth', 'irm', 'ĠAtt', 'ĠPSC', 'ĠPersonal', 'this', 'Ġleaving', 'ĠEconomic', 'ĠDone', 'ĠMult', 'ĠMount', 'ĠHistor', 'Ġintellig', 'Ġinclusion', 'ĠBel', 'ĠWould', 'Ġrecall', 'keep', 'ĠLa', 'ĠLaw', 'ĠLeg', 'pert', 'Ġavian', 'Ġarbit', 'Ġtransmission', 'ĠUnder', 'minister', 'Ġvalu', 'taining', 'Ġinternship', 'Ġreceives', 'apter', 'Ġchildhood', 'Ġinvestor', 'Ġsurpl', 'Ġautonom', 'Ġrepro', 'Ġstanding', 'aves', 'Ġsaying', 'Ġcolour', 'phone', 'Ġinteresting', 'Ġdelay', 'Ġoperators', 'ĠJune', 'Ġdemographic', 'Ġreleased', 'Ġmajority', 'Ġrain', 'Ġconsequence', 'ĠNewfoundland', 'Ġnegotiated', 'Ġprescription', 'Ġtelling', 'Ġsubmitting', 'Ġlinked', 'CTB', 'Ġfocusing', 'ĠParticip', 'Ġundertaking', 'Ġstakeholder', 'Ġdiscussions', 'sharing', 'ttes', 'Ġcertificate', 'Ġgenerations', 'Ġjudge', 'Ġanswers', 'Ġacquis', 'Ġversion', 'Ġvalidity', 'Ġpollut', 'ĠInvol', 'Ġallocated', 'Ġharassment', 'Ġsimple', 'Ġsymbols', 'Ġliteracy', 'Ġvolunteers', 'Ġfulfill', 'ĠStatus', 'Ġturb', 'Ġcontaminated', 'Ġcells', 'Ġmillion', 'ĠEastern', 'Ġclouds', 'Ġarguments', 'Ġmuseums', 'profit', 'Ġparliamentary', 'Ġdollar', 'ĠWEU', 'ĠCapital', 'Ġenterprise', 'Ġseason', 'ĠAnalysis', 'Ġshelter', 'Ġbiodiversity', 'iddle', 'ĠReturn', 'ĠForeign', 'Ġquestionnaire', 'Ġxenotransplantation', 'ĠAfghanistan', 'Ġweapons', 'ĠInsurance', 'Ġhydro', 'âĦ¢', '15', 'Ds', 'NA', 'OU', 'RO', 'cap', 'ched', 'dden', 'eks', 'fol', 'ij', 'la', 'lam', 'mat', 'ores', 'ober', 'uy', 'with', 'ĠWhen', 'essel', 'Ġcru', 'Ġsqu', 'iter', 'itals', 'itored', 'aling', 'Ġmom', 'Ġmac', 'Ġmale', 'enture', 'level', 'Ġhiring', 'Ġdose', 'Ġdomin', 'ilization', 'Ġprodu', 'Ġlot', 'Ġgases', 'iff', 'urgeon', 'etes', 'etus', 'Ġoral', 'ĠIA', 'Ġsturgeon', 'Ġweeks', 'Ġshift', 'Ġsudden', 'Ġimpedi', 'Ġchain', 'Ġheart', 'Ġhearing', 'Ġrank', 'Ġrule', 'ĠEnt', 'ipl', 'Ġsequ', 'Ġseems', 'izes', 'ĠData', 'anda', 'enders', 'Ġworkload', 'Ġhasn', 'Ġconsolid', 'Ġservants', 'Ġemot', 'Ġrecyc', 'Ġoutbreak', 'ĠLakes', 'ĠProv', 'ĠProvincial', 'Ġaddition', 'Ġprojected', 'Ġalmost', 'Ġtheme', 'Ġinstal', 'Ġpatents', 'Ġgenet', 'Ġcontributes', 'Ġexpert', 'Ġmarks', 'Ġchallenging', 'Ġattached', 'Ġsurpr', 'Ġstatut', 'ĠCond', 'Ġidentification', 'Ġbuilt', 'Ġmonitored', 'ĠJob', 'Ġelectoral', 'Ġauthorized', 'Ġremote', 'Ġlawy', 'ĠKore', 'Ġ--', 'Ġproperties', 'Ġcommittees', 'Ġimmigration', 'Ġpreparing', 'Ġbringing', 'Ġ1997', 'Ġcausing', 'Ġfocused', 'Ġengine', 'ĠIndividual', 'ĠCIDA', 'Ġpurchased', 'ĠSupp', 'LEFILE', 'Ġslip', 'Ġpermitted', 'ĠTeam', 'ĠAfrican', 'backs', 'Ġacquired', 'Ġremains', 'Ġbankrupt', 'Ġcollaborative', 'what', 'ĠOrganization', 'ĠCorporations', 'Ġdatabases', 'Ġderived', 'Ġteacher', 'Ġdangerous', 'Ġdissemination', 'ĠValue', 'ĠRegistered', 'territorial', 'Ġathletes', 'Ġpregnant', 'Ġpractitioners', 'Ġframe', 'Ġintegrity', 'Ġfraud', 'ĠArchives', 'ĠSARA', 'Ġtackle', 'Ġeliminate', 'ĠWNV', 'Ġprecipitation', 'Ġprecautions', 'atellite', 'ĠTELEFILE', 'ĠEthics', 'ĠKyoto', 'Ġvaluable', 'ESC', 'FP', 'IH', 'LP', 'TRA', 'ae', 'bal', 'band', 'fund', 'how', 'met', 'mary', 'oes', 'public', 'pass', 'rors', 'specific', 'tra', 'uana', 'Ġ0', 'requ', 'Ġow', 'ese', 'Ġcou', 'anks', 'Ġpage', 'Ġwide', 'Ġwood', 'Ġdream', 'Ġbag', 'Ġbrain', 'Ġbranch', 'Ġtoler', 'iced', 'Ġhalf', 'ster', 'stood', 'Ġnations', 'Ġnav', 'Ġforget', 'ĠCa', 'ceans', 'asive', 'idity', 'Ġliv', 'Ġgra', 'Ġgives', 'Ġconvers', 'etal', 'chmark', 'ivities', 'Ġstations', 'Ġstated', 'iry', 'Ġshap', 'Ġshipp', 'ureau', 'opes', 'ĠAnd', 'ĠST', 'ĠSpe', 'istical', 'usion', 'Ġenabl', 'Ġapparent', 'acies', 'Ġseal', 'ĠFin', 'ĠFrancoph', 'ĠHosting', 'Ġotherwise', 'Ġcompound', 'Ġactors', 'ptember', 'ĠBranch', 'Ġchannel', 'Ġinteraction', 'Ġemer', 'oyal', 'Ġrecon', 'Ġrecover', 'ĠLib', 'Ġlib', 'Ġliqu', 'Ġimported', 'Ġimporters', 'Ġdecline', 'Ġ14', 'Ġtrain', 'Ġindirect', 'Ġarms', 'Ġarticles', 'angible', 'Ġoverload', 'Ġconclusion', 'Ġdescription', 'Ġdesirable', 'Ġregulated', 'Ġeconomies', 'Ġdetect', 'Ġplaying', 'Ġafford', 'Ġdiscovered', 'Ġcharges', 'Ġminister', 'Ġbuying', 'Ġoperate', 'Ġcompete', 'Ġremove', 'Ġaccounting', 'ĠKT', 'Ġassociations', 'Ġcollecting', 'Ġasking', 'Ġskill', 'Ġcontacted', 'Ġallows', 'Ġreviewing', 'Ġcontinued', 'Ġsubstitut', 'atories', 'ĠCFI', 'CTD', 'Ġcontained', 'ĠPartner', 'Ġanalys', 'Ġflag', 'ĠPlanning', 'Ġmulti', 'cape', 'ĠAlcohol', 'Ġconstitute', 'Ġtopic', 'ĠStrategic', 'ĠScot', 'Ġidentifying', 'Ġturned', 'ĠSeptember', 'ĠMeasure', 'Ġjudicial', 'represent', 'ĠClass', 'Ġbillion', 'Ġcalculation', 'Ġterritories', 'ĠIII', 'Ġbooks', 'Ġdestination', 'Ġdangers', 'etermin', 'ĠChildren', 'ï¬Ĥ', 'Ġbroadcasters', 'Ġharvest', 'AIT', 'Ġindependence', 'Ġeasier', 'Ġlicensed', 'Ġinspection', 'Ġprobability', 'Ġfulfil', 'Ġterrorist', 'Ġecosystems', 'ĠInstitute', 'Ġwildlife', 'ĠHappens', 'Ġmonthly', 'ĠInvestment', 'Ġmigrants', 'Ġshape', 'Ġprecise', 'Ġneighbour', 'ĠPresident', 'Ġdisagree', 'ĠIntegrated', 'Ġsupervis', 'Ġdosim', 'ĠHPV', 'Ġhumans', 'Ġacademic', 'Ġbeneficiaries', 'ĠAnnual', 'Ġjurisdictions', 'Ġdisplay', 'Ġsurrounding', 'Ġmarginal', 'Ġimpediments', 'CL', 'DI', 'LCA', 'RM', 'SI', 'TV', 'UA', 'bial', 'business', 'hy', 'ple', 'your', 'Ġtal', 'atche', 'Ġtheory', 'enn', 'Ġcart', 'Ġpet', 'Ġpose', 'Ġpanel', 'Ġpilot', 'Ġwet', 'Ġwage', 'Ġdro', 'Ġdyn', 'Ġinqu', 'Ġfru', 'Ġbaby', 'icians', 'role', 'Ġmist', 'Ġmining', 'Ġreductions', 'Ġhom', 'Ġbears', 'Ġthus', 'Ġeight', 'ĠCrit', 'cember', 'Ġlived', 'Ġgone', 'Ġconj', 'uled', 'uling', 'ulatory', 'Ġstim', 'Ġdeleg', 'Ġneuro', 'opy', 'ĠAI', 'ĠAT', 'Ġimpression', 'ĠPur', 'ĠPCT', 'Ġexcell', 'ĠSask', 'ĠSAP', 'Ġshouldn', 'ĠEc', 'ĠEvaluation', 'Ġappra', 'aculture', 'ocal', 'ĠRad', 'ĠRem', 'ĠDr', 'ĠDane', 'Ġconting', 'Ġcontrolled', 'ĠMo', 'ĠTK', 'ĠFI', 'ĠFe', 'ĠFIN', 'Ġwasn', 'Ġexports', 'abetes', 'Ġcompare', 'Ġacce', 'Ġcoast', 'ĠGaz', 'Ġincidence', 'Ġdism', 'Ġserved', 'Ġclar', 'ificates', 'ĠOur', 'Ġagreed', 'Ġunderstood', 'Ġoutl', 'Ġsoil', 'Ġunf', 'Ġorganic', 'Ġspeed', 'Ġoffices', 'Ġalone', 'Ġcurric', 'Ġarm', 'agraph', 'Ġtransit', 'Ġoverse', 'Ġspir', 'Ġsuccession', 'Ġentered', 'Ġqualities', 'Ġretail', 'Ġmodes', 'Ġincreases', 'Ġministers', 'ĠVolunt', 'Ġmonetary', 'Ġelections', 'Ġaffecting', 'Ġtreaty', 'Ġprivile', 'Ġforecast', 'ĠIsland', 'ĠDecember', 'rimary', 'standing', 'Ġlabels', 'Ġallowing', 'ĠForum', 'Ġsolar', 'Ġrefuge', 'Ġselecting', 'Ġlicences', 'ĠEnergy', 'Ġglobalization', 'Ġgrowing', 'Ġtelework', 'Ġtelephone', 'ĠAssistance', 'Ġencouraging', 'Ġdistributors', 'pril', 'Ġconstitutional', 'Ġcivilian', 'Ġexporting', 'Ġaccomp', 'Ġhandling', 'letin', 'Ġantib', 'Ġ50', 'Ġenhancing', 'ĠTele', 'ĠEmerg', 'Ġaccommodate', 'Ġparagraph', 'Ġstructural', 'Ġconcepts', 'Ġassignment', 'versight', 'Ġpreviously', 'Ġerrors', 'Ġsurvival', 'Ġaims', 'Ġanticipate', 'Ġlogic', 'Ġoccupation', 'Ġreferring', 'Ġresidential', 'ĠNOC', 'ĠNOT', 'Ġclosest', 'Ġeasy', 'Ġloans', 'Ġsymbol', 'effectiveness', 'Ġlifest', 'contin', 'Ġinfected', 'Ġadvisory', 'ĠFacts', 'ĠChec', 'ĠProfile', 'ĠRequired', 'Ġoutputs', 'Ġcigarettes', 'ĠRelations', 'Ġwestern', 'ursement', 'Ġracism', 'Ġaquaculture', 'Ġquickly', 'Ġprompted', 'ĠQuestion', 'abitat', 'ĠSchedule', 'Ġwitness', 'Ġsurplus', 'Ġmacro', 'Ġliberal', 'atchewan', '>?\"', 'FV', 'FAIT', 'RT', 'Rs', 'ause', 'best', 'benef', 'down', 'hab', 'haps', 'iary', 'just', 'linary', 'path', 'Ġillegal', 'atab', 'Ġoversight', 'ishes', 'erly', 'Ġcamp', 'Ġphen', 'Ġwarning', 'Ġdies', 'Ġfear', 'Ġbul', 'ara', 'Ġreward', 'Ġhus', 'ĠeCTD', 'Ġnic', 'ĠCard', 'ĠCust', 'Ġlob', 'Ġgang', 'raz', 'rape', 'Ġconference', 'Ġconvey', 'ette', 'otion', 'essional', 'Ġstyle', 'ows', 'Ġimag', 'opulation', 'ĠApril', 'ĠProm', 'ĠPract', 'ĠPoll', 'Ġexceed', 'ĠSome', 'ĠSport', 'ĠSite', 'istry', 'ried', 'ĠEd', 'ĠEv', 'Ġvessel', 'Ġenlar', 'rome', 'Ġadoles', 'umin', 'ĠRoman', 'izational', 'ĠDif', 'ĠDaily', 'ĠNon', 'ĠNun', 'ĠNAF', 'ĠTur', 'ĠTarget', 'ĠFA', 'ĠFrom', 'ĠGH', 'ĠGM', 'ĠGender', 'Ġincur', 'ĠBas', 'Ġperhaps', 'elt', 'ĠOSCE', 'lection', 'Ġ16', 'Ġalcohol', 'Ġpersist', 'Ġindeed', 'ĠReference', 'Ġdesired', 'Ġtypically', 'ardship', 'Ġformats', 'Ġformula', 'Ġpayer', 'Ġattack', 'Ġentity', 'Ġentering', 'Ġmemory', 'ceptable', 'ĠIntellectual', 'Ġmakers', 'ĠChines', 'Ġpromise', 'Ġpartnering', 'Ġmodified', 'Ġowned', 'ĠVi', 'Ġmeets', 'Ġaffects', 'ĠUnit', 'Ġlisten', 'Ġdistingu', 'Ġextend', 'Ġtested', 'Ġcreative', 'Ġdirective', 'Ġnegotiation', 'Ġoccurs', 'Ġchoosing', 'Ġrefuse', 'Ġyounger', 'Ġrequested', 'ĠAssist', 'Ġmaritime', 'ĠGuidance', 'Ġexclusion', 'Ġintroduce', 'Ġ2020', 'Ġpurchasing', 'tters', 'Ġcertificates', 'Ġbeginning', 'zaa', 'Ġattracted', 'Ġmanufacturing', 'Ġsupplies', 'paid', 'Ġlosses', 'Ġerror', 'ĠPrivate', 'Ġsurviv', 'Ġuniversal', 'Ġcomparison', 'Ġincorporate', 'Ġmagaz', '________________', 'Ġproceedings', 'Ġsafeguard', 'Ġnutrients', 'Ġcontaminants', 'ĠDrugs', 'Ġupdated', 'Ġsensitive', 'Ġimmunization', 'Ġwarming', 'Ġcouncils', 'ĠPrevention', 'ĠAnti', 'ĠEarth', 'Ġsolidarity', 'Ġinfringement', 'olerance', 'ecutive', 'ĠMembers', 'Ġacquisition', 'folio', 'Ġstatutory', 'TRAC', 'ĠSaskatchewan', 'ĠFINTRAC', 'Ġphenomen', 'rapeut', 'ĠNAFTA', 'ĠChinese', '05', 'CCB', 'Gen', 'HA', 'HER', 'II', 'In', 'NG', 'RSP', 'bl', 'ches', 'ele', 'fect', 'fish', 'iant', 'tc', 'word', 'ĠZ', 'Ġtree', 'atform', 'inations', 'inals', 'rest', 'White', 'isans', 'Ġfat', 'Ġfelt', 'Ġmach', 'Ġmales', 'Ġhot', 'Ġhog', 'Ġetc', 'state', 'ĠCP', 'ĠCity', 'ĠCPP', 'imicro', 'ascular', 'Ġgraph', 'ifact', 'olving', 'olute', 'Ġorient', 'ĠId', 'Ġhaven', 'iest', 'ulum', 'Ġste', 'Ġcompe', 'Ġsusp', 'ĠPa', 'ĠSD', 'Ġaboriginal', 'âĢĺ', 'Ġletters', 'Ġrise', 'redit', 'amm', 'Ġenrol', 'resents', 'umber', 'Ġsemin', 'Ġsemen', 'ĠDFAIT', 'ĠMC', 'Ġexpansion', 'ĠHabitat', 'Ġacts', 'Ġacting', 'ĠGet', 'ĠBand', 'Ġdispar', 'Ġdiscontin', 'Ġrequires', 'ĠWinter', 'Ġprovider', 'Ġobs', 'Ġintermedi', 'Ġrelates', 'ĠLetter', 'ĠProblem', 'Ġunif', 'Ġunable', 'under', 'Ġdecades', 'Ġprison', 'ildlife', 'astic', 'ĠEuropeans', 'Ġalien', 'Ġresponses', 'Ġindigenous', 'Ġthemes', 'Ġarising', 'aximum', 'Ġtransaction', 'ĠRele', 'ĠRece', 'Ġadvoc', 'Ġregulating', 'Ġsav', 'Ġdeputy', 'ĠChallen', 'ĠConstitution', 'Ġdefect', 'Ġmineral', 'Ġleads', 'Ġcompetent', 'Ġdesigns', 'Ġreturning', 'Ġbother', 'ĠRegion', 'Ġextreme', 'Ġsupplement', 'ĠWeek', 'Ġdraf', 'Ġbuildings', 'Ġcalls', 'provincial', 'Ġfoundation', 'ĠThey', 'Ġexplan', 'Ġdrivers', 'ĠPrince', 'Ġadvertise', 'ĠDeputy', 'ĠAdverse', 'service', 'Ġannounced', 'Ġartisans', 'Ġsenators', 'Ġnetworking', 'Ġadministered', 'Ġready', 'Ġshows', 'Ġdegre', 'Ġmedicines', 'Ġexporters', 'Ġfarms', 'Ġresearcher', 'Ġintroduction', 'ĠDisc', 'Ġdisadvant', 'Ġgranting', 'Ġjudges', 'Ġfunctioning', 'Ġmotivates', 'Ġdestro', 'Ġadvancement', 'Ġsurvive', 'Ġfishery', 'Ġcomparative', 'Ġreferred', 'Ġadequately', 'Ġworry', 'Ġquantities', 'Ġclosely', 'Ġgroundwater', 'Ġhouseholds', 'Ġconcentration', 'ĠStandards', 'ĠSmall', 'ĠInflu', 'Ġroutine', 'Ġcapture', 'Ġshares', 'Ġtracking', 'Ġverify', 'Ġneighb', 'Ġultimately', 'Ġlatest', 'Ġordinary', 'ĠConflict', 'Ġfeasible', 'Ġenvisage', 'ĠLeader', 'compliance', 'Ġboundaries', 'ĠCountries', 'Ġconvergence', 'Ġclothing', 'Ġurgent', 'Ġmagnitude', 'Ġcontempl', 'Ġtransfers', 'Ġbenchmark', 'Ġmitigate', 'iplom', 'Ġemerge', 'Ġdynam', 'Ġacceler', 'Ġantibiot', 'ĠTurkey', 'rapeutic', 'imicrobial', '30', 'ES', 'LO', 'NP', 'RS', 'cern', 'family', 'ios', 'iated', 'low', 'like', 'mes', 'mas', 'pite', 'rating', 'su', 'ym', 'ĠWhere', 'Ġï¬ģ', 'hent', 'Ġought', 'enger', 'Ġcope', 'Ġsatellite', 'Ġwol', 'Ġbid', 'Ġbus', 'Ġborrow', 'Ġborders', 'Ġang', 'room', 'Ġmine', 'ctober', 'Ġreaching', 'ley', 'vement', 'Ġeld', 'Ġeating', 'Ġnight', 'ĠCCC', 'ĠCopy', 'cel', 'urt', 'Ġconv', 'Ġconvention', 'Ġconventional', 'pped', 'Ġstability', 'Ġdeep', 'Ġcomment', 'qual', 'ĠPost', 'ĠPopulation', 'Ġitem', 'ĠSR', 'ĠSal', 'ĠSearch', 'ĠSpec', 'Ġmeat', 'outhern', 'Ġmoder', 'Ġrising', 'ĠEst', 'Ġwouldn', 'Ġknew', 'pean', 'Ġvill', 'Ġvital', 'amination', 'aces', 'acceptable', 'Ġadminister', 'ndrome', 'Ġsecur', 'Ġsearc', 'Ġselling', 'ĠDid', 'ĠDist', 'ĠDesign', 'Ġcontra', 'ults', 'inding', 'ĠNow', 'ĠNCE', 'ĠMat', 'ĠMilitary', 'ĠTor', 'ĠTCE', 'Ġcoal', 'ĠGood', 'Ġconsensus', 'Ġdischar', 'Ġinterim', 'Ġinterven', 'efram', 'aceutical', 'eligible', 'ĠOctober', 'Ġrecourse', 'ĠLake', 'Ġsoon', 'Ġdecent', 'Ġanyway', 'ernity', 'Ġproductive', 'Ġpublicly', 'Ġpublications', 'ouses', 'ously', 'ĠInst', 'Ġtraine', 'posed', 'Ġaccred', 'ĠHealthy', 'Ġsections', 'Ġexperts', 'Ġwanted', 'comings', 'Ġstatistical', 'Ġreput', 'Ġrepresents', 'avy', 'Ġcolours', 'Ġmode', 'Ġdefining', 'Ġdeficit', 'Ġenvironmentally', 'Ġequation', 'Ġtwent', 'ociety', 'Ġ197', 'Ġrecommendation', 'ĠKey', 'Ġlists', 'ĠDev', 'Ġperiods', 'Ġrail', 'Ġinside', 'Ġpolitics', 'Ġbehalf', 'Ġvisits', 'Ġvisibility', 'Ġpresentation', 'Ġsurveys', 'Ġoffering', 'Ġconsulting', 'Ġcontinent', 'ĠCAT', 'Ġmanaged', 'Ġphysically', 'Ġ1996', 'Ġcopies', 'Ġholders', 'Ġbelieved', 'DSP', 'Ġexamined', 'Ġcontains', 'Ġcontaining', 'Ġsporting', 'Ġpreventing', 'Ġartifact', 'Ġeverything', 'Ġbreeding', 'Ġtimefram', 'Ġshortcomings', 'Ġmovements', 'Ġsimilarities', 'Ġcertified', 'Ġcategor', 'Ġenhanced', 'ĠDisability', 'rolling', 'Ġcrimes', 'ĠTechnology', 'ĠNeeds', 'month', 'ĠConsum', 'Ġdeadlines', 'Ġcarrier', 'Ġjoined', 'Ġgeographic', 'ĠIndustrial', 'Ġdestruction', 'AFC', 'Ġopposition', 'Ġmanufacturer', 'sector', 'Ġrunning', 'Ġwarrant', 'ĠDeclaration', 'Ġinspections', 'ĠCorporation', 'ĠNATCP', 'Ġdetailed', 'Ġexplains', 'Ġabsolute', 'ugal', 'Ġpredicted', 'Ġhazards', 'ĠInstitutions', 'Ġlandscape', 'ĠRegistry', 'Ġsatisfy', 'Ġfrequently', 'ĠModel', 'Ġpregnancy', 'ĠEffective', 'Ġpractitioner', 'Ġfeasibility', 'Ġlaboratories', 'Ġhazardous', 'Ġexploit', 'ĠApproach', 'Ġsponsorship', 'Ġconfidentiality', 'Canadian', 'Ġpiece', 'Ġfoster', 'Ġtaxpayers', 'Ġmortality', 'ĠDocument', 'Ġequivalent', 'Ġveterinary', 'Ġsecret', 'ĠBulletin', 'Ġmountain', 'Ġmoment', 'Ġproducer', 'Ġgenetically', 'ĠConditions', 'IHB', 'represented', 'ĠChechen', 'atabase', 'uminum', 'General', 'Ġsavings', '12', '40', 'CI', 'Euro', 'EDA', 'GE', 'OI', 'PC', 'SD', 'TB', 'TM', 'ah', 'auc', 'book', 'building', 'cle', 'cas', 'drug', 'good', 'greg', 'human', 'oor', 'pol', 'rist', 'rator', 'spe', 'tles', 'tte', 'writ', 'yram', 'ĠÃ', 'Ġtou', 'Ġtick', 'Ġtangible', 'Ġast', 'Ġapart', 'income', 'environment', 'Ġcra', 'ounce', 'Ġdup', 'Ġinhib', 'Ġanth', 'icide', 'ingly', 'arb', 'Ġreverse', 'omb', 'Ġnar', 'Ġfort', 'Ġprove', 'ĠCore', 'ĠCEC', 'cean', 'asures', 'urrent', 'otal', 'atever', 'iries', 'Ġwhatever', 'ĠAW', 'ĠAHR', 'ĠAAFC', 'Ġaspir', 'ĠPA', 'ĠPM', 'ĠPIA', 'Ġexem', 'ĠSo', 'ĠSav', 'ĠSelf', 'Ġchamp', 'Ġchair', 'Ġhealing', 'Ġrich', 'Ġround', 'osc', 'oses', 'Ġvia', 'using', 'ĠRout', 'ĠRight', 'ĠDom', 'ĠDise', 'Ġplatform', 'Ġattain', 'ĠNET', 'ĠFamily', 'ĠHor', 'Ġacute', 'Ġacknow', 'ĠGas', 'ĠGrant', 'ĠBi', 'Ġdisapp', 'ĠWere', 'Ġinval', 'ailing', 'Ġintersect', 'Ġemission', 'Ġclimb', 'ĠOne', 'Ġaging', 'Ġquot', 'Ġpeer', 'ĠLog', 'Ġoffers', 'Ġalign', 'Ġpersu', 'Ġtransmitted', 'ĠUK', 'Ġtimely', 'Ġkeeps', 'okers', 'Ġfinding', 'Ġinstruct', 'Ġfacts', 'ĠâĢ¦', 'Ġparticipated', 'Ġdespite', 'Ġinvesting', 'Ġphara', 'ĠChief', 'Ġmetal', 'Ġmeteor', 'Ġmarketplace', 'Ġfamili', 'ĠConcern', 'sels', 'ĠJim', 'Ġrealized', 'Ġrealistic', 'ĠKing', 'Ġgrass', 'Ġconstruct', 'Ġreviewed', 'Ġnegotiate', 'Ġsimpl', 'Ġintegrate', 'Ġcommunicating', 'unction', 'ography', 'Ġcontracting', 'ĠExport', 'Ġpromoted', 'Ġholdings', 'Ġrequesting', 'ĠPrincip', 'Ġcustod', 'Ġpassword', 'Ġcheque', 'ĠAdminist', 'certain', 'should', 'ĠContract', 'Ġfails', 'Ġevaluating', 'ĠCentres', 'Ġfacilitating', 'letion', 'Ġcommercialization', 'Ġimmigrant', 'Ġincreasingly', 'Ġentitlement', 'Ġperspectives', 'Ġ65', 'Ġcombined', 'ĠConsider', 'Ġsettings', 'Ġinventions', 'ĠMonitor', 'market', 'Ġmothers', 'Ġremedies', 'governmental', 'Ġtried', 'ĠCorporate', 'ĠPeace', 'Ġhospitals', 'ĠElections', 'ĠRecogn', 'Ġinfectious', 'Ġcoordinating', 'Ġfighting', 'ĠValues', 'Ġdenied', 'Ġbrand', 'Ġhonourable', 'Ġfrequency', 'Ġchemicals', 'ĠModern', 'ĠSummit', 'ĠMarine', 'Ġdollars', 'Ġdimension', 'Ġdimensions', 'Ġearthqu', 'ĠConfederation', 'Ġaccuracy', 'Ġairports', 'Ġfigures', 'Ġcounterfe', 'Ġgathering', 'Ġenvisaged', 'Ġincomes', 'Ġdiverse', 'Ġcluster', 'Ġbottom', 'Ġdistinctive', 'Product', 'Ġpull', 'Ġnursing', 'annuation', 'ĠWADA', 'Ġscheduled', 'Ġlegitimate', 'ĠRenewal', 'Ġinadequate', 'ĠClaims', 'Ġcolleagues', 'Ġhinder', 'Ġattachment', 'Ġreplaced', 'Ġintelligence', 'keeping', 'Ġautonomy', 'ĠInvolved', 'Ġcrucial', 'Ġchannels', 'ĠScotia', 'ĠAIDS', 'Ġcurriculum', 'Ġoverseas', 'razil', 'Ġenlarge', 'ĠIdent', 'Ġdegrees', 'Ġcontemplated', 'ĠTCEs', 'ĠDisease', 'Ġpharaoh', '60', 'BA', 'CO', 'HP', 'LT', 'TF', 'ault', 'cue', 'ha', 'morrow', 'national', 'ox', 'oices', 'pers', 'policy', 'vious', 'vascular', 'west', 'Ġ000', 'Ġtro', 'Ġaer', 'onial', 'onto', 'isons', 'Ġcatal', 'Ġsending', 'anning', 'orne', 'Ġpun', 'Ġpages', 'Ġwider', 'Ġdign', 'Ġdensity', 'Ġdiplom', 'Ġfest', 'Ġfats', 'Ġfoot', 'Ġball', 'Ġtomorrow', 'icated', 'ariff', 'veillance', 'Ġthous', 'Ġepid', 'Ġprop', 'Ġpropri', 'Ġproducing', 'security', 'ĠCL', 'ĠCCTB', 'imp', 'ided', 'idency', 'Ġlone', 'utes', 'ivate', 'Ġsuited', 'ĠAD', 'ĠAge', 'ĠAth', 'Ġimpress', 'ĠPrimary', 'Ġexhib', 'ĠSign', 'ĠSup', 'ĠSuccessful', 'ĠSociety', 'Ġchart', 'Ġchronic', 'tery', 'Ġaband', 'Ġlease', 'Ġruling', 'rief', 'ĠEESC', 'ĠRM', 'ĠRw', 'ĠRoad', 'izations', 'ĠDIN', 'Ġcontents', 'ĠNA', 'ĠNe', 'ĠNova', 'ĠMain', 'ĠMac', 'ĠMakes', 'ĠMiddle', 'iances', 'ĠFarm', 'ĠFetal', 'eremon', 'ĠHA', 'ĠHS', 'ĠHar', 'ĠHome', 'ĠHere', 'Ġtrouble', 'Ġcoff', 'ĠGree', 'ĠBay', 'ĠBureau', 'ograp', 'alls', 'Ġpermission', 'Ġperceptions', 'ĠWant', 'ĠWildlife', 'ferent', 'Ġinvoice', 'wered', 'Ġhowever', 'Ġrelief', 'Ġrelocation', 'Ġagri', 'Ġpreced', 'Ġcouldn', 'Ġunacceptable', 'Ġspeech', 'Ġimports', 'ishment', 'ĠInn', 'ĠSteps', 'Ġaluminum', 'vironments', 'Ġcurren', 'Ġindex', 'Ġtransformation', 'anged', 'Ġoverl', 'Ġlearners', 'Ġcareers', 'curs', 'Ġparticipatory', 'Ġregulate', 'Ġmarked', 'Ġeconomically', 'Ġexperiencing', 'Ġdiscover', 'Ġphases', 'ĠGoals', 'arrier', 'Ġfinanced', 'ĠConstitut', 'mitt', 'rugg', 'Ġdefici', 'Ġminutes', 'ĠVeter', 'Ġsettle', 'Ġrealize', 'Ġelectricity', 'Ġpossess', 'Ġassociate', 'Ġasks', 'Ġreturned', 'Ġawards', 'Ġschooling', 'Ġpersonality', 'Ġvisible', 'Ġspecialized', 'itizens', 'Ġtrees', 'Ġtradition', 'Ġindication', 'Ġcommunicated', 'ourage', 'ĠManufact', 'Ġcalling', 'Ġpreserv', 'ĠExpert', 'Ġbudgetary', 'Ġblock', 'Ġdrives', 'Ġ1994', 'Ġcomplainant', 'Ġholder', 'SAB', 'Ġlinkages', 'Ġ31', 'Ġadopting', 'IPEDA', 'ĠCommunities', 'HRC', 'Ġaudits', 'ĠParliamentary', 'Ġencouraged', 'Ġtravellers', 'Ġkeeping', 'Ġprimarily', 'ĠIndex', 'Ġpostal', 'Ġveget', 'Ġevaluated', 'Ġmaximize', 'regist', 'Ġfarming', 'Ġteams', 'Ġresolving', 'rorism', 'cript', 'criptions', 'ĠTechn', 'ĠAfricans', 'Ġresponding', 'Ġremaining', 'ĠNorthwest', 'Ġcalculating', 'paper', 'Ġfinally', 'Ġfairness', 'Ġassignments', 'Ġgraduation', 'Ġbox', 'Ġoccupational', 'commerce', 'Ġfalls', 'Ġvirt', 'Ġportion', 'Ġportfolio', 'arios', 'Ġsymbolic', 'Ġfemales', 'ĠSubstances', 'Ġjourney', 'Ġabsence', 'Ġconcentrations', 'ĠHappened', 'ASD', 'territory', 'Ġdissolution', 'ĠFactors', 'Ġscenario', 'Ġscenarios', 'Ġaccurate', 'Ġfigure', 'Ġbattle', 'Ġdeposit', 'develop', 'Ġlaboratory', 'Ġdiabetes', 'ĠSARS', 'Ġbarg', 'Ġancient', 'ĠIssues', 'ĠInspectorate', 'ĠComplain', 'Ġprohibited', 'Ġstreet', 'Ġvocational', 'ĠResponsible', 'Ġceleb', 'Ġbroken', 'Ġlibrary', 'Ġsubstantial', 'ĠSkills', 'ĠLicence', 'Ġfruit', 'ĠEmergency', 'habilit', 'Ġhusband', 'Ġenrolment', 'Ġdischarge', 'Ġreputation', 'Ġtwenty', 'ĠSavings', 'Ġabandon', '11', '14', '19', 'Bs', 'Based', 'FF', 'JD', 'MIS', 'NFB', 'US', 'WG', 'aut', 'cies', 'date', 'from', 'gage', 'grou', 'hand', 'ik', 'lin', 'mun', 'oe', 'pre', 'ras', 'rid', 'rics', 'such', 'social', 'yst', 'yles', 'zen', 'Ġtub', 'Ġtong', 'Ġtiss', 'atia', 'Ġap', 'Ġaffairs', 'Ġauction', 'ont', 'Ġowe', 'Ġombudsman', 'enant', 'Ġcro', 'Ġsil', 'Ġsac', 'Ġswe', 'Ġsnow', 'anges', 'oub', 'ouver', 'Ġpestic', 'Ġpump', 'Ġwinter', 'itical', 'itarian', 'Ġfast', 'Ġflying', 'Ġbes', 'Ġbit', 'Ġbed', 'Ġbure', 'eds', 'Ġhour', 'Ġhire', 'Ġhund', 'Ġhired', 'ĠCr', 'ading', 'added', 'Ġlakes', 'Ġgear', 'Ġgave', 'Ġgifts', 'urch', 'ĠIr', 'uls', 'Ġstrugg', 'Ġdeployed', 'Ġshot', 'ĠAirc', 'ĠASD', 'Ġimper', 'Ġimpose', 'ĠPar', 'aker', 'ĠSw', 'ĠSim', 'ĠSex', 'ĠSpectrum', 'teries', 'Ġmood', 'Ġmoves', 'arters', 'ĠEPO', 'formal', 'osov', 'Ġvoice', 'Ġenact', 'Ġenfor', 'ips', 'resident', 'Ġ(\"\"', 'pling', 'ĠRural', 'ĠRiver', 'ĠRoma', 'ĠRRSP', 'Ġseats', 'lled', 'ĠDiet', 'ĠDatabase', 'Ġcontamination', 'emor', 'Ġplural', 'ĠNumber', 'ĠMer', 'ĠMost', 'ourts', 'ĠFish', 'ĠFound', 'ĠHigh', 'Ġintolerance', 'Ġcompat', 'ĠGreen', 'Ġincons', 'ĠBal', 'ĠBur', 'ĠBuy', 'ĠBrazil', 'Ġrob', 'ogens', 'Ġrequiring', 'ĠWind', 'rual', 'ruption', 'Ġteen', 'Ġassurance', 'Ġinteract', 'ĠOp', 'ĠOceans', 'Ġreliable', 'Ġpeak', 'Ġprem', 'Ġuncertain', 'Ġoffences', 'lementation', 'Ġalive', 'Ġcosting', 'axis', 'ĠUp', 'ĠUpper', 'Ġresulted', 'Ġadvanced', 'Ġensla', 'Ġseeing', 'Ġspecified', 'apse', 'ĠActivity', 'Ġphone', 'ĠChair', 'Ġfaces', 'Ġcharities', 'Ġinitiated', 'iovascular', 'Ġdelays', 'ĠVanc', 'Ġequitable', 'Ġrespected', 'Ġsmog', 'Ġelectron', 'ĠResource', 'Ġworldwide', 'Ġremember', 'Ġnovel', 'ĠKosov', 'Ġperforming', 'Ġclaimant', 'Ġracial', 'Ġcontacts', 'Ġdistrict', 'Ġextension', 'riminal', 'Ġstrength', 'Ġsheet', 'Ġindicates', 'Ġhomeless', 'Ġcontinues', 'Ġjustified', 'Ġcontractors', 'Ġcarbon', 'Ġdriver', 'Ġrestruct', 'Ġcontainers', 'Ġpassed', 'Ġpassenger', 'Ġannounce', 'Ġviability', 'Ġmarij', 'Ġwriters', 'Ġreaders', 'ĠContamin', 'Ġ40', 'Ġbehavior', 'Ġdownload', 'Ġmedications', 'ĠâĢĺâĢĺ', 'Ġrecognize', 'Ġrecognized', 'Ġpackagers', 'Ġintroducing', 'Ġclassified', 'Ġantimicrobial', 'Ġopening', 'Ġillust', 'Ġefficacy', 'Ġpressing', 'rollership', 'Ġbuyers', 'Ġentitlements', 'ĠNeeded', 'Ġrespondents', 'Ġhouses', 'augh', 'Ġfavourable', 'ĠCoast', 'Ġdrawbacks', 'Ġasset', 'Ġincentive', 'Ġpursu', 'ĠLearn', 'Ġscheme', 'Ġappears', 'ĠProjects', 'ĠSystems', 'Ġaccomplishments', 'Ġworse', 'Ġinjured', 'Ġlaid', 'Ġphotos', 'Ġphotograp', 'ĠOrganizational', 'Ġcardiovascular', 'Ġeasily', 'Ġincorporation', 'Ġincorporating', 'Ġsponsor', 'ĠPhase', 'Ġestimates', 'Ġflows', 'Ġnormally', 'ĠMedical', 'ĠRecommend', 'Ġinfections', 'Ġreligion', 'Ġinvestigate', 'Ġdisseminate', 'ĠCEPA', 'Ġimmediately', 'Ġexemptions', 'ĠFinancing', 'Ġexpenditures', 'Ġframes', 'Ġmorning', 'Ġintegrating', 'ĠPartners', 'Ġdisagreement', 'Ġdiscipline', 'Ġcigarette', 'ĠPayments', 'ĠCosts', 'Ġclusters', 'Ġlaunching', 'ĠCompetency', 'ĠICTs', 'Ġpharmac', 'points', 'Ġmilk', 'ĠIssue', 'Ġbelonging', 'ĠCompliance', 'ĠMuslim', 'Ġwithdrawal', 'Ġtimelines', 'Ġalleged', 'ĠSuperannuation', 'Ġreinforce', 'Ġturbul', 'Ġinstalment', 'ĠKorea', 'Ġbankruptcy', 'Ġanalyses', 'ĠMeasurement', 'ĠCriteria', 'Ġexcellence', 'Ġliberalization', 'benefit', 'ĠCustoms', 'Ġorientation', 'Ġseminar', 'ĠDesignated', 'ĠToronto', 'Ġintervene', 'Ġtrainees', 'Ġaccreditation', 'Ġtimeframe', 'Ġaspirations', 'Ġmeteorological', 'Ġdignity', 'ĠSupreme', 'habilitation', 'Ġhundred', 'ĠAircraft', 'ĠDietary', 'Ġenslaved', 'ĠVancouver', 'ĠKosovo', 'Ġmarijuana', ')(', '01', 'Comm', 'HS', 'Line', 'ML', 'OD', 'TP', 'aT', 'bro', 'cks', 'feed', 'gian', 'ham', 'ked', 'mal', 'mod', 'need', 'po', 'pet', 'prom', 'person', 'rat', 'rical', 'ritional', 'sign', 'xy', 'Ãł', 'âĤ', 'ĠÂ', 'Ġzone', 'Ġtau', 'athe', 'atics', 'hemat', 'Whither', 'Whatever', 'ero', 'Ġcas', 'Ġcatch', 'Ġcourts', 'Ġdoub', 'itably', 'alse', 'alities', 'Ġfam', 'Ġfalse', 'Ġbra', 'Ġburn', 'Ġmid', 'Ġmamm', 'arians', 'Ġrect', 'Ġholid', 'Ġhoping', 'omal', 'Ġnorms', 'seen', 'ĠCCB', 'ĠCMF', 'ĠCredit', 'ĠCriminal', 'idate', 'Ġlice', 'Ġload', 'urb', 'uries', 'raq', 'raine', 'pping', 'ĠIV', 'ĠIRC', 'ĠIraq', 'chol', 'child', 'Ġupt', 'utin', 'oty', 'ivision', 'Ġstra', 'Ġstable', 'Ġstab', 'Ġstew', 'Ġdeem', 'Ġsuicide', 'ĠAG', 'ĠAchie', 'Ġimped', 'Ġimpetus', 'heric', 'ĠPH', 'ĠPal', 'ĠPers', 'ĠPac', 'ĠPav', 'ĠPilot', 'ĠPIPEDA', 'ĠSl', 'istent', 'Ġrescue', 'Ġhemp', 'ĠEG', 'ĠEP', 'aining', 'osm', 'Ġenvironments', 'acuation', 'licate', 'Ġnotes', 'ĠRide', 'ĠRang', 'ĠRound', 'Ġseven', 'ĠDE', 'ĠDet', 'ĠNI', 'ourism', 'iel', 'ĠTest', 'ĠFE', 'ĠFS', 'ĠFocus', 'ĠFDA', 'Ġexpiry', 'endar', 'Ġcomplementary', 'ĠBo', 'ĠBy', 'ĠBest', 'ĠBase', 'ĠBroad', 'ĠBudget', 'ĠBuilding', 'Ġdisorders', 'Ġobvious', 'Ġinvited', 'Ġempower', 'Ġclin', 'uals', 'Ġnewly', 'ĠOc', 'Ġpreferences', 'ĠLook', 'ĠLending', 'ĠLike', 'ĠLLP', 'Ġsole', 'Ġevolution', 'Ġunemployed', 'undering', 'Ġsomebody', 'Ġappropri', 'ritorial', 'ribution', 'Ġoffence', 'ager', 'Ġsciences', 'ĠReform', 'ĠUSA', 'anging', 'Ġadvancing', 'Ġplacement', 'pective', 'Ġobjects', 'Ġmedi', 'Ġspouses', 'Ġsaving', 'Ġpriorit', 'Ġdepletion', 'Ġqualification', 'Ġqualitative', 'Ġinvested', 'ĠInterest', 'ĠGoC', 'Ġtaxation', 'ĠChapter', 'avut', 'Ġaccession', 'ysical', 'iversal', 'Ġexisted', 'Ġmodify', 'iox', 'Ġlooks', 'ĠVE', 'Ġequally', 'ostic', 'ĠJoh', 'Ġsignal', 'Ġcompetences', 'ĠResults', 'Ġcompleting', 'Ġforeseen', 'Ġgrade', 'Ġclaimed', 'ĠIslam', 'Ġinfluencing', 'ĠYOU', 'Ġskin', 'rimination', 'Ġspecialists', 'ĠInternal', 'Ġmaternity', 'Ġallowances', 'lobe', 'Ġregistry', 'Ġcommonly', 'Ġfeeling', 'Ġprocedural', 'Ġcontractor', 'ĠExchange', 'Ġbudgets', 'Ġ1998', 'CTS', 'Ġexamine', 'Ġframeworks', 'Ġaudio', 'Ġpatenting', 'Ġmarital', 'Ġdiscussing', 'Ġreadiness', 'Ġpowerful', 'ĠIndia', 'Ġtiming', 'ĠBeing', 'regional', 'RIC', 'Ġpackages', 'ĠScient', 'Ġpurchases', 'ĠSecond', 'visual', 'ĠTransport', 'Ġnutritional', 'Ġtrustee', 'engers', 'Ġmotivate', 'Ġcombination', 'ĠConservation', 'Ġparal', 'Ġcalculated', 'Ġsettlements', 'Ġadversely', 'ĠCooperation', 'Ġsentence', 'Ġera', 'Ġbehavioural', 'ĠAccord', 'Ġharbour', 'Ġarchive', 'Ġharmful', 'Ġarrived', 'Ġincorporated', 'ĠHRDC', 'Ġactively', 'Ġinterpre', 'Ġpaint', 'Ġredress', 'Ġmodernization', 'Ġdeductions', 'ĠTBS', 'Ġhistoric', 'reason', 'Ġderiv', 'ĠElectronic', 'Ġbreakdown', 'offs', 'Ġproceeding', 'ĠCertification', 'ylaxis', 'Ġturtles', 'ĠLandmines', 'Ġdeny', 'Ġpathogens', 'Ġcutting', 'Ġhonour', 'appropriate', 'Ġingredient', 'Ġcollege', 'places', 'Ġathlete', 'Ġdietary', 'ĠEffects', 'Ġcaptured', 'Ġconnected', 'ï¬ģc', 'Ġnanotechnology', 'Ġsocietal', 'Ġdiagram', 'Ġunsuccessful', 'Ġrejected', 'Ġtrafficking', 'Ġdisciplines', 'Ġ1980', 'Ġintentions', 'Ġrepayment', 'ĠSyndrome', 'Ġaffil', 'Ġancest', 'Ġnurses', 'Ġmainstreaming', 'Ġmilest', 'ĠContribution', 'Ġsuspected', 'ukon', 'Ġhunting', 'Ġtrigger', '----------------', 'Ġvitamin', 'Ġdiagnostic', 'Ġsuddenly', 'Ġsequence', 'Ġlawyer', 'Ġ06', 'Ġowing', 'Ġconversion', 'Ġenablers', 'ennium', 'Ġconjugal', 'Ġstimulate', 'ĠGazette', 'Ġspirit', 'ĠVoluntary', 'ĠEdward', 'ĠEvidence', 'ĠRomania', 'ĠNunavut', 'Ġdistinguishes', 'ĠRelease', 'ĠChallenge', 'Ġdisadvantaged', 'Ġvillage', 'ĠCATSA', 'European', 'yramids', 'Ġfortification', 'ĠDomestic', 'ĠNETFILE', 'ĠRecognition', 'Ġenlargement', 'Ġtroops', 'ĠRwanda', 'Ġcoffee', 'WGSC', 'Ġbureauc', 'Ġrestructuring', 'Ġturbulence', 'âĤ¬', 'Ġdeemed', 'ĠPacific', 'ĠJohn', 'DD', 'MPs', 'MID', 'OL', 'OP', 'OS', 'OT', 'QPP', 'TD', 'ai', 'ares', 'author', 'bru', 'bird', 'borne', 'ean', 'eal', 'elect', 'iative', 'long', 'lights', 'ners', 'ogram', 'pot', 'pow', 'rine', 'ser', 'squ', 'sub', 'ux', 'uce', 'was', 'zing', 'ĠWhite', 'Ġtariff', 'atin', 'atures', 'hel', 'Ġages', 'inner', 'onal', 'onents', 'Ġcards', 'Ġcrop', 'Ġsul', 'Ġspl', 'Ġschol', 'orb', 'Ġpra', 'Ġpill', 'Ġpall', 'Ġpipe', 'Ġwishing', 'Ġdie', 'Ġdates', 'Ġdile', 'Ġdied', 'Ġdivid', 'Ġdouble', 'Ġinï¬Ĥ', 'alone', 'Ġfine', 'Ġfron', 'Ġfilled', 'Ġband', 'Ġbilateral', 'Ġbomb', 'icate', 'rote', 'rovers', 'Ġisol', 'Ġrefere', 'leep', 'ilion', 'ilize', 'Ġnative', 'Ġforth', 'ĠCulture', 'ĠCitizens', 'adata', 'Ġlove', 'Ġgames', 'rax', 'ĠIOC', 'utch', 'oth', 'ull', 'Ġstem', 'Ġstorm', 'Ġstopp', 'Ġdeploy', 'ĠCancer', 'ĠAust', 'ĠADR', 'Ġaside', 'Ġyours', 'ĠPI', 'ĠPWGSC', 'ĠSB', 'ĠSI', 'ĠSov', 'estock', 'vert', 'Ġchief', 'Ġrig', 'Ġriver', 'ĠEating', '\"\")?\"', 'Ġvide', 'Ġvary', 'usal', 'ussels', 'Ġenvision', 'acc', 'dum', 'licit', 'lications', 'Ġnotified', 'Ġadm', 'reserve', 'ĠRF', 'Ġsevere', 'emoc', 'Ġplastic', 'ĠMade', 'ĠMPs', 'ĠMeth', 'ĠMaximum', 'ourcing', 'ieve', 'ĠTC', 'ĠTool', 'Ġexpense', 'Ġcommod', 'ĠHD', 'ĠHas', 'Ġintention', 'ĠBan', 'ĠBet', 'orses', 'Ġroy', 'Ġdispers', 'Ġperfect', 'ĠWD', 'ĠWrit', 'ĠWaters', 'ductive', 'Ġemail', 'Ġclause', 'ressed', 'ĠOHER', 'Ġrecre', 'Ġouts', 'Ġoutreach', 'ĠLC', 'Ġallies', 'Ġallergy', 'ĠProced', 'Ġevacuation', 'arching', 'Ġimporter', 'Ġapprove', 'Ġsubsect', 'ibre', 'Ġaviation', 'ĠInvent', 'ĠStaff', 'Ġoffenders', 'Ġtrained', 'Ġaccidents', 'ague', 'agency', 'Ġscore', 'Ġtransparent', 'ĠReb', 'ĠReaction', 'ĠUCCB', 'ordin', 'Ġadvise', 'Ġseeks', 'Ġplane', 'Ġinternet', 'Ġinfant', 'Ġlegacies', 'Ġregulators', 'Ġmedal', 'Ġformation', 'apers', 'Ġproposing', 'ĠActivities', 'Ġexperiment', 'Ġauthent', 'ĠGoing', 'Ġtaxable', 'ĠChrist', 'Ġaccessibility', 'Ġinitiate', 'Ġguiding', 'ĠVir', 'ĠVictim', 'Ġoperates', 'Ġoperator', 'Ġappropriately', 'ĠJas', 'Ġsectoral', 'Ġprofitable', 'ovation', 'Ġconfirm', 'Ġdonations', 'Ġoccas', 'Ġorganized', 'ĠYukon', 'rolog', 'ĠRegister', 'Ġinsp', 'Ġextending', 'onds', 'rimonial', 'Ġmathemat', 'ciliation', 'Ġdirected', 'Ġends', 'Ġindicated', 'Ġsolving', 'Ġrefuses', 'exempt', 'ĠArticles', 'project', 'protect', 'Ġcontractual', 'Ġtower', 'elled', 'Ġexplored', 'ĠExam', 'Ġ1995', 'govern', 'Ġholding', 'Ġdefinitions', 'Ġaudiences', 'ĠAdd', 'apping', 'Ġartist', 'Ġeveryday', 'Ġradar', 'Ġdistributed', 'ĠCIT', 'Ġbalanced', 'Ġexclusions', 'ĠOffer', 'Ġmotion', 'Ġlowest', 'ĠAmericans', 'Ġhandled', 'region', 'regulation', 'Ġviolations', 'ĠScience', 'ĠGener', 'ĠGenev', 'Ġfitness', 'ĠMeasures', 'Ġcompletely', 'Ġjudgments', 'Ġcorrection', 'ĠOrder', 'ĠThink', 'Ġmotivated', 'Ġacquiring', 'Ã©t', 'ĠConserv', 'Ġversions', 'Ġdigit', 'Ġdiscrimin', 'Ġtexts', 'Ġdisclosed', 'Ġadjustment', 'Ġsummit', 'Ġheads', 'Ġaccordance', 'Ġaimed', 'Ġcomparable', 'Ġoccupations', 'Ġworried', 'Ġsponsored', 'ĠCSH', 'ĠSurveillance', 'ĠPSMA', 'ĠNetworks', 'Ġattributed', 'Ġlifted', 'Ġabsent', 'MARA', 'ĠUsed', '2007', 'ĠBrussels', 'ĠLanguage', 'ĠStudies', 'Ġcoordinated', 'ĠOutcome', 'ĠAlliance', 'Ġcleaning', 'approval', 'Ġremoving', 'Ġmigrant', 'ĠWithdraw', 'ĠSummer', 'Ġnewspaper', 'Ġirrad', 'Ġprecious', 'compet', 'laws', 'Ġdeclared', 'ĠOperational', 'ĠInterim', 'ĠPatent', 'Ġtermination', 'Ġsubsidies', 'Ġsuffering', 'compliant', 'Ġfinance', 'record', 'ĠWHO', 'Ġrapidly', 'Ġcontinuum', 'ĠInspection', 'Ġlegitim', 'Ġstreets', 'ĠAMR', 'Ġbonds', 'ĠAudit', 'Ġreserves', 'Ġreimburs', 'Ġarchitectural', 'ĠMexico', 'Ġwatershed', 'Ġfaith', 'Ġeye', 'Ġeyes', 'Ġprosecut', 'ĠCCRA', 'ĠHistorical', 'ĠLegal', 'Ġpollutants', 'Ġhydrogen', 'Ġsquare', 'Ġconsolidation', 'Ġemotional', 'aeological', 'funded', 'training', 'Ġdreams', 'Ġshipped', 'Ġdosimeter', 'Ġcartoon', 'Ġinquiries', 'Ġhomes', 'ĠPurpose', 'Ġapprais', 'Ġcoastal', 'Ġdismiss', 'Ġclarify', 'Ġunfair', 'Ġrefugee', 'Ġlifestyle', 'pathic', 'ĠPromotion', 'ĠViol', 'Ġphenomenon', 'Ġdisparities', 'Ġdefects', 'Ġdestroy', 'Ġelderly', 'ĠCopyright', 'ĠSpecies', 'Ġmoderate', 'Ġexemption', 'ĠRoutes', 'Ġacknowledge', 'Ġintersectoral', 'Ġalignment', 'Ġfamiliar', 'ĠJimmy', 'Ġpharaohs', 'Ġthousands', 'Ġpropriet', 'Ġimpressions', 'development', 'groups', 'Ġtube', 'Ġtongue', 'Ġbesides', 'Ġpursuant', 'Ġtaught', 'Ġfamous', 'ĠIRCP', 'ĠPavilion', 'ĠFEMARA', 'Ġparalle', 'Ġmilestones', 'bruary', 'Ġsulph', 'Ġsplit', 'Ġpalliative', 'Ġdilem', 'ĠSoviet', 'ĠInventory', 'ĠGeneva', '51', '500', 'BI', 'Business', 'Ch', 'Do', 'Eo', 'FE', 'FN', 'He', 'IST', 'NE', 'Net', 'PE', 'PH', 'St', 'SPs', 'UTE', 'Wide', 'aid', 'cre', 'can', 'cuss', 'ds', 'econom', 'effic', 'gers', 'home', 'iment', 'iability', 'jud', 'las', 'loph', 'ming', 'oz', 'ping', 'pread', 'rative', 'rade', 'rise', 'sized', 'trad', 'uition', 'vy', 'vity', 'were', 'Ġties', 'Ġtap', 'atlantic', 'inn', 'iner', 'inet', 'initi', 'Ġthes', 'Ġtheore', 'ony', 'Ġovern', 'eness', 'erts', 'Ġcot', 'Ġclic', 'Ġsat', 'Ġprou', 'Ġpensions', 'Ġdying', 'itch', 'itory', 'Ġineffective', 'Ġinappropriate', 'Ġfab', 'Ġfrust', 'Ġborn', 'Ġbrief', 'Ġbarrier', 'rog', 'arnt', 'Ġreper', 'Ġrepos', 'Ġrewards', 'Ġhorm', 'Ġthir', 'ilm', 'mentia', 'Ġproph', 'sell', 'ĠCT', 'ĠCre', 'ĠCall', 'Ġgre', 'raid', 'ett', 'ĠIran', 'utures', 'utral', 'Ġonto', 'otic', 'ulf', 'essions', 'Ġdefer', 'opol', 'ĠAP', 'ĠAPA', 'quarters', 'ĠPER', 'ĠParent', 'ĠPSAB', 'Ġexceptions', 'Ġexecutive', 'Ġwithhold', 'ĠSS', 'ĠSol', 'ĠSUTE', 'Ġchose', 'terrorism', 'Ġabilities', 'Ġleather', 'Ġleaves', 'Ġlearnt', 'Ġmoved', 'Ġresist', 'artial', 'Ġheat', 'Ġhero', 'Ġhence', 'Ġheav', 'Ġkit', 'ained', 'ffish', 'Ġventure', 'amb', 'aming', 'Ġencomp', 'access', 'due', 'Ġnotify', 'plants', 'ĠRef', 'Ġseize', 'ĠDi', 'ĠDon', 'ĠDar', 'ĠDig', 'ĠDivision', 'Ġcontrovers', 'ulty', 'udence', 'ĠNDS', 'ĠMail', 'ĠMust', 'ĠMSC', 'ĠMAP', 'ĠMII', 'ĠTop', 'ĠTime', 'ĠTPD', 'Ġpartial', 'ĠFN', 'ĠFac', 'ĠFamil', 'ĠFRA', 'Ġexpensive', 'endment', 'ĠHel', 'ĠHep', 'Ġintensity', 'Ġusual', 'Ġcompens', 'Ġtruly', 'Ġworkplaces', 'Ġcooperative', 'ĠGot', 'ĠGrow', 'ĠGeor', 'ĠBE', 'Ġhappy', 'Ġrot', 'Ġdislike', 'ĠWP', 'ĠWas', 'ĠWCT', 'ĠWrong', 'rue', 'Ġimpacted', 'Ġteens', 'Ġservant', 'elong', 'ĠOS', 'ĠOwn', 'ĠOzone', 'Ġreluct', 'Ġaged', 'ĠLA', 'ĠLo', 'ĠLim', 'Ġevolving', 'conf', 'containing', 'raction', 'Ġparticle', 'Ġorganise', 'Ġorganised', 'Ġapproving', 'Ġ22', 'Ġ26', 'Ġpricing', 'Ġaddict', 'ĠStill', 'ĠStart', 'ĠStress', 'Ġalter', 'Ġindetermin', 'Ġsystematic', 'Ġgovernmental', 'ĠCommon', 'ĠCommand', 'Ġarmed', 'ĠRev', 'ologically', 'Ġadvances', 'uck', 'Ġparticipates', 'Ġplanet', 'Ġdesire', 'Ġplacements', 'Ġinflation', 'Ġgene', 'Ġformed', 'assad', 'Ġpayable', 'Ġmarking', 'Ġstudied', 'Ġsocially', 'ĠIntakes', 'ĠChile', 'Ġaccessed', 'Ġaccessing', 'ternative', 'Ġdefend', 'Ġincremental', 'Ġidentif', 'Ġminim', 'Ġlooked', 'Ġmonopol', 'Ġspecifications', 'ĠJud', 'Ġsmokers', 'Ġelectrical', 'Ġcompeting', 'Ġcompetence', 'ociation', 'Ġprofiles', 'Ġnumer', 'Ġremind', 'Ġcollections', 'holders', 'Ġhighlights', 'Ġperiodic', 'Ġinsight', 'Ġinsights', 'Ġpoliticians', 'Ġextract', 'Ġvisitor', 'Ġvisiting', 'Ġlegally', 'Ġmatrimonial', 'ĠWell', 'Ġsheets', 'Ġendpoints', 'Ġinner', 'Ġconsultant', 'arliaments', 'Ġrecording', 'exist', 'Ġsalaries', 'Ġpresents', 'Ġpresident', 'Ġfoundations', 'acterial', 'ĠTheir', 'Ġcars', 'management', 'Ġblame', 'Ġglobally', 'Ġholds', 'Ġlinkage', 'Ġexamining', 'olicies', 'Ġdocumented', 'ĠCommunication', 'ĠParty', 'Ġpassengers', 'Ġchecks', 'Ġcredible', 'Ġviable', 'Ġdevot', 'retion', 'Ġbreach', 'Ġbreaking', 'ĠStatements', 'Ġposted', 'Ġmultilateral', 'Ġlitigation', 'Ġshortage', 'ĠContin', 'ĠContest', 'Ġparental', 'Ġtransferring', 'Ġmaintained', 'Ġevaluators', 'regulatory', 'Ġcollapse', 'Ġresolved', 'Ġgenerating', 'Ġturning', 'Ġcalendar', 'Ġseries', 'Ġproportional', 'ĠSelection', 'Ġslave', 'Ġpressures', 'ĠDisorder', 'ĠDisaster', 'ĠMeet', 'Ġrelatively', 'ĠClinical', 'Ġcorrectly', 'Ġmerit', 'Ġpenet', 'ĠCompany', 'Ġvalidation', 'Ġvalidate', 'Ġfairly', 'isdom', 'Ġexercised', 'Ġorigins', 'Ġprosper', 'ĠQuit', 'azard', 'ĠBritain', 'Ġpursuing', 'Ġcreativity', 'idespread', 'Ġbroadcaster', 'Ġminds', 'Ġresidency', 'Ġschemes', 'Ġtenure', 'Ġhimself', 'ĠDNA', 'operatives', 'Ġbaseline', 'ashion', 'which', 'Ġworst', 'Ġhabitats', 'Ġquantitative', 'ĠXDR', 'Ġtrips', 'healthy', 'Ġsubscrib', 'bourg', 'Ġmassive', 'Ġratification', 'Ġappeared', 'Ġcomputers', 'Ġcease', 'ĠPermit', 'Ġprobably', 'Ġdeaths', 'Ġperceive', 'Ġconcentrated', 'Ġderive', 'ĠHeads', 'Ġadaptation', 'Ġdamages', 'Ġdoctors', 'izontal', 'Ġpathogen', 'Ġvariety', 'Ġvariables', 'Ġnearly', 'Ġmobile', 'approved', 'ĠSmoke', 'Ġroutes', 'Ġprevalent', 'ĠAccountability', 'ĠSummary', 'parents', 'Ġconnections', 'Ġreceipts', 'professional', 'Ġupdate', 'Ġflexible', 'Ġsensit', 'Ġmunicipality', 'ĠPresidency', 'ĠWEPA', 'Ġchecked', 'organization', 'Ġorders', 'Ġembry', 'ĠOperations', 'Ġenterprises', 'Ġglac', 'Ġracist', 'Ġexploitation', 'Ġfinished', 'Ġbottled', 'ĠWHMIS', 'Ġcontinuous', 'scale', 'Ġpleasure', 'Ġpsychological', 'Ġcommissioners', 'Ġschedules', 'Ġtaxpayer', 'Ġcorresponding', 'ĠGrants', 'Ġphotographs', 'Ġcolleague', 'ancies', 'ĠEquity', 'Ġlibraries', 'Ġdramatic', 'Ġreimbursement', 'Ġcompromised', 'Ġconclude', 'Ġharmonization', 'Ġoutbreaks', 'Ġengineering', 'Ġwidely', 'Ġnavig', 'Ġlivestock', 'ĠSpeech', 'ĠFinance', 'Ġcompounding', 'ĠClassification', 'Ġtalent', 'ĠFebruary', 'Ġaccompany', 'Ġmacroeconomic', 'ĠFAST', 'ĠGHG', 'Ġmagazine', 'Ġmachine', 'Ġexplanation', 'Ġbenchmarks', 'Ġwolffish', 'Ġbusy', 'ĠDevices', 'Ġcategorization', 'political', 'speaking', 'Ġticket', 'Ġnarrow', 'Ġquota', 'Ġcurrency', 'Ġdeficiencies', 'Ġbargaining', 'Ġuncertainty', 'Ġelectronically', 'ĠContaminants', 'aughter', 'Ġphotographer', 'feeding', 'Ġuptake', 'ĠAchieve', 'ĠPalest', 'Ġderivatives', 'ĠBanff', 'ĠBetween', 'Ġsubsection', 'ĠChristmas', 'ĠViolence', 'EoF', 'traditional', 'Ġtheoretical', 'Ġovernight', 'Ġproud', 'Ġprophylaxis', 'ĠSUTENT', 'Ġencompass', 'ĠFamilies', 'Ġindeterminate', 'Ab', 'CH', 'Ex', 'Go', 'Gs', 'GSB', 'How', 'HCP', 'IAR', 'Lear', 'Life', 'Med', 'RD', 'Re', 'TH', 'WS', 'awn', 'bur', 'bits', 'board', 'cut', 'cand', 'cents', 'cures', 'cile', 'cost', 'dose', 'efficient', 'food', 'green', 'hma', 'iology', 'kraine', 'lif', 'lies', 'offic', 'pork', 'rd', 'ris', 'rity', 'sm', 'swered', 'uate', 'uff', 'vals', 'xic', 'ya', 'yan', 'Ġ`', 'att', 'atial', 'Ġost', 'Ġocean', 'era', 'Ġcad', 'Ġcarriers', 'Ġceremon', 'Ġson', 'Ġsizes', 'orig', 'orrect', 'Ġpure', 'Ġpush', 'Ġpyramids', 'Ġwid', 'Ġwages', 'Ġwrote', 'Ġwisdom', 'Ġwidespread', 'Ġdict', 'Ġdrop', 'itu', 'itives', 'Ġinev', 'alg', 'Ġfro', 'Ġfate', 'Ġfog', 'Ġbases', 'Ġbacterial', 'Ġanx', 'Ġanswered', 'ician', 'ropri', 'roduction', 'Ġmal', 'Ġmur', 'Ġmerg', 'Ġmaps', 'Ġrepl', 'Ġreferences', 'Ġremitt', 'Ġrehabilitation', 'lex', 'lean', 'Ġhit', 'Ġhop', 'Ġhung', 'Ġdoping', 'Ġeg', 'Ġeast', 'omaterial', 'ilos', 'stance', 'Ġnone', 'Ġprocures', 'ĠCD', 'ĠCM', 'ĠCome', 'ĠCong', 'ĠCultural', 'ĠCCP', 'ĠCele', 'ĠCurrent', 'ĠCRIC', 'aded', 'ceived', 'asc', 'iders', 'Ġlun', 'Ġlag', 'Ġloyal', 'Ġlym', 'urable', 'rase', 'olve', 'ĠItal', 'ĠITC', 'changed', 'Ġund', 'ignt', 'otine', 'ivals', 'Ġstars', 'owing', 'Ġwel', 'ortion', 'orture', 'Ġneutral', 'Ġwhales', 'Ġimbal', 'Ġshipment', 'Ġshoot', 'ĠAAP', 'ĠAPI', 'Ġasyl', 'ĠPO', 'Ġexec', 'that', 'ĠSay', 'esty', 'Ġmere', 'outs', 'acters', 'istically', 'Ġreside', 'Ġrivers', 'rize', 'ĠECB', 'ĠEEP', 'Ġkil', 'osures', 'Ġvict', 'Ġvoices', 'acity', 'Whenever', 'Ġgold', 'uma', 'ĠRules', 'ĠRPP', 'ĠRNFB', 'Ġseat', 'ĠDel', 'ĠDialogue', 'ĠDutch', 'Ġcontrolling', 'emn', 'andom', 'ĠND', 'ĠNi', 'ĠNeg', 'ĠNSA', 'ĠNEX', 'ĠNLCA', 'ĠMen', 'ĠMet', 'ĠMap', 'ĠMÃ©t', 'ĠTF', 'ĠTob', 'ĠTotal', 'ĠFind', 'ĠFuture', 'ĠFront', 'Ġexpropri', 'ereoty', 'ĠHa', 'ĠHold', 'ĠHarm', 'Ġcomplement', 'Ġacted', 'ĠGulf', 'Ġincidents', 'ĠBorder', 'Ġdisin', 'Ġperpet', 'Ġproven', 'Ġinvasive', 'well', 'Ġinteroper', 'Ġclosed', 'Ġoutdo', 'Ġoutstanding', 'ĠLine', 'ĠLiving', 'ĠLocal', 'Ġallerg', 'Ġalliances', 'Ġsovere', 'const', 'Ġje', 'Ġju', 'Ġimporting', 'Ġimportation', 'Ġdeclaration', 'Ġ27', 'Ġprocessed', 'asters', 'Ġissuing', 'iber', 'ibilities', 'ĠSte', 'Ġoffender', 'Ġtrains', 'position', 'Ġbeings', 'Ġarrest', 'Ġmainly', 'Ġtransplantation', 'ewater', 'ĠUr', 'ĠUkraine', 'minent', 'Ġhelps', 'integ', 'Ġprotectable', 'Ġ2009', 'Ġfell', 'Ġspok', 'Ġsafer', 'Ġmemor', 'Ġdepict', 'Ġdepending', 'Ġdetection', 'Ġsurger', 'Ġsurrog', 'Ġdiscretion', 'Ġphased', 'Ġmetadata', 'Ġregardless', 'iversary', 'Ġfaculty', 'Ġcharter', 'Ġcharacters', 'ĠConduct', 'Ġmodification', 'Ġrevise', 'Ġrevolution', 'Ġdefines', 'Ġdefault', 'Ġminus', 'Ġguard', 'Ġdelivers', 'ĠVC', 'ĠJoint', 'Ġrealities', 'Ġsmart', 'Ġsigning', 'Ġcompetitions', 'Ġimplicit', 'Ġconfron', 'Ġconfront', 'STAT', 'Ġnoise', 'ĠUniversal', 'ciplinary', 'works', 'Ġclaiming', 'Ġraw', 'Ġraising', 'ĠRegular', 'Ġcrew', 'standard', 'Ġpresenting', 'Ġindicator', 'Ġdrain', 'Ġlocally', 'covery', 'ĠTrial', 'Ġunderstands', 'Ġlandf', 'Ġlandmines', 'ĠPlans', 'ĠPlace', 'prov', 'process', 'Ġpreservation', 'Ġlicenses', 'cycle', 'ĠTherapeutic', 'Ġcaring', 'ĠExist', 'Ġalternate', 'Ġ1993', 'Ġcoping', 'Ġcopying', 'Ġrestoration', 'Ġpromotional', 'ĠMinor', 'Ġcontainer', 'ĠParties', 'Ġpassing', 'Ġflood', 'Ġcredential', 'ĠAdjust', 'ĠYoung', 'Ġbiom', 'Ġpatented', 'itudes', 'itudinal', 'Ġcivic', 'Ġshowing', 'Ġconstitution', 'Ġcrises', 'Ġexcise', 'Ġmedicinal', 'Ġmaxim', 'ĠDirectives', 'ospace', 'ĠStrategies', 'Ġvacation', 'Ġevening', 'Ġviolent', 'Ġ2010', 'Ġexpressions', 'Ġturnover', 'ĠTransition', 'ĠTranslation', 'Ġillicit', 'Ġtempor', 'ĠDepartmental', 'ĠDisput', 'ĠDiscl', 'ĠWorks', 'ĠWorkplace', 'Ġnegatively', 'Ġsignificantly', 'Ġjudgment', 'repared', 'Ġcriminals', 'Ġvaccinated', 'ARS', 'Ġmerits', 'Ġpublish', 'afood', 'ĠThat', 'ĠAssessments', 'ĠInitiatives', 'Ġseriously', 'ĠReports', 'ĠReporting', 'ĠNotification', 'Ġdrawing', 'Ġavoidable', 'ECD', 'ĠQuÃ©', 'Ġadministrators', 'Ġsumm', 'Ġsummary', 'Ġheading', 'Ġheadings', 'riendly', 'Ġrecruiting', 'why', 'Ġparks', 'Ġinjuries', 'Ġlaundering', 'Ġarrive', 'Ġsubscription', 'ĠCSR', 'Ġinterviews', 'Ġmassage', 'Ġinspectors', 'Ġceiling', 'Ġfleet', 'ĠPSEA', 'Ġdivor', 'ĠElse', 'Ġprobable', 'Ġsatisfactory', 'Ġpictures', 'Ġrenewed', 'Ġguaranteeing', 'ĠElectricity', 'Ġseemed', 'Ġseemingly', 'contract', 'ĠRecord', 'Ġmailing', 'Ġhorse', 'ipped', 'events', 'Ġbrid', 'Ġfrequent', 'ĠGovernments', 'sheet', 'Ġroute', 'Ġfuels', 'ĠMarsh', 'Ġsampling', 'Ġnanosc', 'Ġnanomaterial', 'Ġdependant', 'Ġparliamentarians', 'Ġexempted', 'ĠRESP', 'Ġdeclare', 'organic', 'ĠCapacity', 'Ġattempts', 'Ġattempting', 'Ġdisciplinary', 'ĠPriorities', 'Ġ1988', 'Ġtrademarks', 'Ġatmospheric', 'ĠExpo', 'Ġclearly', 'ĠReduce', 'Ġanalyze', 'ĠLeadership', 'Ġdivergence', 'Ġsuffer', 'Ġlaunch', 'Ġlaunched', 'Ġjournalists', 'Ġutilization', 'Ġmaple', 'Ġmixed', 'ĠBlack', 'ĠWAA', 'Canada', 'Ġnomination', 'ĠPLT', 'ĠDocuments', 'ĠEmployees', 'Ġcelebr', 'Ġsuperior', 'Ġtranslated', 'ĠVisa', 'Ġgrandparents', 'Ġcompromise', 'ĠHistoric', 'ĠLegisl', 'Ġarbitrator', 'Ġsheltering', 'Ġrecycling', 'Ġlawyers', 'Ġcouple', 'Ġbaggage', 'Ġtolerance', 'Ġshapes', 'Ġshaping', 'Ġcompounds', 'ĠLiberal', 'ĠLibrary', 'Ġliquid', 'Ġharvesting', 'Ġprecisely', 'LCADE', 'Ġwetlands', 'Ġmistake', 'Ġcontingent', 'Ġoutlined', 'Ġaccompan', 'Ġbulk', 'Ġnicotine', 'ĠPollut', 'ĠPollution', 'Ġadolescent', 'Ġsurvivor', 'Ġsurvivors', 'ĠPaper', 'Ġuniform', 'Ġminerals', 'Ġadvertisements', 'Ġneighbours', 'Ġdynamic', 'Ġaccelerate', 'Ġantibiotic', 'qualified', 'Ġsearched', 'ĠÃī', 'Ġasthma', 'environmental', 'Ġduplicate', 'Ġanthrax', 'Ġchampion', 'ĠLogan', 'ĠModernization', 'Ġdiplomas', 'ĠRMAF', 'ĠInnovation', 'ĠConstitutional', 'ĠVeterans', 'Ġpreserving', 'registration', 'Ġcrops', 'Ġsacr', 'ĠParis', 'ĠFoundation', 'Ġinconsistent', 'brok', 'Ġstraight', 'Ġstewardship', 'ĠRangers', 'ĠOccup', 'ĠVELCADE', 'ĠScientific', 'reasonable', 'powered', 'Ġscholars', 'Ġfrontal', 'ĠAustral', 'Ġcommodity', 'Ġroyal', 'ĠWatershed', 'Ġrecreational', 'ĠProcedure', 'ĠRebate', 'ĠCITT', 'Ġsulphur', 'cussions', 'Ġrepercussions', 'Ġrepository', 'Ġthirty', 'ĠPERRL', 'Ġleatherback', 'Aboriginal', 'Learning', 'candidate', 'Ġfrozen', 'Ġlymph', 'ignty', 'Ġasylum', 'ĠMÃ©tis', 'BPR', 'CPP', 'CCTB', 'EV', 'LA', 'Ms', 'NS', 'PIP', 'Reg', 'TI', 'UE', 'VS', 'Vision', 'YY', 'ZIST', 'aver', 'bs', 'baby', 'cert', 'clusion', 'dam', 'dens', 'eper', 'eav', 'fa', 'fue', 'fied', 'function', 'film', 'gs', 'gans', 'havi', 'iety', 'iON', 'job', 'lor', 'list', 'lab', 'lass', 'local', 'mical', 'made', 'pire', 'press', 'plete', 'rone', 'rings', 'rants', 'rators', 'sites', 'trans', 'trollership', 'uity', 'uine', 'vi', 'vanced', 'will', 'wind', 'zz', 'Ġtin', 'Ġtact', 'Ġtail', 'Ġtension', 'Ġtips', 'herence', 'ino', 'information', 'inian', 'Ġtheat', 'Ġtheft', 'ona', 'onary', 'Ġod', 'Ġox', 'ene', 'isure', 'erpr', 'Ġcat', 'Ġcab', 'Ġsouthern', 'Ġsleep', 'Ġsessions', 'Ġpup', 'Ġparliaments', 'Ġwat', 'Ġdil', 'Ġdress', 'Ġdental', 'itching', 'Ġinject', 'Ġinsect', 'Ġfol', 'Ġfun', 'Ġfetus', 'Ġfutures', 'icks', 'inge', 'Ġmiddle', 'ctor', 'arr', 'Ġreass', 'Ġarena', 'vect', 'Ġhal', 'Ġhoney', 'Ġhole', 'Ġbearing', 'Ġyr', 'Ġdog', 'Ġdoor', 'Ġdoors', 'Ġepass', 'omin', 'ilized', 'Ġnor', 'Ġnights', 'ĠCR', 'ĠCSA', 'ĠCIP', 'ĠCEA', 'idden', 'Ġlung', 'Ġgri', 'ifest', 'rab', 'race', 'Ġconduc', 'Ġconventions', 'Ġconvect', 'olly', 'Ġorgans', 'ĠIR', 'uth', 'iesel', 'ivir', 'Ġstar', 'Ġstamp', 'Ġstereoty', 'Ġdeployment', 'Ġwearing', 'ircu', 'Ġshop', 'Ġshifts', 'urer', 'opal', 'opard', 'opath', 'ĠAug', 'ĠABS', 'ĠABC', 'ques', 'ĠPE', 'ĠPot', 'ĠPear', 'ĠPass', 'ĠPays', 'ĠPRE', 'akin', 'Ġexchanged', 'thrit', 'ĠSE', 'ĠSO', 'ĠSuccess', 'ĠSouthern', 'ester', 'ested', 'Ġchamber', 'Ġmeg', 'acts', 'Ġabol', 'Ġabund', 'Ġleverage', 'Ġleisure', 'Ġmole', 'Ġmosqu', 'Ġresil', 'Ġric', 'Ġrough', 'ĠEmb', 'ĠEIC', 'ĠEFF', 'pelled', 'usual', 'Ġenem', 'acent', 'oche', 'Ġnote', 'Ġnoticed', 'umatic', 'umps', 'ĠRest', 'ĠRoyal', 'ighbour', 'Ġsees', 'ĠDeter', 'ĠDental', 'ĠDemoc', 'emporary', 'ĠNR', 'ĠNom', 'ĠNative', 'ĠNavy', 'ĠME', 'ĠMad', 'ĠMission', 'ĠMajor', 'ĠMuseum', 'ĠTut', 'ĠTake', 'ĠTuition', 'ĠFort', 'ĠFather', 'ĠFiling', 'ĠFederation', 'ĠFASD', 'Ġexplicit', 'ĠHST', 'ĠHCF', 'Ġcomprise', 'Ġcomptrollership', 'Ġcoin', 'ĠGat', 'ĠGlobe', 'ĠBC', 'ĠBPI', 'orship', 'Ġdisb', 'alled', 'ĠWast', 'ĠWood', 'ĠWatch', 'ĠWFA', 'Ġinterface', 'Ġempir', 'Ġcler', 'Ġclim', 'uality', 'ificant', 'rying', 'ĠOptions', 'Ġpreference', 'ĠLond', 'ĠLower', 'ĠLatin', 'inee', 'Ġunions', 'Ġorganisms', 'Ġspeaking', 'Ġknowing', 'reements', 'renew', 'Ġdecre', 'Ġ24', 'Ġthereto', 'hips', 'issible', 'asting', 'orest', 'Ġissu', 'ĠInno', 'Ġposed', 'posal', 'Ġindoor', 'Ġsystemic', 'Ġaccum', 'Ġarrow', 'Ġarmy', 'Ġamending', 'Ġtransmit', 'Ġovercoming', 'Ġoverarching', 'Ġfinds', 'ologists', 'Ġlearner', 'Ġelite', 'Ġelabor', 'area', 'Ġinfants', 'Ġspecify', 'Ġgenuine', 'techn', 'Ġregulates', 'Ġspatial', 'olds', 'aph', 'Ġdifferential', 'Ġattending', 'Ġuphe', 'Ġsuccessor', 'inancial', 'Ġafraid', 'ĠInterc', 'Ġphilos', 'Ġeducators', 'ĠChairs', 'ĠChanges', 'Ġlocate', 'Ġpromises', 'iversification', 'Ġcritic', 'Ġconditional', 'Ġinitiating', 'Ġguys', 'Ġmonitors', 'Ġrespecting', 'Ġcorn', 'Ġcorner', 'Ġcorruption', 'Ġrealization', 'Ġhumanitarian', 'ĠReserv', 'ĠResolution', 'armaceutical', 'Ġprofits', 'Ġremun', 'ĠAgreements', 'Ġprivat', 'Ġorganize', 'ĠKind', 'heses', 'Ġtargeting', 'Ġconstant', 'Ġconstitu', 'Ġawa', 'Ġbottle', 'Ġmethyl', 'Ġlistening', 'Ġrace', 'ondered', 'Ġmethodologies', 'Ġputs', 'Ġbask', 'ĠWeather', 'Ġshell', 'Ġpresentations', 'Ġaccepting', 'Ġtraditions', 'Ġendeav', 'Ġassisting', 'Ġcapacities', 'ĠTrad', 'Ġrecorded', 'ĠArt', 'Ġproblematic', 'acteristics', 'Ġjustification', 'ĠEnh', 'ĠThere', 'Ġexplos', 'Ġexploration', 'ĠExpect', 'Ġtells', 'Ġ1992', 'atorium', 'ovember', 'Ġconducts', 'puter', 'Ġcharacterized', 'ĠCFSP', 'ĠCFIA', 'Ġtotally', 'IPP', 'ĠCommunications', 'Ġcontainment', 'Ġguideline', 'Ġflight', 'Ġprevented', 'Ġbiote', 'Ġbiomet', 'Ġhistories', 'Ġartistic', 'Ġsenator', 'Ġeverywhere', 'Ġusefulness', 'Ġreadily', 'Ġbreed', 'Ġdistribute', 'Ġdistributor', 'ĠIndigenous', 'Ġposting', 'shore', 'private', 'Ġ45', 'atisfact', 'atisfied', 'Ġfailed', 'Ġdegrad', 'Ġcivilization', 'Ġmotor', 'Ġstructured', 'ĠBeen', 'Ġemergence', 'Ġhands', 'regions', 'Ġrecognised', 'Ġpackaging', 'Ġviolation', 'Ġobservation', 'soft', 'Ġgeneric', 'Ġcommercially', 'Ġclassroom', 'Ġantivir', 'Ġwaiver', 'ĠTaxpay', 'Ġopenness', 'Ġillnesses', 'ossible', 'ĠMinisterial', 'ĠWorkers', 'ivalence', 'Ġbigger', 'Ġprevail', 'Ġcorrections', 'Ġattraction', 'afe', 'Ġpredation', 'Ġrespondent', 'Ġ60', 'ĠConsult', 'ĠTreaties', 'Ġregistering', 'Ġjoining', 'Ġgeography', 'Ġassembly', 'Ġrestrictive', 'Ġdedicated', 'Ġadministrator', 'Ġsexually', 'Ġpursued', 'Ġresidue', 'ĠProtected', 'Ġwastewater', 'Ġarchaeological', 'Ġboom', 'Ġboots', 'Ġstrongest', 'Ġremedied', 'Ġarrival', 'ĠCBCA', 'Ġmasses', 'Ġlifelong', 'Ġreflected', 'Ġrenewable', 'ĠMedal', 'Ġhypot', '2006', 'Ġburdens', 'ĠImplementation', 'ĠStudent', 'Ġinvestigations', 'Ġforests', 'Ġturtle', 'ĠOutreach', 'Ġdamaged', 'Ġinitially', 'ĠAllow', 'Ġpathways', 'Ġqualifying', 'Ġstrengthening', 'Ġfilling', 'Ġvariable', 'check', 'Ġawarded', 'client', 'ĠAccounting', 'Ġorganisational', 'Ġcomplexity', 'Ġgraduate', 'Ġretaining', 'Ġjointly', 'Ġcounsel', 'Ġmoratorium', 'ĠRequest', 'ĠPatient', 'Ġsocioeconomic', 'maker', 'ĠTerms', 'Ġprinted', 'iculturalism', 'Ġincomplete', 'Ġexplorer', 'Ġanalyzing', 'Ġinputs', 'secut', 'ĠCosta', 'disc', 'Ġutility', 'ĠJapanese', 'Ġbeneficiary', 'Ġpharmaceutical', 'Ġjurisdictional', 'CMAF', 'Ġswim', 'Ġplease', 'Ġtowns', 'ĠESDP', 'Ġcontemporary', 'Ġmunicipalities', 'grade', 'gratia', 'Ġzones', 'Ġzero', 'Ġinadequacy', 'ĠPoland', 'Ġbreastfeeding', 'ĠEmployee', 'communications', 'Ġbroker', 'Ġignore', 'Ġkiller', 'ĠNRCan', 'Ġforeseeable', 'Ġwatching', 'Ġrepeated', 'ĠCNF', 'Ġconcluded', 'ĠPartnerships', 'ĠMulticulturalism', 'Ġreproductive', 'Ġdelayed', 'NAME', 'ĠIAEA', 'Ġemotions', 'Ġinstalments', 'Ġsurprising', 'requis', 'Ġenabling', 'Ġreconcile', 'Ġneighbouring', 'Ġneighbourhood', 'Ġsupervisor', 'Ġdropped', 'Ġneuropathic', 'ĠEcopal', 'ĠRadio', 'Ġdismant', 'Ġprivileges', 'Ġlifestyles', 'Ġfears', 'Ġniche', 'ĠDifferent', 'ĠTargets', 'Ġincurred', 'Ġmagazines', 'Ġcompelling', 'Ġdiscontinuation', 'Ġintermediate', 'Ġuniforms', 'Ġdrafting', 'Ġantibiotics', 'support', 'ĠSalmon', 'ĠSearching', 'Ġadministering', 'Ġsecurities', 'ĠDistribution', 'Ġcontraception', 'ĠMatter', 'Ġdecentral', 'ĠInstru', 'Ġrailway', 'written', 'Ġcraf', 'Ġplatforms', 'Ġattained', 'ĠHorizontal', 'ĠBiotechnology', 'Ġinvalid', 'ĠPrinciples', 'Ġcustodian', 'ĠAdministration', 'ĠMonitoring', 'Ġearthquake', 'Ġcounterfeit', 'Ġfestivals', 'ĠAthletes', 'ĠNeighbour', 'Ġoverlook', 'Ġvegetables', 'ĠComplainant', 'ĠCrime', 'ĠIrish', 'ulsory', 'emorative', 'Ġcompatible', 'ĠMuslims', 'aTiON', 'needs', 'children', 'osmetic', 'ĠBroadcast', 'Ġpillars', 'ĠVictims', 'ĠConservative', 'Ġlegitimacy', 'Ġdestroyed', 'Ġparallel', 'Health', 'ĠSSHRC', 'Ġcontroversial', 'ĠHelp', 'ĠLimit', 'originals', 'Ġhungry', 'ĠCongress', 'Ġoutdoor', 'ĠUrban', 'Ġfellow', 'Ġsurgery', 'ZISTA', 'Ġconducive', 'Ġstereotypes', 'ĠPREZISTA', 'thritis', 'ĠEICS', 'ĠBPIDP', 'Ġempirical', 'ĠLondon', 'ĠInnoVision', 'ĠIntercultural', 'aTiONal', '17', '25', '31', '66', 'AX', 'BR', 'CD', 'CJD', 'DRI', 'ELO', 'Food', 'FNAME', 'GP', 'HC', 'HH', 'LC', 'MC', 'Man', 'MCS', 'NCE', 'OF', 'OIs', 'Pr', 'RSA', 'SR', 'Ter', 'aur', 'ape', 'aus', 'avery', 'bies', 'base', 'bying', 'both', 'count', 'clear', 'dist', 'dem', 'dec', 'fall', 'fair', 'field', 'front', 'frequ', 'grad', 'hort', 'histor', 'huana', 'ii', 'ias', 'iac', 'ixt', 'kind', 'lib', 'lock', 'mic', 'mans', 'name', 'noon', 'natural', 'pract', 'pack', 'personal', 'rive', 'run', 'school', 'tage', 'trade', 'uvant', 'vency', 'wood', 'zie', 'Ã¢', 'Ã¨', 'Ġ^', 'Ġâ', 'Ġtam', 'Ġtract', 'Ġtender', 'Ġtorn', 'atred', 'Ġaro', 'inist', 'inform', 'inos', 'rese', 'Ġtherapeutic', 'onia', 'Ġoceans', 'enues', 'isp', 'ispr', 'erb', 'Ġcerv', 'Ġsou', 'aning', 'andum', 'ouis', 'oured', 'ora', 'orient', 'Ġpan', 'Ġpus', 'Ġpapers', 'Ġwondered', 'Ġdaughter', 'ita', 'itlement', 'Ġinh', 'Ġinorganic', 'Ġfurn', 'Ġfrancoph', 'Ġfashion', 'Ġbought', 'Ġtomb', 'Ġante', 'Ġanten', 'Ġanomal', 'icable', 'edia', 'educ', 'roke', 'enting', 'arce', 'arter', 'Ġreact', 'Ġreapp', 'leted', 'leting', 'letic', 'Ġhol', 'Ġhate', 'Ġhuge', 'Ġhopes', 'Ġhorses', 'Ġele', 'Ġeats', 'omy', 'iliz', 'Ġnurt', 'Ġprotocol', 'Ġprolif', 'ĠCW', 'ĠCateg', 'ĠCov', 'ĠCross', 'ĠCDE', 'ĠCGSB', 'add', 'Ġly', 'Ġles', 'Ġlad', 'Ġlake', 'Ġlosing', 'Ġgal', 'Ġgate', 'Ġgarb', 'ifting', 'rael', 'racies', 'Ġconform', 'Ġconferences', 'etle', 'etime', 'olen', 'oline', 'ĠIB', 'Ġham', 'Ġhabits', 'utual', 'essment', 'Ġstick', 'owed', 'gered', 'irie', 'Ġneither', 'Ġshield', 'ĠAid', 'ĠAng', 'ĠALI', 'ĠAwards', 'Ġasbest', 'ĠPIC', 'ĠPAP', 'ĠPandemic', 'ĠPCMAF', 'akings', 'Ġexit', 'Ġexcept', 'through', 'ĠShe', 'ĠSAT', 'ĠSSP', 'ĠSIS', 'ĠSIC', 'ĠSpecific', 'ĠSFV', 'ĠSakin', 'Ġchapter', 'Ġheight', 'Ġriding', 'Ġranks', 'rian', 'rient', 'ĠED', 'ĠEb', 'ĠEFILE', 'ĠEVS', 'formerly', 'Ġkn', 'Ġkid', 'aint', 'oser', 'ams', 'amins', 'uscript', 'Ġenrolled', 'Ġapprent', 'ococ', 'odes', 'plane', 'umn', 'umer', 'ĠRate', 'ĠRiel', 'Ġseals', 'Ġsegments', 'Ġseeds', 'ĠDra', 'ĠDav', 'ĠDiversity', 'ĠDPR', 'ĠDTH', 'ĠDHH', 'Ġcontest', 'emia', 'Ġplur', 'ĠNW', 'ĠNet', 'ĠNCB', 'ĠNIHB', 'ĠMal', 'ĠMake', 'ĠMold', 'ĠMicro', 'ĠMAS', 'ĠMRL', 'Ġwheat', 'ĠTS', 'ĠTurn', 'ĠTell', 'ĠTPP', 'ĠTrust', 'ĠFOR', 'Ġexped', 'Ġcommerce', 'ĠHal', 'ĠHous', 'ĠHague', 'ĠHazard', 'Ġcomparing', 'Ġcomplying', 'Ġtruth', 'Ġcook', 'Ġcovers', 'Ġcares', 'Ġcaught', 'ĠGe', 'ĠGar', 'ĠGLE', 'ĠGDP', 'Ġincub', 'Ġinclusive', 'ĠBat', 'ĠBar', 'ĠBMPs', 'Ġweren', 'Ġroot', 'Ġrespir', 'aller', 'ports', 'portion', 'Ġpertain', 'Ġpertaining', 'ĠWinn', 'Ġinvite', 'weight', 'Ġassert', 'Ġinteractive', 'Ġclues', 'Ġdevelops', 'rypt', 'ĠOF', 'ĠOpt', 'ĠOTC', 'ĠOSB', 'ĠOECD', 'Ġmanual', 'Ġmanifest', 'Ġmanuscript', 'Ġreliability', 'Ġrecovered', 'inks', 'ribal', 'Ġpeers', 'ĠLong', 'ĠLands', 'ĠLouis', 'Ġliable', 'ĠProposed', 'Ġuniver', 'Ġunauthor', 'Ġundue', 'conventional', 'Ġorganism', 'Ġthereof', 'Ġpron', 'Ġadding', 'Ġadditives', 'Ġproductions', 'Ġavenues', 'ĠIncent', 'Ġthinks', 'ĠStent', 'ĠStar', 'Ġsupportive', 'Ġalfa', 'Ġtraits', 'Ġemployability', 'Ġsystematically', 'Ġaccused', 'Ġaccrue', 'ollabor', 'Ġcostly', 'agn', 'Ġscoot', 'Ġscarce', 'Ġtransatlantic', 'ĠReal', 'ĠRead', 'ĠRecovery', 'ĠUran', 'anger', 'Ġadvising', 'Ġexpecting', 'ucks', 'arest', 'arehouse', 'Ġgenes', 'Ġgenom', 'Ġcontributors', 'Ġmedian', 'Ġpoison', 'Ġpoorest', 'Ġsphere', 'Ġformulation', 'Ġformally', 'Ġpayers', 'Ġpayroll', 'Ġrecept', 'Ġchallenged', 'Ġdifferentiate', 'Ġsaw', 'itious', 'Ġdepression', 'Ġplayer', 'Ġedge', 'Ġeditor', 'Ġdiscrep', 'Ġdiscovery', 'Ġphrase', 'Ġregarded', 'Ġmarketed', 'Ġretiring', 'Ġpromising', 'Ġafternoon', 'Ġexistence', 'ĠAboriginals', 'Ġmodules', 'Ġrevision', 'changes', 'Ġminimal', 'Ġestate', 'Ġguides', 'Ġdeliber', 'ĠVenture', 'Ġauthorize', 'Ġsignals', 'Ġsignature', 'Ġcompetency', 'centre', 'artmental', 'Ġpossession', 'oval', 'ĠEURO', 'Ġgoverns', 'Ġremark', 'ĠAgent', 'ĠAgri', 'Ġparole', 'Ġviewing', 'Ġorganizing', '___', 'Ġperformers', 'pportunities', 'ĠIsrael', 'ĠYBPR', 'Ġsky', 'Ġhighlight', 'ĠRegulatory', 'Ġextensive', 'Ġbehave', 'ĠAreas', 'Ġmatch', 'Ġlabelled', 'Ġvariation', 'Ġprogression', 'ĠQMP', 'Ġtrades', 'Ġsolic', 'Ġoccurrence', 'Ġassistive', 'Ġcenter', 'cox', 'Ġprofessions', 'Ġsustained', 'Ġprepares', 'ĠManager', 'ĠPlay', 'provement', 'ĠCAHR', 'ĠExecutive', 'manufact', 'Ġblue', 'Ġblocks', 'Ġrestore', 'Ġpromoter', 'ankham', 'Ġlinking', 'ĠPrice', 'Ġtelehome', 'Ġtelecentre', 'Ġsmallest', 'Ġpasses', 'HRP', 'Ġflaring', 'ĠDepartments', 'Ġundertakings', 'ĠShared', 'ĠAdvanced', 'Ġanniversary', 'Ġmarry', 'PAC', 'Ġengaging', 'ĠDeveloping', 'ĠIndep', 'ĠIndians', 'Ġposter', 'Ġmultid', 'ĠContact', 'Ġdebates', 'Ġfailing', 'Ġfailures', 'Ġbalances', 'ĠAppeal', 'ĠFunds', 'Ġlimiting', 'ĠDirector', 'Ġfeature', 'Ġ2015', 'Ġpurchas', 'Ġclasses', 'ĠSea', 'Ġ55', 'arantine', 'LEP', 'Ġslaves', 'Ġslavery', 'Ġsearching', 'ĠFoods', 'Ġmentor', 'Ġmentoring', 'Ġtrusts', 'ĠClimate', 'Ġstops', 'ĠAcad', 'Ġcorrective', 'Ġadjacent', 'Ġescap', 'Ġbuyer', 'ĠOrd', 'ĠImm', 'Ġprede', 'Ġmotivating', 'Ġaccommodations', 'Ã©s', 'ĠConsidered', 'ĠTreatment', 'Ġfreely', 'âĢĤthe', 'Ġassuming', 'Ġsettled', 'Ġcarriage', 'Ġexercising', 'Ġindustrialized', 'IVEX', 'Ġhosted', 'Ġinventor', 'Ġavoided', 'Ġprospective', 'Ġdestinations', 'Ġwebsites', 'Ġjurispr', 'ĠAsian', 'ĠAccrual', 'ERE', 'Ġheaded', 'ĠQueen', 'ĠSenior', 'Ġmanufactured', 'ĠRisks', 'Ġallocations', 'Ġwastes', 'Ġarchives', 'Ġaiming', 'Ġbanned', 'ilingualism', 'Ġlogo', 'Ġlogistics', 'Ġstrongly', 'Ġoriginate', 'who', 'Ġparking', 'Ġfalling', 'Ġclosures', 'essionals', 'ĠOrganic', 'ĠOrganisation', 'ĠXML', 'ĠXELO', 'Ġarrives', 'Ġarranging', 'ĠDecides', 'Ġportray', 'Ġhardest', 'Ġhardware', 'Ġenhancement', 'ĠCSIS', 'Ġlayers', 'ĠPharmaceutical', 'Ġ150', 'ĠEAs', 'Ġcaregiving', 'ĠPSPA', 'ĠNetworking', 'Ġrede', 'Ġdemonstrated', 'Ġdeducted', 'Ġreflects', 'Ġroadm', 'Ġwindow', 'ĠMedia', 'ĠElectoral', 'Ġvoters', 'controlled', 'ĠUsing', '2004', 'Ġhearings', 'ĠBrand', 'ĠObserv', 'Ġinvestigating', 'Ġfreedoms', 'Ġproceeds', 'Ġadaptive', 'Ġregularly', 'Ġlandscap', 'Ġdebtor', 'Ġefficiently', 'Ġbrands', 'payment', 'Ġbrother', 'Ġbilingualism', 'Ġmillions', 'Ġmillennium', 'ĠCOX', 'Ġadvisor', 'Ġadvisors', 'Ġvariations', 'Ġargue', 'Ġargument', 'ĠGovernance', 'Ġearned', 'Ġathletic', 'ĠICOIs', 'ĠSecretary', 'ĠSpain', 'ĠREBs', 'Ġunsafe', 'Ġdeclined', 'Ġrejecting', 'Ġordered', 'ĠProfessional', 'ĠInterchange', 'Ġstresses', 'Ġdeposition', 'ĠTerritorial', 'ĠIntegrity', 'ĠExpendit', 'IDs', 'Ġsubsidiary', 'Ġdoses', 'Ġtackling', 'Ġaquatic', 'ĠOnline', 'Ġentirely', 'ipeg', 'ĠPortal', 'Ġclothes', 'Ġurgency', 'Ġpulp', 'Ġtransforming', 'Ġshipments', 'Ġpieces', 'ĠEarly', 'ĠMusical', 'Ġcorrespondence', 'ĠQuestions', 'Ġmisle', 'Ġvocab', 'Ġtriggered', 'Ġprofitability', 'ĠEgyptians', 'Ġvitamins', 'Ġexpanding', 'ĠVisitor', 'Ġgrandf', 'Ġdiagnosis', 'Ġdrama', 'ĠCHIPP', 'Ġsecre', 'Ġarchitecture', 'Ġharmony', 'Ġsnack', 'Ġinequalities', 'Ġstrike', 'ĠMountains', 'Ġintelligent', 'ĠParticipation', 'ĠParticipate', 'Ġfulfilling', 'âĦ¢?\"', 'ĠSupplement', 'funding', 'ĠFrancophone', 'ĠFrancophones', 'Ġaffordable', 'Ġflags', 'eterminants', 'Ġdosimeters', 'hyth', 'roleum', 'Ġmistakes', 'Ġconjunction', 'ĠModule', 'Ġoutlook', 'ĠVolunte', 'Ġrefugees', 'FVI', 'Ġrewarding', 'Ġlobbying', 'Ġimagine', 'ĠPractical', 'Ġexceeded', 'Ġadolescents', 'ĠDifference', 'ĠTargeted', 'Ġpersistence', 'ĠAssisted', 'Ġphenomena', 'ĠInfluenza', 'Ġroutinely', 'Ġborrowing', 'Ġsearches', 'ĠConsumers', 'Ġinhibitors', 'ĠAWP', 'Ġrichness', 'Ġdisappear', 'Ġinvalidity', 'Ġinstructions', 'ĠContracting', 'ĠConsiderations', 'Ġearthquakes', 'Ġcounterfeiting', 'Ġepidem', 'Ġepidemic', 'cursors', 'ĠManufacturing', 'Ġvirtually', 'Ġtissues', 'Ġsweet', 'Ġpesticide', 'Ġstruggle', 'ĠSwed', 'Ġpremium', 'Ġhomelessness', 'Ġannouncement', 'Ġhundreds', 'athered', 'Ġholidays', 'ĠAGD', 'Ġempowerment', 'Ġmediator', 'Ġprioritize', 'Ġinterpreting', 'Ġpipeline', 'Ġstopped', 'Ġvideo', 'ĠMethod', 'ĠHDTV', 'ĠJasper', 'Ġinspired', 'Ġmathematics', 'Ġdiscriminatory', 'ĠWithdrawal', 'Ġirradiation', 'Ġprosecutors', 'PHIN', 'economy', 'Ġclick', 'ĠCTN', 'ĠSolar', 'Ġheavily', 'ĠDigital', 'ĠGrowth', 'Ġreluctant', 'Ġdevoted', 'ĠMeeting', 'Ġpenetration', 'Ġsensitivity', 'Government', 'official', 'Ġanxiety', 'Ġloyalty', 'Ġwelcome', 'Ġexecution', 'ĠNegoti', 'ĠNSAIDs', 'Ġexpropriation', 'ĠHarmon', 'Ġsovereignty', 'ĠSteering', 'integration', 'ĠAdjustment', 'ĠQuÃ©bec', 'Ġnanomaterials', 'EVEC', 'haviour', 'Ġpupils', 'Ġfolk', 'ircuit', 'Ġmolecular', 'Ġmosquit', 'ĠTutankham', 'renewable', 'Ġaccumulate', 'ĠTraditional', 'Ġantivirals', 'Ġdismantling', 'ĠInstrument', 'Ġarose', 'Ġcervical', 'Ġantenna', 'ĠCategory', 'ĠCovenant', 'Ġgarbage', 'ĠAngloph', 'ĠSATIVEX', 'ĠSakinaw', 'ococcal', 'ĠMASOP', 'ĠFORD', 'ĠHousing', 'ĠGLEEVEC', 'ĠWinnipeg', 'Ġuniverse', 'ĠUranium', 'Ġtelehomecare', 'Ġjurisprudence', 'ĠXELODA', 'ĠTutankhamun', '%?\"', '04', '33', '67', '75', '93', 'AL', 'Ass', 'Americ', 'ADE', 'ABC', 'BF', 'EN', 'EMS', 'Form', 'FASD', 'HPs', 'IR', 'KI', 'KT', 'LM', 'LR', 'Language', 'MD', 'MI', 'May', 'NIHB', 'NHPs', 'OA', 'OPA', 'Ottawa', 'QS', 'QU', 'RN', 'So', 'SDS', 'SER', 'SOs', 'The', 'TBS', 'UC', 'WC', 'Ws', 'WIC', 'YC', 'YV', 'aired', 'bo', 'col', 'doc', 'def', 'direct', 'doping', 'event', 'fen', 'fur', 'fail', 'federal', 'flow', 'falls', 'friendly', 'financial', 'gu', 'gent', 'gical', 'graph', 'gien', 'hr', 'his', 'hour', 'log', 'lore', 'lined', 'lihood', 'location', 'mo', 'mor', 'mar', 'mult', 'more', 'maximum', 'nes', 'nection', 'oir', 'rar', 'rates', 'rutin', 'sor', 'sured', 'success', 'test', 'total', 'tourism', 'uous', 'vable', 'would', 'want', 'world', 'ythe', 'Ã±', 'Ġ,', 'Ġiod', 'ĸª', 'Ġtie', 'Ġtribunal', 'Ġtorture', 'atric', 'ateness', 'Ġaur', 'inf', 'inational', 'inance', 'inel', 'institution', 'inery', 'Ġther', 'Ġtheories', 'onie', 'eneration', 'enzie', 'isen', 'isive', 'isciplinary', 'erted', 'erlin', 'Ġcess', 'Ġcow', 'Ġcable', 'Ġsper', 'Ġsedi', 'anies', 'anium', 'oria', 'Ġpor', 'Ġpine', 'Ġprize', 'Ġwire', 'Ġwine', 'Ġwarn', 'Ġwife', 'Ġwound', 'Ġwalls', 'Ġdinner', 'Ġineligible', 'Ġinsecurity', 'alc', 'Ġfo', 'Ġfing', 'Ġfought', 'Ġfung', 'Ġbund', 'Ġbreat', 'Ġboss', 'Ġbids', 'Ġbands', 'Ġbureau', 'Ġbinge', 'Ġtot', 'Ġtoys', 'icine', 'icient', 'icides', 'ingle', 'rocer', 'Ġmir', 'Ġisland', 'arus', 'aria', 'Ġrecess', 'Ġreaches', 'leot', 'Ġhoc', 'Ġhier', 'Ġhardship', 'Ġhidden', 'Ġhatred', 'Ġbeg', 'Ġbell', 'Ġthimer', 'Ġthunder', 'Ġep', 'ilst', 'ilipp', 'Ġnorth', 'Ġnurse', 'Ġforced', 'Ġprox', 'Ġprote', 'selection', 'ĠCoun', 'ĠCME', 'ĠCTA', 'ĠCJD', 'ĠCosmetic', 'imity', 'imens', 'iminary', 'imedia', 'adic', 'adine', 'idase', 'Ġlenders', 'Ġgar', 'Ġgross', 'Ġgrain', 'Ġgathered', 'Ġgrocer', 'ifax', 'urated', 'urpose', 'urric', 'urier', 'etable', 'ĠIll', 'ĠISO', 'utenant', 'otive', 'ulin', 'essed', 'Ġstolen', 'ateur', 'oway', 'Ġweights', 'ortium', 'Ġnearest', 'Ġsho', 'Ġshoes', 'urers', 'Ġcanned', 'Ġcancel', 'ĠAut', 'ĠARI', 'ĠARs', 'quality', 'Ġimpossible', 'blems', 'ĠPan', 'ĠPower', 'ĠPier', 'ĠPrel', 'ĠPerson', 'ĠPCS', 'ĠPutin', 'ĠPolicies', 'ĠPrepared', 'ĠPKI', 'ako', 'Ġexchanges', 'threat', 'ĠSark', 'ĠSEA', 'ĠSites', 'ĠSett', 'ĠSerb', 'Ġchains', 'Ġmeal', 'acteria', 'activities', 'Ġabst', 'Ġabus', 'Ġabortion', 'forward', 'Ġlevy', 'Ġmov', 'Ġmoist', 'istle', 'istory', 'Ġheal', 'Ġheating', 'Ġrid', 'Ġrush', 'Ġrandom', 'ria', 'rix', 'ĠEnd', 'ĠExt', 'osal', 'Ġvent', 'Ġvoy', 'Ġvast', 'amed', 'Ġenabled', 'Ġapple', 'Ġapprec', 'licop', 'iped', 'ipher', 'Ġnotion', 'Ġnoted', 'plain', 'plag', 'umes', 'ĠRock', 'ĠRSS', 'ĠDI', 'ĠDU', 'ĠDes', 'ĠDoll', 'Ġcontrary', 'emics', 'ude', 'ĠNech', 'ĠNovember', 'ĠMO', 'ĠMc', 'ĠMi', 'ĠMor', 'ĠMill', 'ĠMack', 'ervailing', 'ourced', 'ieutenant', 'ĠTask', 'ĠTourism', 'ĠTribal', 'ĠFP', 'ĠFl', 'ĠFit', 'ĠFinal', 'ĠFlu', 'ĠFCC', 'ĠFNT', 'ĠFlight', 'ĠFlow', 'Ġexpires', 'Ġexposures', 'Ġregimes', 'ĠHill', 'ĠHem', 'ĠHung', 'Ġintake', 'Ġusage', 'abies', 'Ġacry', 'ounting', 'Ġcool', 'Ġcores', 'Ġcoven', 'ĠGI', 'ĠGw', 'ĠGBA', 'ĠGPHIN', 'Ġconserv', 'Ġconserve', 'Ġconscription', 'Ġincorrect', 'ĠBre', 'ĠBird', 'ĠBands', 'ĠBerlin', 'orsed', 'Ġpoly', 'Ġpolio', 'Ġdisk', 'ĠWing', 'ĠWay', 'ĠWays', 'Ġteeth', 'uel', 'Ġmyth', 'Ġinterdep', 'oys', 'ĠOld', 'ĠOrient', 'Ġmanpower', 'Ġreloc', 'Ġquite', 'Ġpren', 'Ġprecursors', 'ĠLy', 'ĠLot', 'ĠLiter', 'ĠLOF', 'ĠLieutenant', 'Ġliabilities', 'Ġsoft', 'Ġunited', 'Ġunless', 'Ġunused', 'Ġunknow', 'Ġunpaid', 'Ġunapproved', 'Ġjump', 'Ġsomewhere', 'Ġdecisive', 'Ġprion', 'Ġprone', 'Ġprime', 'arking', 'astro', 'reatment', 'oreal', 'Ġprojections', 'Ġcounts', 'Ġcounted', 'Ġcountervailing', 'Ġsubcontract', 'ritious', 'ĠIncre', 'ĠStew', 'ĠStras', 'Ġalt', 'Ġalarm', 'Ġalert', 'Ġalleg', 'Ġammun', 'Ġamino', 'Ġamateur', 'agals', 'Ġterfen', 'Ġscan', 'Ġscand', 'Ġscopes', 'Ġscrutin', 'Ġtransitions', 'ĠReally', 'ĠReconst', 'ĠReplag', 'ĠUI', 'ordination', 'Ġmeasurable', 'Ġovertime', 'Ġoversee', 'Ġfacto', 'Ġconcil', 'Ġconcurrent', 'identified', 'interest', 'Ġexpectation', 'Ġexpectancy', 'Ġdevelopmental', 'tained', 'Ġinternally', 'tex', 'tered', 'cede', 'Ġensured', 'Ġpractise', 'Ġspin', 'Ġspot', 'Ġspam', 'Ġspring', 'Ġspaces', 'Ġsprings', 'fully', 'Ġmarkers', 'Ġeconomics', 'dustry', 'Ġtechnically', 'Ġdepart', 'Ġdiscourage', 'comers', 'Ġeducate', 'Ġeducating', 'ĠChamp', 'Ġrepet', 'Ġrepaid', 'Ġlongitudinal', 'Ġcolumn', 'ĠAbalone', 'ĠDoha', 'Ġrevers', 'Ġdefe', 'Ġinstitute', 'ioid', 'Ġidentities', 'Ġidentical', 'Ġguided', 'ĠViox', 'ĠVDD', 'Ġmonies', 'Ġcorrel', 'Ġsafest', 'Ġnaturo', 'Ġhumanities', 'ĠResident', 'ĠResistance', 'Ġprofound', 'rick', 'Ġlessen', 'Ġconfig', 'Ġremoval', 'Ġ194', 'Ġ195', 'STI', 'Ġherbal', 'Ġdesigning', 'Ġtreating', 'Ġviewers', 'ĠKe', 'Ġoptional', 'ĠUniversity', 'ranean', 'itement', 'Ġski', 'Ġinspir', 'Ġdistract', 'rengthe', 'Ġspecialization', 'Ġmatrix', 'ĠWeights', 'airy', 'Ġpresently', 'ussion', 'Ġacceptability', 'Ġwellness', 'Ġdirector', 'ĠNews', 'Ġendorsed', 'Ġindicating', 'itoring', 'Ġassisted', 'Ġethn', 'Ġrefusing', 'Ġrefusal', 'Ġconsultative', 'RAP', 'exper', 'excurs', 'ĠArm', 'Ġreasoning', 'Ġreasonably', 'Ġprescriptions', 'Ġmodeling', 'Ġtowers', 'ĠThem', 'ĠExper', 'Ġblowing', 'Ġdrum', 'SAFE', 'Ġcharacteristic', 'Ġ34', 'Ġbelieves', 'CTC', 'Ġtelecommunications', 'ĠMinistry', 'Ġcontexts', 'ĠAssurance', 'ĠAssociation', 'Ġanalogue', 'Ġdifficulty', 'Ġauditor', 'Ġcheese', 'Ġencourages', 'Ġbiop', 'ĠCompt', 'Ġlivelihood', 'Ġeverybody', 'Ġpatentability', 'Ġmargin', 'avik', 'Ġdevote', 'Ġradi', 'Ġradios', 'shift', 'Ġtimetable', 'Ġ44', 'Ġdebit', 'inson', 'insert', 'ĠFundy', 'ĠFunded', 'ormal', 'Ġexported', 'Ġtalked', 'Ġmaximal', 'ĠDirectors', 'Ġemerged', 'Ġhandbook', 'RIF', 'Ġviolated', 'Ġcollision', 'Ġthreaten', 'ĠScope', 'ĠScots', 'Ġfacilitation', 'Ġdemanding', 'Ġprofessionally', 'letter', 'Ġeventually', 'Ġopenings', 'ĠTransl', 'Ġilliter', 'Ġcirculation', 'rollment', 'Ġoneself', 'Ġmentally', 'ĠTech', 'ĠClient', 'Ġcorrected', 'Ġuranium', 'Ġadjuvant', 'Ġvaccination', 'Ġsupplied', 'ĠThird', 'ACE', 'CAN', 'angered', 'Ġbanking', 'Ġstayed', 'Ġstaying', 'Ġcrossing', 'Ġcrossings', 'Ġsettlers', 'Ġfavor', 'Ġcollaborate', 'ĠReported', 'Ġessentially', 'legal', 'Ġpreparedness', 'Ġinventories', 'Ġrestricted', 'Ġdedicate', 'ĠMonograph', 'ĠBusinesses', 'Ġsoldier', 'Ġerythe', 'ĠQuarter', 'Ġheadquarters', 'INSER', 'ï¬Ģ', 'Ġoppose', 'Ġcreates', 'Ġcreatures', 'ĠSenator', 'ĠLearned', 'Ġallocating', 'Ġtenants', 'DCs', 'Ġboating', 'Ġboost', 'Ġmissile', 'Ġlogical', 'Ġruns', 'Ġcomparability', 'Ġoccupancy', 'common', 'Ġclientele', 'Ġ216', 'Ġconsisting', 'ICUS', 'ophob', 'ĠRussians', 'Ġarriving', 'Ġradiofrequ', 'Ġtourist', 'Ġportable', 'Ġloons', 'ĠIDD', 'ĠPhys', 'ĠPhysical', 'ĠPhilipp', 'ĠDefer', 'Ġinterviewing', 'Ġfriendly', 'Ġratify', 'ĠPeriod', 'ĠCharge', 'Ġliterary', 'Ġpaints', 'ĠCareer', 'ĠSubmit', 'Ġattribute', 'Ġattributable', 'Ġprobation', 'Ġlowering', 'ustainability', 'Ġroads', 'Ġterrorists', 'Ġconcentrate', 'Ġpredictors', 'Ġhygien', 'ĠInstitution', 'ĠGroups', 'ĠStanding', 'Ġcoordinate', 'Ġcoordinates', 'Ġcoordinators', 'drawn', 'Ġ75', 'Ġadapted', 'Ġadapting', 'ĠRepresent', 'ĠReproduction', 'Ġentrepreneur', 'ĠIMD', 'unicipal', 'Ġdisposed', 'Ġdisseminated', 'ĠOutcomes', 'PSHCP', 'Ġdoctrine', 'ĠCETC', 'ĠHappening', 'Ġhonest', 'ethnic', 'Ġautomatic', 'ĠSmoking', 'territories', 'ĠModels', 'ĠInfoway', 'brex', 'class', 'Ġmigratory', 'ĠLabels', 'genic', 'Ġwonder', 'Ġirr', 'Ġiris', 'Ġretained', 'ĠAuthorities', 'umped', 'Ġquitting', 'Ġscene', 'Ġtemperatures', 'Ġvertical', 'ĠSpam', 'Ġwillingness', 'ĠRESPs', 'Ġtoxins', 'Ġrejection', 'Ġlatter', 'Ġlatitude', 'ĠBankrupt', 'Ġembrace', 'ĠRequire', 'ĠPatients', 'Ġbatteries', 'Ġdeposited', 'Ġethnicity', 'Ġclearance', 'ĠPayment', 'ĠReduction', 'Ġincompat', 'ĠAgricultural', 'Ġexplorers', 'Ġanalyst', 'Ġexclude', 'Ġsubsidy', 'Ġdiam', 'Ġsuffered', 'SCENE', 'Ġjournalist', 'ĠSARSCENE', 'ĠHPFB', 'Ġdistinction', 'Ġtendency', 'Ġhumidity', 'Ġsunlight', 'ĠAmendment', 'Ġspreadsheet', 'Ġrevealing', 'Ġbiodiesel', 'characteristics', 'ĠBlood', 'Ġambitions', 'Ġambassad', 'opping', 'Ġships', 'Ġcommander', 'Ġlicensee', 'Ġlicensees', 'ĠContributions', 'Ġfostering', 'Ġrental', 'Ġforums', 'ĠAMICUS', 'Ġdisplays', 'Ġtransfusion', 'Ġcorresponds', 'ĠRenewable', 'depleting', 'Ġmisuse', 'ĠPLR', 'ĠPolice', 'Ġtriggers', 'ĠOthers', 'programs', 'Ġtimeline', 'Ġtimeliness', 'community', 'ĠEgyptian', 'Ġignored', 'Ġmicroeconomic', 'ĠEXPO', 'Ġkilling', 'ogenic', 'Ġallev', 'Ġtranslate', 'Ġsubstantive', 'Ġmitigating', 'Ġrepeal', 'Ġinstalled', 'Ġexclusively', 'ĠMexican', 'ĠMexicans', 'SEWIC', 'consider', 'Ġsnail', 'Ġinequities', 'Ġfault', 'Ġreinfor', 'ĠBelarus', 'ĠLaurier', 'ĠLaws', 'ĠUnderstanding', 'Ġautonomous', 'Ġpollutant', 'ĠInvolvement', 'Ġturbine', 'Ġdominate', 'ĠProvided', 'Ġsurprise', 'Ġsurprised', 'ĠSupply', 'Ġslips', 'ĠCape', 'Ġconversation', 'ĠSpeaker', 'Ġapparently', 'ĠFrancophonie', 'Ġreconciliation', 'Ġsupervisors', 'Ġsupervisory', 'SIM', 'UAL', 'Ġinquiry', 'ĠCritical', 'Ġdelegation', 'ĠATSC', 'Ġexcellent', 'ĠEcological', 'Ġcontingency', 'ĠMoose', 'ĠFIU', 'Ġprivilege', 'Ġteleworking', 'ĠRelationship', 'ĠPromote', 'ĠPractice', 'ĠNunavik', 'ĠBasin', 'ĠBasic', 'ĠAssisting', 'Insured', 'Ġsuspic', 'ĠMCPP', 'Ġobserve', 'Ġsupplemental', 'Ġexplanations', 'ĠDiscrimination', 'Ġdynamics', '3010', 'Ġï¬ģn', 'Ġbidder', 'Ġconvince', 'Ġconviction', 'ĠEstabl', 'Ġcoalition', 'ĠGoods', 'Ġartifacts', 'ĠConsumer', 'Ġabsolutely', 'Ġtouch', 'ĠAWPI', 'Ġchampions', 'ĠHorus', 'Ġpersuade', 'Ġpersuasive', 'Ġgrassland', 'ĠIdentity', 'Ġaerospace', 'Ġcatalogue', 'Ġcatalyst', 'Ġpunishment', 'Ġpropensity', 'ĠADM', 'Ġcharts', 'ĠGreek', 'ĠTechnologies', 'Ġvirtual', 'Ġcelebration', 'Ġtissue', 'Ġpesticides', 'Ġimperative', 'Ġenacted', 'Ġpluralism', 'Ġteenage', 'Ġantimicrobials', 'Ġmammals', 'Ġimpeded', 'ĠSlov', 'ĠDEHP', 'ĠDetect', 'ĠNIF', 'Ġsolely', 'Ġappropriateness', 'Ġaudiovisual', 'Ġancestors', 'Ġbureaucracy', 'MIDEX', 'Ġdivided', 'Ġinï¬Ĥu', 'Ġreferen', 'ĠSBDs', 'ĠSIRC', 'Ġadmire', 'ĠRFSO', 'ĠVirus', 'governance', 'ĠGenerics', 'Ġreimbursable', 'Ġproprietor', 'Ġdilemmas', 'efficiency', 'ozy', 'Ġthesis', 'Ġcottage', 'Ġsaturated', 'Ġfabrics', 'ĠAPEC', 'Ġheroes', 'ĠOSFI', 'Ġidentifiable', 'Ġmonopoly', 'existing', 'ĠWEPAs', 'Ġembryos', 'IARD', 'burg', 'Ġpurely', 'Ġinevitably', 'algam', 'Ġmurder', 'Ġreplied', 'ĠCelebrex', 'Ġkilomet', 'Ġvictory', 'ĠNiÃ±', 'ĠMenu', 'ĠTobacco', 'Ġdisincent', 'Ġdepicts', 'Ġconfronting', 'Ġlandfill', 'ĠDispute', 'ĠLegislation', 'ĠPollutant', 'broker', 'Ġtactics', 'Ġodds', 'Ġoxide', 'ĠCRTC', 'ĠAugust', 'ĠPotential', 'ĠDetermines', 'ĠDemocracy', 'ĠHCFCs', 'Ġremuneration', 'Ġshellfish', 'ĠEnhanced', 'Ġbiometric', 'atisfaction', 'Ġdegradation', 'discrimination', 'Ġâĸª', 'Ġtornad', 'research', 'ilizer', 'ĠSISIP', 'ĠMoldova', 'ĠHalifax', 'ĠGarry', 'Ġscooter', 'Ġeditorial', 'Ġremarkable', 'Ġsolicitation', 'coxib', 'Ġmultidisciplinary', 'Ġpredecess', 'Ġmisleading', 'Ġgrandfather', 'hythm', 'ĠHarmonization', 'Ġiodine', 'Ġcessation', 'Ġsperm', 'Ġrecession', 'leotide', 'Ġthimerosal', 'Ġgrocery', 'ĠARIMIDEX', 'ĠPreliminary', 'ĠPreparedness', 'threatening', 'ĠSarkozy', 'ĠNechako', 'ĠMackenzie', 'ĠHungary', 'Ġunknown', 'ĠStrasbourg', 'Ġammunition', 'agalsidase', 'Ġterfenadine', 'Ġscrutiny', 'ĠReplagal', 'ĠChampions', 'ĠVioxx', 'Ġinspiration', 'excursion', 'ĠQuarterly', 'INSERT', 'Ġradiofrequency', 'ĠPhilippines', '%)', '100', '88', '90', '95', 'AV', 'Ar', 'BE', 'Cent', 'Com', 'CIS', 'FD', 'FS', 'First', 'FRC', 'GI', 'Gam', 'GTD', 'HD', 'HI', 'HQ', 'HHR', 'MCA', 'NR', 'NW', 'New', 'NRM', 'OLEP', 'Part', 'Qu', 'QUAL', 'Res', 'RIP', 'REC', 'SL', 'TS', 'Trans', 'VC', 'WA', 'aper', 'auses', 'aGam', 'bands', 'cin', 'cad', 'cher', 'cious', 'culture', 'cna', 'called', 'ding', 'dif', 'dig', 'eing', 'even', 'eï¬ģ', 'fit', 'ficial', 'faces', 'great', 'hig', 'hus', 'have', 'iates', 'iencies', 'iracy', 'irop', 'iï¬ģc', 'jo', 'kes', 'lip', 'matic', 'ny', 'nect', 'net', 'nership', 'oose', 'pin', 'pres', 'poll', 'penn', 'rÃ©', 'sk', 'sen', 'sur', 'sun', 'system', 'special', 'spec', 'spons', 'top', 'table', 'tual', 'taking', 'treatment', 'uv', 'via', 'vang', 'vival', 'wo', 'win', 'war', 'wort', 'wnt', 'when', 'wareness', 'ywort', 'zer', 'zan', 'Äħ', 'ÌĤ', 'Ġi', 'Ġ|', 'ĠWhich', 'Ġram', 'Ġ________', 'Ġilleg', 'Ġï¬Ĥ', 'Ġ________________', 'Ġtun', 'Ġtide', 'Ġtrop', 'Ġtensions', 'Ġtape', 'atile', 'atitis', 'hetic', 'Ġapt', 'rem', 'rele', 'rece', 'relig', 'onent', 'onne', 'Ġoak', 'Ġomitted', 'ener', 'isers', 'ishers', 'iscal', 'erting', 'erfe', 'Ġcam', 'Ġcourage', 'Ġcrypt', 'Ġsad', 'Ġshed', 'Ġsizing', 'anes', 'anut', 'ancial', 'orse', 'orum', 'orough', 'Ġpit', 'Ġpic', 'Ġped', 'Ġpir', 'Ġpour', 'Ġpace', 'Ġpiracy', 'Ġwives', 'Ġwrap', 'Ġwishes', 'Ġwarehouse', 'Ġdent', 'Ġdial', 'Ġdance', 'Ġdwe', 'Ġdiox', 'Ġdairy', 'itations', 'itri', 'itigation', 'Ġinm', 'Ġinland', 'ald', 'alternative', 'Ġft', 'Ġfer', 'Ġfare', 'Ġfaster', 'Ġfires', 'Ġfont', 'Ġbon', 'Ġble', 'Ġbare', 'Ġbold', 'Ġbrow', 'Ġbills', 'Ġbison', 'Ġbidd', 'Ġbinding', 'Ġtoile', 'ica', 'edge', 'edical', 'ros', 'Ġmould', 'Ġmice', 'Ġmapping', 'Ġmartial', 'Ġmasters', 'ented', 'Ġisot', 'Ġislands', 'arib', 'Ġrely', 'Ġrend', 'lee', 'lets', 'Ġharn', 'Ġhob', 'Ġbeef', 'Ġbeaut', 'Ġbeetle', 'Ġyield', 'Ġyester', 'Ġdownt', 'Ġthrust', 'Ġthorough', 'omas', 'ilation', 'stant', 'stable', 'storm', 'Ġna', 'Ġnode', 'Ġforaging', 'Ġprostitution', 'Ġprostate', 'Ġproxy', 'Ġprominent', 'sex', 'ĠCase', 'ĠCST', 'ĠCaf', 'ĠClean', 'ĠCarib', 'imper', 'imeter', 'advantages', 'advert', 'asal', 'ashed', 'idences', 'idav', 'Ġlens', 'Ġlamp', 'Ġlights', 'Ġlump', 'Ġgun', 'Ġgram', 'Ġgrown', 'ifen', 'iful', 'urban', 'racing', 'Ġconven', 'Ġconceived', 'etry', 'oliv', 'olved', 'ppler', 'ĠIU', 'ĠISB', 'Ġupper', 'Ġhair', 'uted', 'Ġonset', 'igil', 'ulary', 'ersion', 'ivil', 'Ġstip', 'Ġstool', 'Ġstring', 'Ġstret', 'Ġstores', 'Ġstyles', 'Ġstenting', 'Ġstagn', 'Ġdew', 'Ġdeals', 'Ġdementia', 'owned', 'Ġnecess', 'Ġimaging', 'Ġshore', 'Ġcancell', 'opause', 'ĠAF', 'ĠAN', 'ĠAR', 'ĠAqu', 'ĠAffect', 'ĠACT', 'ĠArab', 'ĠAwareness', 'Ġaspire', 'Ġimpl', 'Ġimpr', 'Ġimpartial', 'Ġimpaired', 'ĠPC', 'ĠPact', 'ĠPress', 'ĠPack', 'ĠPoint', 'ĠPPP', 'ĠPosition', 'Ġexception', 'Ġexecut', 'Ġwithdrawn', 'ĠSent', 'ĠSir', 'ĠSun', 'ĠSud', 'ĠSources', 'ĠSource', 'ĠSTE', 'ĠSatellite', 'ĠSingle', 'ĠSustainability', 'establ', 'veraging', 'Ġcham', 'Ġchurch', 'unity', 'unior', 'unications', 'Ġmeals', 'activity', 'Ġabused', 'Ġleak', 'Ġleasing', 'Ġleaf', 'Ġlevers', 'Ġleveraging', 'Ġmoon', 'Ġmoons', 'arts', 'arten', 'Ġhel', 'Ġheavy', 'Ġrit', 'Ġration', 'Ġranges', 'ĠrÃ©s', 'ĠEE', 'ĠElig', 'ĠEHR', 'ĠEDI', 'ĠETF', 'ĠECTS', 'ĠEQUAL', 'Ġkav', 'Ġkilled', 'osite', 'osmet', 'Ġvig', 'ĠvCJD', 'ami', 'amlo', 'usp', 'Ġenvelop', 'Ġenrolling', 'Ġappell', 'acher', 'ipate', 'oday', 'Ġnotifying', 'Ġads', 'play', 'umÃ©', 'ĠRac', 'ĠRio', 'ĠRMS', 'ĠRober', 'ĠRFP', 'ĠRDSP', 'Ġseam', 'Ġseafood', 'lla', 'Ġbylaws', 'ĠDG', 'ĠDou', 'ĠDor', 'ĠDress', 'ĠDream', 'ĠDCM', 'ĠDRM', 'ĠDuma', 'employ', 'embr', 'emaker', 'âĢĻâĢĻ', 'âĢĻâĢĻ?\"', 'udent', 'ander', 'individual', 'ĠNB', 'ĠNE', 'ĠNo', 'ĠNav', 'ĠNurs', 'ĠNSE', 'ĠNRT', 'ĠMs', 'ĠMand', 'ĠMind', 'ĠMary', 'ĠMob', 'ĠMaj', 'ĠMaterial', 'ĠMIS', 'ĠMaster', 'ĠMari', 'ĠMOU', 'ĠMitigation', 'ĠTH', 'ĠTre', 'ĠTour', 'ĠTOD', 'ĠTAX', 'ĠTRIP', 'ardon', 'arded', 'ĠFL', 'ĠFed', 'ĠFire', 'ĠFCT', 'ĠFreed', 'ĠFull', 'ensitive', 'Ġregeneration', 'endas', 'ĠHC', 'ĠHQ', 'ĠHy', 'ĠHot', 'ĠHMCS', 'Ġintens', 'about', 'abeth', 'Ġcompulsory', 'Ġcoach', 'Ġcogn', 'Ġcooking', 'Ġcoherence', 'Ġcast', 'ĠGra', 'ĠGained', 'Ġconsortium', 'ĠBow', 'ĠBear', 'ĠBord', 'ĠBurn', 'ĠBuild', 'ĠBoliv', 'Ġpolar', 'Ġrose', 'Ġrock', 'Ġrolling', 'Ġdisplac', 'answered', 'ogation', 'Ġperipher', 'Ġpercna', 'ĠWage', 'ĠWord', 'ĠWants', 'ommission', 'Ġinvitation', 'Ġserves', 'Ġmostly', 'ails', 'ailed', 'Ġmyel', 'Ġassim', 'Ġassure', 'Ġinterprovincial', 'Ġemblem', 'Ġclauses', 'ressive', 'ryption', 'ĠOE', 'Ġrelax', 'Ġaggreg', 'Ġagendas', 'Ġreclass', 'lective', 'Ġundergo', 'Ġunderway', 'Ġunderground', 'Ġquo', 'Ġquarantine', 'Ġpeanut', 'Ġprey', 'Ġprejud', 'achment', 'ĠLar', 'ĠLive', 'ĠLink', 'ĠLife', 'ĠLAC', 'ĠLux', 'Ġsoils', 'perate', 'perform', 'ĠProsecut', 'Ġevident', 'Ġpolicing', 'archy', 'Ġunav', 'Ġunco', 'Ġunilingual', 'Ġunmet', 'Ġunlike', 'Ġunatt', 'Ġunusual', 'Ġunanswered', 'conduct', 'ractive', 'Ġparticles', 'Ġsyn', 'Ġknowingly', 'Ġdecommission', 'Ġapprovals', 'Ġthereby', 'Ġpride', 'Ġ1200', 'Ġadditions', 'erally', 'Ġsubd', 'ĠInner', 'ĠInclud', 'ĠStage', 'ĠStruct', 'ĠStability', 'virus', 'Ġalg', 'Ġalerts', 'Ġtrace', 'Ġtraject', 'Ġtrails', 'posure', 'Ġindemn', 'Ġaccumul', 'Ġaccrual', 'ĠCommerce', 'Ġarctic', 'Ġarthritis', 'aggreg', 'Ġscre', 'Ġscales', 'Ġtransitional', 'Ġtransgenic', 'Ġyearly', 'Ġcurrents', 'Ġtakeover', 'Ġoverhead', 'Ġoverpaid', 'oked', 'Ġinstruction', 'gets', 'chnya', 'Ġvaluation', 'Ġprotections', 'Ġachievable', 'Ġpatri', 'Ġpatron', 'Ġpracticed', 'Ġspray', 'Ġspawn', 'assy', 'Ġattrition', 'Ġsaved', 'Ġupgrade', 'ictoria', 'Ġentrust', 'Ġtechnique', 'Ġtechnicians', 'Ġnationals', 'Ġmemorial', 'Ġdetained', 'ĠActs', 'ĠActive', 'Ġsurgical', 'Ġexperiments', 'Ġexperimental', 'ĠIntent', 'ĠIntellig', 'Ġdiscoura', 'Ġdiscourse', 'Ġeducated', 'Ġcapita', 'ĠChurch', 'ĠChoose', 'Ġstatute', 'Ġmetre', 'Ġreply', 'Ġrepair', 'aval', 'avia', 'Ġretest', 'Ġlocked', 'Ġwhereas', 'ivery', 'Ġcolon', 'ĠContain', 'ĠConnection', 'ĠAbuse', 'mitting', 'ssential', 'Ġrevisions', 'Ġrevival', 'type', 'ĠCommissioners', 'Ġbuoys', 'ĠVote', 'ĠVAT', 'ĠVOC', 'ĠVictoria', 'Ġequitably', 'Ġequipped', 'Ġmonograph', 'Ġmaybe', 'Ġcoronary', 'Ġpopulated', 'ĠJew', 'ĠJaw', 'Ġrealistically', 'Ġtwice', 'Ġelective', 'Ġdemutual', 'ĠResidence', 'ĠRespond', 'Ġjobless', 'arma', 'overs', 'ovigil', 'Ġ1950', 'Ġdonate', 'Ġherd', 'Ġpair', 'Ġrecommending', 'ĠKit', 'ĠKamlo', 'Ġoptimum', 'hesis', 'Ġcollects', 'rane', 'rank', 'ĠPublications', 'Ġrepresenting', 'Ġrepresentations', 'holder', 'Ġmechanical', 'ĠIslands', 'Ġhighway', 'ĠDementia', 'Ġcontacting', 'Ġpersonalities', 'Ġinsol', 'Ġinsist', 'Ġinsured', 'Ġstarts', 'Ġsuppose', 'Ġsupplementary', 'Ġvisas', 'Ġairplane', 'Ġspecialist', 'Ġspecialised', 'Ġmatching', 'Ġconsume', 'Ġvariet', 'Ġencl', 'Ġencryption', 'Ġlegislator', 'Ġprogressing', 'Ġtraded', 'Ġdirectors', 'Ġenduring', 'ĠForms', 'Ġhomework', 'Ġhomeopath', 'Ġchooses', 'Ġsimulation', 'Ġdrains', 'Ġbenefiting', 'Ġfeels', 'Ġdealings', 'Ġconsultants', 'Ġbuilds', 'Ġfurs', 'Ġsustaining', 'Ġculturally', 'ointment', 'ĠArms', 'extra', 'Ġsalts', 'Ġlanding', 'ĠPlant', 'producing', 'proposed', 'Ġpresum', 'Ġstudying', 'ĠCADRI', 'ĠCAHC', 'Ġnamely', 'Ġcontracted', 'ĠThese', 'Ġmeasurements', 'these', 'Ġcarries', 'Ġcarcin', 'elles', 'ĠExternal', 'ĠExcell', 'managed', 'Ġbudgeted', 'Ġpromotions', 'SARA', 'Ġ35', 'Ġ37', 'forcement', 'Ġtelemark', 'value', 'Ġcustody', 'ĠMinimum', 'Ġnaturally', 'Ġpassage', 'Ġflaw', 'Ġfloor', 'ĠDependence', 'ĠDepleted', 'Ġamongst', 'ĠShort', 'Ġcredibility', 'ĠAdm', 'ĠAdult', 'ĠAdvance', 'Ġbias', 'ĠComputer', 'Ġinformant', 'Ġannuity', 'Ġmening', 'Ġwrites', 'Ġdevast', 'Ġdevolution', 'ĠCommittees', 'Ġpostsecondary', 'Ġmultimedia', 'Ġlitre', 'ĠAlternative', 'print', 'Ġlasting', 'Ġdebts', 'Ġestablishments', 'ĠCIC', 'ĠCIS', 'Ġvector', 'Ġbalancing', 'ĠAppointment', 'Ġdownstream', 'Ġexciting', 'Ġexporter', 'equivalence', 'ĠBeij', 'ĠBehaviour', 'Ġfeatured', 'register', 'Ġfarmed', 'ĠCenter', 'ĠCentury', 'Ġrecognise', 'Ġrecognizing', 'ĠDoesn', 'Ġthreatened', 'Ġmeantime', 'Ġcapitalism', 'ĠLeave', 'Ġfacilitated', 'Ġfacilitator', 'DAP', 'Ġcertify', 'Ġgenerators', 'letins', 'Ġdemocracies', 'Ġturns', 'Ġserver', 'ĠTracad', 'Ġpreferable', 'Ġencouragement', 'Ġefficiencies', 'Ġslope', 'ĠDisorders', 'Ġreforming', 'Ġprevents', 'Ġaccomplishing', 'oids', 'ĠAnimal', 'Ġurine', 'Ġclearing', 'Ġappointments', 'Ġpublishers', 'ĠImprovement', 'afety', 'Ġcandidacies', 'ĠThreat', 'ĠThrone', 'ĠThomas', 'Ġpredomin', 'Ġscreeners', 'ĠCompensation', 'ĠCompanies', 'Ġmotivators', 'Ġ67', 'Ġcombating', 'Ġcombinations', 'CAP', 'monitoring', 'Ã©line', 'Ġcertainty', 'Ġremained', 'Ġcalculations', 'Ġstays', 'âĢĤis', 'âĢĤsign', 'Ġcrossed', 'Ġfinalized', 'asket', 'Ġplacing', 'ĠCohort', 'Ġassigning', 'Ġlargely', 'Ġdrawings', 'Ġinventors', 'Ġspeaks', 'Ġrestriction', 'Ġrestricting', 'Ġdestined', 'Ġfewer', 'ĠQuick', 'marks', 'ĠAccommod', 'INAC', 'Ġopposing', 'ĠSeniors', 'ĠEngagement', 'Ġminding', 'Ġsafely', 'Ġappearance', 'hibit', 'Ġsurviving', 'Ġfishermen', 'Ġboats', 'Ġmissed', 'operate', 'Ġuniversality', 'Ġfeeding', 'Ġgasoline', 'Ġcomparisons', 'Ġoriginating', 'oley', 'while', 'ĠNOCs', 'Ġclosing', 'Ġconsistency', 'ĠOrganizations', 'ophy', 'Ġarrhythm', 'ĠCBC', '1013', 'ĠCSBF', 'Ġlaying', 'Ġinterviewed', 'FOR', 'Ġratified', 'Ġappeals', 'ĠCANtex', 'ĠCANSIM', 'Ġfleets', 'Ġlacking', 'vinces', 'Ġpainting', 'semination', 'ĠSubstance', 'Ġpoorly', 'Ġattributing', 'Ġdemonstrating', 'Ġnormative', 'Ġlifetime', 'Ġvulnerability', 'Ġreflecting', 'Ġfulfilled', '2013', 'Ġabsorb', 'brid', 'Ġwindshift', 'Ġcycles', 'Ġhypert', 'Ġvoted', 'ĠInstitutes', '2002', '2008', 'Ġmailed', 'ĠNPE', 'Ġinvestigator', 'Ġbreaks', 'Ġ70', 'Ġ71', 'ĠCertified', 'ylene', 'Ġsickness', 'ĠIMHA', 'Ġcontaminant', 'Ġdisposition', 'Ġdisseminating', 'Ġ187', 'Ġdrinks', 'Ġenjoyed', 'ĠRegistration', 'Ġcuts', 'Ġbroke', 'Ġadvisories', 'Ġautomotive', 'Ġvariant', 'Ġmobilization', 'Ġseparation', 'DRP', 'Ġweekly', 'ĠInfrastructure', 'Ġfathers', 'Ġoriginally', 'ĠLabelling', 'Ġfundament', 'Ġmanagerial', 'does', 'doing', 'genetic', 'party', 'partnership', 'ĠICMS', 'ĠICOI', 'ĠEIB', 'Ġdissu', 'Ġdissipate', 'NTR', 'Ġiron', 'Ġprecision', 'Ġdependence', 'ĠQualification', 'ĠSupported', 'Ġcounsell', 'Ġworthy', 'Ġworthwhile', 'Ġbadly', 'ĠSpan', 'Ġupdates', 'Ġfireworks', 'ĠUNESC', 'Ġxenophob', 'Ġtitles', 'organizational', 'Ġmarried', 'ĠChechnya', 'ĠNGO', 'ĠTypes', 'ĠOperation', 'Ġaccurately', 'Ġprescribe', 'Ġnucleotide', 'Ġdeposits', 'ĠSafe', 'ĠTerm', 'ĠTerrit', 'Ġincidentals', 'Ġterminate', 'Ġpreparations', 'Ġpreparatory', 'ĠArchitect', 'ĠExpansion', 'ĠMontrÃ©', 'Ġtasked', 'ĠReduc', 'ĠRelief', 'Ġpermissible', 'Ġaccidentally', 'SCEO', 'Ġjournalistic', 'disadvantages', 'disaggreg', 'Ġbiofue', 'Ġbioequivalence', 'Ġelementary', 'ĠecoABC', 'Ġsubsequently', 'ĠApproval', 'ĠCompetitive', 'ĠCompetencies', 'Ġ80', 'recogn', 'Ġboundary', 'Ġconverted', 'ĠAmount', 'âĢ¦?\"', 'âĢ¦âĢ¦', 'Ġurgently', 'ĠNHPD', 'Ġmagnetic', 'Ġaffirm', 'Ġaffidav', 'Ġsongs', 'ĠWHTI', 'Ġambitious', 'screen', 'Ġswitch', 'Ġswitching', 'ĠSchools', 'ĠSchoolNet', 'Ġsecured', 'Ġprohibition', 'Ġprecipit', 'Ġprecaution', 'Ġinfringements', 'Ġzoon', 'Ġbeneï¬ģ', 'Ġbonding', 'Ġnominal', 'ĠAudio', 'ĠAuditor', 'ĠGrade', 'ĠResponsibility', 'Ġignition', 'Ġhindered', 'Ġreservoir', 'Ġvitro', 'Ġveterans', 'ĠCHS', 'ĠCorrect', 'ĠCorps', 'Ġinstaller', 'Ġinstallations', 'ĠControls', 'ĠSuperior', 'consult', 'Ġinequity', 'Ġreplacing', 'Ġprosecutions', 'Ġwealthy', 'ĠBelgian', 'Ġrecalled', 'Ġarbitration', 'Ġseasonal', 'within', 'iterranean', 'Ġmoments', 'Ġdominated', 'Ġproduces', 'ĠEntitlement', 'Ġrecycled', 'ĠProvide', 'ĠProvince', 'Ġgenetics', 'Ġengineered', 'Ġowed', 'Ġcouples', 'Ġbags', 'ĠCauses', 'Ġlivable', 'Ġlivability', 'Ġgravity', 'Ġshipping', 'ĠFinland', 'Ġliquids', 'Ġindirectly', 'Ġdetected', 'Ġsubstitute', 'Ġsubstitution', 'CLR', 'Ġtalks', 'Ġpetition', 'Ġpetroleum', 'Ġfruits', 'Ġstimulating', 'Ġdelegates', 'ĠATRs', 'Ġappraise', 'ĠRemed', 'ĠRemember', 'ĠRemembr', 'ĠGazelles', 'Ġprivileged', 'Ġforecasting', 'ĠTelefilm', 'ĠEmergencies', 'Ġlobby', 'Ġlobster', 'Ġgangs', 'Ġimagined', 'Ġvessels', 'ĠBasis', 'Ġmachinery', 'Ġhotel', 'ĠCPT', 'ĠCPSP', 'Ġgraphic', 'Ġcompelled', 'Ġprisoners', 'ĠReceive', 'Ġadvocates', 'Ġadvocacy', 'ĠChallenges', 'Ġdrafted', 'Ġadvertisement', 'ĠDiscounting', 'ĠDiscussion', 'Ġdisadvantage', 'Ġdestroying', 'NPRI', 'ĠCCCma', 'ĠEstim', 'Ġsecuring', 'Ġ1970', 'Ġmomentum', 'Ġtoug', 'Ġastron', 'Ġinhibitor', 'Ġanthrop', 'ĠCECR', 'ĠPIAs', 'ĠSoftware', 'ĠGranting', 'ĠConcerned', 'Ġconstructed', 'Ġsimpler', 'Ġcustodians', 'ĠIdentification', 'oxifen', 'Ġpunished', 'implementation', 'ĠAthlete', 'Ġexhibit', 'Ġexhibition', 'ĠHarbour', 'ĠGreece', 'Ġprecedents', 'registered', 'Ġcelebrate', 'ridor', 'Ġpumping', 'Ġfastest', 'Ġbitten', 'Ġhourly', 'ĠCrisis', 'Ġenforcing', 'Ġcompatibility', 'ĠWindows', 'ĠWindsor', 'ĠOpioid', 'Ġdistricts', 'ĠRecommendation', 'ODOPA', 'promotion', 'significant', 'ĠÂ«', 'Ġdoubt', 'Ġbrains', 'Ġmammogram', 'Ġrectification', 'Ġholiday', 'Ġimpede', 'ĠFDALO', 'ĠBasel', 'Ġclinics', 'ĠTransportation', 'Ġinterpreter', 'Ġaffiliated', '--------------------------------', 'OTERE', 'ograms', 'Ġprairie', 'Ġinï¬Ĥation', 'Ġisolated', 'Ġdeploying', 'ĠPILT', 'ĠSBD', 'Ġdispersal', 'ĠWritten', 'ordinator', 'Ġinfantry', 'Ġauthentic', 'rological', 'protection', 'protected', 'ĠExamining', 'ĠExamples', 'governing', 'Ġdigitized', 'Ġreimbursed', 'Ġwatersheds', 'Ġappraisal', 'Ġappraisals', 'Ġdilemma', 'initiatives', 'Ġwithholding', 'ambling', 'ĠDiabetes', 'ĠDarfur', 'ĠTopics', 'ĠHepaGam', 'ĠHepatitis', 'Ġcompensated', 'ĠGeorgian', 'Ġ261', 'Ġaddictive', 'Ġnumerous', 'ĠPalestinian', 'WSEP', 'cutting', 'Ġoste', 'Ġdictate', 'Ġhoped', 'Ġeastern', 'ĠItaly', 'Ġimbalances', 'Ġmerely', 'ĠNDHQ', 'ĠNEXAV', 'ĠTFWs', 'Ġinteroperability', 'Ġjeopard', 'Ġspoken', 'Ġmemorable', 'Ġsurrogacy', 'processes', 'Ġcredentials', 'Ġmaximizing', 'Ġtemporal', 'ĠDisclosure', 'Ġdivorce', 'ĠRecords', 'Ġbridges', 'ĠMarshall', 'Ġnanoscience', 'ĠWAADS', 'ĠÃīvang', 'Ġsacrif', 'Ġstraightforward', 'Ġcabinet', 'Ġgriev', 'Ġconvective', 'ollywood', 'ĠNomination', 'ĠWaste', 'Ġelaboration', 'Ġgenuinely', 'technical', 'Ġconstantly', 'Ġawaiting', 'Ġbasket', 'Ġbiotech', 'ĠTaxpayers', 'ĠAllowance', 'requisite', 'Ġcrafts', 'Ġoverlooked', 'ĠBroadcasting', 'baseline', 'Ġtamoxifen', 'Ġfrancophone', 'Ġanomaly', 'Ġholistic', 'Ġelev', 'Ġgalax', 'Ġconformity', 'Ġshielded', 'ĠDavid', 'ĠMRLs', 'ĠTSRI', 'Ġrespirator', 'ĠOptional', 'Ġpronounced', 'ĠIncentive', 'Ġgenomic', 'Ġpoisoning', 'Ġdiscrepancy', 'manufacturer', 'Ġpurchaser', 'Ġportrayed', 'ĠExpenditure', 'Ġvocabulary', 'Ġepidemiology', 'ĠSweden', 'ĠMethods', 'Ġmosquito', 'failure', 'successes', 'Ġaurora', 'Ġsediment', 'Ġporpo', 'alculate', 'Ġmirror', 'Ġhockey', 'Ġshoemaker', 'Ġabstract', 'ĠDUODOPA', 'ĠDollar', 'ĠBreast', 'Ġprenatal', 'ĠLyme', 'ĠLiterature', 'ĠReconstruction', 'Ġconfiguration', 'ĠArmour', 'ĠComptrollership', 'ĠTranslational', 'Ġhygiene', 'Ġentrepreneurial', 'ĠBankruptcy', 'ĠHPFBI', 'Ġalleviate', 'Ġdisincentives', 'Centred', 'NWRC', 'highest', 'iropract', 'pennywort', 'Ġramifications', 'relevant', 'receip', 'Ġpicnic', 'Ġdwelling', 'itrile', 'Ġbrowser', 'Ġhobbies', 'Ġbeautiful', 'Ġyesterday', 'ĠCSTD', 'ĠISBN', 'Ġstretch', 'Ġchambers', 'ĠrÃ©sumÃ©', 'ĠEligibility', 'Ġkava', 'osmetics', 'ĠMISSCEO', 'ĠTAXOTERE', 'ĠFCTIP', 'ĠFreedoms', 'ĠBolivia', 'Ġdisplaced', 'Ġmyeloma', 'ĠLuxem', 'ĠProsecutor', 'Ġunlikely', 'Ġaccumulated', 'ĠKamloops', 'Ġvarieties', 'ĠCADRIS', 'ĠExcellence', 'ĠBeijing', 'ĠTracadie', 'ĠUNESCO', 'ĠMontrÃ©al', 'Ġbiofuels', 'ĠRemembrance', 'ĠNEXAVAR', 'ĠÃīvangÃ©line', \"',\", \"'ll\", ')-', '))?\"', '08', '18', '52', '85', '98', 'Ad', 'Ag', 'As', 'App', 'Access', 'ARI', 'ADR', 'ANCE', 'Being', 'Che', 'CAR', 'Ceremon', 'DN', 'DT', 'De', 'Doping', 'EU', 'Em', 'EPP', 'ENT', 'FRA', 'Filing', 'GY', 'HF', 'HSC', 'If', 'ITC', 'ION', 'IFP', 'IYV', 'JADE', 'MB', 'MM', 'Mark', 'Money', 'MDA', 'MIC', 'Mont', 'Nd', 'NOC', 'OG', 'OW', 'On', 'Ou', 'OHER', 'Pa', 'Pay', 'PDSP', 'PSAB', 'Qs', 'Que', 'Rel', 'RPP', 'RFP', 'RDSP', 'Sp', 'SDP', 'TR', 'TER', 'TPR', 'TPD', 'Tonne', 'UCCB', 'VLI', 'WDP', 'YCE', '],', 'ao', 'ait', 'aud', 'aire', 'aust', 'aurs', 'auty', 'amental', 'aNd', 'bed', 'ball', 'brate', 'build', 'buy', 'bumped', 'could', 'corpor', 'circ', 'clusive', 'des', 'dom', 'del', 'dney', 'eur', 'ease', 'eval', 'ehic', 'evaluation', 'fat', 'fers', 'fly', 'fac', 'fem', 'fare', 'filled', 'ga', 'gl', 'gon', 'gone', 'har', 'hard', 'hors', 'hous', 'happ', 'iens', 'iating', 'iaries', 'iosis', 'ihuana', 'ka', 'kin', 'lon', 'loc', 'lasting', 'mi', 'mid', 'mand', 'mother', 'money', 'missions', 'male', 'mix', 'municipal', 'nam', 'nals', 'nock', 'normal', 'oom', 'oons', 'pan', 'pop', 'pus', 'pard', 'ponse', 'publ', 'pÃ©', 'policies', 'rh', 'rich', 'ride', 'rases', 'riding', 'sic', 'sid', 'sure', 'sustainable', 'tre', 'titut', 'train', 'tasting', 'uces', 'ufficient', 'vot', 'voc', 'vÃ©', 'volunt', 'whe', 'wage', 'whel', 'wÄħ', 'yway', 'zed', 'ÂŃ', 'Ãª', 'Ãī', 'Ġ:', 'ĠWh', 'ĠWhe', 'ĠWhom', 'Ġtall', 'Ġtag', 'Ġtank', 'het', 'hered', 'heless', 'Ġastem', 'Ġauct', 'Ġaids', 'Ġausp', 'inent', 'inity', 'inqu', 'inish', 'inating', 'intern', 'reak', 'repe', 'render', 'reland', 'rella', 'WhaT', 'oning', 'onder', 'Ġoxy', 'enia', 'energy', 'erion', 'eric', 'erber', 'Ġcere', 'Ġcub', 'Ġcock', 'Ġcosm', 'Ġcyan', 'Ġcircuit', 'Ġcosmetics', 'Ġsoy', 'Ġsits', 'Ġsenses', 'Ġsides', 'anol', 'anzan', 'ouch', 'orous', 'orney', 'orandum', 'Ġpil', 'Ġpork', 'Ġpets', 'Ġponds', 'Ġpardon', 'Ġwing', 'Ġwall', 'Ġdry', 'Ġdark', 'Ġdare', 'Ġdrought', 'Ġdump', 'Ġdawn', 'Ġdiversification', 'Ġdinos', 'ioned', 'itant', 'itization', 'itimate', 'aled', 'alike', 'Ġfif', 'Ġfly', 'Ġfide', 'Ġfract', 'Ġfederation', 'Ġfibre', 'Ġfraction', 'Ġfumes', 'Ġbin', 'Ġbent', 'Ġbind', 'Ġbark', 'Ġbath', 'Ġbranc', 'Ġbacteria', 'Ġboreal', 'Ġtopp', 'Ġanem', 'icol', 'edonia', 'Ġmad', 'Ġmig', 'Ġmone', 'Ġmaster', 'Ġmouth', 'Ġmasc', 'Ġmumps', 'Ġmixt', 'entless', 'aron', 'around', 'arines', 'arctic', 'Ġrejo', 'lead', 'lege', 'learn', 'vec', 'Ġho', 'Ġhang', 'Ġhiding', 'Ġhurt', 'Ġbere', 'Ġbeer', 'Ġbeac', 'Ġbegan', 'Ġbeaver', 'Ġbeauty', 'Ġease', 'Ġearning', 'omatic', 'omorrow', 'omatics', 'ilis', 'iled', 'mentation', 'mentioned', 'stan', 'stage', 'strateg', 'stock', 'strengthe', 'Ġnine', 'Ġnasal', 'Ġprotoc', 'Ġproactive', 'ĠCQ', 'ĠCV', 'ĠCy', 'ĠCat', 'ĠCad', 'ĠCould', 'ĠCact', 'ĠCab', 'ĠCree', 'ĠCamp', 'ĠCertain', 'ĠClear', 'ĠCigare', 'ĠCTM', 'ĠCHRC', 'ĠCollabor', 'ĠCUC', 'ĠCivil', 'adone', 'adapt', 'adays', 'asse', 'asus', 'idal', 'idiv', 'iduc', 'Ġlith', 'Ġlod', 'Ġlend', 'Ġlia', 'Ġlender', 'Ġlending', 'Ġloses', 'Ġgates', 'Ġgase', 'Ġgivers', 'Ġgau', 'Ġglobe', 'Ġglean', 'ectious', 'urity', 'urative', 'rac', 'raising', 'Ġconfer', 'Ġconvin', 'etown', 'etheless', 'olf', 'oloc', 'Ġorth', 'ĠIK', 'ĠIce', 'ĠIIP', 'ĠICA', 'ĠIEC', 'ĠISP', 'ĠICE', 'ĠISPs', 'ĠILR', 'ĠIreland', 'chiropract', 'uting', 'igure', 'igher', 'igence', 'ott', 'otin', 'otes', 'ulings', 'ivables', 'Ġstr', 'Ġster', 'Ġstru', 'Ġstaking', 'Ġstrat', 'Ġstuff', 'Ġstroke', 'Ġdeer', 'Ġdeaf', 'Ġdeeper', 'atement', 'ortic', 'iral', 'irmed', 'Ġneo', 'Ġwholes', 'Ġwhistle', 'Ġimminent', 'Ġshots', 'Ġshifting', 'Ġshopping', 'Ġsuits', 'ĠAE', 'ĠAU', 'ĠAmb', 'ĠAIP', 'ĠAward', 'quot', 'quest', 'heritage', 'ĠPB', 'ĠPet', 'ĠPine', 'ĠPap', 'ĠPAR', 'ĠPARS', 'ĠPrick', 'akers', 'Ġitiner', 'ively', 'third', 'ĠSet', 'ĠSam', 'ĠSize', 'ĠSee', 'ĠSPR', 'ĠSIT', 'ĠSGE', 'ĠSomal', 'estation', 'estine', 'Ġchill', 'Ġmel', 'Ġablation', 'Ġabbre', 'Ġleases', 'Ġmover', 'Ġmoss', 'Ġmodule', 'istant', 'Ġresign', 'Ġhect', 'Ġheck', 'Ġhelicop', 'Ġride', 'Ġrated', 'rier', 'rible', 'ript', 'rimental', 'ĠEF', 'ĠEp', 'ĠEmp', 'ĠERP', 'ĠEssential', 'Ġkm', 'Ġking', 'osn', 'Ġvap', 'Ġvested', 'amine', 'amendment', 'uspect', 'Ġenerg', 'Ġenrollment', 'achers', 'acques', 'dump', 'licated', 'ocent', 'ocop', 'ocide', 'ocultural', 'ocarb', 'Ġnotably', 'respons', 'Ġ($', 'plan', 'plate', 'plands', 'planning', 'ĠRB', 'ĠRats', 'ĠRCA', 'ĠRange', 'ĠRRIF', 'ĠRica', 'Ġseiz', 'Ġseized', 'Ġsegment', 'iza', 'izable', 'izole', 'izabeth', 'ĠDa', 'ĠDen', 'ĠDial', 'ĠDuty', 'ĠDown', 'ĠDAS', 'ĠDMF', 'ĠDTV', 'ĠDinner', 'ĠDiversification', 'ĠDeterminants', 'Ġcontour', 'Ġcontrad', 'ultane', 'emoration', 'Ġpla', 'andin', 'Ġattaining', 'ĠNat', 'ĠNCC', 'ĠNNA', 'ĠNUA', 'ĠNaTiONal', 'ĠNSOs', 'ĠMA', 'ĠMr', 'ĠMent', 'ĠMid', 'ĠMot', 'ĠMun', 'ĠMight', 'ĠMiss', 'ĠMove', 'ĠMaking', 'ĠMath', 'ĠMars', 'ĠMTP', 'ĠMRSA', 'ĠMarten', 'ervis', 'ournal', 'ieu', 'ĠTit', 'ĠTow', 'ĠTem', 'ĠTable', 'ĠTaj', 'ĠTank', 'ĠTUA', 'ĠTah', 'ĠTai', 'ĠTemporary', 'ĠTwo', 'ĠTanzan', 'ĠTomorrow', 'ardS', 'arding', 'ĠFO', 'ĠFir', 'ĠFree', 'ĠFile', 'ĠFranch', 'ĠFoot', 'ĠFTE', 'ĠFlo', 'ĠFras', 'ĠFiscal', 'ensed', 'ensible', 'erent', 'Ġcommence', 'Ġcommissions', 'ends', 'endor', 'ĠHen', 'ĠHosp', 'ĠHurt', 'ĠHaller', 'ĠHistory', 'ĠHollywood', 'ĠHoloc', 'Ġintra', 'Ġintimate', 'Ġintoler', 'Ġintangible', 'Ġusern', 'Ġcompile', 'Ġtrout', 'Ġtrucks', 'Ġworkflow', 'Ġcoat', 'Ġcoating', 'Ġcoaching', 'Ġcoherent', 'ĠGE', 'ĠGal', 'ĠGPP', 'ĠGrad', 'ĠGPS', 'ĠGRP', 'ĠGros', 'ĠGlee', 'ĠGTPR', 'ĠGiza', 'pty', 'Ġconscious', 'Ġincap', 'Ġincumb', 'ĠBT', 'ĠBad', 'ĠBig', 'ĠBarn', 'ĠBang', 'ĠBack', 'ĠBalk', 'ĠBland', 'ĠBMS', 'ĠBaby', 'ĠBSE', 'ĠBGTD', 'ĠBextra', 'ĠBasket', 'ĠBosn', 'Ġpoles', 'Ġhappiness', 'Ġroll', 'Ġdispose', 'Ġdispro', 'Ġdisruption', 'Ġdisapproval', 'Ġdisasters', 'Ġuseless', 'rous', 'ĠWars', 'ĠWIT', 'Ġproves', 'Ġproving', 'Ġteles', 'iceship', 'Ġinvoke', 'Ġinvitations', 'Ġservicing', 'wel', 'wear', 'Ġinterfere', 'Ġintergovernmental', 'Ġinterfaces', 'Ġempty', 'Ġclergy', 'Ġnewcomers', 'ificed', 'ificial', 'Ġdevelopers', 'eft', 'osex', 'ĠOA', 'ĠOG', 'ĠOK', 'ĠOL', 'ĠOver', 'ĠOrange', 'ĠOCC', 'ĠOLA', 'ĠOpportunities', 'Ġmanip', 'Ġmanages', 'Ġmanning', 'Ġmanoe', 'Ġrelied', 'Ġrelieve', 'Ġrelentless', 'Ġrecipe', 'Ġrecidiv', 'inking', 'nowledge', 'Ġprecond', 'Ġpreclud', 'achieve', 'Ġoutlet', 'ĠLL', 'ĠLif', 'ĠLoc', 'ĠLight', 'ĠLub', 'ĠLag', 'ĠLang', 'ĠLRA', 'ĠLES', 'ĠLOI', 'ĠLIFP', 'ĠLeft', 'ineau', 'ĠProcurement', 'Ġevil', 'Ġevolve', 'Ġunreg', 'Ġunne', 'Ġunhapp', 'connect', 'Ġparticulate', 'Ġjunior', 'Ġorganotin', 'Ġspell', 'Ġsynt', 'Ġsyndrome', '003', 'Ġdeclar', 'Ġ23', 'Ġprions', 'Ġprisons', 'Ġanywhere', 'Ġanybody', 'arked', 'Ġresemb', 'issues', 'asty', 'Ġbenefited', 'Ġours', 'Ġcounting', 'Ġsubgroups', 'ibl', 'ibly', 'ousal', 'ĠInuk', 'ĠInformal', 'ĠStation', 'ĠStake', 'ĠStructure', 'ĠStrong', 'ĠStream', 'Ġoffshore', 'Ġtraged', 'Ġtrauma', 'Ġresponsive', 'Ġcurve', 'ĠCommercial', 'Ġartic', 'Ġarises', 'Ġarisen', 'Ġamen', 'Ġamalgam', 'ags', 'agon', 'agencies', 'agreement', 'Ġterrible', 'Ġscored', 'Ġscores', 'Ġscanning', 'Ġscript', 'Ġtransplants', 'ĠReimb', 'ĠUDRP', 'ĠUplands', 'Ġmakeup', 'ordinary', 'ordinate', 'Ġrisky', 'Ġfunders', 'Ġoverpayment', 'Ġoverwhel', 'Ġpolicymakers', 'ologize', 'ologna', 'mining', 'Ġconcert', 'Ġconcerts', 'curate', 'Ġadventure', 'Ġensures', 'chnologies', 'Ġvalve', 'Ġvalued', 'Ġvalley', 'ucking', 'Ġdesk', 'Ġdesert', 'Ġdescriptions', 'ledged', 'ionally', 'Ġinfert', 'Ġinvolves', 'Ġgenre', 'Ġgenome', 'Ġgenital', 'Ġgenocide', 'text', 'teaching', 'Ġpractised', 'Ġpools', 'Ġspan', 'Ġspousal', 'Ġformations', 'Ġreceiver', 'Ġreception', 'ooking', 'Ġattended', 'Ġsauces', 'Ġupward', 'Ġupstream', 'icted', 'Ġenters', 'Ġtechnician', 'Ġnationality', 'Ġinternationalisation', 'Ġdetention', 'Ġdetrimental', 'ĠActions', 'Ġedition', 'Ġsurrender', 'Ġassesses', 'ceptive', 'ĠIntake', 'ĠInterg', 'Ġphrases', 'Ġnowadays', 'Ġauthors', 'Ġcaps', 'ĠChronic', 'Ġmetals', 'Ġmetrics', 'arried', 'Ġstands', 'Ġstandby', 'Ġretri', 'Ġretired', 'Ġlocks', 'Ġlongest', 'Ġlongitude', 'Ġfinances', 'Ġcharging', 'hedrine', 'Ġcountryside', 'ĠAbd', 'egree', 'phic', 'physical', 'philis', 'ĠDoppler', 'Ġcriterion', 'Ġmodelling', 'Ġmodifying', 'Ġrevital', 'Ġcondom', 'Ġcondoms', 'Ġcondemn', 'Ġdefense', 'Ġfoodborne', 'luents', 'Ġinstituting', 'Ġguy', 'ĠVA', 'ĠVision', 'ĠViet', 'ĠVCs', 'ĠVHF', 'ĠVehic', 'Ġdeterior', 'Ġdeterrence', 'Ġsetback', 'Ġcorpus', 'Ġfederally', 'ĠJul', 'ĠJack', 'ĠJHSC', 'ĠJacques', 'Ġrealise', 'Ġrealizing', 'Ġnegating', 'Ġsmoot', 'Ġdemol', 'ociated', 'ĠResidential', 'Ġlesson', 'Ġlesser', 'Ġgoverned', 'Ġconfirmed', 'Ġremem', 'Ġ1960', 'ĠAging', 'ĠAgain', 'Ġaccountabilities', 'Ġherbs', 'Ġdesignations', 'Ġviewer', 'Ġfinancially', 'Ġnonetheless', 'ĠKen', 'ĠKar', 'ĠKwÄħ', 'cipitation', 'Ġperforms', 'sequences', 'Ġforefront', 'Ġgrid', 'Ġgrids', 'Ġconstell', 'ĠIsis', 'ĠDeal', 'ĠDeerber', 'Ġrays', 'Ġraises', 'Ġinsulin', 'Ġinsufficient', 'Ġpolitically', 'Ġdistress', 'Ġdisturb', 'Ġcommitting', 'Ġmethodological', 'Ġairlines', 'ĠInternship', 'itizen', 'itizing', 'Ġmature', 'airment', 'Ġconsumed', 'Ġvariance', 'Ġlegislated', 'Ġlegislators', 'Ġlegislature', 'ĠQPIP', 'Ġtraders', 'Ġending', 'Ġendangered', 'Ġsolvent', 'Ġregisters', 'Ġsimultane', 'Ġfilter', 'Ġcommunicative', 'Ġcenters', 'unctive', 'Ġethno', 'Ġethylene', 'Ġrefers', 'Ġrefiner', 'Ġconsultancy', 'Ġprofessors', 'ĠManaging', 'exp', 'ĠArbit', 'Ġquestionable', 'ĠPlus', 'propelled', 'ĠCATE', 'ĠCAMC', 'ĠCARN', 'ĠEnsure', 'ĠTheft', 'ĠTherap', 'ĠCouncils', 'ĠExc', 'ĠExhibit', 'Ġbudgeting', 'Ġblog', 'Ġblank', 'mbrella', 'Ġrestaur', 'Ġglobalisation', 'placement', 'Ġpromotes', 'Ġobliged', 'SAC', 'Ġappliances', 'puts', 'Ġcharacterize', 'Ġ300', 'ĠCFB', 'ĠCFCs', 'CTF', 'upaTiONal', 'Ġexams', 'Ġdiffusion', 'valence', 'Ġconflicting', 'Ġbacks', 'ĠParts', 'Ġcontextual', 'Ġageing', 'Ġaudited', 'Ġflat', 'Ġflights', 'ĠDeputies', 'Ġforeigners', 'eeds', 'Ġcorporal', 'Ġpreventive', 'Ġbiore', 'Ġbiology', 'ĠComing', 'Ġtravelers', 'Ġtraveller', 'too', 'Ġartificial', 'ixa', 'ognitive', 'Ġmenu', 'Ġeffluents', 'Ġprovincially', 'Ġmarihuana', 'Ġadministers', 'ĠAfter', 'PAD', 'Ġradical', 'Ġengines', 'Ġdistributing', 'ĠIndones', 'shared', 'causing', 'Ġshowc', 'ĠControlled', 'Ġ42', 'Ġtransported', 'ĠApplic', 'ĠApplications', 'Ġbehavioral', 'ĠFundamental', 'Ġexcitement', 'ĠOffices', 'Ġmaintains', 'ĠAmericas', 'equality', 'Ġtopography', 'ĠBecome', 'ĠBeau', 'ĠBecoming', 'ĠBeaus', 'Ġemergent', 'Ġemergencies', 'Ġstandardization', 'osphere', 'Ġfarmer', 'ursary', 'Ġvacancies', 'RIANCE', 'Ġteamwork', 'Ġcollateral', 'ĠSciences', 'ĠScandin', 'venile', 'Ġobjectively', 'ĠParkinson', 'ricted', 'ĠGeneration', 'ediatric', 'ĠSeafood', 'ĠTrain', 'ĠTraffic', 'ĠTraumatic', 'Ġopened', 'ĠTransaction', 'rorist', 'Ġ500', 'Ġtempt', 'Ġnutritious', 'Ġslog', 'ĠDisabilities', 'ĠMeans', 'ĠWorkforce', 'Ġeclip', 'ĠTeach', 'Ġtrustees', 'Ġprevailing', 'ĠClot', 'ĠClients', 'ĠAnyway', 'Ġattracting', 'isticians', 'Ġescape', 'Ġbuyout', 'ĠImmun', 'Ġguarantor', 'ĠIPR', 'Ġenteric', 'Ġpredators', 'Ġscreened', 'ĠComprehensive', 'ĠComplementary', 'Ġmotivations', 'Ġcombining', 'CAD', 'Ġsituated', 'Ġparad', 'Ġbilling', 'Ġvalidated', 'Ġdiscriminate', 'Ġcovering', 'Ġfavoured', 'naire', 'Ġcollaborators', 'Ġcircumstance', 'ĠCoverage', 'ĠToxic', 'Ġtextile', 'Ġdraws', 'Ġsentiment', 'Ġsentinel', 'Ġavoiding', 'Ġdisclose', 'Ġdisclosing', 'Ġoperationally', 'ĠQuery', 'ERGY', 'aze', 'Ġopponents', 'Ġwording', 'Ġrecruits', 'Ġrecruited', 'Ġletting', 'Ġaccorded', 'CPNP', 'ĠAirport', 'Ġformalized', 'limited', 'Ġarchiving', 'Ġfisherman', 'Ġ[@', 'Ġbannock', 'Ġfourth', 'Ġbasement', 'Ġstronger', 'Ġoccupy', 'commit', 'commercial', 'oleil', 'Ġtherapist', 'Ġmotherhood', 'ĠNOF', 'Ġworries', 'Ġphotocop', 'Ġcardiac', 'Ġeasiest', 'ĠCBNRM', 'ĠCSE', 'ĠCSHA', 'ĠSurvival', 'ĠDeficient', 'Ġconstraint', 'FORE', 'Ġinspected', 'Ġceases', 'Ġfluct', 'Ġfluid', 'Ġfluids', 'Ġfluores', 'ĠPermanent', 'ĠCharity', 'Ġpainful', 'Ġpainted', 'Ġdivisions', 'Ġfeminist', 'ĠSubject', 'ĠSubmissions', 'ĠElizabeth', 'ĠNATREC', 'Ġmodernizing', 'Ġdemonstrable', 'Ġchemistry', 'Ġprobabilities', 'Ġlifting', 'ĠTBFRA', 'Ġjournals', 'Ġgroundfish', 'Ġrenewables', 'Ġpeacekeeping', 'Ġhistorically', 'ĠMediterranean', 'Ġpredictive', 'Ġvoter', 'ĠUser', 'ĠHeadquarters', 'ĠImplement', 'owners', 'Ġinvestigated', 'Ġinvestigative', 'ĠOfficials', 'Ġforestry', 'ipping', 'streaming', 'ĠCollege', 'ĠOutside', 'Ġ1867', 'Ġdenies', 'Ġdenial', 'Ġbrings', 'ĠCED', 'ĠCEO', 'ĠCESDP', 'ĠHappen', 'Ġcellular', 'Ġcampaigns', 'Ġbroch', 'ĠCOSEWIC', 'ĠEducational', 'ĠGermans', 'Ġautomation', 'Ġautomated', 'ĠPensioners', 'Ġseparated', 'Ġseparating', 'Ġarguing', 'ĠInvesting', 'patient', 'Ġoils', 'Ġoilse', 'ĠSmog', 'Ġseverity', 'Ġ128', 'ĠInfection', 'ĠInfectious', 'Ġcolleges', 'ĠWithin', 'ĠAccounts', 'particip', 'ĠEffectiveness', 'ĠMaritime', 'Ġcapturing', 'Ġdissatisfied', 'Ġgraduated', 'Ġindependently', 'Ġinterpreters', 'Ġthresholds', 'ĠAuthorization', 'rupted', 'Ġdepends', 'Ġdependency', 'ĠQualifies', 'Ġverification', 'Ġsanitiz', 'ĠSpace', 'ĠREVLI', 'Ġinfringer', 'Ġupdating', 'EXDP', 'Ġmorale', 'Ġemphasize', 'Ġdeclining', 'Ġxeno', 'organizations', 'Ġrebuild', 'ĠCheck', 'ĠChemical', 'ĠBanking', 'Ġembarking', 'ĠProfessionals', 'Ġattempted', 'Ġattendees', 'ĠAlbert', 'maments', 'Ġfragment', 'Ġfigurative', 'setting', 'Ġstorms', 'Ġprinting', 'Ġterminates', 'Ġimmunity', 'ĠExpress', 'Ġsupervision', 'Ġsupervised', 'ĠSAB', 'ĠRelated', 'ĠAdvisor', 'Ġdosage', 'keye', 'ĠListening', 'Ġfilmmakers', 'Ġexploited', 'Ġsexuality', 'Ġfinish', 'Ġbioinform', 'Ġeaten', 'Ġeuros', 'Ġutilized', 'respondent', 'ĠMaya', 'ĠCompetition', 'Provincial', 'Ġ85', 'ĠCountry', 'ĠCounterfe', 'Ġsunset', 'ĠAmend', 'ĠAmster', 'ĠPortugal', 'ĠSydney', 'Ġdiffering', 'Ġcloth', 'adequate', 'ĠProperties', 'ĠAntimicrobial', 'ĠAntarctic', 'ĠBlue', 'ĠWNv', 'Ġambig', 'Ġtransformed', 'Ġcontinuity', 'ĠAnnex', 'Ġpsycho', 'ĠMSB', 'ĠMSDS', 'ĠMSOs', 'Ġpassports', 'Ġprohibit', 'ĠESF', 'ĠMusic', 'Ġquestionnaires', 'Ġxenotransplants', 'ĠRenewed', 'dependent', 'grand', 'ukemia', 'Ġmortgage', 'Ġhunters', 'ĠPLRP', 'Ġvocal', 'ĠGrand', 'Ġequivalence', 'ĠResponsibilities', 'Ġmargins', 'ĠEmployer', 'Ġapproximately', 'Ġignoring', 'Ġsuperficial', 'Ġreserved', 'ĠEXJADE', 'ĠEquality', 'ĠMemorandum', 'Ġexpanded', 'abitants', 'Ġtranslators', 'ĠVisible', 'Ġpopularity', 'Ġgrandchildren', 'iotic', 'Ġrepeat', 'Ġrepell', 'ĠCHRA', 'ĠCorridor', 'ĠSkin', 'ĠMyel', 'Ġpooling', 'Ġmulticulturalism', 'ITS', 'Ġwalking', 'Ġinequality', 'Ġfreshwater', 'Ġmountains', 'Ġprosecution', 'Ġstripe', 'Ġstreams', 'ĠMultinational', 'ĠBelg', 'keepers', 'ministerial', 'Ġinternships', 'Ġreproduce', 'Ġpolluted', 'Ġsquee', 'Ġdominant', 'Ġlotteries', 'iffs', 'ĠEntry', 'ĠEnterpr', 'iploma', 'Ġsequences', 'Ġconsolidate', 'ĠJobs', 'ĠKorean', 'ĠKoreans', 'ĠSupplementary', 'Ġtolerated', 'Ġnavy', 'Ġnavigation', 'ĠCauc', 'Ġgrains', 'ĠSTaNd', 'Ġliquor', 'Ġsubstitutable', 'Ġanalysed', 'Ġmarginalized', 'Ġmarginalised', 'CLAS', 'Ġtalents', 'Ġpetitions', 'Ġwetland', 'Ġdrops', 'Ġdropping', 'Ġneurolog', 'ĠATRIANCE', 'ĠEcosystem', 'ĠDrill', 'Ġcontingencies', 'ĠFIE', 'ĠFeatures', 'Ġclarification', 'Ġarmies', 'Ġspiral', 'Ġretailer', 'Ġforecasts', 'ĠTeleHealth', 'benefits', 'Ġdiesel', 'Ġhusbands', 'ĠCustom', 'ĠPractices', 'ĠEditor', 'ĠEvents', 'ĠViCLAS', 'Ġdistinguish', 'Ġextends', 'ĠAssistant', 'Ġsafeguarding', 'restrial', 'Ġhotels', 'Ġsteel', 'Ġsuspension', 'ĠParole', 'Ġseminars', 'Ġdisparity', 'Ġdiscontinued', 'Ġintermediaries', 'ĠRelevÃ©', 'Ġadvocate', 'Ġdefective', 'ĠInfluences', 'Ġneighboring', 'Ġaccelerated', 'Ġwolves', 'Ġelders', 'Ġdeeply', 'qualifying', 'ĠDistribut', 'Ġsooner', 'ĠInstance', 'ĠDevice', 'Ġcategorized', '4033', 'CISTI', 'writer', 'Ġnarrative', 'Ġexempl', 'Ġroundtable', 'Ġattainment', 'ĠGaspÃ©', 'Ġdisappoint', 'Ġmetallic', 'Ġfamiliarity', 'ĠConcerning', 'ĠPrinciple', 'ĠAdministrative', 'ĠPeacekeeping', 'haul', 'Ġfestival', 'Ġfooting', 'Ġballot', 'Ġballoon', 'ĠCLSA', 'ĠCLPP', 'impacts', 'ĠRMD', 'ĠNASA', 'ĠMacedonia', 'Ġcurrencies', 'Ġoverlap', 'ĠConstitute', 'mittent', 'Ġdeficiency', 'ĠVeterinary', 'ĠManufacturers', 'Ġpreserved', 'Ġblocking', 'ĠTechnical', 'ĠNorthwestel', 'Ġsubstantially', '199', 'preced', 'Ġapologize', 'Ġsilent', 'Ġstruggles', 'Ġimperatives', 'Ġenforces', 'Ġpluralistic', 'ĠMercury', 'ĠBalance', 'ĠBaltic', 'ĠBuyer', 'Ġrobust', 'Ġteenagers', 'ĠOpen', 'Ġpremature', 'ĠCoastal', 'Ġpharmacovigil', 'Commerce', 'Lineage', 'modern', 'personnel', 'Ġcasual', 'Ġburning', 'Ġburnout', 'Ġmidw', 'ĠCMFSP', 'ĠIraqi', 'Ġstabilize', 'Ġstabilizer', 'ĠPHCTF', 'ĠPerspective', 'ĠNISA', 'ĠTesting', 'ĠFSL', 'ĠBoards', 'ĠIslamic', 'ï¬ģcult', 'âĤ¬âĦ¢', 'electronic', 'serious', 'substant', 'uxil', 'onald', 'Ġpipelines', 'Ġdividing', 'Ġisolation', 'Ġstopping', 'Ġperfectly', 'ĠWriting', 'Ġoutsourcing', 'ĠLCDC', 'Ġauthentication', 'ĠVirtual', 'ĠJaswind', 'Ġoccasion', 'Ġoccasionally', 'rology', 'Ġmathematical', 'Ġabsentee', 'ĠWithdrawals', 'competitive', 'recorded', 'Ġsquarely', 'Ġproprietorship', 'efficacy', 'initiative', 'Ġtheses', 'Ġcotton', 'Ġfabric', 'Ġhormones', 'sellers', 'ĠCreate', 'Ġdeferred', 'Ġdeferral', 'ĠParents', 'ĠDiaries', 'Ġpartially', 'ĠFacility', 'Ġcompensate', 'ĠBEFORE', 'Ġrotation', 'ĠStarting', 'ĠCommander', 'ĠRevolution', 'Ġminimized', 'existence', 'ĠQuitting', 'Ġsubscribe', 'Ġnavigate', 'ĠPalestine', 'Ġceremony', 'Ġceremonies', 'Ġwidowed', 'Ġmalaria', 'Ġmerged', 'Ġremittance', 'Ġremittances', 'Ġeggs', 'Ġlunar', 'Ġimbalance', 'ĠNDMA', 'ĠNEXUS', 'ĠFrontiers', 'Ġperpetrators', 'wellery', 'Ġallergies', 'Ġjewellery', 'Ġjuvenile', 'Ġspokes', 'Ġsurrogate', 'Ġdiscretionary', 'Ġconfrontation', 'province', 'ĠMinorities', 'Ġflooding', 'Ġbiomedical', 'Ġsummative', 'Ġdivorced', 'ĠMarshal', 'Ġnanoscale', 'Ġcelebrating', 'Ġsuperiority', 'Ġaccompanied', 'Ġsacrificed', 'ĠOccupational', 'Ġroyalty', 'listed', 'pressure', 'viations', 'Ġtheatre', 'Ġcattle', 'Ġsleeping', 'Ġhalocarb', 'Ġnoro', 'ĠCIPARS', 'ĠCEAA', 'ĠIRB', 'ĠPearl', 'ĠPassage', 'Ġmegat', 'Ġabundant', 'Ġabundance', 'Ġrichest', 'Ġroughly', 'ĠEmbracing', 'Ġenemy', 'ochemical', 'ĠRestoration', 'ĠMadrid', 'ĠFathers', 'ĠGatineau', 'Ġdisbursement', 'Ġclerical', 'Ġdecrease', 'Ġissuance', 'Ġupheld', 'Ġphilosophy', 'Ġcriticisms', 'Ġprivatization', 'Ġendeavour', 'ĠArtist', 'Ġbreeders', 'Ġmotorized', 'ĠConsultation', 'Ġpharmaceuticals', 'Ġswimming', 'Ġbrokerage', 'Ġdecentralized', '664', 'Territorial', 'historic', 'library', 'practice', 'isphere', 'Ġsoul', 'oriented', 'Ġpushing', 'Ġinhabitants', 'educated', 'Ġproliferation', 'Ġlyric', 'Ġgateway', 'Ġhamper', 'Ġasbestosis', 'ĠEbixa', 'ĠDraw', 'ĠMicrosoft', 'ĠHazardous', 'Ġmanuscripts', 'ĠLouisa', 'Ġunauthorised', 'Ġextensively', 'ĠIndependence', 'Ġescaped', 'ĠImmigration', 'Ġredeem', 'Ġroadmap', 'Ġlandscapes', 'Ġsecrets', 'ĠVolunteers', 'Ġpremiums', 'Ġfolklore', 'ĠAnglophones', 'American', 'ENERGY', 'moving', 'Ġthermal', 'Ġwireless', 'Ġwarnings', 'Ġbureaux', 'Ġhierarchy', 'Ġbegins', 'ĠCounselling', 'Ġgarlic', 'ĠIllness', 'Ġmovies', 'Ġmoisture', 'ĠDescriptions', 'ĠMillennium', 'ĠHemp', 'Ġacrylon', 'Ġcovenants', 'Ġdiskette', 'ĠOrientation', 'astrophic', 'Ġscandal', 'Ġdeparture', 'Ġrepetitive', 'Ġnaturopath', 'Ġbiopsy', 'Ġlivelihoods', 'Ġilliteracy', 'Ġfavorite', 'Ġerythemal', 'Ġhonestly', 'ĠRequirements', 'Ġincompatible', 'Ġambassador', 'considering', 'Ġsuspicious', 'Ġï¬ģnancial', 'ĠDetectable', 'Ġinï¬Ĥuence', 'Ġkilometres', 'Ġtornadoes', 'Quest', 'digit', 'religious', 'Ġcryptography', 'Ġdentist', 'Ġinmate', 'Ġtoilets', 'Ġisotopes', 'Ġharness', 'Ġyields', 'Ġnautical', 'ĠCafÃ©', 'imperative', 'Ġimpartiality', 'ĠPackage', 'Ġexecutives', 'ĠSudan', 'Ġrituals', 'ĠRMSI', 'ĠRobert', 'Ġseaman', 'ĠDorset', 'ĠDreamers', 'ĠTHE', 'ĠTRIPs', 'ĠHQP', 'ĠHotel', 'Ġcognitive', 'ĠBorden', 'ĠBuildings', 'Ġprejudice', 'ĠLarge', 'Ġunavailable', 'Ġscreens', 'Ġpatronage', 'Ġspawned', 'Ġentrusted', 'ĠIntelligence', 'Ġdiscouraged', 'Ġcolonies', 'ĠVOCs', 'Ġhomeopathic', 'ĠAdmiral', 'Ġdevastating', 'Ġpredominant', 'ĠAccommodation', 'Ġhypertension', 'ĠNPEs', 'partnerships', 'Ġdissuaded', 'ĠSpanish', 'ĠTerritories', 'ĠArchitecture', 'Ġaffidavit', 'ĠAudiovisual', 'Ġtoughest', 'Ġgalaxies', 'ĠLuxembourg', 'Appro', 'Check', 'Ceremonial', 'Montney', 'Quebec', 'YCEL', 'Ġastemizole', 'Ġauspices', 'international', 'repeat', 'Ġoxygen', 'Ġbenthic', 'Ġbranches', 'Ġtoppings', 'Ġanemomet', 'Ġmoneys', 'Ġprotocols', 'ĠCactus', 'iduciary', 'Ġlithium', 'Ġlodge', 'Ġgaseous', 'ĠICES', 'Ġstruck', 'ĠAmbassad', 'ĠPrickly', 'ĠSPRYCEL', 'ĠSGEI', 'Ġabbreviations', 'ĠEmpire', 'Ġvapour', 'dumping', 'ĠRatsn', 'ĠNNADAP', 'ĠNUANS', 'ĠMathieu', 'ĠTaiwan', 'ĠTanzania', 'ĠFraser', 'ĠHolocaust', 'Ġusername', 'ĠGleevec', 'ĠBlanding', 'Ġdisproportion', 'ĠWITB', 'Ġtelesc', 'ĠOCCupaTiONal', 'Ġmanoeuv', 'Ġrecidivism', 'achievements', 'ĠLagoon', 'Ġunregulated', 'Ġunhappy', 'Ġdeclarations', 'ĠInuktitut', 'ĠReimbursement', 'Ġinfertility', 'Ġsmooth', 'ĠDeerberry', 'Ġrefineries', 'ĠCATENA', 'ĠBeaufort', 'ĠBeausoleil', 'Ġeclipse', 'ĠNATRECOR', 'ĠREVLIMID', 'Ġbioinformatics', 'ĠCounterfeit', 'ĠAmsterdam', 'ĠSTaNdardS', 'substantial', 'ĠJaswinder', 'Ġhalocarbons', 'Ġacrylonitrile', '&#', ')/', '-)', '-,', '02', '16', '24', '27', '2000', '37', '39', '300', '45', '400', '53', '59', '510', '69', '750', '920', 'AD', 'AM', 'AW', 'Al', 'Are', 'Act', 'APP', 'BN', 'Brit', 'BEC', 'BFA', 'CG', 'CJ', 'CR', 'Code', 'CEC', 'COs', 'Credit', 'DHR', 'EF', 'EI', 'EHR', 'Free', 'French', 'Front', 'FTC', 'FCs', 'Fetal', 'Friendly', 'GH', 'GR', 'GST', 'GIH', 'GRT', 'HO', 'House', 'Hull', 'IE', 'Int', 'Ind', 'ICT', 'IBI', 'Jak', 'JCTC', 'KF', 'LN', 'LV', 'Link', 'Leg', 'LMA', 'MR', 'Me', 'My', 'March', 'MFO', 'MMA', 'MBC', 'MCL', 'MRSA', 'NB', 'ND', 'NU', 'Name', 'NCB', 'NET', 'NHRP', 'NQS', 'OPS', 'Pract', 'PCT', 'PSC', 'Policy', 'Personal', 'PNR', 'QPs', 'Rep', 'RST', 'RDA', 'RMP', 'Se', 'Ss', 'Sim', 'Sustainable', 'Specific', 'SFV', 'Sah', 'Seeds', 'Ts', 'TFO', 'UL', 'UM', 'UN', 'UR', 'Un', 'UPR', 'UNTR', 'VI', 'VM', 'VET', 'Will', 'Work', 'WHR', 'WEP', 'XTM', 'You', 'Year', 'YRI', 'aS', 'aam', 'bra', 'bie', 'boy', 'bound', 'bered', 'broad', 'bians', 'born', 'binding', 'bicides', 'car', 'core', 'cles', 'camp', 'crow', 'copy', 'citizens', 'correct', 'collabor', 'citizen', 'dy', 'dge', 'dia', 'dev', 'design', 'database', 'determinants', 'eu', 'eer', 'eure', 'eff', 'eating', 'eared', 'either', 'eau', 'fire', 'fast', 'fax', 'final', 'fishing', 'foot', 'freed', 'flo', 'fashion', 'finance', 'gas', 'got', 'gate', 'gard', 'gia', 'grow', 'global', 'glas', 'has', 'hill', 'host', 'holic', 'horts', 'horses', 'iom', 'iab', 'iological', 'iians', 'iarity', 'iï¬ģ', 'iography', 'iOn', 'jury', 'kg', 'kh', 'ky', 'kton', 'lat', 'lac', 'lie', 'lag', 'lists', 'loss', 'lavia', 'may', 'main', 'make', 'mates', 'mob', 'marc', 'math', 'mask', 'meth', 'morb', 'nial', 'nab', 'number', 'nesty', 'och', 'oiced', 'ocean', 'opportunities', 'pace', 'pinal', 'post', 'prol', 'primary', 'papers', 'prepared', 'purpose', 'rin', 'rig', 'rines', 'riving', 'sent', 'sup', 'safety', 'tration', 'tool', 'tier', 'task', 'tmark', 'tinent', 'uar', 'upp', 'uates', 'uRe', 'vie', 'vents', 'vio', 'wa', 'wing', 'women', 'wildlife', 'xter', 'xine', 'yo', 'yes', 'ylp', 'ydia', 'zes', 'zfe', 'zero', '{\\\\', 'Ġ#', 'Ġion', 'Ġid', 'Ġicing', 'İle', 'Ġtum', 'Ġtren', 'Ġtast', 'Ġtired', 'Ġtough', 'Ġtanks', 'Ġtanning', 'Ġtsun', 'Ġtwel', 'ativeness', 'atoon', 'atvia', 'heres', 'hell', 'help', 'Ġavert', 'Ġaortic', 'Ġauxil', 'inem', 'inite', 'inists', 'institut', 'internal', 'inarian', 'incre', 'industry', 'reb', 'rey', 'Whilst', 'onor', 'onic', 'only', 'onge', 'onian', 'onium', 'onym', 'onnes', 'Ġov', 'Ġomission', 'enue', 'enchmark', 'especially', 'espan', 'erating', 'erospace', 'Ġcy', 'Ġcure', 'Ġcel', 'Ġcup', 'Ġcrown', 'Ġcinem', 'Ġsed', 'Ġslic', 'Ġsand', 'Ġsight', 'Ġsister', 'Ġsized', 'Ġsift', 'Ġsatell', 'Ġsailing', 'anas', 'animity', 'oult', 'orated', 'orph', 'orhood', 'orily', 'orosis', 'orously', 'Ġpy', 'Ġphe', 'Ġpin', 'Ġpest', 'Ġpip', 'Ġperv', 'Ġports', 'Ġpins', 'Ġpne', 'Ġpadd', 'Ġponder', 'Ġpoult', 'Ġwal', 'Ġwave', 'Ġwins', 'Ġwars', 'Ġwarts', 'Ġdu', 'Ġdur', 'Ġdred', 'Ġdated', 'Ġdire', 'Ġdual', 'Ġdivers', 'ĠdÃ©', 'Ġdug', 'Ġdried', 'Ġditch', 'Ġduality', 'itent', 'iture', 'itter', 'itary', 'itled', 'itzer', 'Ġinher', 'Ġinception', 'alid', 'Ġfou', 'Ġfoc', 'Ġfame', 'Ġfallen', 'Ġfert', 'Ġfright', 'Ġfranch', 'Ġfatal', 'Ġfusion', 'Ġfaded', 'Ġfiduciary', 'Ġbic', 'Ġbone', 'Ġbail', 'Ġbread', 'Ġbright', 'Ġbatch', 'Ġbites', 'Ġborne', 'Ġbona', 'Ġbursary', 'Ġtoes', 'Ġanonym', 'icare', 'icators', 'icidal', 'edded', 'rob', 'roc', 'ropl', 'roots', 'roatia', 'roxine', 'Ġmg', 'Ġmes', 'Ġmills', 'ctoral', 'arp', 'aran', 'arms', 'arism', 'arrange', 'Ġrelying', 'Ġreorganization', 'vem', 'Ġhits', 'Ġhanging', 'Ġbequest', 'Ġdoom', 'Ġdock', 'Ġdozen', 'Ġthrone', 'Ġthrive', 'Ġthalid', 'Ġeu', 'Ġearm', 'Ġyouths', 'omide', 'omach', 'omitant', 'ilk', 'ilib', 'ilty', 'ste', 'sts', 'station', 'stically', 'staff', 'stery', 'styn', 'Ġnest', 'Ġnice', 'Ġnons', 'Ġnodes', 'Ġnamed', 'Ġfora', 'Ġforage', 'Ġforgot', 'Ġprolong', 'secure', 'ĠCY', 'ĠCut', 'ĠCher', 'ĠCod', 'ĠCities', 'ĠCub', 'ĠCreat', 'ĠCame', 'ĠCold', 'ĠCCA', 'ĠCMP', 'ĠCapt', 'ĠCIPO', 'ĠCTC', 'ĠCDs', 'ĠCamb', 'ĠCalg', 'ĠCircuit', 'ĠCYC', 'ĠCurric', 'ĠCrane', 'ĠCroatia', 'ldt', 'imat', 'import', 'immedi', 'imony', 'adings', 'adio', 'adron', 'adgets', 'ason', 'asant', 'asons', 'asibility', 'asau', 'idge', 'idue', 'Ġlur', 'Ġlact', 'Ġlap', 'Ġlister', 'Ġleng', 'Ġlateral', 'Ġlots', 'Ġlonge', 'Ġger', 'Ġgam', 'Ġgard', 'Ġgust', 'Ġgarn', 'Ġgays', 'Ġgaming', 'Ġgambling', 'Ġgadgets', 'iferation', 'iform', 'urd', 'uras', 'urrence', 'urches', 'rail', 'raud', 'rack', 'ravio', 'Ġconverse', 'Ġconsecut', 'etra', 'etlands', 'olate', 'ppist', 'Ġorph', 'ĠIG', 'ĠIts', 'ĠIST', 'ĠISS', 'ĠISR', 'ĠIPAC', 'chand', 'Ġumbrella', 'Ġhavoc', 'utilized', 'utzfe', 'igue', 'igins', 'igorate', 'igmat', 'oton', 'otrop', 'ulent', 'ulers', 'ulpt', 'ulates', 'ulite', 'essive', 'essam', 'ivable', 'ivating', 'ivisions', 'ivores', 'Ġsten', 'Ġstance', 'Ġstarch', 'Ġstating', 'Ġstup', 'Ġstrict', 'Ġstakes', 'Ġstones', 'Ġstuck', 'Ġsticks', 'Ġstomach', 'Ġstigmat', 'Ġdear', 'Ġderegulation', 'owna', 'illing', 'illover', 'illips', 'Ġweigh', 'orted', 'ortions', 'irth', 'Ġneural', 'Ġwhale', 'Ġwholly', 'Ġwhilst', 'Ġshr', 'Ġsui', 'Ġsuit', 'Ġsums', 'Whoever', 'open', 'opher', 'optic', 'oporosis', 'ĠAC', 'ĠASC', 'ĠAPP', 'ĠAids', 'ĠATC', 'ĠACO', 'ĠAlex', 'ĠABR', 'ĠAYC', 'ĠApoll', 'ĠAEXDP', 'ĠAerospace', 'quine', 'quiring', 'Ġyourselves', 'Ġimplant', 'Ġimplies', 'ĠPD', 'ĠPra', 'ĠPest', 'ĠPub', 'ĠPren', 'ĠPast', 'ĠPax', 'ĠPool', 'ĠPope', 'ĠPestic', 'ĠPath', 'ĠPeter', 'ĠPPS', 'ĠPsych', 'ĠPoles', 'ĠPOR', 'ĠPDSP', 'ĠPyramids', 'ĠPCH', 'ĠPrize', 'ĠPVC', 'ĠPQPs', 'akia', 'aknesses', 'antic', 'Ġexha', 'ĠSat', 'ĠShip', 'ĠSeg', 'ĠSound', 'ĠSample', 'ĠSix', 'ĠSIN', 'ĠSession', 'ĠSoph', 'ĠSMS', 'ĠSina', 'ĠSeth', 'ĠSolid', 'ĠSPI', 'ĠSPO', 'ĠSolving', 'ĠSBA', 'ĠSFF', 'ĠSGP', 'ĠSWC', 'ĠSCIS', 'ĠSensitive', 'estinal', 'estration', 'estead', 'verages', 'Ġchrom', 'Ġchip', 'Ġchron', 'Ġchairs', 'Ġchlam', 'unk', 'unch', 'universal', 'Ġmeflo', 'outcomes', 'acted', 'Ġabide', 'Ġabatement', 'Ġabiotic', 'âĢĳ', 'Ġmoose', 'Ġmoored', 'ista', 'istries', 'istency', 'Ġresort', 'Ġrescu', 'Ġresourcing', 'Ġhem', 'Ġrations', 'Ġrub', 'Ġrings', 'Ġrises', 'Ġrash', 'ĠEarn', 'ĠEase', 'ĠEvent', 'ĠEarl', 'ĠEval', 'ĠEPS', 'ĠEPR', 'ĠERT', 'Ġkits', 'Ġkills', 'Ġkick', 'Ġknot', 'Ġkios', 'ĠkPa', 'pered', '\"\")', 'osion', 'oslavia', 'redited', 'Wherein', 'Ġvs', 'Ġvice', 'Ġvisions', 'Ġvascular', 'Ġvendor', 'Ġvenue', 'amy', 'ushing', 'Ġenables', 'Ġenlisted', 'velength', 'acle', 'accon', 'acious', 'duit', 'licted', 'ocomm', 'ocob', 'occup', 'rometers', 'ipurpose', 'Ġgod', 'Ġadmit', 'Ġadhere', 'Ġadmission', 'respect', 'results', 'Ġ(+', 'pled', 'plates', 'ĠRA', 'ĠRent', 'ĠRome', 'ĠRail', 'ĠRates', 'ĠRaw', 'ĠRDC', 'ĠRRS', 'ĠROI', 'ĠRTD', 'ĠRyan', 'ĠRRAP', 'ĠRulings', 'ĠRessam', 'ighter', 'Ġseed', 'Ġsevered', 'Ġsecular', 'Ġsemi', 'Ġsewage', 'ĠDO', 'ĠDP', 'ĠDest', 'ĠDos', 'ĠDue', 'ĠDuring', 'ĠDAR', 'ĠDrought', 'ĠDPO', 'ĠDSO', 'ĠDES', 'ĠDaph', 'ĠDSL', 'ĠDDT', 'ĠDegree', 'Ġcontag', 'emy', 'emen', 'emption', 'Ġplain', 'Ġplaint', 'anded', 'andestine', 'Ġatlas', 'indep', 'ĠNor', 'ĠNice', 'ĠNob', 'ĠNok', 'ĠNature', 'ĠNAI', 'ĠNCM', 'ĠNFB', 'ĠNCO', 'ĠNCTS', 'ĠNQS', 'ĠNMCA', 'ĠNCOs', 'ĠMD', 'ĠMI', 'ĠMR', 'ĠMa', 'ĠMines', 'ĠMigr', 'ĠMRI', 'ĠMAF', 'ĠMAI', 'ĠMunicip', 'ĠMoon', 'ĠMoh', 'ĠMCS', 'ĠMental', 'ĠMRP', 'ĠMosc', 'ĠMPIP', 'ĠMLM', 'ĠMFRC', 'ĠMGIH', 'ourish', 'ianney', 'Ġneeding', 'ĠTP', 'ĠTal', 'ĠTok', 'ĠTRI', 'ĠTLE', 'ĠTER', 'ĠTON', 'ĠToler', 'ĠTSE', 'ĠTorture', 'ĠToday', 'ĠFred', 'ĠFour', 'ĠFab', 'ĠFern', 'ĠFair', 'ĠFIP', 'ĠFeed', 'ĠFats', 'ĠFAC', 'ĠFirm', 'ĠFuel', 'ĠFigure', 'ensing', 'ideo', 'Ġcommend', 'Ġcommands', 'Ġcommemorative', 'Ġcommuted', 'Ġregression', 'endre', 'endered', 'ĠHom', 'ĠHear', 'ĠHills', 'ĠHunt', 'ĠHCB', 'ĠHAC', 'ĠHuds', 'ĠHawa', 'ĠHTF', 'ĠHigher', 'ĠHFCs', 'Ġintr', 'Ġcompact', 'Ġcompress', 'Ġcompose', 'Ġcomposed', 'Ġcomposer', 'Ġtries', 'Ġtrilateral', 'Ġtruck', 'Ġcoerc', 'Ġcohorts', 'ĠGC', 'ĠGa', 'ĠGod', 'ĠGap', 'ĠGiven', 'ĠGround', 'onel', 'Ġconsular', 'ĠBN', 'ĠBall', 'ĠBish', 'ĠBook', 'ĠBased', 'ĠBeg', 'ĠBSA', 'ĠBret', 'ĠBath', 'ĠBrought', 'ĠBDC', 'ĠBilingual', 'ĠBeth', 'ĠBilateral', 'ĠBray', 'ĠBanks', 'ĠBCL', 'ĠBabies', 'Ġroof', 'Ġroots', 'Ġdisorder', 'Ġdisqual', 'Ġdisarma', 'Ġbeta', 'Ġrespite', 'allery', 'Ġpertinent', 'ĠWal', 'ĠWAR', 'ĠWEA', 'ĠWarning', 'ĠWFD', 'ĠWCAR', 'ĠWait', 'ĠWetlands', 'Ġproved', 'ducts', 'Ġobso', 'Ġobey', 'Ġtears', 'Ġinviting', 'Ġinvigorate', 'Ġdifï¬ģcult', 'wee', 'Ġmyths', 'Ġmyster', 'Ġmystery', 'Ġasserting', 'Ġinterfer', 'Ġintervals', 'Ġintermittent', 'Ġintervie', 'Ġclarity', 'Ġclandestine', 'ublics', 'Ġnewer', 'ificance', 'eful', 'efact', 'efinite', 'rys', 'elts', 'elowna', 'ĠOs', 'ĠOCB', 'ĠOAP', 'ĠOcean', 'ĠOxy', 'ĠOstyn', 'Ġmanure', 'Ġrelay', 'Ġrelinqu', 'Ġagro', 'Ġaggress', 'Ġreconst', 'Ġrecalculate', 'Ġrecurrence', 'Ġundergoing', 'Ġunderrepresented', 'Ġunderlies', 'Ġundergrad', 'Ġunderpin', 'Ġunderlie', 'inki', 'inkpot', 'kept', 'keeper', 'Ġcommunist', 'ribes', 'ribusiness', 'iagn', 'Ġpreferent', 'Ġoutset', 'ĠLed', 'ĠLess', 'ĠLew', 'ĠLabor', 'ĠLYRI', 'Ġalliance', 'ĠProgress', 'ĠProposal', 'ĠProportion', 'ĠProblems', 'ĠProvinces', 'renticeship', 'Ġevap', 'Ġevoke', 'Ġunequ', 'Ġunlaw', 'Ġunilateral', 'Ġunhealthy', 'Ġunwill', 'Ġunclear', 'Ġunofficial', 'Ġunstable', 'Ġunregistered', 'Ġunprotected', 'Ġunpreced', 'Ġunanimity', 'contained', 'racticable', 'Ġjar', 'Ġjaz', 'Ġorganising', 'Ġsymp', 'Ġsyphilis', 'Ġdeclines', 'Ġapproached', 'Ġ29', 'Ġprudence', 'Ġprudent', 'Ġprocessor', 'Ġprocessors', 'issile', 'issued', 'orea', 'Ġcountering', 'Ġsuburban', 'ibrant', 'Ġsockeye', 'Ġpublics', 'ĠInside', 'ĠInstream', 'ĠInsecurity', 'ĠStal', 'ĠStreng', 'ĠStroke', 'ĠStinkpot', 'arnivores', 'viruses', 'Ġalbe', 'Ġtrail', 'Ġtraces', 'Ġtraumatic', 'Ġposing', 'poss', 'Ġindefinite', 'Ġimportantly', 'ĠCommissions', 'ĠCommemorative', 'ĠCommemoration', 'Ġartery', 'Ġarsen', 'Ġammon', 'Ġamaz', 'agu', 'agin', 'agent', 'agog', 'aganda', 'Ġscra', 'Ġscans', 'Ġscrap', 'Ġscler', 'Ġsculpt', 'Ġtransient', 'Ġtransnational', 'Ġtransposition', 'ĠRecip', 'ĠRehabilitation', 'ĠReasons', 'ords', 'ordered', 'obiography', 'Ġresultant', 'Ġoverriding', 'Ġoverfishing', 'okes', 'ĠHeart', 'Ġinstances', 'Ġinstinct', 'iews', 'Ġsitting', 'ologic', 'ologist', 'Ġcareful', 'Ġconcerted', 'Ġconcomitant', 'ateriel', 'current', 'Ġhelpdes', 'intendent', 'Ġadvent', 'ucus', 'arer', 'issioned', 'Ġimplementations', 'Ġplanets', 'Ġplankton', 'Ġdesc', 'Ġdescent', 'Ġachieves', 'Ġobjections', 'Ġinfra', 'Ġpatrol', 'Ġlegs', 'Ġspecimens', 'Ġfeet', 'Ġgenres', 'tech', 'technology', 'Ġpurity', 'Ġpracticing', 'Ġmedals', 'Ġmediate', 'Ġspur', 'Ġspra', 'Ġspare', 'Ġspills', 'Ġspoke', 'Ġspike', 'Ġspillover', 'Ġforming', 'assessment', 'Ġgrouping', 'oldiers', 'Ġeconomists', 'Ġimproves', 'Ġuphold', 'Ġupcoming', 'Ġupkeep', 'ictions', 'Ġentice', 'Ġentertain', 'Ġenthus', 'Ġdepth', 'Ġdeprec', 'Ġdepressed', 'Ġaddresses', 'ructive', 'Ġedit', 'Ġeditors', 'Ġsurge', 'away', 'Ġdiscount', 'Ġdiscarded', 'Ġphishing', 'Ġwanting', 'comb', 'Ġautism', 'ĠChance', 'ĠCharl', 'ĠChlo', 'ĠChoices', 'ĠChanged', 'Ġstatistically', 'Ġstatisticians', 'Ġmeters', 'Ġmetres', 'Ġrepairs', 'Ġrepris', 'Ġrepublics', 'Ġstandpoint', 'avian', 'Ġretro', 'Ġretreat', 'Ġretires', 'Ġlock', 'Ġpromul', 'Ġpromised', 'Ġaftermath', 'Ġlanguishing', 'Ġwherever', 'Ġfacie', 'Ġcolony', 'hedra', 'ĠConferences', 'ĠConsequences', 'egal', 'egro', 'phones', 'Ġpotat', 'Ġcritics', 'Ġmodalities', 'Ġrevamp', 'Ġrevoke', 'Ġrevoked', 'terns', 'ternate', 'Ġdefensible', 'types', 'Ġowning', 'Ġcultivate', 'Ġinitiates', 'Ġinstitutes', 'Ġminute', 'Ġministry', 'Ġministries', 'Ġguess', 'ĠVI', 'ĠVol', 'ĠVEC', 'ĠVulner', 'ĠVIA', 'ĠVien', 'ĠVII', 'ĠVHS', 'ĠVianney', 'ĠViews', 'Ġfirstly', 'Ġknowledgeable', 'Ġindividually', 'Ġmonuments', 'otechnologies', 'ĠServing', 'ĠServants', 'Ġrespectful', 'Ġspecification', 'Ġcorrupt', 'Ġcormor', 'Ġpopul', 'oster', 'ostructure', 'ĠJames', 'ĠJournal', 'ĠJeff', 'Ġrealising', 'Ġneglect', 'Ġagreeing', 'Ġsmell', 'Ġelecting', 'Ġelectorate', 'Ġauthorizes', 'Ġsignify', 'Ġsignatory', 'Ġsignatories', 'Ġdemograph', 'central', 'ĠResponse', 'ĠResidue', 'ricants', 'ovine', 'Ġdecisionmaking', 'Ġconfusion', 'Ġ1900', 'Ġ1930', 'Ġ1904', 'Ġreleasing', 'ĠAgencies', 'ĠAgribusiness', 'foreign', 'Ġherring', 'Ġherpes', 'Ġherbicides', 'Ġdesigner', 'Ġdesignate', 'Ġviewed', 'ĠKa', 'ĠKong', 'ĠKanda', 'Ġoptimize', 'ĠUnity', 'ĠUnhealthy', 'ĠUnidentified', 'Ġassociative', 'ranational', 'Ġ-)', 'worked', 'working', 'Ġforever', 'Ġrepresentativeness', 'ilitarian', 'verything', 'Ġclaimants', 'Ġinflux', 'Ġinfluential', 'ĠYug', 'Ġmethylp', 'Ġlistings', 'rolinian', 'Ġhighs', 'Ġrap', 'Ġrav', 'Ġrape', 'Ġraces', 'Ġpercentages', 'Ġpercentile', 'Ġpositioned', 'Ġpositioning', 'ĠRegions', 'ĠRegime', 'ĠRegiment', 'Ġdeliverables', 'Ġpersonalized', 'Ġinsure', 'Ġinsulation', 'Ġinsof', 'Ġinserted', 'Ġcompliant', 'Ġextinct', 'Ġbehaving', 'Ġapproaching', 'Ġtestimony', 'Ġsuppress', 'Ġsupplements', 'Ġvisited', 'Ġairline', 'Ġspecialty', 'Ġmattered', 'Ġlabs', 'Ġallowable', 'Ġtreasures', 'Ġpresenter', 'Ġvaries', 'Ġlegislating', 'Ġbutter', 'Ġbutton', 'roaders', 'ussed', 'ertification', 'ĠQOL', 'Ġwellbeing', 'avement', 'Ġendure', 'Ġindicative', 'Ġsolved', 'Ġsolvency', 'Ġsolvents', 'Ġregistrant', 'Ġregistrants', 'Ġregistrar', 'itorious', 'Ġfilms', 'Ġfiltration', 'Ġdaytime', 'Ġdaycare', 'Ġlocalized', 'Ġcommunicates', 'Ġcentiped', 'unctional', 'Ġsubjected', 'coe', 'coal', 'coordin', 'coholic', 'Ġethos', 'Ġrefurb', 'Ġbuilder', 'Ġselects', 'Ġselective', 'ĠMany', 'Ġunderstandable', 'example', 'external', 'ĠArts', 'ĠArmen', 'ĠArtery', 'Ġsalt', 'Ġinnovate', 'Ġinnovators', 'ĠPlaces', 'proof', 'problems', 'tenegro', 'Ġpresidential', 'Ġpresidency', 'Ġfounded', 'Ġfounding', 'Ġlichen', 'Ġcontinuation', 'Ġcontinually', 'ographical', 'Ġjustifications', 'cribed', 'ĠCAF', 'ĠCAIS', 'ĠCADP', 'ligations', 'Ġphysi', 'ĠEnforcement', 'there', 'their', 'ĠExpl', 'ĠExclusion', 'ĠExplain', 'ĠExemption', 'Ġalternation', 'Ġblind', 'Ġadditionally', 'Ġideally', 'Ġglobalised', 'Ġpromoters', 'Ġcomplainants', 'ĠCFSA', 'ĠCFLI', 'ĠCFPC', 'CTIBI', 'DSS', 'ups', 'ATC', 'ATTM', 'ĠPrint', 'ĠMinimize', 'Ġpassion', 'Ġsugar', 'ĠAssign', 'ĠAssociated', 'Ġauditors', 'Ġflo', 'Ġcheques', 'Ġcheaper', 'Ġweaker', 'Ġweakness', 'Ġsuggests', 'Ġsuggestion', 'ĠShow', 'ĠShaken', 'Ġcreditors', 'ĠAdop', 'ĠAdam', 'ĠAdvert', 'services', 'Ġbiotic', 'Ġbiologists', 'Ġtravels', 'Ġtraveling', 'CBSA', 'Ġannually', 'Ġregionally', 'Ġartefact', '---', 'Ġpatentable', 'SCLC', 'Ġvolatile', 'Ġprima', 'Ġmarsh', 'Ġbroadly', 'Ġwriter', 'Ġdevise', 'Ġdevised', 'ĠGuarant', 'ĠGuiding', 'Ġdescribing', 'Ġpostage', 'Ġlitter', 'Ġliterally', 'Ġtimer', 'Ġtimber', 'Ġshowed', 'Ġshortly', 'ĠAlban', 'ĠAltmark', 'ĠAlternate', 'ĠContent', '_____', 'prime', 'Ġdebris', 'Ġdomains', 'ĠCIAR', 'ĠCIMIC', 'Ġcrude', 'Ġcrashed', 'Ġgaining', 'Ġselfemployed', 'ĠResearchNet', 'ĠApprenticeship', 'Ġcivilians', 'Ġcivilizations', 'Ġdownward', 'Ġtransferability', 'Ġexcites', 'Ġmotives', 'Ġlows', 'Ġlowered', 'Ġevaluator', 'equity', 'Ġtopographic', 'ĠBeings', 'Ġhanded', 'Ġstandardized', 'Ġvacant', 'Ġpacking', 'Ġpackaged', 'Ġcustomized', 'Ġviolate', 'ĠScreen', 'Ġobserving', 'Ġobservable', 'Ġcapitalize', 'notice', 'notably', 'ĠLeopard', 'ĠLevot', 'ĠLeukemia', 'Ġ2013', 'Ġ2050', 'Ġ2011', 'Ġdemanded', 'nea', 'Ġgeneris', 'ĠGenetic', 'Ġtraditionally', 'Ġclassify', 'Ġturnout', 'Ġantiqu', 'ĠTrail', 'ĠTrappist', 'Ġwavelength', 'Ġfreight', 'ĠTaxes', 'ĠTransformation', 'ĠTransmission', 'ĠTransatlantic', 'Ġ56', 'Ġillum', 'Ġtempo', 'Ġtemplates', 'relations', 'Ġsorties', 'meaning', 'Ġcircle', 'Ġslight', 'ĠDisposal', 'ĠDissemination', 'ĠMeant', 'ĠMechan', 'Ġpermitting', 'ivalency', 'Ġgrantor', 'roller', 'Ġreformed', 'Ġgeology', 'ĠFrenchman', 'Ġjudged', 'Ġjudici', 'ĠTeacher', 'ĠOfficers', 'Ġcorrectional', 'Ġurge', 'Ġadjud', 'Ġattracts', 'Ġattractions', 'Ġanswering', 'Ġmerchand', 'Ġappointing', 'Ġimmigrate', 'Ġimmigrating', 'background', 'Ġescal', 'ĠHumanities', 'Ġfuller', 'henidate', 'engine', 'engagement', 'ĠOrigins', 'Ġ104', 'ĠImplant', 'Ġguaranteed', 'after', 'ĠThose', 'ACH', 'ACP', 'Ġresponds', 'ĠCompletion', 'ĠCompulsory', 'ĠComponent', 'ieth', 'Ġ69', 'Ġcombine', 'monary', 'Ġessence', 'Ġhoused', 'Ġremainder', 'Ġparity', 'Ġdigits', 'Ġbillions', 'Ġbankers', 'âĢĤ2', 'âĢĤd', 'âĢĤof', 'âĢĤhand', 'âĢĤcan', 'Ġassumption', 'Ġcrosses', 'Ġfinalize', 'asked', 'Ġsettling', 'Ġconception', 'Ġconceptions', 'Ġexercises', 'Ġcollaborations', 'ĠCox', 'ĠCover', 'ĠCohesion', 'ĠCooley', 'ĠCoordinator', 'Ġessentials', 'version', 'ĠNotes', 'Ġtextiles', 'Ġtextbook', 'Ġattitudinal', 'Ġsentences', 'Ġsentenced', 'Ġinventive', 'Ġspeaker', 'Ġspeakers', 'SPS', 'Ġprospect', 'ĠMonetary', 'ĠMontenegro', 'Ġerad', 'Ġerosion', 'Ġcollectively', 'ISO', 'bean', 'Ġopposite', 'Ġwordmark', 'ĠSenegal', 'ĠEngland', 'ĠEngaging', 'ĠOlympics', 'Ġresidual', 'Ġallocate', 'Ġencountering', 'Ġharb', 'Ġharms', 'ĠAirports', 'Ġformalities', 'Ġcriminality', 'Ġarchival', 'Ġsurvived', 'Ġgradient', 'Ġgradually', 'CEN', 'DPC', 'DPR', 'calibre', 'Ġboil', 'operational', 'Ġdisputed', 'Ġuniversally', 'Ġfeeds', 'Ġlogged', 'Ġlogging', 'Ġoccupying', 'commissioned', 'white', 'Ġwrongdoing', 'Ġharming', 'Ġuntested', 'Ġadequacy', 'Ġcloses', 'Ġ217', 'Ġinjunctive', 'Ġconsistently', 'Ġquantification', 'Ġphoto', 'ICATC', 'Ġtriang', 'Ġwarrants', 'Ġlengthy', 'Ġradioactive', 'Ġtourists', 'Ġportal', 'Ġportions', 'ĠCBM', 'ĠCBHS', 'Ġenhancements', '106', '109', 'rador', 'ĠCSD', 'ĠCSO', 'ĠPhoto', 'ĠPhillips', 'Ġinterviewer', 'Ġmassasau', 'Ġratifying', 'ĠEAS', 'Ġceased', 'Ġflux', 'Ġlacks', 'ĠPSHCP', 'ĠPSRMP', 'ĠCharities', 'Ġtablet', 'Ġtablets', 'Ġfeminists', 'Ġredesign', 'elsinki', 'Ġexplaining', 'Ġflowing', 'Ġvolunteering', 'Ġmussel', 'Ġlifespan', '204', '2012', 'Ġpeacebuilding', 'Ġhistorians', 'Ġwinds', 'Ġwindows', 'ĠMedicine', 'ĠMedicare', 'ĠGATT', 'Ġspends', 'Ġadvertisers', 'Ġpredictions', 'Ġpredictable', 'CCRA', 'Ġcycling', 'contact', 'contribut', 'ĠRecourse', 'ĠRecipe', 'ĠFormats', '2003', 'ĠImplications', 'ownership', 'ĠNPT', 'ĠObtain', 'ĠObligations', 'Ġreligions', 'Ġinvestigators', 'Ġbreakfast', 'Ġcoordinator', 'Ġ72', 'Ġ700', 'Ġleftover', 'Ġadaptations', 'ĠRepOR', 'ipples', 'ĠCollect', 'ĠIMF', 'ĠIMO', 'ĠIMFN', 'Ġdisposals', 'ĠValid', 'ĠValley', 'PSEA', 'Ġdenying', 'Ġdenigr', 'Ġbrut', 'ĠCEPE', 'Ġlighting', 'ĠECI', 'ĠECVET', 'Ġenjoyable', 'Ġcleanup', 'Ġcampaigning', 'Ġhonor', 'Ġhonours', 'Ġhonesty', 'ĠCOR', 'ĠCORD', 'ĠCOUNTR', 'ĠINTER', 'âĢĶ\"\"', 'Ġsatisfying', 'Ġfrequencies', 'chedule', 'Ġultravio', 'Ġnearby', 'Ġmobil', 'Ġseparately', 'approach', 'approaches', 'ĠSmokers', 'ĠSecure', 'breeding', 'claim', 'clinical', 'Ġrouted', 'umbling', 'Ġpregnancies', 'ĠLabrador', 'Ġsubmarines', 'doctoral', 'general', 'ĠICG', 'ĠICR', 'ĠICGs', 'Ġsupranational', 'ĠMarg', 'ĠHousehold', 'Ġdissent', 'Ġnewspapers', 'parented', 'Ġconnecting', 'Ġconnectivity', 'Ġgraduating', 'Ġnanotechnologies', 'ĠAuthorized', 'Ġscenes', 'professionals', 'Ġ3052', 'Ġappealing', 'mails', 'mailed', 'Ġvermic', 'Ġfrontier', 'ĠSpring', 'ĠREF', 'ĠREACH', 'Ġinfringes', 'company', 'EPGs', 'Ġsensor', 'Ġsensibilities', 'Ġfirearm', 'Ġfirearms', 'Ġmorally', 'ĠMarkets', 'Ġemphasized', 'Ġdeclaring', 'Ġchecklist', 'ships', 'Ġmutually', 'Ġmarriages', 'ĠOperating', 'ĠOperator', 'ĠProfiles', 'ĠLevels', 'ĠPatterns', 'Ġattends', 'Ġattendant', 'Ġ1986', 'Ġ1987', 'Ġprescribes', 'Ġprescribing', 'Ġfrag', 'Ġfragments', 'Ġbattal', 'Ġbattles', 'Ġbattery', 'Ġstressor', 'Ġstressful', 'ĠAvian', 'ĠTerry', 'Ġworkshops', 'Ġincidental', 'Ġcounteracts', 'Ġterminal', 'Ġterminology', 'ĠIntegration', 'ĠIntegrating', 'ĠArchaeological', 'ĠExped', 'Ġparamount', 'Ġparameter', 'ĠPeoples', 'Ġsupervise', 'media', 'medicine', 'Ġwarmer', 'Ġrepaying', 'Ġanalyse', 'Ġanalytical', 'Ġanalyzed', 'ETS', 'Ġdiem', 'Ġsufficiently', 'Ġclustering', 'Ġequalization', 'Ġjournalism', 'disciplinary', 'included', 'Ġbioeth', 'Ġeuropean', 'Ġecozone', 'ĠecoENERGY', 'Ġutilize', 'Ġutilitarian', 'Ġseaside', 'Ġseasons', 'ĠHPB', 'ĠApproved', 'ĠApproaches', 'ĠAnalyst', 'ĠPeopleSo', 'Ġunexpectedly', 'POL', 'RES', 'Ġ81', 'Ġtends', 'Ġtendencies', 'Ġbirths', 'Ġbounds', 'Ġconverting', 'Ġsunny', 'Ġsunscreen', 'ĠPortfolio', 'ĠSynt', 'ĠSyria', 'Ġelimination', 'Ġeliminated', 'Ġshelves', 'Ġshelters', 'ĠAfghans', 'Ġmagnitudes', '130', 'Ġsongwriter', 'Ġpulmonary', 'Ġbarb', 'otoxic', 'ĠBlog', 'Ġmainstreamed', 'Ġtransformers', 'Ġpharmacy', 'Ġpharmacies', 'Ġcontinuously', 'ĠTravellers', 'oppose', 'scient', 'science', 'annual', 'Ġpleadings', 'Ġpleasant', 'ĠSections', 'ĠMSOC', 'ĠForest', 'Ġcommanding', 'Ġcommissioner', 'Ġcommissioned', 'Ġentailed', 'ĠContribute', 'ĠAssets', 'ĠObjective', 'onomic', 'Ġfosters', 'ĠImpacts', 'knowledge', 'Ġmortg', 'Ġhunted', 'Ġnominee', 'Ġweapon', 'ĠAuditors', 'ĠPolitical', 'Ġwithdrawing', 'ĠEmployers', 'communities', 'communicable', 'Ġtoxicological', 'Ġsucceeding', 'LIO', 'eye', 'loving', 'ĠWhooping', 'Ġhindering', 'Ġexcessive', 'Ġreservations', 'ĠEquipment', 'ĠEquivalency', 'Ġkillers', 'lictions', 'ogene', 'Ġalleging', 'ĠCAPC', 'Ġveterinarian', 'Ġslowly', 'Ġdiagnosed', 'Ġwinning', 'Ġwinners', 'Ġdramatically', 'ĠCoronary', 'ĠCorbie', 'Ġcompromising', 'ĠBulg', 'ĠBulletins', 'ĠLicense', 'Ġ178', 'Ġ1793', 'Ġinstalling', 'Ġconcluding', 'Ġarchitectures', 'consumer', 'Ġsnake', 'Ġsnakes', 'Ġwitnesses', 'ĠCCO', 'Ġstrip', 'ĠAttention', 'ĠAttachment', 'ĠAttorney', 'ĠAttestation', 'ĠMulti', 'ĠMultiple', 'ĠMountain', 'ĠBelieve', 'Ġsurpluses', 'Ġrainfore', 'ĠParticipants', 'Ġjudgement', 'Ġturbines', 'Ġseasonally', 'ROM', 'capable', 'matter', 'Ġdomination', 'ĠIAB', 'ĠIADN', 'Ġsequestration', 'Ġconsolidated', 'Ġstatutes', 'ĠConditional', 'Ġengineers', 'ĠSupplements', 'ĠTeams', 'Ġcollaboratively', 'track', 'Ġtolerate', 'ĠCarolinian', 'Ġshippers', 'ĠSTED', 'ĠFinCEN', 'Ġemerges', 'Ġrecovering', 'Ġtrainer', 'Ġsubstitutes', 'Ġsubstituted', 'Ġanalysing', 'representation', 'Ġdisplayed', 'UAGE', 'hyd', 'hyroxine', 'please', 'Ġwetness', 'Ġdrove', 'Ġdelegate', 'Ġdelegated', 'Ġneurogenetic', 'ĠPurch', 'ĠDrivers', 'ĠDriver', 'ĠDriving', 'ĠMoRS', 'ĠFIMCL', 'ĠFIRST', 'ĠFeasibility', 'Ġforecasted', 'Ġsymbolism', 'Ġsymbolizes', 'ĠQuestionnaire', 'Ġmacroeconom', 'justified', 'Ġcampus', 'Ġcampground', 'Ġrewarded', 'Ġconveyed', 'Ġexceeds', 'ĠSports', 'Ġenlarged', 'ĠRomanian', 'ĠFAA', 'ĠGHOW', 'ĠGMO', 'Ġpersistent', 'Ġlistener', '________________________________', 'Industry', 'NGUAGE', 'blood', 'blowers', 'blocks', 'blinding', 'restricted', 'Ġfatigue', 'Ġorientations', 'Ġsteering', 'Ġcompel', 'Ġsuspended', 'ĠMCSS', 'Ġobsessive', 'Ġintermediary', 'ĠReceives', 'Ġdrafts', 'ĠInfluence', 'ĠInfluenced', 'Ġneighborhood', 'ESDP', 'Ġborrower', 'Ġborrowers', 'Ġangle', 'Ġangloph', 'ĠCCCR', 'celona', 'Ġconvictions', 'ĠSalaam', 'ĠSpecifications', 'Ġmoderately', 'ĠMatters', 'ĠMaternity', 'Ġintervening', 'Ġtrainee', 'Ġ1971', 'Ġ1972', 'Ġ1975', 'ĠCATIP', 'Ġtimeframes', 'ĠConsumption', 'Ġwarranty', 'CIDPC', 'yramid', 'ĠÃ¢', 'ĠÃİle', 'Ġtickets', 'Ġcrave', 'Ġduplication', 'ĠDomain', 'Ġacknowledged', 'Ġdisappeared', 'Ġclimbing', 'Ġquoted', 'Ġinstructors', 'ĠKingdom', 'Ġgrassroots', 'Ġsimplified', 'Ġsimplification', 'ĠExporters', 'ĠAdministrator', 'marketing', 'ĠPeacebuilding', 'Ġlegitimately', 'Ġaerate', 'Ġaeros', 'Ġthousand', 'Ġproponents', 'Ġpropaganda', 'Ġproprietary', 'impact', 'Ġimpressive', 'ĠSignal', 'ĠSignificance', 'ĠNAAT', 'ĠMaintenance', 'ĠHSR', 'ĠHarry', 'ĠHarper', 'ĠGreeks', 'ĠInnu', 'Ġindexing', 'Ġdiscoveries', 'Ġvegetation', 'Ġvegetable', 'ĠTechnological', 'Ġbargains', 'ĠComplaint', 'ĠComplaints', 'Ġcelebrated', 'Ġfruitful', 'iki', 'socially', 'Ġapartment', 'Ġsacred', 'Ġsweat', 'ulsive', 'ĠSimian', 'ĠSimcoe', 'ĠSexual', 'Ġenforced', 'emorrh', 'ĠMerit', 'ĠFishway', 'ĠHighway', 'Ġinconsistency', 'ĠBurger', 'ĠBrazilian', 'Ġrobes', 'ĠChairmans', 'Ġelectronics', 'Ġannouncements', 'ĠContaminated', 'Ġdownloading', 'Ġillustrated', 'Ġillustrate', 'Ġillustrations', 'Ġphotographers', 'ĠRecommendations', 'Ġpharmacist', 'Ġallegedly', 'Ġtraineeship', 'Communications', 'promote', 'ratization', 'ĠÂ»', 'atheter', 'Ġcasuals', 'Ġdoubling', 'Ġrectify', 'Ġrectifying', 'Ġstrains', 'Ġstabilization', 'ĠPHL', 'ĠPHAC', 'ĠPersian', 'ĠEPG', 'ĠRanger', 'ĠTests', 'ĠFSWEP', 'ĠBroadband', 'Ġclinic', 'Ġappropriation', 'ĠInterested', 'ĠVECTIBI', 'ĠYOUR', 'Ġaffiliation', 'Ġancestry', 'âĤ¬Â', 'aii', 'authorities', 'subsid', 'Ġprairies', 'Ġbombings', 'Ġreferee', 'ĠCitizenship', 'Ġstormwater', 'ĠPIMS', 'Ġrigour', 'accident', 'accinated', 'emocratic', 'ĠTools', 'Ġdispersed', 'ĠLCaS', 'ĠStaffing', 'Ġconfirmation', 'Ġoccasions', 'projects', 'ĠAddress', 'ĠAdditional', 'ĠGeneric', 'ĠThinking', 'ĠConservatives', 'Ġdigitization', 'Ġirradiated', 'recording', 'Ġdismissal', 'Ġdismissed', 'Ġacknowledgement', 'Ġparallels', 'BIL', 'Chapter', 'Ġtapes', 'Ġfrustrated', 'Ġfrustrating', 'Ġbriefing', 'Ġhormone', 'Ġhormonal', 'ĠCreutzfe', 'Ġgrew', 'Ġgrey', 'ĠSolvent', 'Ġresisted', 'ĠRefusal', 'ĠTopography', 'ĠFNLMA', 'ĠFacilit', 'ĠGeorgia', 'ĠBEST', 'ĠOwns', 'Ġreluctance', 'ĠLANGUAGE', 'ĠLoI', 'ĠLoan', 'ĠLoans', 'confidence', 'conflict', 'Ġaddicted', 'Ġidentifier', 'Ġmonopolies', 'ĠJudge', 'ĠJudicial', 'Ġnumerical', 'Ġreminder', 'Ġdevoting', 'ĠContestant', 'Ġproportionality', 'Ġprosperity', 'Ġprosperous', 'Ġsubscribers', 'Ġglacial', 'Ġglacier', 'Ġglaciers', 'Ġnavigating', 'small', 'Ġcadaver', 'Ġinevitable', 'Ġmaltreatment', 'Ġmurd', 'lexibility', 'Ġhopeful', 'Ġegg', 'ĠCMHR', 'ĠCelebrate', 'Ġlunch', 'Ġlagging', 'ĠItalian', 'Ġundated', 'Ġvictories', 'ĠTFSA', 'ĠTobaccon', 'ĠHaanas', 'ĠHolder', 'ĠHolding', 'Ġcomplementarity', 'Ġarrested', 'Ġmemorandum', 'Ġdepicted', 'Ġrevolutionary', 'Ġguardian', 'Ġconfronted', 'Ġlandfills', 'providers', 'Ġbiomass', 'Ġtemporarily', 'ĠDisputes', 'ĠLegislative', 'ĠLiberals', 'Ġaccompanying', 'ĠÃīpinal', 'ĠOccupation', 'ĠAustralian', 'ĠAustralia', 'ĠAustralians', 'Registry', 'TION', 'certified', 'certification', 'window', 'Ġtiny', 'Ġwatched', 'Ġdiligence', 'Ġinjection', 'Ġinjecting', 'arrival', 'Ġreassessment', 'Ġconvection', 'Ġstarving', 'ĠSEBs', 'ĠSOE', 'Ġabolition', 'Ġabolish', 'Ġresilient', 'Ġresilience', 'Ġricin', 'ĠEmbassy', 'Ġenemies', 'ĠNominee', 'ĠMEPs', 'ĠBCCAD', 'Ġclimbers', 'Ġclimatic', 'Ġelaborate', 'Ġupheaval', 'Ġphilosopher', 'ĠReserves', 'ĠReserved', 'Ġconstituency', 'Ġbaskets', 'Ġendeavor', 'Ġexplosion', 'Ġexplosive', 'ĠTaxpayer', 'Ġboomers', 'Ġhypotheses', 'Ġburdensome', 'Ġcounseling', 'requisites', 'Ġdecentralization', 'ĠNeighbouring', 'ĠNeighbourhood', 'Manitoba', 'Prince', 'country', 'clearance', 'district', 'demographic', 'decre', 'decision', 'historical', 'liberal', 'package', 'packaging', 'Ã¨re', 'informed', 'Ġinhal', 'Ġfurniture', 'Ġtombs', 'education', 'Ġnurturing', 'Ġproliferating', 'Ġlesbians', 'Ġladder', 'ĠIBET', 'Ġasbestos', 'Ġexceptional', 'ĠEDO', 'ĠEDUPR', 'Ġkidn', 'Ġapprentice', 'Ġapprentices', 'Ġplurilingualism', 'ĠNWRI', 'Ġcooks', 'ĠGeomatics', 'Ġincubator', 'ĠBattery', 'ĠBarcelona', 'Ġunauthorized', 'Ġreceptive', 'ĠEUROPA', 'ĠIndependent', 'ĠAcadia', 'ĠOrders', 'ĠOrdinance', 'Ġroadmapping', 'ĠObservers', 'Ġbrothers', 'ĠAnglophone', 'documents', 'document', 'guard', 'guidance', 'multi', 'Ġfungus', 'Ġbundle', 'Ġbreathe', 'Ġbreathing', 'Ġtotem', 'Ġthunderstorm', 'Ġproximity', 'Ġprotein', 'ĠCMEC', 'ĠSettlement', 'ĠSettlements', 'ĠSerbia', 'Ġabuser', 'Ġhealers', 'Ġventures', 'Ġvoyage', 'Ġvoyages', 'ĠRocky', 'ĠMOST', 'ĠMcD', 'ĠFlash', 'ĠGIFI', 'ĠGwich', 'ĠGwaii', 'Ġconserving', 'ĠBirds', 'Ġinterdepartmental', 'Ġrelocated', 'ĠIncrease', 'ĠStewardship', 'Ġalarming', 'Ġallegations', 'Ġconcili', 'Ġconciliation', 'Ġconcurrently', 'Ġreversibility', 'Ġdefeat', 'Ġdefeated', 'Ġskiing', 'Ġethnocultural', 'expertise', 'ĠExperiences', 'Ġradiocomm', 'ï¬Ģect', 'ĠPhysicians', 'ĠDeferred', 'ĠDeferral', 'Ġirrational', 'Ġirrigation', 'Ġreinforced', 'ĠSlovenia', 'ĠSlovakia', 'Ġreferendum', 'ĠNiÃ±o', 'Ġpredecessor', 'Ġpredecessors', 'greatest', 'surveillance', 'sponsored', 'Ġillegally', 'Ġtropopause', 'Ġcamera', 'Ġpitfalls', 'Ġpedagog', 'Ġpirates', 'Ġbonus', 'Ġbarely', 'Ġbidders', 'Ġdownturn', 'Ġthoroughly', 'ĠCaribbean', 'Ġlamps', 'Ġgrammar', 'Ġconvenient', 'Ġstipulated', 'Ġstringent', 'Ġnecessarily', 'Ġcancellation', 'ĠAFKT', 'ĠAquatic', 'ĠACTA', 'Ġimplied', 'Ġimprison', 'Ġhelmet', 'Ġrationing', 'Ġenvelope', 'ĠRacial', 'ĠDouglas', 'ĠNEPAD', 'ĠNavSim', 'ĠNursing', 'ĠNSERC', 'ĠMandatory', 'ĠMobility', 'ĠMajesty', 'ĠMarihuana', 'Ġperipheral', 'Ġassimilation', 'Ġreclassified', 'Ġuncovered', 'Ġdecommissioning', 'Ġsubdivisions', 'ĠInclude', 'ĠStructural', 'Ġalgae', 'Ġtrajectory', 'Ġmonographs', 'ĠJewish', 'Ġdemutualization', 'Ġinsolvency', 'Ġenclosed', 'Ġcarcinoma', 'Ġtelemarketers', 'ĠAdvancement', 'Ġmeningococcal', 'âĢĤsignal', 'Ġarrhythmia', 'Ġfundamentals', 'Ġcounsellor', 'Ġxenophobia', 'ĠReducing', 'disaggregation', 'Ġprecipitating', 'Ġprecautionary', 'Ġbeneï¬ģt', 'Ġreservoirs', 'ĠCorrections', 'ĠRemedial', 'ĠEstimates', 'Ġastronaut', 'Ġanthropogenic', 'Ġosteoporosis', 'Ġjeopardize', 'Ġsacrifices', 'Ġporpoise', 'receipting', 'Payment', 'Related', 'corporate', 'mandate', 'populations', 'trainer', 'whether', 'ĠWhale', 'Ġauctions', 'Ġcosmic', 'Ġmigraine', 'Ġmixture', 'Ġbeacon', 'strategic', 'ĠCabinet', 'ĠCreek', 'ĠCigarettes', 'ĠCollaborative', 'Ġliaisons', 'Ġconvinced', 'Ġstranger', 'Ġitineraries', 'ĠSITs', 'ĠSomalia', 'Ġhectare', 'ĠEFSA', 'Ġenergized', 'ĠDialing', 'Ġplaque', 'ĠMuns', 'ĠMissing', 'ĠFirms', 'ĠFranchise', 'ĠHenry', 'ĠHospitals', 'Ġintolerant', 'ĠGraduation', 'ĠGrosse', 'Ġincumbents', 'ĠBadger', 'ĠBarnes', 'ĠBosnia', 'ĠOLAF', 'Ġmanipulation', 'Ġpreconditions', 'ĠLubricants', 'ĠLangley', 'Ġunnecessary', 'connected', 'Ġresembles', 'Ġamenable', 'Ġrevitalization', 'ĠVietnam', 'ĠVehicle', 'Ġdeterioration', 'Ġremembered', 'ĠAgainst', 'ĠKenya', 'Ġconstellations', 'ĠArbitration', 'Ġrestaurants', 'ĠIndonesia', 'ĠScandinavian', 'ĠTrainers', 'ĠTrafficking', 'Ġtempting', 'Ġphotocopier', 'Ġfluorescent', 'Ġbrochure', 'Ġ8515', 'Ġambiguous', 'Ġrepellents', 'ĠMyeloid', 'ĠBelgium', 'Ġsqueeze', 'ĠEnterprises', 'ĠCaucasus', 'Ġneurological', 'Ġexemplary', 'Ġdisappointing', 'Ġabsenteeism', 'Ġnoroviruses', 'Ġlyricists', 'ĠAdmiralty', 'Approach', 'Ġanemometers', 'ĠAmbassadors', 'ĠRatsnake', 'Ġmanoeuvre', 'British', 'GRTKF', 'Jakob', 'Legendre', 'Practice', 'Secondary', 'Saharan', 'TFOLIO', 'boundary', 'collaboration', 'faxed', 'freedom', 'marches', 'method', 'morbid', 'proliferation', 'supervis', 'tools', 'Ġtrenches', 'Ġtwelve', 'enchmarks', 'Ġsatellites', 'Ġpipes', 'Ġpervasive', 'Ġpneum', 'Ġpoultry', 'ĠdÃ©marches', 'Ġinherit', 'Ġfocussed', 'Ġanonymous', 'Ġthalidomide', 'Ġnonsense', 'ĠCreativity', 'ĠCalgary', 'Ġlactose', 'Ġlisteriosis', 'Ġlengths', 'Ġlongevity', 'Ġconsecutive', 'Ġstupid', 'ĠACOA', 'ĠAlexander', 'ĠApollo', 'ĠPubMed', 'ĠPrenatal', 'ĠPesticide', 'ĠPORTFOLIO', 'Ġexhaust', 'ĠSophia', 'ĠSinai', 'ĠSolidarity', 'ĠSPOW', 'Ġchlamydia', 'Ġmefloquine', 'ĠERTMS', 'ĠRailroaders', 'ĠRRSPs', 'ĠDPOH', 'ĠDaphne', 'Ġplaintiffs', 'independent', 'ĠNobel', 'ĠNokia', 'ĠMoscow', 'ĠTokyo', 'ĠTolerable', 'ĠFernald', 'ĠFairness', 'Ġcommendable', 'ĠHACCP', 'ĠHudson', 'ĠHawaiians', 'Ġcoercive', 'ĠBegin', 'ĠBreton', 'ĠBraya', 'ĠBCLICATC', 'Ġdisarmament', 'Ġobsolete', 'Ġinterviewee', 'ĠOAPI', 'ĠOxyride', 'Ġpreferential', 'ĠLYRICA', 'Ġunlawful', 'Ġunwilling', 'Ġunprecedented', 'Ġjazz', 'ĠStrengths', 'Ġalbeit', 'Ġammonia', 'Ġsclerosis', 'ĠRecipient', 'Ġhelpdesk', 'ĠChloe', 'Ġreprisal', 'ĠVulnerable', 'ĠVienna', 'Ġcormorant', 'ĠKandahar', 'ĠYugoslavia', 'Ġmethylphenidate', 'Ġinsofar', 'Ġcentipede', 'ĠCADPATTM', 'ĠLevothyroxine', 'Ġjudiciary', 'Ġescalate', 'ĠCBHSs', 'Ġmassasauga', 'ĠCEPEJ', 'ĠCORDIS', 'ĠCOUNTRY', 'Ġultraviolet', 'Ġvermiculite', 'ĠPeopleSoft', 'ĠCorbiere', 'ĠFIMCLA', 'Ġanglophone', 'ĠChairmanship', 'ĠVECTIBIXTM', 'ĠCreutzfeldt', 'Ġcadaveric', 'ĠEDUPRE', '\\'\\'?\"', ');', '*?\"', '+,', '+?\"', '-\"\"', '1204', '22', '210', '288', '32', '38', '41', '520', '61', '62', '64', '65', '73', '720', '80', '92', '94', '99', 'AB', 'Af', 'An', 'At', 'Aut', 'Air', 'ASS', 'AHP', 'BST', 'Border', 'BIN', 'Body', 'Brazil', 'Cl', 'Count', 'Care', 'CRA', 'CIP', 'Crown', 'CMS', 'CHRC', 'CRIC', 'CGSB', 'CHRP', 'DM', 'DV', 'Des', 'Did', 'Del', 'Dec', 'DPA', 'DEX', 'DOC', 'Does', 'DNS', 'El', 'Effect', 'ERA', 'EEC', 'EEA', 'Estate', 'FM', 'FR', 'FT', 'FSP', 'FIS', 'FTA', 'FAS', 'FNT', 'Financial', 'Gap', 'Green', 'GOC', 'GUE', 'HM', 'Hz', 'Have', 'HIP', 'HMP', 'Habitat', 'HÃī', 'HLV', 'IL', 'IM', 'Ic', 'IDS', 'IRP', 'IMD', 'Just', 'Jew', 'Job', 'June', 'KMS', 'Knowledge', 'Korea', 'LS', 'LW', 'Le', 'Ls', 'LCC', 'LDCs', 'MG', 'MH', 'Mo', 'Mat', 'Min', 'Mil', 'Mart', 'Made', 'Member', 'NI', 'No', 'National', 'NAT', 'NHR', 'NRC', 'Nutrition', 'Nova', 'November', 'NOA', 'NSCLC', 'OB', 'OO', 'Op', 'Or', 'ORE', 'OECD', 'PM', 'Pat', 'Per', 'Public', 'Point', 'PCP', 'Primary', 'PIPEDA', 'PTION', 'QID', 'QHI', 'RU', 'Risk', 'RDC', 'Royal', 'RRSP', 'RNFB', 'RWDP', 'SK', 'Sh', 'Sen', 'Site', 'SME', 'South', 'SED', 'SFF', 'Soldiers', 'Schedule', 'TU', 'Th', 'Thing', 'TPP', 'TID', 'TDI', 'TUA', 'Tele', 'Temporary', 'TSR', 'UF', 'Use', 'VD', 'VO', 'VIT', 'VDD', 'VOT', 'Vista', 'WF', 'WO', 'WW', 'We', 'Would', 'West', 'Wee', 'WSS', 'WIPO', 'XDR', 'YT', 'YST', 'YIP', 'YOPS', '[?\"', ']\"\"', 'aed', 'aro', 'affect', 'aiss', 'aved', 'afer', 'aunt', 'bt', 'bes', 'bation', 'bad', 'big', 'bot', 'bos', 'bus', 'bage', 'bia', 'bark', 'burn', 'biod', 'barriers', 'bued', 'bÃ©', 'bug', 'branch', 'better', 'bidity', 'box', 'bbits', 'bidden', 'birth', 'benchmarks', 'cul', 'cers', 'cult', 'cence', 'creat', 'case', 'categ', 'cold', 'cale', 'chers', 'chest', 'commod', 'cash', 'courage', 'crypt', 'carding', 'catheter', 'dr', 'det', 'dated', 'dog', 'diss', 'diversity', 'determin', 'diesel', 'dinos', 'donald', 'democratic', 'eent', 'each', 'element', 'eco', 'eerent', 'ebra', 'fu', 'fow', 'five', 'fram', 'first', 'fav', 'farm', 'forts', 'fix', 'fection', 'filing', 'files', 'fï¬ģc', 'fibre', 'flag', 'functional', 'gw', 'gic', 'gar', 'gir', 'gather', 'ggest', 'grim', 'gender', 'gling', 'gmatic', 'hs', 'hu', 'hon', 'hum', 'high', 'hier', 'hoe', 'hrax', 'hazard', 'iC', 'ih', 'iro', 'iop', 'ius', 'ioc', 'iator', 'iably', 'ikelihood', 'iRes', 'iÃ¨re', 'ju', 'jin', 'ken', 'ker', 'kal', 'kest', 'kish', 'kless', 'kma', 'kana', 'klore', 'len', 'lad', 'live', 'lay', 'lable', 'link', 'last', 'look', 'liven', 'lov', 'living', 'lases', 'leration', 'lending', 'lift', 'lades', 'lastic', 'links', 'mble', 'mith', 'mart', 'mus', 'mind', 'mass', 'mph', 'mium', 'match', 'mosis', 'mistry', 'missible', 'married', 'ns', 'nom', 'nut', 'nant', 'native', 'nish', 'neg', 'network', 'niest', 'nnial', 'oa', 'oar', 'oil', 'overnment', 'oft', 'oicing', 'ooley', 'oamy', 'pit', 'pal', 'pur', 'pred', 'pie', 'pans', 'park', 'past', 'penc', 'pants', 'pote', 'pret', 'phere', 'prep', 'patch', 'pox', 'purch', 'ril', 'rific', 'rals', 'rater', 'rised', 'roney', 'rights', 'random', 'sl', 'say', 'sam', 'same', 'saw', 'size', 'scrib', 'sides', 'suit', 'sustain', 'successful', 'sourcing', 'sports', 'sessed', 'sourced', 'sensitive', 'tes', 'tail', 'tax', 'tting', 'tiary', 'tolerance', 'true', 'temporary', 'today', 'tailed', 'uh', 'uay', 'uations', 'uance', 'uating', 'uying', 'uilt', 'uishment', 'uzz', 'visions', 'vae', 'video', 'wit', 'wed', 'wid', 'wart', 'walk', 'wls', 'woman', 'waters', 'yur', 'yard', 'yte', 'ympt', 'yrs', 'yrene', 'yze', 'ytical', 'zones', 'zburg', '³n', 'µg', 'Â»', 'Âµg', 'ÃĤ', 'Ã³n', 'Åĵ', 'Ġ@', 'Ġā', 'Ġic', 'Ġate', 'Ġrom', 'ĠâĢĻ', 'Ġie', 'Ġile', 'Ġerg', 'Ġills', 'ĠWhose', 'Ġze', 'Ġ_____', 'ĠtO', 'Ġtion', 'Ġtent', 'Ġtar', 'Ġtort', 'Ġtight', 'Ġtone', 'Ġtire', 'Ġtribut', 'Ġtied', 'Ġtabl', 'Ġtours', 'Ġtins', 'Ġtribun', 'Ġtetra', 'atv', 'atro', 'atar', 'atation', 'atri', 'atus', 'atility', 'atized', 'atto', 'atographic', 'atiOn', 'atotrop', 'hea', 'hement', 'held', 'hend', 'herap', 'hetical', 'Ġaug', 'Ġaiding', 'Ġakin', 'inv', 'inx', 'iny', 'inen', 'inic', 'inant', 'inition', 'invent', 'indust', 'inning', 'inatory', 'inished', 'rely', 'reich', 'reated', 'reack', 'reference', 'remes', 'reignty', 'replacement', 'rehend', 'oned', 'onard', 'ontal', 'onven', 'onograms', 'Ġok', 'Ġooc', 'Ġoath', 'Ġoven', 'Ġovere', 'Ġoyst', 'Ġosm', 'Ġolive', 'ena', 'enic', 'enly', 'enay', 'enus', 'enching', 'enforcement', 'esian', 'esame', 'escue', 'isc', 'isy', 'isle', 'isect', 'isations', 'isition', 'isible', 'isia', 'isals', 'isco', 'isposition', 'erated', 'erior', 'erusal', 'Ġcake', 'Ġcues', 'Ġcord', 'Ġcrow', 'Ġcited', 'Ġcraft', 'Ġcows', 'Ġcrying', 'Ġcosmetic', 'Ġcrane', 'Ġcarnivores', 'Ġsir', 'Ġsail', 'Ġspect', 'Ġsoph', 'Ġsisters', 'Ġsorb', 'Ġsixt', 'Ġsinks', 'Ġsourced', 'Ġsibl', 'Ġskept', 'Ġsesame', 'anou', 'anal', 'angh', 'anna', 'oules', 'oupling', 'oro', 'orce', 'orith', 'orus', 'orry', 'orption', 'orogation', 'Ġpad', 'Ġpig', 'Ġpiv', 'Ġpow', 'Ġpri', 'Ġpac', 'Ġpand', 'Ġpere', 'Ġpants', 'Ġpond', 'Ġpills', 'Ġpunct', 'Ġpending', 'Ġpicks', 'Ġpumps', 'Ġpiped', 'ĠpÃª', 'Ġpediatric', 'Ġwou', 'Ġwiz', 'Ġwore', 'Ġwings', 'Ġwines', 'Ġwaged', 'Ġwien', 'Ġwaves', 'Ġwaning', 'Ġwagon', 'Ġwreack', 'Ġdich', 'Ġdip', 'Ġdens', 'Ġdrib', 'Ġdries', 'Ġdys', 'Ġduly', 'Ġdressed', 'Ġdwell', 'Ġdrank', 'Ġdiploma', 'ionately', 'ionaire', 'itic', 'itro', 'itate', 'itated', 'ituation', 'itism', 'ittle', 'itÃ©', 'itamin', 'itters', 'itimes', 'itcher', 'Ġing', 'Ġinver', 'Ġincess', 'Ġingest', 'Ġinaction', 'ĠinFO', 'Ġinsemin', 'Ġinferences', 'Ġinactive', 'Ġinhuman', 'Ġinadvert', 'Ġinsecure', 'alo', 'aly', 'alon', 'alition', 'alia', 'alach', 'alcon', 'altern', 'alify', 'alde', 'aluminum', 'alitarian', 'alhous', 'alcoholic', 'Ġfan', 'Ġfans', 'Ġfry', 'Ġfits', 'Ġfled', 'Ġfries', 'Ġfines', 'Ġfool', 'Ġfran', 'Ġfond', 'Ġfished', 'Ġfolic', 'Ġfier', 'Ġfoss', 'Ġfiction', 'Ġfried', 'Ġfasc', 'Ġfucking', 'Ġfrig', 'Ġfescue', 'Ġbd', 'Ġbak', 'Ġbud', 'Ġbend', 'Ġbab', 'Ġbits', 'Ġbones', 'Ġbrown', 'Ġbery', 'Ġbraz', 'Ġbabies', 'Ġbologna', 'Ġbovine', 'Ġtoy', 'Ġtofu', 'Ġtoken', 'Ġanch', 'Ġanther', 'Ġanger', 'iche', 'icul', 'icence', 'icits', 'ichel', 'edown', 'ingiv', 'rot', 'rook', 'rocal', 'rospect', 'roductive', 'roducts', 'rokest', 'ĠmL', 'Ġmi', 'Ġmm', 'Ġmun', 'Ġmum', 'Ġmile', 'Ġmines', 'Ġmaj', 'Ġmilit', 'Ġmouse', 'entle', 'entions', 'entities', 'entary', 'entional', 'enterpr', 'entitlement', 'entitled', 'cter', 'ctal', 'ctors', 'arse', 'arate', 'arities', 'arium', 'arhus', 'aratus', 'Ġrear', 'Ġreun', 'Ġrender', 'Ġreaff', 'Ġrenal', 'Ġremitted', 'Ġreï¬Ĥ', 'Ġrewrit', 'Ġreintegration', 'lem', 'leys', 'left', 'vehic', 'Ġhip', 'Ġhall', 'Ġhib', 'Ġhalls', 'Ġhurric', 'ĠhGH', 'Ġbeat', 'Ġbein', 'Ġbeach', 'Ġbeverages', 'Ġbearer', 'Ġyo', 'Ġyes', 'Ġyard', 'ĠyOu', 'Ġthrow', 'Ġthriving', 'Ġthwart', 'Ġeag', 'Ġerect', 'Ġeternal', 'Ġeager', 'Ġelicit', 'Ġeï¬Ģect', 'Ġefï¬ģc', 'oming', 'omers', 'omatotrop', 'ilop', 'ilter', 'mento', 'mentally', 'stat', 'star', 'sters', 'stop', 'stake', 'stone', 'step', 'story', 'struct', 'steps', 'stored', 'struction', 'stoke', 'storms', 'sticks', 'streak', 'Ġnig', 'Ġnort', 'Ġnerv', 'Ġnose', 'Ġnatives', 'Ġnerve', 'Ġnug', 'Ġnaming', 'Ġnipples', 'Ġnitro', 'Ġforts', 'Ġforcing', 'Ġforgo', 'Ġprost', 'Ġpromin', 'Ġprostitut', 'Ġprobe', 'seil', 'sets', 'second', 'season', 'ĠCG', 'ĠCJ', 'ĠCou', 'ĠCur', 'ĠCop', 'ĠCred', 'ĠCind', 'ĠCoy', 'ĠCord', 'ĠCards', 'ĠCote', 'ĠCaring', 'ĠCove', 'ĠCCT', 'ĠCirc', 'ĠCMA', 'ĠCPR', 'ĠCumulative', 'ĠCCM', 'ĠCLI', 'ĠCDI', 'ĠCarrier', 'ĠCML', 'ĠCYY', 'ĠCPAC', 'ĠCalculate', 'ĠCooking', 'ĠCognitive', 'ĠCocob', 'ĠCSPS', 'imm', 'imen', 'imid', 'imir', 'image', 'imated', 'imber', 'imism', 'imists', 'iminate', 'immun', 'improvement', 'imetry', 'imagin', 'adder', 'adership', 'adline', 'administ', 'adverse', 'ademics', 'ceh', 'asm', 'asp', 'ashes', 'asonal', 'ida', 'idant', 'idial', 'idian', 'idia', 'Ġlos', 'Ġlip', 'Ġlard', 'Ġlust', 'Ġliver', 'Ġlaugh', 'Ġlux', 'Ġlinen', 'Ġgest', 'Ġgum', 'Ġgel', 'Ġgels', 'Ġgenders', 'Ġgaller', 'Ġgastro', 'Ġghost', 'Ġgonor', 'Ġgendered', 'Ġgallery', 'Ġgingiv', 'Ġgentle', 'ifer', 'ifted', 'ifique', 'ifiers', 'ifiable', 'urities', 'urons', 'urious', 'urday', 'urisd', 'rage', 'raints', 'raisals', 'Ġconce', 'Ġconqu', 'Ġconcess', 'Ġconnot', 'Ġcongen', 'Ġconduit', 'eted', 'etch', 'ether', 'etric', 'etically', 'etters', 'ola', 'olutions', 'pply', 'ppling', 'Ġorally', 'ĠIS', 'ĠISA', 'ĠIPP', 'ĠIRI', 'ĠIgn', 'ĠIDP', 'ĠIde', 'ĠIogen', 'ĠILP', 'ĠIletin', 'ĠIYV', 'ĠIEPP', 'ĠIRES', 'challen', 'chlear', 'charity', 'chlor', 'Ġuter', 'Ġupl', 'Ġhabe', 'Ġhaemorrh', 'utter', 'utory', 'utuRe', 'Ġonus', 'igade', 'igator', 'oter', 'otem', 'otile', 'otted', 'otomy', 'otherap', 'ulop', 'ulosis', 'ulroney', 'essential', 'ivo', 'ivist', 'ivorce', 'Ġstone', 'Ġstents', 'Ġstood', 'Ġstrings', 'Ġstrive', 'Ġdeems', 'Ġdelete', 'Ġdelicate', 'Ġdeleted', 'Ġdemining', 'Ġdexter', 'atered', 'illy', 'illes', 'illas', 'illage', 'illary', 'illera', 'Ġweeds', 'Ġcomic', 'orticult', 'ortars', 'iris', 'irit', 'irts', 'irpans', 'Ġnearing', 'Ġimbued', 'Ġshad', 'Ġshine', 'Ġshock', 'Ġshocks', 'Ġshoe', 'Ġshading', 'Ġsharp', 'Ġshirts', 'Ġsue', 'Ġthistle', 'ĠCanc', 'ĠCanal', 'ĠCannot', 'ĠCannab', 'ĠCanrail', 'ĠCanpote', 'Whole', 'Ġcanton', 'Ġcancers', 'ople', 'option', 'opened', 'opla', 'oplas', 'opasc', 'oproducts', 'ĠAmin', 'ĠAck', 'ĠAMP', 'ĠACP', 'ĠAFO', 'ĠAhead', 'ĠAuction', 'ĠAPC', 'ĠACAP', 'ĠAJCTC', 'ĠAPOL', 'ĠABIL', 'ĠAyur', 'ĠAarhus', 'ĠAceh', 'ĠCanadarm', 'ĠCanadiens', 'quo', 'quin', 'quiry', 'quorum', 'Ġasleep', 'Ġasympt', 'Ġimpart', 'Ġimplements', 'Ġimprec', 'Ġimpeding', 'Ġimpunity', 'Ġimpasse', 'Ġimpurity', 'Ġimpairment', 'Ġimpracticable', 'Ġimpurities', 'herly', 'herlands', 'hermal', 'bleed', 'ĠPR', 'ĠPen', 'ĠPent', 'ĠPut', 'ĠPain', 'ĠPred', 'ĠPie', 'ĠPresent', 'ĠPAT', 'ĠPreg', 'ĠPrep', 'ĠPMP', 'ĠPCP', 'ĠPFO', 'ĠPOs', 'ĠPOI', 'ĠPossible', 'ĠPACE', 'ĠPFD', 'ĠPFS', 'ĠPSAC', 'ĠPooley', 'ĠPitcher', 'akh', 'Ġexits', 'Ġexcu', 'Ġexting', 'Ġexert', 'Ġexcel', 'Ġexpelled', 'tha', 'thly', 'those', 'thinking', 'Ġwithstand', 'Ġwithheld', 'ĠSV', 'ĠSn', 'ĠSqu', 'ĠSoc', 'ĠSand', 'ĠSide', 'ĠSke', 'ĠSep', 'ĠSax', 'ĠSuc', 'ĠSph', 'ĠStern', 'ĠSick', 'ĠSove', 'ĠSuch', 'ĠSince', 'ĠSale', 'ĠSPA', 'ĠSLE', 'ĠSCA', 'ĠSÃ©', 'ĠSAI', 'ĠSales', 'ĠSyl', 'ĠSED', 'ĠSET', 'ĠSla', 'ĠSOL', 'ĠSaid', 'ĠSCH', 'ĠSatisfied', 'ĠSatisfaction', 'estive', 'estag', 'estically', 'estrian', 'esthetic', 'vertise', 'ayer', 'Ġcha', 'Ġchoc', 'Ġchasing', 'Ġchurches', 'Ġchrys', 'terrorist', 'unc', 'university', 'unging', 'unication', 'unisia', 'Ġmemento', 'outside', 'outputs', 'actic', 'acting', 'actical', 'actors', 'actual', 'Ġabnormal', 'Ġabortions', 'âĢĲ', 'forget', 'Ġlev', 'isted', 'istice', 'istence', 'istered', 'Ġreson', 'Ġresched', 'artet', 'Ġhes', 'Ġheter', 'Ġhedge', 'Ġring', 'Ġrib', 'Ġrider', 'Ġrick', 'Ġrats', 'Ġrival', 'Ġrug', 'Ġrulers', 'Ġrushing', 'rips', 'rizz', 'ĠEB', 'ĠER', 'ĠEr', 'ĠEld', 'ĠErit', 'ĠEIP', 'ĠERC', 'ĠEMP', 'ĠEAF', 'ĠElim', 'ĠEaster', 'ĠEEA', 'ĠEMA', 'ĠEMS', 'ĠEFA', 'ĠEBS', 'ĠEPD', 'ĠELP', 'ĠERM', 'ĠENG', 'ĠENP', 'ĠEMIS', 'ĠEsqu', 'ĠEmitting', 'ĠEuras', 'ĠELCC', 'Ġkg', 'Ġkings', 'Ġkirpans', 'peer', 'peace', 'people', 'aine', 'aines', 'ainees', 'osh', 'osi', 'osit', 'ositions', 'osph', 'osier', 'osocial', 'osupp', 'reduction', 'ffiti', 'ffering', 'Ġvine', 'ĠvNHPs', 'Ġvoiced', 'Ġvibrant', 'Ġvivo', 'ama', 'amis', 'amation', 'amas', 'amble', 'amount', 'amining', 'amph', 'users', 'usions', 'Ġenorm', 'Ġenlight', 'Ġenvy', 'Ġenumer', 'Ġenrich', 'Ġenquiring', 'Ġenliven', 'velstoke', 'Ġapprehens', 'Ġapparatus', 'acs', 'aced', 'acro', 'acid', 'acency', 'accurate', 'acitated', 'academics', 'duces', 'licensed', 'ocracy', 'ochel', 'Whence', 'roman', 'romones', 'Ġgods', 'odic', 'oded', 'odies', 'odian', 'odied', 'Ġnotices', 'Ġnotifications', 'Ġadherence', 'Ġadhered', 'Ġadiab', 'resistance', 'ressee', 'resistant', 'pland', 'plore', 'plastic', 'umulation', 'umbers', 'ĠRP', 'ĠRon', 'ĠRim', 'ĠRich', 'ĠRos', 'ĠRog', 'ĠRace', 'ĠRivers', 'ĠRather', 'ĠRick', 'ĠRAP', 'ĠRoles', 'ĠRDI', 'ĠRHA', 'ĠRBA', 'ĠRAX', 'ĠRams', 'ĠRWDP', 'ĠRTID', 'ĠRVOT', 'Ġseism', 'Ġsegreg', 'Ġsecede', 'ller', 'llor', 'izance', 'izons', 'Ġbypass', 'ĠDC', 'ĠDil', 'ĠDad', 'ĠDate', 'ĠDow', 'ĠDem', 'ĠDose', 'ĠDPP', 'ĠDiction', 'ĠDistance', 'ĠDCC', 'ĠDuties', 'ĠDIA', 'ĠDiplom', 'ĠDanger', 'ĠDRDC', 'ĠDalhous', 'ĠDivorce', 'Ġcontortion', 'ema', 'emade', 'emorate', 'Ġpled', 'Ġplating', 'Ġplug', 'Ġplumb', 'Ġplaus', 'Ġplunging', 'âĢĻ,', 'udy', 'uded', 'anding', 'andbook', 'ĠNT', 'ĠNut', 'ĠNight', 'ĠNord', 'ĠNov', 'ĠNex', 'ĠNaz', 'ĠNurse', 'ĠNSO', 'ĠNah', 'ĠNERE', 'ĠNTR', 'ĠNicol', 'ĠNumbers', 'ĠMP', 'ĠMes', 'ĠMur', 'ĠMig', 'ĠMine', 'ĠMish', 'ĠMother', 'ĠMoney', 'ĠMuch', 'ĠMee', 'ĠMoral', 'ĠMER', 'ĠMIN', 'ĠMEA', 'ĠMrs', 'ĠMening', 'ĠMED', 'ĠMBS', 'ĠMOR', 'ĠMOT', 'ĠMutual', 'ĠMRIF', 'ĠMunicipal', 'ĠMGI', 'ĠMQs', 'ĠMateriel', 'ĠMHz', 'ĠMichel', 'ĠMulroney', 'ĠMortars', 'ourously', 'ievement', 'iang', 'Ġwheel', 'Ġneedle', 'Ġinformational', 'ĠTI', 'ĠTO', 'ĠTrent', 'ĠTues', 'ĠTrit', 'ĠToll', 'ĠText', 'ĠTAC', 'ĠTowers', 'ĠTown', 'ĠTCM', 'ĠTanks', 'ĠTolerance', 'ĠTPC', 'ĠTariff', 'ĠTUE', 'ĠTrying', 'ĠTheses', 'ĠTsun', 'ĠThermal', 'ĠTunisia', 'ĠTactical', 'ĠTrips', 'Ġpartly', 'ardind', 'jectives', 'ĠFR', 'ĠFue', 'ĠFace', 'ĠFollow', 'ĠFuss', 'ĠField', 'ĠFishing', 'ĠFEC', 'ĠFCP', 'ĠFPS', 'ĠFAS', 'ĠFCF', 'ĠFresh', 'ĠFiles', 'ĠFMF', 'ĠFFP', 'ĠFrequ', 'ĠFHA', 'ĠFBI', 'ĠFilm', 'ĠFlor', 'ĠFrank', 'ĠFlexibility', 'ĠFHMP', 'ĠFVO', 'ĠFoamy', 'ĠFalcon', 'ĠFutuRe', 'Ġwashing', 'ensibly', 'Ġexpire', 'erer', 'idepress', 'Ġcommemor', 'Ġcommuting', 'Ġcommemorate', 'Ġregain', 'Ġregains', 'Ġregalia', 'endations', 'endium', 'ĠHB', 'ĠHard', 'ĠHub', 'ĠHong', 'ĠHamil', 'ĠHav', 'ĠHost', 'ĠHank', 'ĠHPA', 'ĠHerc', 'ĠHiring', 'ĠHole', 'ĠHPI', 'ĠHann', 'ĠHessel', 'ĠHouses', 'ĠHTM', 'ĠHMs', 'ĠHelsinki', 'ĠHiRes', 'ĠHorticult', 'ĠHamas', 'ĠHandbook', 'Ġinters', 'Ġintere', 'Ġintense', 'Ġintensive', 'Ġintimid', 'abs', 'abwe', 'abilit', 'abolic', 'abÃ¨', 'ancement', 'Ġcompaction', 'Ġcompiling', 'Ġcompressed', 'Ġcomposite', 'Ġacron', 'Ġacuity', 'Ġdidactic', 'Ġworkable', 'Ġworkday', 'Ġworkbook', 'Ġworkstation', 'Ġactor', 'Ġactuar', 'Ġcove', 'Ġcopper', 'Ġcohort', 'Ġcooperate', 'Ġcoexistence', 'Ġcared', 'Ġcasel', 'Ġcaucus', 'ĠGD', 'ĠGF', 'ĠGR', 'ĠGh', 'ĠGive', 'ĠGain', 'ĠGag', 'ĠGord', 'ĠGame', 'ĠGaps', 'ĠGreg', 'ĠGSS', 'ĠGrain', 'ĠGIS', 'ĠGets', 'ĠGaut', 'ĠGambling', 'ĠGlac', 'ĠGiC', 'onsider', 'Ġhass', 'vernor', 'Ġconsign', 'Ġconsists', 'Ġconscript', 'Ġconsiders', 'Ġinches', 'Ġincarc', 'Ġinciner', 'Ġinclined', 'Ġincidences', 'Ġinconven', 'ĠBt', 'ĠBon', 'ĠBra', 'ĠBef', 'ĠBund', 'ĠBern', 'ĠBio', 'ĠBiod', 'ĠBring', 'ĠBarriers', 'ĠBond', 'ĠBell', 'ĠBrain', 'ĠBrown', 'ĠBush', 'ĠBetter', 'ĠBRO', 'ĠBarb', 'ĠBHP', 'ĠBOS', 'ĠBene', 'ĠBBR', 'ĠBilingualism', 'ĠBMI', 'ĠBoreal', 'ĠBags', 'ĠBologna', 'ĠBITS', 'ĠBEPGs', 'ĠBuying', 'ĠBrook', 'ĠBodies', 'Ġhealthier', 'Ġrooms', 'Ġrofe', 'Ġroosting', 'Ġroster', 'Ġroaming', 'Ġrooster', 'Ġdisast', 'Ġdisappro', 'Ġdisqualified', 'Ġdisrupted', 'Ġdisrespect', 'ubs', 'ogly', 'ogues', 'ogifts', 'ogether', 'itionary', 'alling', 'allow', 'allah', 'allowed', 'Ġpercut', 'Ġperimeter', 'ĠWall', 'ĠWel', 'ĠWild', 'ĠWarm', 'ĠWalk', 'ĠWCS', 'ĠWelf', 'ĠWarehouse', 'ĠWOu', 'ĠWolf', 'ĠWUF', 'Ġprovoke', 'rup', 'ruit', 'Ġimpacting', 'Ġtea', 'Ġtech', 'Ġinversion', 'Ġinvisible', 'ailand', 'week', 'wegian', 'Ġassault', 'Ġinterst', 'Ġinterchange', 'Ġinterrupt', 'Ġinterfe', 'Ġinterlock', 'Ġinterloc', 'Ġinterlibrary', 'Ġinterdisciplinary', 'Ġinterconnected', 'Ġeman', 'Ġemigr', 'Ġempath', 'Ġempire', 'Ġemplane', 'Ġemitters', 'Ġclay', 'Ġclaw', 'Ġclosure', 'Ġclock', 'Ġclash', 'Ġcloning', 'Ġnewest', 'ustom', 'ressions', 'eled', 'eling', 'eliminate', 'ĠOl', 'ĠOx', 'ĠOil', 'ĠOpp', 'ĠOss', 'ĠOks', 'ĠODS', 'ĠOption', 'ĠOath', 'ĠODA', 'ĠOIC', 'ĠORO', 'ĠOPC', 'ĠOLT', 'ĠOHS', 'ĠOGP', 'ĠOLEP', 'ĠOkana', 'Ġmanic', 'Ġmangan', 'Ġmanually', 'Ġmanuals', 'Ġrelies', 'Ġreliant', 'Ġrecertification', 'Ġreckless', 'Ġreconsider', 'lections', 'Ġunderach', 'Ġundermine', 'Ġunderpaid', 'Ġunderdevelopment', 'Ġundergone', 'Ġunderrepresentation', 'Ġquer', 'Ġquiet', 'Ġquarters', 'Ġquenching', 'Ġcommunes', 'Ġcommunism', 'Ġcommuniqu', 'iagen', 'Ġprerequisite', 'Ġpretext', 'Ġpreoccup', 'Ġoutgoing', 'Ġoutlying', 'ĠLE', 'ĠLad', 'ĠLate', 'ĠLind', 'ĠLast', 'ĠLord', 'ĠLuc', 'ĠLights', 'ĠLingu', 'ĠLMS', 'ĠLCS', 'ĠLNG', 'ĠLiability', 'ĠLMCS', 'ĠLatvia', 'ĠLetters', 'ĠLayer', 'ĠLosier', 'Ġallied', 'Ġallotted', 'Ġliber', 'Ġliked', 'Ġsober', 'Ġsoaking', 'perature', 'perately', 'inees', 'inement', 'ploying', 'ĠProceed', 'ĠProduction', 'ĠProvision', 'ĠProactive', 'ĠProHe', 'ĠProQuest', 'ĠProbation', 'Ġevidences', 'archal', 'Ġung', 'Ġuncon', 'Ġunaw', 'Ġunhed', 'Ġunified', 'Ġunite', 'Ġuninter', 'Ġuncons', 'Ġunreasonable', 'Ġuncheck', 'Ġunwritten', 'Ġunlock', 'Ġunwant', 'Ġunpubl', 'Ġunlimited', 'Ġuninformed', 'Ġunimagin', 'Ġunopened', 'conver', 'conform', 'conciliation', 'conceived', 'Ġparticpants', 'Ġjail', 'Ġjoy', 'Ġjack', 'Ġjaw', 'Ġjury', 'Ġjeal', 'Ġjokes', 'Ġjoules', 'Ġorganics', 'Ġspear', 'Ġspelling', 'renched', 'rensic', 'Ġdecay', 'Ġdecorum', 'Ġdecorated', 'Ġdecoupling', 'Ġapproves', 'Ġtherein', 'Ġpriced', 'Ġprorogation', 'Ġresemble', 'Ġreseller', 'ernal', 'Ġ110', 'isson', 'issibility', 'asts', 'orementioned', 'orectal', 'Ġadds', 'Ġadditive', 'Ġaddressee', 'erals', 'Ġsublic', 'Ġsubtle', 'Ġsuburb', 'Ġsubculture', 'Ġsubsets', 'uese', 'ĠEuropass', 'ĠEurojust', 'ibou', 'ritt', 'ritical', 'ritude', 'Ġsoccer', 'Ġpublicity', 'Ġpublicize', 'ishable', 'ishna', 'ousy', 'ĠInu', 'ĠInland', 'ĠIngred', 'ĠInadequate', 'ĠInjury', 'ĠInquiry', 'ĠStop', 'ĠStep', 'ĠStair', 'ĠStock', 'ĠStrat', 'ĠStrengthe', 'ĠStrokest', 'arno', 'Ġoffend', 'Ġoffending', 'Ġoffset', 'Ġoffensive', 'Ġoffsp', 'Ġalb', 'Ġaliens', 'Ġalkal', 'Ġtraw', 'Ġtrave', 'Ġtraps', 'Ġtrapped', 'Ġtracks', 'Ġtrapping', 'Ġtragic', 'Ġresponsabilit', 'Ġresearching', 'Ġposes', 'berg', 'berries', 'berta', 'Ġemploys', 'Ġemploying', 'positions', 'posphere', 'Ġcurb', 'Ġindict', 'Ġacceding', 'ĠCommendations', 'Ġarteries', 'Ġarmaments', 'Ġampl', 'Ġamph', 'Ġample', 'vedev', 'Ġcosteffective', 'agos', 'agulation', 'agaming', 'axia', 'Ġterrain', 'Ġtertiary', 'Ġscared', 'Ġscarc', 'Ġtransgress', 'Ġtransposed', 'Ġtranscript', 'Ġtransboundary', 'Ġtakedown', 'ĠRefere', 'ĠRecent', 'ĠRecy', 'ĠReactions', 'ĠRevelstoke', 'ghan', 'ĠUrug', 'ĠUSP', 'ĠUDHR', 'ĠUbia', 'ordial', 'ordinated', 'obe', 'obile', 'obanks', 'obvious', 'oblastic', 'Ġovercont', 'Ġoverfish', 'Ġoverdue', 'Ġoverdose', 'Ġoverrun', 'Ġoverweight', 'Ġoverhaul', 'Ġoverpressure', 'ĠHeat', 'ĠHeating', 'ĠHealing', 'ĠHeavy', 'ĠHelicop', 'Ġinstill', 'Ġinstant', 'Ġinstability', 'xtre', 'Ġsiting', 'ologics', 'Ġfactions', 'Ġlearns', 'Ġlearnings', 'Ġcarefully', 'ileo', 'itution', 'minimum', 'identity', 'identities', 'curric', 'Ġelites', 'into', 'inton', 'intestinal', 'Ġadvers', 'chnics', 'chnological', 'Ġreportable', 'Ġvalde', 'Ġvalleys', 'uced', 'Ġparticipative', 'aret', 'areas', 'chief', 'Ġdesks', 'Ġdeserve', 'Ġdesires', 'Ġdescript', 'Ġdesperate', 'Ġdesperately', 'ameen', 'ackaged', 'Ġplacebo', 'Ġprotects', 'Ġobjection', 'Ġinfinity', 'Ġinfostructure', 'Ġinferior', 'Ġpatch', 'Ġpatience', 'Ġpatches', 'Ġspeciï¬ģc', 'Ġfever', 'iential', 'Ġgenoty', 'teams', 'teacher', 'Ġchangeover', 'Ġmediated', 'Ġpoet', 'Ġpoem', 'Ġpoaching', 'Ġpoems', 'Ġpoisson', 'Ġspy', 'Ġspit', 'Ġspinal', 'Ġspite', 'Ġspilled', 'Ġspoon', 'Ġspots', 'Ġspamm', 'Ġsparked', 'Ġspheres', 'Ġformative', 'Ġformulations', 'Ġformulate', 'Ġformulated', 'Ġformulating', 'asses', 'associ', 'asslands', 'association', 'assisted', 'Ġgrouped', 'Ġgroupings', 'Ġpayees', 'Ġpayoff', 'venth', 'Ġthanks', 'olding', 'oldier', 'Ġreceivables', 'aped', 'apagos', 'Ġdifferentiates', 'ooker', 'Ġeconomical', 'Ġsaves', 'Ġimproper', 'Ġupset', 'Ġupgrad', 'Ġsuccessive', 'Ġkeys', 'ictional', 'itiously', 'Ġentries', 'Ġentrance', 'Ġenticed', 'Ġentrenched', 'Ġmighty', 'Ġproposes', 'ĠProgramming', 'Ġstrategically', 'Ġprioritizing', 'Ġinternationalized', 'Ġmemo', 'Ġmemories', 'Ġdeputies', 'Ġdetract', 'Ġdetached', 'Ġdetainees', 'Ġsurgeon', 'Ġsurfac', 'Ġconsiderably', 'Ġassessors', 'ceptual', 'awash', 'Ġrightsholders', 'Ġaforementioned', 'ĠIntroduction', 'Ġmaker', 'Ġdiscom', 'Ġdiscovers', 'Ġphosph', 'Ġnowhere', 'ĠGoal', 'ĠGovem', 'Ġcapitals', 'ĠChains', 'ĠChlor', 'ularies', 'ularly', 'Ġmeter', 'Ġmetron', 'Ġmetrological', 'Ġmetrology', 'Ġreplicated', 'avour', 'avated', 'Ġmarketers', 'Ġmarketable', 'Ġretal', 'Ġlocating', 'Ġlongterm', 'Ġaccessories', 'ysitter', 'Ġafterwards', 'Ġcolonial', 'hedules', 'heduled', 'ĠConciliation', 'ĠConstruction', 'ĠConseil', 'ĠAbate', 'ĠAbroad', 'egrad', 'phy', 'phie', 'horizontal', 'Ġpartnered', 'ĠDoctor', 'Ġmodal', 'Ġmodest', 'Ġrevive', 'Ġrevising', 'Ġrevolving', 'Ġcondensation', 'Ġdefensive', 'Ġdeficient', 'Ġdeficits', 'Ġcultivating', 'Ġincrements', 'Ġincrementally', 'Ġhadn', 'Ġinstituted', 'Ġidentifies', 'Ġidentiï¬ģ', 'tson', 'Ġbuzz', 'Ġguilty', 'ĠVert', 'ĠVAR', 'ĠVoice', 'ĠVLT', 'ĠVaccinated', 'ĠVlad', 'ĠVenus', 'ĠVitamin', 'ĠVillage', 'Ġequine', 'Ġequals', 'Ġequilib', 'Ġoperated', 'amphen', 'amphet', 'Ġdetergent', 'poral', 'Ġmonet', 'Ġmonarch', 'Ġspecifics', 'Ġspecificities', 'Ġcoroll', 'Ġcorrob', 'Ġorderly', 'ĠJane', 'ĠJTF', 'ĠJaze', 'ĠJITS', 'ĠJVM', 'ĠJerusal', 'ĠJiang', 'Ġnatal', 'Ġnegatives', 'Ġtwinning', 'Ġsmear', 'Ġauthorise', 'Ġauthoritative', 'berspace', 'erging', 'Ġhumane', 'Ġhumanity', 'Ġhumanist', 'Ġdemise', 'Ġimplication', 'centage', 'ĠRespect', 'ĠResidents', 'ĠResolve', 'armac', 'Ġprofici', 'ovals', 'ĠEUC', 'ĠEUFOR', 'Ġnumerals', 'Ġaffectionately', 'Ġconfident', 'Ġconfusing', 'Ġremission', 'Ġremedi', 'Ġ1940', 'Ġ1951', 'Ġ1925', 'ngat', 'ngen', 'Ġdonated', 'Ġdonating', 'ableness', 'Ġnoon', 'Ġnoble', 'Ġnoisy', 'Ġviewpoint', 'Ġcompletes', 'Ġnoncompliance', 'Ġnonbreeding', 'Ġnoncommunicable', 'ĠKhr', 'ĠKelowna', 'ĠUnits', 'ĠUnemployment', 'ĠUnmet', 'hesize', 'Ġperformer', 'Ġassociates', 'Ġlifecycle', 'Ġcollector', 'ranking', 'worker', 'workers', 'Ġwaterway', 'Ġwaterpower', 'Ġmajorities', 'Ġforegoing', 'Ġforehead', 'Ġgrasp', 'Ġmechanics', 'Ġreturnees', 'Ġawaken', 'ĠYork', 'ĠYIP', 'ĠYMP', 'ĠYMCA', 'ĠYelts', 'Ġactionable', 'Ġmethadone', 'Ġskies', 'Ġsketch', 'Ġhighways', 'ĠDeaf', 'ĠDeleg', 'ĠDeadline', 'ĠDextre', 'Ġperiodical', 'Ġperiodontal', 'Ġraison', 'Ġrabies', 'Ġrabbits', 'ĠRegulated', 'ĠRegressive', 'ĠRegarding', 'Ġinsuring', 'Ġinspects', 'Ġinsurable', 'Ġinsurers', 'Ġcomplied', 'Ġcompliment', 'Ġcomplacency', 'Ġpolitic', 'Ġpolitician', 'Ġdistal', 'Ġdistant', 'Ġextensions', 'Ġextrater', 'Ġextremes', 'onde', 'Ġstartling', 'riminatory', 'othermic', 'Ġsuppression', 'Ġairless', 'Ġairpower', 'Ġairlin', 'Ġcreations', 'Ġspecialize', 'inciple', 'Ġbasically', 'Ġmaths', 'ĠWeaknesses', 'Ġconsumes', 'Ġconsuming', 'Ġshear', 'Ġtreas', 'Ġbelts', 'Ġreviewers', 'ĠNationalism', 'ĠQA', 'ĠQaed', 'Ġdirectives', 'Ġdirectorate', 'ĠNewly', 'ĠNewcomers', 'Ġdeterminations', 'Ġnegotiates', 'Ġgreatly', 'Ġended', 'Ġendpoint', 'Ġendorse', 'Ġgeneralized', 'Ġgeneralizable', 'Ġhomeland', 'Ġhomecare', 'Ġhomeowners', 'Ġregistries', 'Ġregistrations', 'Ġsimulate', 'Ġdrastically', 'Ġfilings', 'Ġfilters', 'Ġfiltered', 'Ġintegral', 'Ġbenefitted', 'Ġassistant', 'Ġassistants', 'Ġcommunicable', 'Ġcommunicators', 'Ġcenturies', 'Ġinnoc', 'Ġinnocent', 'cois', 'coordination', 'Ġethanol', 'Ġrefue', 'Ġrefined', 'Ġrefresh', 'Ġreflex', 'Ġrefinish', 'Ġdealin', 'condensation', 'Ġimmense', 'Ġimmersion', 'Ġpointed', 'Ġcapacitors', 'Ġprofessor', 'RAD', 'ĠTrout', 'Ġrecordkeeping', 'ointed', 'vantage', 'ĠManages', 'ĠManagers', 'export', 'exclud', 'excell', 'exclusion', 'exposure', 'exclusive', 'examining', 'Ġmaterialize', 'ĠArrange', 'ĠArmed', 'ĠArgent', 'ĠArsen', 'ĠArmaments', 'Ġsalv', 'Ġlandings', 'ĠPlatform', 'ĠPlatoon', 'productions', 'provinces', 'Ġfoundational', 'Ġcontinental', 'eck', 'ecological', 'ecosystem', 'ĠCASC', 'ĠCADR', 'ĠCARD', 'factor', 'Ġphysiology', 'Ġthreeyear', 'ĠEnabled', 'ĠEnvironments', 'ĠEnrollment', 'ĠEncourage', 'ĠThemes', 'they', 'theless', 'Ġcargo', 'Ġcarpal', 'Ġcaribou', 'ellion', 'ellow', 'ĠExcess', 'ĠExerc', 'ĠExamin', 'ĠExpected', 'ĠExecut', 'ĠExamination', 'ĠExposure', 'managers', 'Ġblight', 'Ġblending', 'Ġdriven', 'Ġdrift', 'Ġdrunk', 'Ġ1991', 'goals', 'Ġideals', 'Ġrestructure', 'Ġrestitution', 'Ġlarvae', 'Ġcomplains', 'Ġcomplained', 'Ġholdbacks', 'Ġobligated', 'Ġappliance', 'Ġcausal', 'Ġcausation', 'Ġ33', 'ĠCFP', 'ĠCFAS', 'ĠCFTM', 'CTSI', 'upon', 'ptioned', 'ATE', 'ATS', 'Ġdiffuse', 'Ġdiffeerent', 'Ġtelephones', 'olicing', 'Ġdocumentaries', 'ĠMineral', 'ĠCommunist', 'Ġdefinitive', 'Ġsmallpox', 'Ġbacked', 'ĠPartial', 'Ġpassions', 'Ġpassively', 'HRT', 'Ġmandates', 'Ġaudioc', 'Ġflowers', 'Ġflamm', 'Ġflipped', 'Ġflourish', 'Ġflavour', 'ĠDepression', 'ĠDeposit', 'Ġundertook', 'Ġundertakes', 'Ġcheap', 'Ġcheek', 'Ġchewing', 'igrant', 'Ġweakest', 'ĠâĢ¨âĢ¨', 'Ġsuggesting', 'ĠShare', 'ĠSharing', 'ĠShift', 'ĠShoot', 'ĠSharon', 'ĠShipping', 'ĠShangh', 'ĠShutter', 'apsed', 'Ġcreditor', 'ĠAdj', 'ĠAdequ', 'ĠAdvantages', 'ĠAdvertise', 'Ġsecondment', 'Ġsecondly', 'Ġsurveyed', 'Ġbiome', 'Ġbiochemical', 'Ġbiobanks', 'Ġbiologics', 'ĠComb', 'ĠComment', 'ĠComments', 'Ġofficially', 'CBSC', 'apped', 'applic', 'toxic', 'Ġinforms', 'Ġinforming', 'Ġinformative', 'Ġinformants', 'Ġinformatics', 'Ġannuit', 'Ġannulop', 'Ġhistoplas', 'Ġstaffed', 'SCA', 'Ġprimordial', 'Ġbroaden', 'Ġbroadening', 'Ġnetworked', 'Ġdevising', 'ĠAfraid', 'PAA', 'Ġreader', 'Ġreadings', 'ĠGuy', 'Ġbreaches', 'ĠCommitments', 'ĠDeveloped', 'Ġdistributions', 'Ġcopyrights', 'ĠIndication', 'ĠIndicators', 'Ġpostulated', 'Ġpostcommun', 'Ġposthum', 'short', 'shows', 'shaped', 'Ġfiring', 'Ġmultitude', 'Ġmultilingualism', 'Ġmultinational', 'ianship', 'captioned', 'Ġshortest', 'Ġshortened', 'ĠAlert', 'ĠAlta', 'ĠAlien', 'priv', 'price', 'prints', 'Ġ46', 'Ġ400', 'Ġ420', 'Ġdebated', 'Ġdebating', 'Ġconstituted', 'Ġdomestically', 'ĠCII', 'ĠCIRC', 'ĠCIBC', 'ĠCISTI', 'Ġtransporting', 'atisation', 'insurance', 'Ġselfemployment', 'Ġconflictual', 'Ġveto', 'Ġvetting', 'Ġvehement', 'ĠApple', 'ĠApplying', 'ĠAppalach', 'ĠAppraisals', 'Ġbehaviors', 'Ġdownhill', 'Ġdownsides', 'Ġtransferable', 'Ġinstrumental', 'Ġlimitation', 'Ġsimilarity', 'Ġsimilarly', 'Ġexcavated', 'ĠOffender', 'ĠOffset', 'Ġmedicated', 'Ġpositively', 'Ġevaluative', 'RCE', 'RCOS', 'equal', 'equival', 'athy', 'athrust', 'ĠBeyond', 'ĠBeetle', 'Ġhandmade', 'Ġscientifically', 'Ġfeathered', 'Ġstandardize', 'ospheric', 'regular', 'regulations', 'ursed', 'urship', 'Ġrecognising', 'Ġrecognises', 'RIAS', 'Ġfishers', 'Ġcustomary', 'Ġviolates', 'Ġviolating', 'Ġcollars', 'Ġcollapsed', 'Ġthreatens', 'Ġthreatening', 'ĠScoping', 'ĠScarb', 'ĠSchedules', 'Ġobservers', 'Ġcapitalization', 'ĠLeast', 'ĠLease', 'ĠLeaf', 'ĠLeban', 'ĠLevy', 'ĠLeÃ³n', 'ĠLeonard', 'Ġ2012', 'Ġ2017', 'Ġfacilitates', 'DAW', 'neys', 'soever', 'tta', 'ĠParkway', 'Ġresolutions', 'Ġgenerator', 'leters', 'ĠGenetically', 'Ġseeker', 'Ġseekers', 'Ġexpressing', 'Ġdemocratization', 'Ġcommercialising', 'Ġcommercializing', 'Ġclassmates', 'Ġeventual', 'Ġturnaround', 'Ġsidelined', 'Ġantid', 'Ġantif', 'Ġantidepress', 'Ġproportions', 'ĠSeats', 'ĠSeasonal', 'ĠSeventh', 'ĠTrainee', 'ĠTrainees', 'visible', 'Ġwaist', 'ĠInternationally', 'ĠTransparent', 'ĠTransmitting', 'ĠTransfers', 'ĠTransLink', 'Ġ51', 'Ġ52', 'Ġillusion', 'relative', 'structured', 'Ġcontentment', 'Ġvoluntarily', 'Ġefficacious', 'ĠSuicide', 'ĠSuicidal', 'ĠSuggest', 'LEX', 'LEMP', 'meal', 'erculosis', 'Ġcircles', 'Ġcirculate', 'Ġcirculating', 'Ġcirculatory', 'Ġslower', 'Ġslipping', 'Ġpressured', 'ĠWorkshop', 'ĠGuideline', 'Ġecology', 'Ġecologically', 'Ġecotoxic', 'Ġecogifts', 'Ġgeo', 'Ġgeared', 'Ġgeosc', 'Ġjudic', 'Ġjudging', 'Ġmentors', 'Ġmentality', 'ocking', 'Ġtrusted', 'Ġtrustmark', 'oaded', 'zai', 'ertainment', 'ĠClust', 'ĠClinton', 'ĠAccompl', 'ĠAcceptable', 'ĠAccede', 'ĠAnsw', 'ĠAnishna', 'emptive', 'Ġurinary', 'Ġadjunct', 'iquely', 'Ġvaccinations', 'istician', 'isticated', 'Ġimmigrated', 'henburg', 'Ġpensioner', 'Ġpensioners', 'Ġpensionable', 'Ġpublisher', 'Ġ105', 'ĠImplants', 'Ġguarantors', 'Ġpenitent', 'ĠIPO', 'ĠIPEX', 'ĠIPRs', 'ĠIPOL', 'Ġshareholders', 'Ġcandidature', 'ĠThan', 'ĠThistle', 'ĠThailand', 'ACs', 'Ġprediction', 'Ġpredicated', 'Ġpredisposition', 'ĠCompar', 'ĠCompound', 'ĠComplication', 'ĠComponents', 'ĠCompendium', 'Ġ600', 'Ġannualized', 'CAS', 'monetary', 'Ġessay', 'Ġcertainly', 'ĠConsent', 'ĠConsolid', 'Ġparcel', 'Ġdigging', 'Ġdigitizing', 'Ġdigestive', 'Ġunites', 'Ġcalcium', 'Ġfreeze', 'Ġfreezing', 'Ġfreezer', 'âĢĤT', 'âĢĤc', 'âĢĤare', 'âĢĤbe', 'âĢĤwith', 'âĢĤaluminum', 'Ġassumes', 'Ġassumed', 'Ġsymptom', 'Ġdiscriminated', 'Ġsupplying', 'Ġcrosscutting', 'Ġfinalising', 'aska', 'Ġstructuring', 'MED', 'MEs', 'ycle', 'Ġfairs', 'Ġreachback', 'ĠIIE', 'because', 'naires', 'Ġjoins', 'Ġindustrialization', 'Ġseriousness', 'SSI', 'ĠCoalition', 'ĠCochlear', 'Ġexternalities', 'ĠToo', 'ĠTox', 'Ġbooking', 'Ġbooklet', 'Ġadvantageous', 'lessons', 'Ġhosts', 'Ġhostage', 'Ġinvented', 'Ġavoidance', 'ĠIndustries', 'SPORE', 'Ġdeduced', 'ĠMonaster', 'ĠMonthly', 'Ġsolder', 'Ġerase', 'Ġerased', 'Ġeradic', 'Ġadministrations', 'ĠAsset', 'ĠAsked', 'Ġintellectuals', 'ĠInvasive', 'Ġadvancements', 'Ġadjusted', 'Ġadjusting', 'ISPs', 'overty', 'Ġheadteacher', 'Ġpursuit', 'behaviour', 'Ġcreators', 'ĠSenators', 'riends', 'ĠEngine', 'Ġbroadcasts', 'Ġpenalise', 'Ġpenalised', 'Ġ%?\"', 'Ġresiding', 'Ġreciprocal', 'Ġaccords', 'Ġschematic', 'Ġencounters', 'CPD', 'CPS', 'lsquo', 'Ġwasted', 'ĠAirbus', 'Ġcriminally', 'Ġarchived', 'Ġarchivist', 'CEP', 'CEPA', 'calendar', 'Ġboards', 'Ġboosting', 'Ġboeu', 'Ġbanning', 'sectors', 'sectional', 'sectoral', 'sectorial', 'operating', 'Ġobstacle', 'Ġcorporately', 'Ġmentalities', 'Ġbaselines', 'Ġlogs', 'Ġlogos', 'Ġlogistical', 'Ġrunaway', 'Ġcomparator', 'Ġtransitioning', 'Ġoccupied', 'Ġanswerable', 'whole', 'Ġtherapists', 'Ġreferral', 'Ġreferrals', 'Ġuntreated', 'ĠAtlas', 'ĠAtlases', 'ĠAtaxia', 'ĠNON', 'ĠNOW', 'ĠNOX', 'ĠNOx', 'ĠNORAD', 'Ġ211', 'Ġremediation', 'Ġaccomplishment', 'Ġworn', 'Ġlaund', 'Ġquantum', 'Ġinstitutionalized', 'Ġinstitutionalised', 'ĠOrganized', 'ĠOrganisations', 'FID', 'ICs', 'ICWS', 'Ġtriage', 'isoners', 'Ġcarded', 'Ġwarfare', 'Ġforwarded', 'Ġarranged', 'ĠDecade', 'ĠDecisions', 'ĠDecline', 'Ġtouring', 'Ġporters', 'Ġportfol', 'ariety', 'Ġharder', 'ĠCBD', 'ĠCBI', 'ĠCBCI', 'Ġloon', 'Ġloved', 'Ġsubsistence', 'Ġsponsoring', 'Ġlicensor', '1017', 'radio', 'radiation', 'ĠCSLP', 'Ġlayout', 'ĠIDN', 'ĠPhases', 'ĠPhonograms', 'ĠDeficit', 'ĠHRP', 'Ġintends', 'Ġestimation', 'Ġmassages', 'imalt', 'Ġratings', 'Ġinterpersonal', 'Ġinspector', 'Ġinspecting', 'ĠCANSCA', 'Ġdigitally', 'ĠPSYOPS', 'ĠPerceived', 'ĠCharacter', 'ĠCharacteristics', 'Ġdivest', 'Ġdivide', 'Ġredist', 'Ġredund', 'Ġredardind', 'ĠSubmission', 'ĠSubstitution', 'ĠSubmitted', 'ĠSubcommit', 'ĠSubscrib', 'ĠWilli', 'Ġchargeable', 'Ġmodernized', 'Ġdemonstration', 'Ġdemonstrators', 'ĠWebsite', 'Ġexplained', 'Ġchemotherap', 'Ġdeductible', 'effects', 'Ġmusical', 'Ġmuscles', 'ĠPeer', 'Ġjourneys', 'Ġreflection', 'Ġreflective', 'Ġfulfills', 'Ġfulfils', 'Ġsatisfactorily', '2051', 'Ġpictured', 'Ġrenewals', 'Ġabsorption', 'Ġpeacekeepers', 'Ġfavouring', 'uguese', 'Ġnationwide', 'ĠMedium', 'ĠMediation', 'ĠMedications', 'ĠMedvedev', 'ĠStatistical', 'Ġconcentrating', 'Ġadvertised', 'Ġpredicting', 'Ġcyclists', 'Ġderogation', 'Ġhype', 'Ġhybrid', 'ĠElection', 'control', 'ĠUses', 'ĠUsually', 'Ġretirements', 'Ġpaperwork', 'ĠFormalde', 'Ġburst', 'Ġmailout', 'Ġmailroom', 'Ġhorizons', 'ĠImply', 'ĠImpairment', 'ĠNPB', 'ĠNPN', 'ĠNPS', 'ĠBridge', 'ĠObser', 'ĠObtained', 'ĠObama', 'ĠStudents', 'Ġconcretely', 'Ġinvestigates', 'Ġbreakthrough', 'office', 'offending', 'Ġ73', 'ĠRepay', 'ĠReproductive', 'Ġforestall', 'Ġcentralization', 'Ġcentralised', 'ipper', 'Ġturmo', 'Ġsicker', 'ĠCollective', 'ĠColonel', 'imbabwe', 'ĠIMM', 'ĠOutsourcing', 'Ġ188', 'Ġ1860', 'Ġ1885', 'Ġdrinkers', 'PSL', 'PSPA', 'Ġdenormal', 'Ġinitials', 'Ġbrush', 'ĠCEE', 'ĠCEDAW', 'Ġnevertheless', 'ĠAllergy', 'ĠECD', 'ĠECJ', 'ĠECSs', 'Ġenjoys', 'Ġenjoying', 'Ġfactoring', 'ĠRegistrar', 'Ġstrengthened', 'Ġcleaner', 'Ġcleaners', 'Ġcellphone', 'ĠCOP', 'ĠCOPD', 'Ġadviser', 'Ġvariability', 'Ġviruses', 'chev', 'cheon', 'cheurs', 'holm', 'Ġultras', 'ĠHoward', 'ĠHowitzer', 'Ġargued', 'ĠGoverning', 'ĠInvestments', 'ĠInvestors', 'ĠInvestigator', 'pattern', 'aneous', 'aneously', 'Ġweekend', 'ĠModified', 'ĠInfocent', 'Ġcomputerization', 'Ġmusician', 'Ġmusicians', 'closure', 'clamation', 'years', 'Ġsixth', 'ĠWithout', 'Ġalongside', 'generally', 'generic', 'partic', 'partners', 'Ġdieting', 'Ġdietetic', 'Ġsupreme', 'ĠSumm', 'ĠEICB', 'ĠEIRO', 'ĠEIIRP', 'umulus', 'ĠMarie', 'ĠMaritimes', 'ĠMartha', 'Ġcaptures', 'Ġdissatisfaction', 'Ġdissolved', 'Ġnewsstand', 'Ġnewsletter', 'Ġconnects', 'ï¬ģn', 'Ġinterpretations', 'drawbacks', 'Ġirre', 'Ġirrit', 'Ġirregular', 'Ġretains', 'Ġnano', 'Ġnanoproducts', 'Ġtracked', 'Ġdependents', 'Ġdependencies', 'profits', 'Ġ301', 'Ġappealed', 'Ġverified', 'Ġverifies', 'Ġsanitation', 'Ġfrontline', 'Ġbadger', 'Ġbadgers', 'ĠSpouse', 'ĠSpirit', 'ĠUVA', 'ĠUVB', 'Ġinfringed', 'Ġinfringing', 'complete', 'components', 'compulsive', 'completers', 'Ġbackgrounds', 'Ġicebreak', 'Ġdiminish', 'Ġframing', 'Ġtoxics', 'Ġmorph', 'Ġmorbidity', 'Ġmoraines', 'ĠPreserve', 'ĠWEPP', 'Ġunsure', 'Ġunsocial', 'Ġunsustainable', 'Ġunsuspect', 'Ġdeclass', 'ĠUNDP', 'shipment', 'organized', 'organisation', 'Ġmutations', 'Ġmutag', 'Ġrebel', 'Ġrebuilding', 'Ġlatitudes', 'Ġlatrines', 'ĠNortherners', 'Ġembody', 'Ġembarr', 'Ġembedded', 'Ġembodied', 'ĠOperators', 'ĠProcesses', 'ĠRequalify', 'ĠIntermedi', 'Ġproofs', 'Ġlieu', 'Ġgirl', 'ĠPatents', 'ĠPatrol', 'Ġattendance', 'ĠJustified', 'Ġ1982', 'Ġ1985', 'Ġburdened', 'pirated', 'Ġbathing', 'ĠCampaigns', 'Ġstressing', 'Ġstressors', 'ĠAvoid', 'ĠTerrorism', 'ĠWaterton', 'Ġcounterpart', 'Ġcounteracting', 'Ġterminated', 'Ġterminally', 'Ġimmune', 'Ġimmunogenic', 'Ġimmunosupp', 'ĠArchae', 'ĠExpenses', 'ĠExpanded', 'deleg', 'decentral', 'medication', 'Ġtasking', 'Ġboarding', 'Ġgathers', 'Ġgatherings', 'ĠPayable', 'ĠSAKMS', 'ĠRedstreak', 'ĠRelation', 'Ġincompet', 'apanam', 'Ġrepayments', 'Ġexcludes', 'ĠLeaders', 'Ġsubsidiaries', 'Ġsubsidiarity', 'Ġdiï¬Ģ', 'Ġdivert', 'Ġdiverted', 'Ġdivergent', 'Ġglow', 'Ġglance', 'Ġglory', 'Ġgloss', 'Ġgloom', 'Ġsuffers', 'Ġsuffice', 'ĠFTAs', 'Ġaccidental', 'Ġfilmmaker', 'disclosure', 'Ġaquifer', 'Ġfinals', 'Ġfinfish', 'Ġbioacc', 'Ġecozones', 'olesale', 'Ġutilities', 'ĠSpecialist', 'ĠSARs', 'ĠOnly', 'Ġbottes', 'Ġdistinctions', 'ĠAppropriate', 'ĠAnalogue', 'ĠAnalytical', 'Program', 'Production', 'Propelled', 'Profit', 'RECT', 'RESP', 'spouse', 'spots', 'Ġ850', 'Ġ90', 'Ġ98', 'Ġ901', 'Ġhumour', 'ĠCounty', 'Ġlingua', 'Ġconvert', 'Ġconverts', 'Ġsunrise', 'Ġsunspots', 'ĠAmaz', 'ĠAmalgam', 'ĠAmnesty', 'ĠPrecipitation', 'ĠPortuguese', 'ĠSymph', 'ĠRoley', 'Ġcolds', 'Ġcoldest', 'Ġ250', 'Ġeliminating', 'ĠYears', 'Ġmagnet', 'CSBFA', 'ugee', 'Ġafflicted', 'Ġafflictions', 'Ġpulps', 'Ġbarley', 'Ġancillary', 'charges', 'charitable', 'ĠAnthrax', 'ĠRenaiss', 'ĠRetain', 'ĠRetail', 'ĠRetrospect', 'Ġsells', 'Ġacadien', 'Ġacademia', 'Ġacademics', 'ĠBlame', 'ĠBlock', 'Ġambition', 'Ġambivalence', 'ĠInterview', 'ĠAnniversary', 'FAA', 'FAE', 'opper', 'oppers', 'pointed', 'scheduled', 'anni', 'Ġpleased', 'Ġpsychi', 'Ġpsychologically', 'Ġpsychrometers', 'ĠMSG', 'ĠForecast', 'Ġcommanders', 'ĠWANT', 'Ġquicker', 'ĠInspector', 'Ġscheduling', 'Ġpromptly', 'Ġbelongs', 'Ġfunctionally', 'ĠContributing', 'Canadians', 'risks', 'Ġsounds', 'Ġprohibitions', 'ĠAMT', 'ĠAMWA', 'ĠMussels', 'positively', 'Ġtransfusions', 'Ġsurroundings', 'ĠPerformances', 'Isn', 'Islam', 'departmental', 'depressive', 'grid', 'grass', 'Ġzip', 'Ġbench', 'Ġmisery', 'Ġmisunder', 'Ġmisconduct', 'Ġhunter', 'Ġnominated', 'Ġnomadic', 'ĠITL', 'ĠITN', 'ĠITER', 'ĠPLRC', 'ĠPolar', 'ĠPolish', 'ĠTEQU', 'ĠFishery', 'ĠGrasslands', 'ĠInsight', 'Ġequivalents', 'Ġequivalencies', 'ĠClaimant', 'communication', 'Ġcelecoxib', 'Ġbrokering', 'breakdown', 'Ġtoxicity', 'Ġsucceeded', 'mediated', 'Ġpicked', 'Ġpicking', 'Ġmicrobial', 'Ġmicrobes', 'Ġsuperiors', 'Ġsuperannuation', 'Ġsupercede', 'ĠEqual', 'ĠEthiop', 'Ġkillick', 'ushchev', 'Ġacidcausing', 'Ġtranslational', 'Ġtranslating', 'Ġattachments', 'ĠVisitors', 'Ġextraordinary', 'Ġsubstantiate', 'vestment', 'Ġdramas', 'Ġreimburse', 'ĠCHA', 'Ġstockp', 'ĠSkies', 'ĠLicences', 'ĠLicensed', 'ĠLicensing', 'Ġ117', 'Ġinstallation', 'Ġconcludes', 'Ġrefunds', 'ĠScheme', 'ĠSchengen', 'ĠSuperintendent', 'Ġharmonized', 'Ġharmonisation', 'ĠStandardization', 'Ġhorizontality', 'Ġhorizontally', 'ĠBrunswickers', 'SOE', 'consum', 'Ġwalked', 'Ġinherently', 'Ġfares', 'Ġfaire', 'Ġmounting', 'Ġreplaces', 'Ġprosecute', 'ĠCCSA', 'Ġstriking', 'Ġstrikes', 'Ġstreamline', 'irmation', 'ĠAttend', 'ĠAttending', 'ĠAttractive', 'ĠMultipurpose', 'ĠHistorically', 'ĠLaundering', 'ĠLaroc', 'Ġarbitrary', 'Ġarbitrating', 'Ġarbitrators', 'ĠUnderwear', 'Ġreproach', 'Ġreproduction', 'Ġreproductions', 'Ġreprograph', 'Ġrainwater', 'Ġrainfall', 'ĠParticipating', 'Ġacquisitions', 'ĠCapitalist', 'ĠReturns', 'Ġhydroelect', 'OUR', 'capital', 'lamm', 'lamide', 'Ġcruc', 'Ġcruise', 'Ġcruising', 'Ġsquadron', 'Ġmacaron', 'ĠIAQ', 'Ġranking', 'ĠEnter', 'Ġconsolidating', 'Ġemotion', 'Ġrecycle', 'Ġrecycles', 'Ġrecyclable', 'ĠProvider', 'ĠIndividuals', 'Ġbankruptcies', 'balanced', 'metrological', 'passengers', 'travel', 'Ġ05', 'required', 'Ġowl', 'Ġcoupons', 'Ġcourier', 'Ġtolerances', 'Ġnaval', 'Ġforgets', 'Ġgrave', 'Ġgrace', 'Ġgraffiti', 'Ġshaped', 'ĠSTI', 'ĠSTM', 'ĠSTIs', 'ĠSTSI', 'ĠSpeakers', 'ĠFinnish', 'Ġreconstitut', 'Ġrecoveries', 'Ġliquidity', 'Ġ14000', 'Ġtrainers', 'Ġdetecting', 'ĠPartnering', 'ĠScott', 'ĠClassroom', 'ï¬Ĥation', 'Ġharvests', 'Ġharvested', 'Ġfulfilment', 'Ġdosimetry', 'Ġdisplaying', 'Ġmarginalisation', 'RMatiOn', 'hyde', 'hybrid', 'pleased', 'Ġcartel', 'Ġcartoons', 'Ġpanelists', 'Ġpiloting', 'Ġmistaken', 'Ġhomosex', 'Ġhomestead', 'Ġhomemade', 'Ġdelegations', 'ĠATM', 'ĠATIA', 'ĠPurple', 'Ġappraised', 'ĠRadon', 'ĠRadar', 'ĠRadium', 'ĠRadiation', 'ĠDrinks', 'ĠMoz', 'Ġacceleration', 'Ġclarifying', 'Ġoutliers', 'Ġunfit', 'Ġcurricular', 'Ġcurricula', 'Ġarming', 'Ġoverseer', 'Ġspirits', 'Ġretailers', 'ĠForums', 'Ġantibody', 'ĠTelecom', 'ĠTelecommunications', 'ĠTeleRep', 'ĠTelevisions', 'Ġparagraphs', 'continental', 'ĠChecks', 'ĠRelationships', 'Ġwitnessed', 'Ġliberalize', 'Ġliberalized', 'atabases', 'Ġcamping', 'Ġbullying', 'Ġbulbs', 'Ġbulletins', 'arah', 'ĠCarding', 'Ġimagin', 'Ġimaginary', 'Ġadolescence', 'ĠRomani', 'ĠDifferences', 'ĠTargeting', 'ĠFAO', 'ĠGHz', 'ĠGHTF', 'ĠGMPs', 'ĠGMOs', 'Ġformulae', 'Ġattacks', 'Ġsafeguarded', 'Institution', 'NGO', 'NGOs', 'black', 'ĠZones', 'ĠZeal', 'ĠZebra', 'ĠZiagen', 'ĠZimbabwe', 'Ġfatty', 'Ġgraphs', 'Ġsteer', 'Ġsteam', 'Ġstepped', 'Ġsuspensive', 'ĠSDO', 'ĠMCRI', 'ĠGetting', 'Ġdisparate', 'Ġdiscontinue', 'Ġdiscontinuing', 'Ġobscure', 'Ġobsessed', 'Ġintermediates', 'understand', 'Ġalienating', 'ĠReceiver', 'ĠReceiving', 'ĠReceivables', 'ĠReceivable', 'Ġadvocating', 'Ġextremely', 'Ġdegreasing', 'Ġworrying', 'Ġcontemplate', 'Ġbenchmarking', 'Ġaccelerates', 'super', 'sufficient', 'supply', 'Ġï¬ģt', 'Ġï¬ģnd', 'Ġï¬ģsh', 'hentication', 'henticate', 'Ġangry', 'Ġanglers', 'Ġdeepwater', 'ĠSRDP', 'ĠSalzburg', 'ĠEstonia', 'ĠEstonian', 'Ġvillages', 'Ġvillagers', 'Ġvitality', 'Ġsecuritization', 'ĠDistrict', 'Ġcontrast', 'Ġcontraind', 'ĠTorngat', 'Ġcoalitions', 'Ġproductively', 'Ġaccredited', 'Ġtwentieth', 'ĠDevil', 'monthly', 'ĠEffectively', 'Ġpiecemeal', 'Europe', 'polit', 'polio', 'speak', 'Ġtouching', 'environmentally', 'Ġcrack', 'Ġinhibit', 'Ġaspirin', 'ĠPAA', 'ĠPAG', 'ĠPAs', 'ĠPAST', 'ĠPMQ', 'ĠSoC', 'Ġchairholder', 'Ġrounds', 'Ġrounded', 'ĠRoute', 'ĠRouting', 'ĠGasoline', 'ĠBiom', 'ĠBiological', 'ĠBiologic', 'Ġquotas', 'ĠLogistics', 'ĠLogistician', 'Ġalignments', 'Ġinstructed', 'Ġinstructing', 'ĠâĢ¦?\"', 'Ġmeteorology', 'ĠConcerns', 'Ġgrasslands', 'Ġconstructs', 'Ġconstructing', 'Ġsimplify', 'Ġsimplifying', 'ĠExports', 'ĠPrincipal', 'Ġcustodial', 'Ġpasswords', 'ĠContracts', 'Ġ6500', 'ĠConsidering', 'marketplaces', 'ĠRecognized', 'Ġenlargements', 'ĠIdentities', 'COSEWIC', 'persons', 'Ġtroposphere', 'Ġdiplomatic', 'Ġfootball', 'Ġproponent', 'ĠCLARI', 'ĠADMs', 'ĠADHD', 'ĠADATS', 'Ġexhibitor', 'ĠSignals', 'ĠSignificant', 'ĠRwand', 'ĠRoadblocks', 'ĠDINP', 'ĠNAME', 'ĠNAAF', 'ĠNez', 'ĠNecessary', 'ĠMainstreaming', 'ĠMacdonald', 'ĠFarming', 'ĠHAs', 'ĠHSMBC', 'ĠHomebuy', 'Ġcoffin', 'Ġagrienvironmental', 'Ġprecedes', 'Ġprecedent', 'Ġprecedence', 'Ġindexed', 'Ġoverlaps', 'Ġdiscovering', 'ĠManufacturer', 'Ġbattlefield', 'developed', 'Ġabandoned', '1959', '1969', 'group', 'handling', 'ikes', 'ikstan', 'linear', 'precipitation', 'prevalence', 'Ġtongues', 'Ġapology', 'Ġapnea', 'Ġauctioning', 'Ġcropping', 'Ġcropland', 'Ġsilver', 'Ġsilence', 'Ġsilenced', 'Ġsweep', 'Ġsnowmob', 'Ġwintering', 'ĠIris', 'ĠIrradiation', 'Ġstruggling', 'ĠParapanam', 'ĠSwim', 'ĠSwiss', 'ĠSimon', 'ĠSimilk', 'ĠMerritt', 'ĠFoundations', 'ĠBalancing', 'ĠBurial', 'ĠBurden', 'ĠBurkin', 'ĠBrazilians', 'Ġrobots', 'ĠOpin', 'Ġpeaks', 'Ġuncertainties', 'ĠUpon', 'Ġracialized', 'Ġdownloaded', 'ĠRecommended', 'Ġpharmacological', 'TPAT', 'modified', 'models', 'ĠÂº', 'Ġcasino', 'Ġcatchy', 'Ġdoubles', 'Ġdoubts', 'Ġbrakes', 'Ġloaded', 'Ġloading', 'Ġsteward', 'ĠAGN', 'ĠPersons', 'ĠPersistent', 'ĠSlip', 'ĠEGF', 'ĠEGS', 'ĠRideau', 'ĠDEI', 'ĠDetails', 'ĠFSU', 'ĠBoat', 'ĠBoil', 'ĠBooming', 'ĠByrd', 'Ġclinically', 'ĠOccur', 'ĠLooking', 'Ġmediating', 'Ġmediators', 'Ġprioritized', 'Ġprioritised', 'ĠIslamists', 'ĠYOUTH', 'ĠScientifique', 'Ġderivative', 'Ġbreakdowns', 'Ġhonouring', 'Ġaffiliate', 'Ġaffiliates', 'Ġspiritual', 'Ġbureaucratic', 'Ġbureaucracies', 'ĠJohnny', 'birds', 'elected', 'electropl', 'powder', 'Ġscholar', 'Ġpragmatic', 'Ġfronts', 'Ġbandwid', 'Ġbombed', 'rotechnics', 'Ġisolates', 'Ġforthcoming', 'Ġstemming', 'Ġdeployments', 'ĠADRs', 'Ġchiefs', 'Ġrigger', 'Ġrigorous', 'Ġvideos', 'account', 'Ġadmissibility', 'ĠRFSA', 'Ġseverely', 'ĠMethadone', 'Ġcommodities', 'Ġroyals', 'ĠWriters', 'Ġemails', 'Ġrecreation', 'Ġoutsource', 'Ġoutsiders', 'Ġoutsourced', 'ĠLCGE', 'ĠProcedures', 'ĠRebellion', 'ordinators', 'rologic', 'ĠRegistering', 'Ġinspiring', 'Ġinspires', 'ĠGenerations', 'Ġdiscriminates', 'Ġdiscriminating', 'ĠCSHs', 'competencies', 'Ġprosecuted', 'Ġdismissing', 'Ġunfairly', 'Ġsplitting', '5007', '5008', 'Choice', 'FNIHB', 'NESS', 'PHAC', 'Study', 'judge', 'innovation', 'Ġclicked', 'Ġfrustration', 'Ġfrustrations', 'Ġbriefed', 'ĠCTSI', 'ĠCreation', 'ettes', 'Ġdeferring', 'ĠParental', 'Ġheroines', 'Ġheaviest', 'accession', 'accessible', 'ĠReflect', 'ĠRefugee', 'ĠDigitization', 'Ġcontroversy', 'ĠMailroom', 'ĠFNI', 'ĠFNOG', 'ĠGothenburg', 'ĠGeorge', 'ĠWasagaming', 'ĠWrongdoing', 'ĠLAG', 'ĠLimited', 'confidential', 'Ġaddicts', 'Ġalterations', 'ĠRevised', 'ĠRevival', 'Ġminimise', 'ĠJudy', 'Ġnumeric', 'Ġextracted', 'Ġextracting', 'Ġextractable', 'ĠContinent', 'ĠContinence', 'ĠContinue', 'ĠContests', 'Ġmeritocracy', 'Ġpenetrates', 'Ġsubscriber', 'professionally', 'Ġsensitivities', 'Ġembryo', 'Ġembryonic', 'Ġnavigational', 'Ġtalented', 'Ġencompasses', 'Ġencompassing', 'Expo', 'Governor', 'Medium', 'Report', 'boarding', 'costs', 'foods', 'smokers', 'Ġostensibly', 'Ġcadet', 'Ġcadets', 'Ġcadmium', 'Ġwidening', 'Ġdictators', 'Ġanxious', 'Ġmerger', 'Ġmergers', 'Ġreplies', 'Ġegalitarian', 'ĠCDIA', 'ĠCMWSEP', 'ĠCurrently', 'Ġluncheon', 'Ġlags', 'ĠITCs', 'ĠITCan', 'Ġshoots', 'Ġshooting', 'ĠPOPs', 'ĠPOWA', 'Ġkilograms', 'ĠDelta', 'ĠDelivery', 'ĠNiMH', 'ĠNSAIDS', 'ĠMetis', 'ĠMetadata', 'ĠMaple', 'ĠFindings', 'ĠFrontier', 'ĠFrontotem', 'Ġexpropriated', 'ĠHaiti', 'ĠHolders', 'Ġcomplementarities', 'Ġdisinfect', 'Ġinteroperable', 'Ġallergen', 'Ġallergens', 'Ġsovereign', 'ĠConducting', 'Ġsmartest', 'standardized', 'ĠTrials', 'ĠPlacebos', 'ĠMinority', 'Ġmaximise', 'ĠDisclose', 'ĠDisclosures', 'ĠQuÃ©bÃ©', 'Ġbridging', 'Ġcelebrations', 'Ġliquidated', 'Ġaccompanies', 'ĠPollutants', 'Ġuniformed', 'Ġuniformity', 'Ġchampioned', 'Ġchampioning', 'ĠRMAFs', 'broken', 'Ġscholarship', 'Ġscholarships', 'Ġroyalties', 'Ġlymphoblastic', 'Registered', 'YYYY', 'certificate', 'fuel', 'label', 'labels', 'labelled', 'transfer', 'transaction', 'Ġtactical', 'Ġtailings', 'Ġtheatres', 'Ġtheatrical', 'onautical', 'erprints', 'Ġcatastrophic', 'Ġwatches', 'Ġwatcher', 'Ġdilatation', 'Ġinsects', 'Ġreassess', 'Ġreassure', 'Ġhalt', 'Ġlungs', 'Ġgrizz', 'ĠIRDI', 'ĠAugmentation', 'ĠPERC', 'ĠPotosi', 'ĠSEPA', 'ĠSELEX', 'ĠSOPs', 'ĠSuccession', 'Ġmega', 'Ġmegathrust', 'Ġabolished', 'Ġresiliency', 'ĠDetermine', 'ĠDemocratic', 'ĠMERCOS', 'ĠMajority', 'Ġexplicitly', 'ĠHCFC', 'Ġcoinc', 'Ġdisburse', 'Ġdisbursed', 'ĠWastes', 'Ġclerics', 'Ġdecreased', 'Ġdecreasing', 'Ġissuer', 'Ġissuers', 'Ġtransmitting', 'technological', 'aphylaxis', 'Ġcriticism', 'ĠReservists', 'Ġremunerated', 'Ġconstituents', 'Ġconstituencies', 'Ġawaits', 'ĠWeatheradio', 'ĠEnhancement', 'Ġexplosives', 'ĠExpectations', 'Ġbiotechnological', 'Ġbiometrics', 'atisfactory', 'Ġmotorcycle', 'ĠConsultative', 'Ġhypothetical', 'Ġhypothesize', 'ĠAllowable', 'discriminatory', 'supported', 'supportive', 'Ġcrafting', 'Ġoverlooking', 'ĠBroadcasters', 'ĠHelped', 'Ġfellowships', 'Manage', 'Principle', 'Term', 'counter', 'distances', 'demand', 'demands', 'iasis', 'practices', 'orientation', 'Ġpanels', 'Ġpushed', 'Ġfurnishing', 'Ġfrancophones', 'Ġanomalies', 'Ġreapply', 'Ġreapplication', 'Ġreappointed', 'Ġeleven', 'Ġnurture', 'Ġnurtures', 'ĠCWB', 'ĠCWD', 'ĠCWR', 'addict', 'Ġlesion', 'Ġlady', 'Ġladies', 'ĠIBM', 'Ġsticking', 'ĠShell', 'Ġknee', 'Ġknocking', 'ĠDrake', 'ĠDPRs', 'Ġplurilingual', 'ĠNetherlands', 'ĠNCBR', 'ĠTurnout', 'ĠTurnover', 'ĠTrustee', 'Ġexpedition', 'Ġexpeditions', 'Ġcookies', 'ĠGeographical', 'Ġincubation', 'ĠBattle', 'ĠBatoche', 'Ġrespiratory', 'Ġpertains', 'Ġassertions', 'ĠOptimists', 'Ġmanifestations', 'ĠLongitudinal', 'ĠIncentives', 'ĠReady', 'ĠReader', 'Ġgenomics', 'Ġreceptor', 'Ġdiscrepancies', 'Ġdeliberate', 'Ġdeliberations', 'Ġdeliberately', 'ĠEUROPE', 'Ġtradesperson', 'manufacturing', 'Ġblueberries', 'Ġpurchasers', 'ĠAcadians', 'ĠAcademy', 'Ġescaping', 'ĠImmigrant', 'Ġportrayal', 'ĠPharmaceuticals', 'Ġredeploying', 'ĠObserved', 'ĠObservation', 'Ġlandscaping', 'ĠExpenditures', 'Ġvocabularies', 'Ġsecrecy', 'ĠVolunteer', 'Ġepidemiological', 'ĠSwedish', 'ĠNegotiations', 'ĠNegotiating', 'ĠNegotiator', 'Ġmosquitoes', 'Assign', 'Association', 'Americana', 'MDGs', 'QUÃī', 'boats', 'collective', 'collections', 'defence', 'graphy', 'morally', 'infection', 'Ġtherm', 'Ġwarned', 'Ġforensic', 'Ġfingers', 'Ġfingerprints', 'Ġbundles', 'Ġtotals', 'Ġthunderstorms', 'Ġepis', 'Ġephedrine', 'Ġproximal', 'Ġproteins', 'ĠCounsel', 'imensional', 'ulinization', 'ĠAutobiography', 'ĠPierce', 'ĠPiercing', 'ĠPersonality', 'ĠSerbian', 'Ġabusive', 'Ġmovie', 'Ġhealer', 'Ġridges', 'ĠEndangered', 'ĠExtended', 'ĠExtraction', 'Ġappreciate', 'Ġappreciated', 'ĠDIRECT', 'ĠMiHR', 'ĠMiami', 'ĠMoroc', 'ĠMorphie', 'ĠMillionaire', 'ĠFlaring', 'ĠHemisphere', 'Ġacrylamide', 'Ġcooling', 'Ġcovenant', 'Ġincorrectly', 'Ġpolymer', 'Ġpoliovirus', 'Ġdiskettes', 'Ġinterdependence', 'Ġsubcontracts', 'Ġsubcontracting', 'ĠIncreasing', 'ĠStewart', 'Ġaltimeter', 'Ġaltogether', 'Ġalarmed', 'Ġallegiance', 'Ġscanned', 'Ġscandals', 'Ġoverseeing', 'Ġspotted', 'Ġdeparting', 'Ġreversible', 'Ġcorrelation', 'Ġcorrelate', 'Ġcorrelates', 'Ġnaturopathic', 'Ġ1944', 'Ġ1949', 'Ġ1953', 'Ġ1956', 'ĠKeep', 'ĠExperts', 'Ġilliterate', 'ĠTechjin', 'CANPASS', 'Ġerythema', 'Ġbooster', 'ĠPeriodic', 'Ġprobationary', 'ĠRepresentative', 'ethnicity', 'Ġwondering', 'Ġincompatibility', 'Ġdiamond', 'Ġdiameter', 'Ġdiamonds', 'Ġambassadors', 'Ġreinforces', 'Ġsuspicion', 'Ġï¬ģnancing', 'ĠEstablish', 'ĠEstablished', 'ĠEstablishment', 'Ġreferencing', 'ĠNiÃ±a', 'Ġtornado', 'Ġunknowns', 'ĠChampionships', 'Articles', 'Computer', 'FRCC', 'HDTV', 'Party', 'Translation', 'different', 'netting', 'pinup', 'polluting', 'ski', 'skills', 'systems', 'specify', 'Ġ__________', 'Ġillegitimate', 'Ġï¬Ĥow', 'Ġtuna', 'Ġtunnel', 'Ġtropical', 'Ġaptitude', 'enerational', 'Ġcourageous', 'Ġdioxide', 'Ġdioxins', 'Ġferry', 'Ġferrying', 'Ġbleeding', 'Ġbleachers', 'Ġbidding', 'Ġrendered', 'Ġbeefing', 'Ġdowntown', 'ĠCaribou', 'advertised', 'Ġgunpowder', 'ĠIUU', 'Ġstagnate', 'Ġnecessity', 'Ġshorebird', 'Ġcancelled', 'ĠAquatics', 'ĠAffected', 'Ġimprint', 'ĠPPPs', 'ĠSentence', 'establishing', 'Ġleakage', 'Ġmoonlight', 'Ġvigorous', 'Ġvigourously', 'Ġenvelopes', 'Ġappellation', 'Ġappellant', 'ĠRacism', 'ĠDoukh', 'employer', 'employee', 'individuals', 'ĠNurses', 'ĠMajal', 'ĠMaterials', 'ĠTrends', 'ĠFLU', 'ĠHyls', 'ĠHypur', 'Ġintensities', 'Ġintensified', 'ĠGraves', 'Ġconsortiums', 'ĠBears', 'ĠBurning', 'Ġperiphery', 'Ġassimil', 'Ġaggregate', 'Ġaggregates', 'ĠLinked', 'performance', 'Ġuncover', 'Ġunattended', 'Ġunattractive', 'Ġsynergy', 'Ġsynoptic', 'Ġsubdivision', 'ĠIncluded', 'ĠStructures', 'Ġalgorith', 'Ġtraceability', 'Ġtrajectories', 'Ġindemnity', 'Ġindemnification', 'Ġpatriarchal', 'ĠChurchill', 'ĠRespondent', 'ĠKitimat', 'Ġinsolvent', 'Ġhomeworkers', 'Ġpresuming', 'Ġtelemarketer', 'Ġflaws', 'Ġflawed', 'Ġmeningitis', 'ĠThreatens', 'âĢĤsignals', 'Ġarrhythmias', 'Ġ1870', 'Ġ1871', 'Ġfundamentally', 'Ġcounsellors', 'Ġxenophobic', 'ĠReduced', 'disaggregated', 'recognition', 'recognizance', 'ĠAmounts', 'Ġaffirmation', 'Ġprecipitate', 'Ġzoonoses', 'Ġzoonotic', 'Ġbeneï¬ģts', 'ĠCorrectional', 'consultation', 'consultants', 'ĠEstimated', '----------------------------------------------------------------', 'Ġosteoar', 'Ġjeopardy', 'Ġsacrifice', 'Ġgrievance', 'Ġgrievances', 'Ġelevation', 'Ġelevated', 'Ġporpoises', 'Ġabstracts', 'Added', 'Agency', 'Agreement', 'ARIMA', 'Employment', 'IONS', 'MMAR', 'TRV', 'circum', 'delivery', 'evaluating', 'facilit', 'feminist', 'midable', 'ooming', 'publishing', 'Ãªtre', 'ĠWheeled', 'Ġtallest', 'Ġcereal', 'Ġcereals', 'Ġcubs', 'Ġcockle', 'Ġcyanob', 'Ġpilots', 'Ġpilgrim', 'Ġdumping', 'Ġdinosaur', 'Ġdinosaurs', 'Ġfifty', 'Ġfifths', 'Ġfracture', 'Ġfractions', 'Ġmascot', 'Ġmasculinization', 'Ġrejoin', 'Ġrejoining', 'leader', 'leaders', 'Ġhoopla', 'Ġbereavement', 'Ġbereaved', 'strengthen', 'ĠCQI', 'ĠCypri', 'ĠCatastrophic', 'ĠCadets', 'ĠCampus', 'ĠClearance', 'adaptive', 'Ġgauge', 'Ġgauges', 'Ġgleaned', 'racism', 'Ġconferred', 'Ġorthod', 'ĠICAO', 'ĠIECPCP', 'chiropractor', 'chiropractors', 'ottetown', 'Ġstratosphere', 'Ġwholesaling', 'Ġwhistleblowers', 'ĠAEO', 'ĠAUCC', 'ĠPetition', 'ĠPetroleum', 'Ġmelody', 'Ġhelicopter', 'Ġhelicopters', 'ĠEphedra', 'responsibility', 'ĠRBM', 'ĠRBAF', 'Ġseizure', 'Ġseizures', 'ĠDenis', 'Ġcontradiction', 'ĠNaturo', 'ĠMAY', 'ĠMAIN', 'ĠMentor', 'ĠMotions', 'ĠMovement', 'ĠTitle', 'ĠTemperate', 'ĠTajikstan', 'ĠTUAV', 'ĠFORCE', 'ĠFootprints', 'ĠFTEs', 'ĠFloat', 'ĠGalileo', 'ĠGalapagos', 'Ġconsciousness', 'Ġincapable', 'Ġincapacitated', 'ĠBanglades', 'ĠBalkan', 'ĠBalkans', 'ĠWarsaw', 'ĠOGDs', 'ĠOverhead', 'Ġrelentlessly', 'nowledgement', 'Ġprecludes', 'ĠLLMP', 'ĠLifelong', 'ĠLocarno', 'Ġsynthesis', 'ĠStakeholders', 'Ġtragedy', 'Ġtragedies', 'Ġarticulate', 'Ġoverwhelming', 'ĠIntergovernment', 'ĠIntergenerational', 'Ġretrie', 'ĠAbdul', 'ĠAbdallah', 'Ġdemolition', 'ĠKarzai', 'Ġdisturbed', 'Ġsimultaneous', 'Ġsimultaneously', 'expand', 'ĠTherapy', 'ĠExcise', 'Ġ3005', 'Ġbiorepos', 'Ġshowcasing', 'ĠApplicant', 'ĠApplicants', 'Ġslogan', 'Ġslogans', 'ĠClothing', 'ĠImmunity', 'ĠImmunization', 'Ġparadig', 'Ġparadox', 'commitment', 'Ġfluctuate', 'Ġfluctuations', 'Ġoilseed', 'Ġoilseeds', 'participation', 'Ġsanitizer', 'Ġsanitizers', 'ĠChemicals', 'ĠAlbertans', 'Ġfragmented', 'Ġfragmentation', 'ĠBlueprint', 'Ġpsychoactive', 'ĠCustomized', 'ĠDistributor', '1996', 'Ġpharmacovigilance', 'Ġpharmacovigilence', 'Ġmidwives', 'Ġspokesperson', 'Ġspokespersons', 'Ġmegatonnes', 'Ġhampering', 'Ġredeeming', 'Ġnaturopaths', 'Question', 'ĠTaiwanese', 'Ġdisproportionate', 'Ġdisproportionately', 'Ġtelescope', 'Ġtelescopes', 'Alberta', 'Active', 'APPFA', 'EHRs', 'Frontier', 'Intern', 'Measure', 'campus', 'crowding', 'copyright', 'devoid', 'eureka', 'fashioned', 'growing', 'horseshoe', 'mainstreaming', 'sentinel', 'Ġtaste', 'Ġtsunamis', 'Ġauxiliary', 'institutional', 'Ġovarian', 'Ġcyberspace', 'Ġcinematographic', 'Ġsedentary', 'Ġslice', 'Ġpyrotechnics', 'Ġpheromones', 'Ġpinpoint', 'Ġwallet', 'Ġdredging', 'Ġdiversion', 'Ġdugout', 'Ġfounder', 'Ġfrightened', 'Ġfranchising', 'Ġbicycle', 'Ġmeso', 'arrangements', 'Ġearmarked', 'stein', 'staffing', 'Ġnesting', 'ĠCheryl', 'ĠCodex', 'ĠCuban', 'ĠCambodian', 'ĠCurriculum', 'immediate', 'Ġlurk', 'Ġgametes', 'Ġgarden', 'Ġorphans', 'ĠISTUE', 'Ġweighing', 'ĠACCEP', 'ĠASCIs', 'Ġimplantation', 'ĠPDF', 'ĠPrairie', 'ĠPsychology', 'ĠSaturday', 'Ġrescued', 'Ġhemisphere', 'Ġrubber', 'ĠEasement', 'ĠEvaluate', 'ĠEPSO', 'Ġkiosk', 'ĠRyanair', 'ĠDosimetry', 'ĠDARs', 'Ġcontagious', 'ĠNorwegian', 'ĠNAIG', 'ĠMRRS', 'ĠMigratory', 'ĠMunicipality', 'ĠMohaw', 'ĠTalbot', 'ĠTRIGR', 'ĠTERM', 'ĠTONGUE', 'ĠTorturers', 'ĠFreda', 'ĠFabry', 'ĠFeeding', 'ĠHillside', 'ĠHunting', 'ĠGaza', 'ĠBallard', 'ĠBroughton', 'Ġdisqualify', 'ĠWEAG', 'Ġmysteries', 'Ġinterfering', 'ĠOsiris', 'Ġagroecosystem', 'Ġaggressive', 'Ġreconstruction', 'Ġundergraduate', 'iagnosed', 'ĠLewy', 'ĠLaboratory', 'Ġunequally', 'Ġunilaterally', 'Ġjargon', 'ĠStalin', 'possible', 'Ġindefinitely', 'Ġarsenal', 'Ġamazing', 'agua', 'Ġscrapped', 'Ġinstincts', 'Ġadventures', 'Ġdescend', 'Ġinfrastruct', 'Ġsprays', 'Ġenthusias', 'Ġdepreciating', 'ĠChancellor', 'ĠCharlottetown', 'Ġpromulg', 'Ġpotatoes', 'ĠVolatility', 'Ġpopulatia', 'Ġdemographics', 'ĠKaplan', 'Ġrapists', 'Ġravages', 'Ġextinction', 'coordinating', 'ĠArmenian', 'Ġphysiologically', 'ĠAdopting', 'ĠAdvertising', 'ĠGuaranteed', 'ĠScreening', 'Ġantiquity', 'ĠMechanism', 'Ġadjudication', 'Ġmerchandising', 'engineering', 'âĢĤdisk', 'Ġharbours', 'Ġtriangles', 'Ġredesigned', 'contributors', 'ĠRepORts', 'Ġdenigrating', 'Ġhonorary', 'ĠCORPS', 'ĠINTERRU', 'Ġmobilizing', 'claimed', 'ĠICRH', 'ĠMargaret', 'Ġdissenters', 'Ġbattalions', 'ĠExpeditionary', 'Ġbioethanol', 'ĠSynthetic', 'scientists', 'Ġmortgaged', 'ĠBulgaria', 'ĠCCOHR', 'Ġrainforest', 'hydrology', 'ĠPurchasing', 'Ġmacroeconomists', 'blooded', 'Ġaerosol', 'âĤ¬ÂĿ', 'ĠTobacconists', 'districts', 'decrease', 'Ġinhalation', 'ĠIBETs', 'Ġkidnap', 'documentary', 'guardian', 'ĠMcDonald', 'Ġconciliators', 'Ġradiocommunications', 'Ġpedagogical', 'Ġimprisonment', 'Ġastronauts', 'ĠMunsch', 'methodology', 'morbidities', 'supervisor', 'Ġpneumococcal', 'Ġinheritance', 'ĠDPOHs', 'Afghan', 'Atlantic', 'Career', 'Description', 'Delta', 'HÃīMA', 'HLVW', 'NATION', 'Open', 'Points', 'Shall', 'TPPs', 'Television', 'Week', 'affected', 'biodegrad', 'creating', 'categories', 'commodity', 'cryptographic', 'dissatisfaction', 'dinosaurs', 'eenth', 'elemental', 'fowl', 'frame', 'fectionist', 'flagged', 'gwgraphy', 'girl', 'gathering', 'hazardous', 'kmaq', 'nominal', 'nutritious', 'piece', 'pencil', 'prepackaged', 'riline', 'sustaining', 'Ġileadership', 'Ġergonomic', 'Ġtribute', 'Ġtinsmith', 'Ġtribunals', 'Ġaugment', 'Ġoocyte', 'Ġoysters', 'Ġosmosis', 'Ġcrowd', 'Ġsophisticated', 'Ġsiblings', 'Ġpigment', 'Ġpivot', 'Ġprizes', 'Ġpandemics', 'Ġperennial', 'Ġpunctuality', 'ĠpÃªcheurs', 'Ġwizard', 'Ġwieners', 'Ġdichotomy', 'Ġdensities', 'Ġdribble', 'Ġdysfunction', 'Ġdwellings', 'Ġinverte', 'Ġincessant', 'Ġingestion', 'ĠinFORMatiOn', 'Ġinseminated', 'alternatives', 'Ġfledgling', 'Ġfranca', 'Ġfierce', 'Ġbabysitter', 'Ġberyll', 'Ġbrazenly', 'Ġantheridial', 'Ġmunitions', 'Ġmumm', 'Ġmilitia', 'Ġreaffirmation', 'Ġreï¬Ĥect', 'Ġhibern', 'Ġeï¬Ģects', 'omatotropin', 'Ġnortherly', 'Ġnervous', 'Ġnosebleed', 'Ġnuggets', 'Ġnitrogen', 'Ġprostitutes', 'secondment', 'ĠCopying', 'ĠCoyotes', 'ĠCordillera', 'ĠCoteau', 'ĠCCTA', 'ĠCircle', 'ĠCMAs', 'ĠCocobu', 'immunization', 'administration', 'Ġlosers', 'Ġlustration', 'Ġgelatin', 'Ġgalleries', 'Ġgastrointestinal', 'Ġghosts', 'Ġgingivitis', 'Ġconcessions', 'Ġcongenital', 'ĠISAF', 'ĠIRIS', 'ĠIgnition', 'ĠIRESSA', 'challenges', 'Ġutero', 'Ġuploaded', 'Ġhabeas', 'Ġdexterity', 'ĠCannabis', 'ĠCanrailpass', 'ĠCanpotex', 'opascals', 'ĠAmina', 'ĠAcknowledgement', 'ĠAMPS', 'ĠAFOD', 'ĠAPOLLO', 'ĠAyurved', 'Ġasymptomatic', 'Ġimprecise', 'ĠPresentation', 'Ġexcuse', 'Ġextinguishment', 'ĠSkeena', 'ĠSeparate', 'ĠSaxony', 'ĠSovereignty', 'ĠSylvia', 'ĠSETI', 'ĠSlavery', 'ĠSOLVIT', 'Ġchocolate', 'Ġchrysotile', 'Ġrescheduling', 'Ġribbon', 'rizzle', 'ĠEAFRD', 'ĠElimination', 'ĠEMAS', 'ĠEBSM', 'ĠEsquimalt', 'Ġvinegar', 'amphlets', 'Ġenormous', 'Ġapprehension', 'ĠRogers', 'ĠRAXEN', 'ĠRamsar', 'Ġseismic', 'Ġsegregation', 'ĠDictionary', 'ĠDIAND', 'ĠDiplomacy', 'ĠDalhousie', 'Ġcontortionists', 'Ġplumbing', 'Ġplausible', 'ĠNovice', 'ĠNexus', 'ĠNahanni', 'ĠMisha', 'ĠMeech', 'ĠMERX', 'ĠMeningitis', 'ĠMORe', 'ĠMOTHER', 'ĠTrenton', 'ĠTuesday', 'ĠTritium', 'ĠTUEs', 'ĠTsunami', 'ĠFuels', 'ĠFCFS', 'ĠFMFCB', 'ĠFFPTSR', 'ĠFlorida', 'Ġcommemorated', 'ĠHamilton', 'ĠHaven', 'ĠHercules', 'ĠHannam', 'ĠHTML', 'ĠHorticulture', 'Ġactuarial', 'Ġcaseload', 'ĠGagetown', 'ĠGordon', 'ĠGregg', 'ĠGauthier', 'ĠGlacier', 'Ġincarceration', 'Ġincinerator', 'Ġinconveniences', 'ĠBefore', 'ĠBundestag', 'ĠBernard', 'Ġrofecoxib', 'Ġdisastrous', 'Ġdisapprove', 'Ġpercutaneous', 'ĠWelcome', 'ĠWelfare', 'ĠWOuld', 'Ġinterrupts', 'Ġinterferes', 'Ġempathy', 'Ġemplanement', 'ĠOssia', 'ĠOksidia', 'ĠOkanagan', 'Ġmanganese', 'Ġunderachievement', 'ĠcommuniquÃ©', 'ĠLinguists', 'ĠLCSH', 'Ġliberate', 'ĠProceeds', 'ĠProHeart', 'ĠProbationary', 'Ġunaware', 'Ġunhedged', 'Ġunchecked', 'Ġunwanted', 'Ġunpublished', 'Ġjealousy', 'Ġsuburbs', 'ĠIngredient', 'ĠStairway', 'ĠStockholm', 'ĠStratospheric', 'ĠStrokestown', 'Ġoffspring', 'Ġalkaline', 'ĠresponsabilitÃ©', 'Ġamphib', 'Ġscarcity', 'Ġtransgressions', 'ĠUruguay', 'obviousness', 'Ġovercontribution', 'ĠHelicopter', 'curricula', 'Ġvaldecoxib', 'Ġdescriptors', 'Ġspamming', 'associations', 'Ġsurfacing', 'Ġphosphorus', 'ĠGovemments', 'ĠChloramphen', 'Ġidentiï¬ģed', 'ĠVertical', 'ĠVladimir', 'Ġequilibrist', 'amphetamine', 'Ġcorroborate', 'ĠJazeera', 'ĠJITSIC', 'ĠJerusalem', 'Ġproficiency', 'ĠKhrushchev', 'ĠYMPE', 'ĠYeltsin', 'Ġcomplimentary', 'ĠQaeda', 'excellent', 'ĠArgentina', 'ĠCASCADE', 'ĠCADRMP', 'ĠExaminations', 'ĠExecuting', 'Ġaudiocast', 'Ġflammable', 'ĠShanghai', 'ĠShutterbug', 'ĠAdequate', 'Ġannuitant', 'Ġhistoplasmosis', 'Ġposthumous', 'ĠAltaVista', 'ĠCIRCLE', 'Ġvehemently', 'ĠAppalachia', 'equivalent', 'ĠScarboro', 'ĠLebanon', 'ĠLeonardo', 'Ġantidepressants', 'Ġgeoscience', 'ĠAnishnaab', 'Ġpenitentiary', 'ĠIPOLC', 'ĠConsolidated', 'ĠMonastery', 'Ġeradicating', 'Ġboeuf', 'Ġportfolios', 'ĠSubcommittee', 'ĠSubscriber', 'Ġchemotherapy', 'ĠFormaldehyde', 'ĠObserver', 'Ġbreakthroughs', 'Ġturmoil', 'Ġdenormalization', 'ĠInfocentre', 'Ġicebreakers', 'Ġunsuspecting', 'Ġimmunogenicity', 'Ġimmunosuppression', 'ĠArchaeologist', 'Ġbioaccumulation', 'ĠAmalgamation', 'ĠRenaissance', 'ĠRetrospective', 'ĠTEQUIN', 'ĠEthiopia', 'ĠLarocque', 'Ġreprographics', 'Ġhydroelectric', 'Ġmacaroni', 'ĠTeleReply', 'ĠZealand', 'ĠCLARION', 'ĠHomebuyers', 'ĠSimilkameen', 'ĠBurkinabÃ¨', 'electroplating', 'Ġbandwidth', 'ĠFNOGMMA', 'ĠFrontotemporal', 'ĠQuÃ©bÃ©cois', 'ĠMERCOSUR', 'QUÃīBEC', 'ĠDoukhob', 'ĠHypurin', 'Ġalgorithms', 'Ġosteoarthritis', 'ĠBangladesh', 'ĠIntergovernmental', 'Ġagroecosystems', 'Ġinfrastructures', 'ĠINTERRUPTION', 'biodegradable', 'ĠChloramphenicol']\n"
          ],
          "name": "stdout"
        }
      ]
    },
    {
      "cell_type": "code",
      "metadata": {
        "id": "wedAhH37NQ4v",
        "colab_type": "code",
        "colab": {
          "base_uri": "https://localhost:8080/",
          "height": 34
        },
        "outputId": "5649ad13-b016-4f76-aca1-73a22b039f5a"
      },
      "source": [
        "tokenizer_eng.encode('Tokenizing is so easy').tokens"
      ],
      "execution_count": null,
      "outputs": [
        {
          "output_type": "execute_result",
          "data": {
            "text/plain": [
              "['T', 'ok', 'en', 'izing', 'Ġis', 'Ġso', 'Ġeasy']"
            ]
          },
          "metadata": {
            "tags": []
          },
          "execution_count": 18
        }
      ]
    },
    {
      "cell_type": "markdown",
      "metadata": {
        "id": "oA9fKgYhW3Sh",
        "colab_type": "text"
      },
      "source": [
        "## Building the model"
      ]
    },
    {
      "cell_type": "code",
      "metadata": {
        "id": "8Ts233eLVyjk",
        "colab_type": "code",
        "colab": {}
      },
      "source": [
        "# class PositionalEncoding(nn.Module):\n",
        "#     def __init__(self, emb_dim, dropout, max_len=5000):\n",
        "#         super().__init__()\n",
        "#         self.dropout = nn.Dropout(dropout)\n",
        "#         pe = torch.zeros(max_len, emb_dim)\n",
        "#         position = torch.arange(0, max_len, 1, dtype=torch.float).unsqueeze(1)\n",
        "#         div_term = torch.exp(torch.arange(0, emb_dim, 2, dtype=torch.float) * (-math.log(10000.0) / emb_dim))\n",
        "#         pe[:, 0::2] = torch.sin(position * div_term) #[max_len, emb_dim]\n",
        "#         pe[:, 1::2] = torch.cos(position * div_term) #[max_len, emb_dim]\n",
        "\n",
        "#         # store the pe in the persistent buffer so they won't be discarded and \n",
        "#         # also they won't be thought of as params\n",
        "#         self.register_buffer('pe', pe)\n",
        "\n",
        "#     def forward(self, inp_emb):\n",
        "#         inp_emb = inp_emb + self.pe[inp_emb.shape[0], :]\n",
        "#         inp_emb = self.dropout(inp_emb)\n",
        "#         return inp_emb"
      ],
      "execution_count": null,
      "outputs": []
    },
    {
      "cell_type": "code",
      "metadata": {
        "id": "sqG17h0Wlbgf",
        "colab_type": "code",
        "colab": {}
      },
      "source": [
        "class PositionalEncoding(nn.Module):\n",
        "    def __init__(self, emb_dim, dropout, max_len=5000):\n",
        "        super().__init__()\n",
        "        self.dropout = nn.Dropout(dropout)\n",
        "        # pe = torch.zeros(max_len, emb_dim)\n",
        "        # position = torch.arange(0, max_len, 1, dtype=torch.float).unsqueeze(1)\n",
        "        # div_term = torch.exp(torch.arange(0, emb_dim, 2, dtype=torch.float) * (-math.log(10000.0) / emb_dim))\n",
        "        # pe[:, 0::2] = torch.sin(position * div_term) #[max_len, emb_dim]\n",
        "        # pe[:, 1::2] = torch.cos(position * div_term) #[max_len, emb_dim]\n",
        "\n",
        "        # store the pe in the persistent buffer so they won't be discarded and \n",
        "        # also they won't be thought of as params\n",
        "        self.register_buffer('freq', 1 / (10000 ** (torch.arange(0., emb_dim, 2.)/emb_dim)))\n",
        "\n",
        "    def forward(self, inp_emb):\n",
        "        pos = torch.arange(0, inp_emb.size(1), device=inp_emb.device).float()\n",
        "        inp = torch.ger(pos, self.freq)\n",
        "        pos_enc = torch.cat([inp.sin(), inp.cos()], dim=-1)\n",
        "\n",
        "        inp_emb = inp_emb + pos_enc\n",
        "        inp_emb = self.dropout(inp_emb)\n",
        "        return inp_emb"
      ],
      "execution_count": null,
      "outputs": []
    },
    {
      "cell_type": "code",
      "metadata": {
        "id": "APSlDOgQWUSa",
        "colab_type": "code",
        "colab": {
          "base_uri": "https://localhost:8080/",
          "height": 34
        },
        "outputId": "902474da-c215-4eac-e687-f21848c48617"
      },
      "source": [
        "PositionalEncoding(300, 0.1)(torch.randn(32, 16, 300)).shape"
      ],
      "execution_count": null,
      "outputs": [
        {
          "output_type": "execute_result",
          "data": {
            "text/plain": [
              "torch.Size([32, 16, 300])"
            ]
          },
          "metadata": {
            "tags": []
          },
          "execution_count": 19
        }
      ]
    },
    {
      "cell_type": "markdown",
      "metadata": {
        "id": "N00DYFxG95qf",
        "colab_type": "text"
      },
      "source": [
        "Since we have a translation(next word problem), it is the decoder that will be masked. For more info on the kep_pads reference https://discuss.pytorch.org/t/how-to-add-padding-mask-to-nn-transformerencoder-module/63390/3"
      ]
    },
    {
      "cell_type": "code",
      "metadata": {
        "id": "_FBlDFDVRdAC",
        "colab_type": "code",
        "colab": {}
      },
      "source": [
        "class TransformerModel(nn.Module):\n",
        "    # adapted from \n",
        "    def __init__(self, enc_voc_sz, dec_voc_sz, emb_sz, n_head, inp_fc, num_layers, device, dropout=0.5):\n",
        "        super(TransformerModel, self).__init__()\n",
        "        self.device = device\n",
        "\n",
        "        self.emb_sz = emb_sz\n",
        "\n",
        "        self.enc_emb = nn.Embedding(enc_voc_sz, emb_sz).to(self.device)\n",
        "        self.dec_emb = nn.Embedding(dec_voc_sz, emb_sz).to(self.device)\n",
        "\n",
        "        trans_enc_layer = nn.TransformerEncoderLayer(emb_sz, nhead=n_head, dim_feedforward=inp_fc, dropout=dropout).to(self.device)\n",
        "        self.trans_enc = nn.TransformerEncoder(trans_enc_layer, num_layers=num_layers).to(self.device)\n",
        "        self.pos_enc = PositionalEncoding(emb_sz, dropout).to(self.device)\n",
        "\n",
        "        # self.dec_inp_mask = None\n",
        "\n",
        "        trans_dec_layer = nn.TransformerDecoderLayer(emb_sz, nhead=n_head, dim_feedforward=inp_fc, dropout=dropout).to(self.device)\n",
        "        self.trans_dec = nn.TransformerDecoder(trans_dec_layer, num_layers=num_layers).to(self.device)\n",
        "        self.pos_dec = PositionalEncoding(emb_sz, dropout).to(self.device)\n",
        "\n",
        "        self.decout = nn.Linear(emb_sz, dec_voc_sz).to(self.device)\n",
        "        self.decout.weight = self.dec_emb.weight\n",
        "\n",
        "        # self.init_weight()\n",
        "        \n",
        "\n",
        "    def get_mask(self, sz):\n",
        "        mask = torch.triu(torch.ones(sz, sz)).transpose(0, 1)\n",
        "        mask = mask.masked_fill(mask == 0, float('-inf')).masked_fill(mask == 1, float(0.0))\n",
        "        return mask.to(self.device)\n",
        "\n",
        "    def get_src_key_pad(self, src):\n",
        "        # a boolean is expected for key masks to indicate padding\n",
        "        src = (src == PAD_TOKEN_ID).long().bool()\n",
        "        # src = (src == PAD_TOKEN_ID).float()\n",
        "        # src = src.masked_fill(src==1., float('-inf'))\n",
        "        return src.to(self.device)\n",
        "\n",
        "    def get_trg_key_and_mask(self, src):\n",
        "        trg_mask = self.get_mask(len(src))\n",
        "        trg_key_pad_mask = self.get_src_key_pad(src)\n",
        "        return trg_mask, trg_key_pad_mask\n",
        "\n",
        "\n",
        "    def forward(self, enc_inp, dec_inp):\n",
        "        ###########################encoder############################\n",
        "        # according to attention is all you need paper the encoder embedding \n",
        "        # must be multplied by the sqrt of the embedding_size\n",
        "\n",
        "        # ensure the input is of shape [seqlen, bs]\n",
        "        # if not run enc_inp = enc_inp.t()\n",
        "        enc_inp = enc_inp.t().to(self.device)\n",
        "        enc_key_pad_mask = self.get_src_key_pad(enc_inp) #[seq_len, bs]\n",
        "\n",
        "        # print(f'enc_emb: {self.enc_emb.device}')\n",
        "        # print(f'enc_inp: {enc_inp.device}')\n",
        "        # print(f'sqrt: {math.sqrt(self.emb_sz).device}')\n",
        "        enc_inp = self.enc_emb(enc_inp) * math.sqrt(self.emb_sz)\n",
        "        enc_inp = self.pos_enc(enc_inp)\n",
        "        \n",
        "        # ensure the input is of shape [seqlen, bs, emb_sz] after emb_enc and pos_enc\n",
        "        enc_out = self.trans_enc(src=enc_inp, src_key_padding_mask=enc_key_pad_mask.t()) #[seq_len, bs, emb_sz]\n",
        "        \n",
        "        ###########################decoder############################\n",
        "        # ensure the input is of shape [seqlen, bs]\n",
        "        # if not run dec_inp = dec_inp.t()\n",
        "        dec_inp = dec_inp.t().to(self.device)\n",
        "        dec_mask, dec_key_pad_mask = self.get_trg_key_and_mask(dec_inp)\n",
        "\n",
        "        dec_inp = self.dec_emb(dec_inp) * math.sqrt(self.emb_sz)\n",
        "        dec_inp = self.pos_dec(dec_inp)\n",
        "        \n",
        "        # ensure the input is of shape [seqlen, bs, emb_sz] after emb_enc and pos_enc\n",
        "        dec_out = self.trans_dec(tgt=dec_inp, memory=enc_out, tgt_mask=dec_mask, \n",
        "                                 tgt_key_padding_mask=dec_key_pad_mask.t(), \n",
        "                                 memory_key_padding_mask=enc_key_pad_mask.t())\n",
        "        \n",
        "        dec_out  = self.decout(dec_out)\n",
        "\n",
        "        return dec_out\n",
        "\n",
        "    def init_weight(self):\n",
        "        # it is important that the distrbution of the weights be mean and std 0\n",
        "        initRange = 0.05\n",
        "        self.enc_emb.weight.data.uniform_(-initRange, initRange)\n",
        "        self.dec_emb.weight.data.uniform_(-initRange, initRange)\n",
        "\n",
        "        self.decout.weight.data.uniform_(-initRange, initRange)\n",
        "        self.decout.bias.data.zero_()\n",
        "\n",
        "    def eval(self):\n",
        "        self.trans_enc.eval()\n",
        "        self.trans_dec.eval()"
      ],
      "execution_count": null,
      "outputs": []
    },
    {
      "cell_type": "code",
      "metadata": {
        "id": "QF18mB6UalRB",
        "colab_type": "code",
        "colab": {}
      },
      "source": [
        "class TransformerModel(nn.Module):\n",
        "    # adapted from \n",
        "    def __init__(self, enc_voc_sz, dec_voc_sz, emb_sz, n_head, inp_fc, num_layers, device, dropout=0.5):\n",
        "        super(TransformerModel, self).__init__()\n",
        "        self.device = device\n",
        "\n",
        "        self.emb_sz = emb_sz\n",
        "\n",
        "        self.enc_emb = nn.Embedding(enc_voc_sz, emb_sz).to(self.device)\n",
        "        self.dec_emb = nn.Embedding(dec_voc_sz, emb_sz).to(self.device)\n",
        "\n",
        "        trans_enc_layer = nn.TransformerEncoderLayer(emb_sz, nhead=n_head, dim_feedforward=inp_fc, dropout=dropout).to(self.device)\n",
        "        self.trans_enc = nn.TransformerEncoder(trans_enc_layer, num_layers=num_layers).to(self.device)\n",
        "        self.pos_enc = PositionalEncoding(emb_sz, dropout).to(self.device)\n",
        "\n",
        "        # self.dec_inp_mask = None\n",
        "\n",
        "        trans_dec_layer = nn.TransformerDecoderLayer(emb_sz, nhead=n_head, dim_feedforward=inp_fc, dropout=dropout).to(self.device)\n",
        "        self.trans_dec = nn.TransformerDecoder(trans_dec_layer, num_layers=num_layers).to(self.device)\n",
        "        # self.pos_dec = PositionalEncoding(emb_sz, dropout).to(self.device)\n",
        "\n",
        "        self.decout = nn.Linear(emb_sz, dec_voc_sz).to(self.device)\n",
        "\n",
        "        self.init_weight()\n",
        "\n",
        "        self.pos_enc = nn.Embedding(enc_voc_sz, 512)\n",
        "        self.pos_dec = nn.Embedding(dec_voc_sz, 512)\n",
        "\n",
        "    def get_mask(self, sz):\n",
        "        mask = torch.triu(torch.ones(sz, sz)).transpose(0, 1)\n",
        "        mask = mask.masked_fill(mask == 0, float('-inf')).masked_fill(mask == 1, float(0.0))\n",
        "        return mask.to(self.device)\n",
        "\n",
        "    def get_src_key_pad(self, src):\n",
        "        src = (src == PAD_TOKEN_ID).long().bool()\n",
        "        return src.to(self.device)\n",
        "\n",
        "    def get_trg_key_and_mask(self, src):\n",
        "        trg_mask = self.get_mask(len(src))\n",
        "        trg_key_pad_mask = self.get_src_key_pad(src)\n",
        "        return trg_mask, trg_key_pad_mask\n",
        "\n",
        "\n",
        "    def forward(self, enc_inp, dec_inp):\n",
        "        ###########################encoder############################\n",
        "        # according to attention is all you need paper the encoder embedding \n",
        "        # must be multplied by the sqrt of the embedding_size\n",
        "\n",
        "        # ensure the input is of shape [seqlen, bs]\n",
        "        # if not run enc_inp = enc_inp.t()\n",
        "        pos_enc = torch.arange(0, enc_inp.shape[1]).unsqueeze(0).repeat(enc_inp.shape[0], 1).to(self.device)\n",
        "        # print(f'pos_enc: {pos_enc.shape}')\n",
        "        # print(f'pos_enc_self: {self.pos_enc.weight.shape}')\n",
        "\n",
        "        enc_key_pad_mask = self.get_src_key_pad(enc_inp.t()) #[seq_len, bs]\n",
        "\n",
        "        # print(f'enc_emb: {self.enc_emb.device}')\n",
        "        # print(f'enc_inp: {enc_inp.device}')\n",
        "        # print(f'sqrt: {math.sqrt(self.emb_sz).device}')\n",
        "        enc_inp = self.enc_emb(enc_inp.to(self.device)) * math.sqrt(self.emb_sz)\n",
        "        # enc_inp = self.pos_enc(enc_inp)\n",
        "        # print(f'positional: {self.pos_enc(pos_enc).shape}')\n",
        "        enc_inp = enc_inp + self.pos_enc(pos_enc)\n",
        "        \n",
        "        enc_inp = enc_inp.transpose(0,1).to(self.device)\n",
        "        \n",
        "        # ensure the input is of shape [seqlen, bs, emb_sz] after emb_enc and pos_enc\n",
        "        enc_out = self.trans_enc(src=enc_inp, src_key_padding_mask=enc_key_pad_mask.t()) #[seq_len, bs, emb_sz]\n",
        "        \n",
        "        ###########################decoder############################\n",
        "        # ensure the input is of shape [seqlen, bs]\n",
        "        # if not run dec_inp = dec_inp.t()\n",
        "        pos_dec = torch.arange(0, dec_inp.shape[1]).unsqueeze(0).repeat(dec_inp.shape[0], 1).to(self.device)\n",
        "        \n",
        "        dec_mask, dec_key_pad_mask = self.get_trg_key_and_mask(dec_inp.t())\n",
        "\n",
        "        dec_inp = self.dec_emb(dec_inp.to(self.device)) * math.sqrt(self.emb_sz)\n",
        "        # dec_inp = self.pos_dec(dec_inp)\n",
        "        dec_inp = dec_inp + self.pos_dec(pos_dec)\n",
        "        dec_inp = dec_inp.transpose(0,1).to(self.device)\n",
        "        \n",
        "        # ensure the input is of shape [seqlen, bs, emb_sz] after emb_enc and pos_enc\n",
        "        dec_out = self.trans_dec(tgt=dec_inp, memory=enc_out, tgt_mask=dec_mask, \n",
        "                                 tgt_key_padding_mask=dec_key_pad_mask.t(), \n",
        "                                 memory_key_padding_mask=enc_key_pad_mask.t())\n",
        "        \n",
        "        dec_out  = self.decout(dec_out)\n",
        "\n",
        "        return dec_out\n",
        "\n",
        "    def init_weight(self):\n",
        "        # it is important that the distrbution of the weights be mean and std 0\n",
        "        initRange = 0.1\n",
        "        self.enc_emb.weight.data.uniform_(-initRange, initRange)\n",
        "        self.dec_emb.weight.data.uniform_(-initRange, initRange)\n",
        "\n",
        "        self.decout.weight.data.uniform_(-initRange, initRange)\n",
        "        self.decout.bias.data.zero_()\n",
        "\n",
        "    def eval(self):\n",
        "        self.trans_enc.eval()\n",
        "        self.trans_dec.eval()"
      ],
      "execution_count": null,
      "outputs": []
    },
    {
      "cell_type": "code",
      "metadata": {
        "id": "8p_w0azzlaFo",
        "colab_type": "code",
        "colab": {}
      },
      "source": [
        "device = torch.device('cuda') if torch.cuda.is_available() else torch.device('cpu')"
      ],
      "execution_count": null,
      "outputs": []
    },
    {
      "cell_type": "code",
      "metadata": {
        "id": "QgRVpDu95bl5",
        "colab_type": "code",
        "colab": {}
      },
      "source": [
        "enc_voc_sz = vocab_size_fr\n",
        "dec_voc_sz = vocab_size_eng\n",
        "emb_sz = 512\n",
        "n_head = 8\n",
        "inp_fc = 2048\n",
        "num_layers = 6"
      ],
      "execution_count": null,
      "outputs": []
    },
    {
      "cell_type": "code",
      "metadata": {
        "id": "FdYDDdAb5OnT",
        "colab_type": "code",
        "colab": {}
      },
      "source": [
        "model = TransformerModel(enc_voc_sz, dec_voc_sz, emb_sz, n_head, inp_fc, num_layers, device=device, dropout=0.05)"
      ],
      "execution_count": null,
      "outputs": []
    },
    {
      "cell_type": "code",
      "metadata": {
        "id": "CGlDO_AvQ4ji",
        "colab_type": "code",
        "colab": {
          "base_uri": "https://localhost:8080/",
          "height": 151
        },
        "outputId": "bee4af14-4a88-4a91-ddca-944021224b43"
      },
      "source": [
        "model.get_mask(8)"
      ],
      "execution_count": null,
      "outputs": [
        {
          "output_type": "execute_result",
          "data": {
            "text/plain": [
              "tensor([[0., -inf, -inf, -inf, -inf, -inf, -inf, -inf],\n",
              "        [0., 0., -inf, -inf, -inf, -inf, -inf, -inf],\n",
              "        [0., 0., 0., -inf, -inf, -inf, -inf, -inf],\n",
              "        [0., 0., 0., 0., -inf, -inf, -inf, -inf],\n",
              "        [0., 0., 0., 0., 0., -inf, -inf, -inf],\n",
              "        [0., 0., 0., 0., 0., 0., -inf, -inf],\n",
              "        [0., 0., 0., 0., 0., 0., 0., -inf],\n",
              "        [0., 0., 0., 0., 0., 0., 0., 0.]], device='cuda:0')"
            ]
          },
          "metadata": {
            "tags": []
          },
          "execution_count": 63
        }
      ]
    },
    {
      "cell_type": "code",
      "metadata": {
        "id": "-fw2ncUNrKI-",
        "colab_type": "code",
        "colab": {}
      },
      "source": [
        "model.to(device);"
      ],
      "execution_count": null,
      "outputs": []
    },
    {
      "cell_type": "markdown",
      "metadata": {
        "id": "0Lw6v3H6-egd",
        "colab_type": "text"
      },
      "source": [
        "##Create Dataset and Dataloader"
      ]
    },
    {
      "cell_type": "code",
      "metadata": {
        "id": "7F5FE6BXPzqs",
        "colab_type": "code",
        "colab": {}
      },
      "source": [
        "class CustomTokenizer():\n",
        "    def __init__(self, lang='eng', tokenizers=(tokenizer_fr, tokenizer_eng)):\n",
        "        self.tok = tokenizers\n",
        "        self.lang = lang\n",
        "\n",
        "    def tokenize(self, text):\n",
        "        if self.lang == 'fr':\n",
        "            tokens = self.tok[0].encode(text).tokens\n",
        "        elif self.lang == 'eng':\n",
        "            tokens = self.tok[1].encode(text).tokens        \n",
        "        return tokens\n",
        "\n",
        "    def __call__(self, text: Str):\n",
        "        # yield self.tokenize(text)\n",
        "        return self.tokenize(text)"
      ],
      "execution_count": null,
      "outputs": []
    },
    {
      "cell_type": "code",
      "metadata": {
        "id": "i0t7_Q00z0HL",
        "colab_type": "code",
        "colab": {}
      },
      "source": [
        "def add_bos_eos_toks(x):\n",
        "    return ['<sos>'] + x + ['<eos>']"
      ],
      "execution_count": null,
      "outputs": []
    },
    {
      "cell_type": "code",
      "metadata": {
        "id": "bZSVoWfVOCEz",
        "colab_type": "code",
        "colab": {}
      },
      "source": [
        "tfms_fr = [ColReader('fr'), CustomTokenizer(lang='fr'), add_bos_eos_toks, Numericalize(vocab=vocab_fr)]\n",
        "tfms_eng = [ColReader('eng'), CustomTokenizer, add_bos_eos_toks, Numericalize(vocab=vocab_eng)]"
      ],
      "execution_count": null,
      "outputs": []
    },
    {
      "cell_type": "code",
      "metadata": {
        "id": "bMhC1nYlePGt",
        "colab_type": "code",
        "colab": {}
      },
      "source": [
        "splits = RandomSplitter()(df[:10000])"
      ],
      "execution_count": null,
      "outputs": []
    },
    {
      "cell_type": "code",
      "metadata": {
        "id": "iaKqIVx-N6Px",
        "colab_type": "code",
        "colab": {}
      },
      "source": [
        "dsets = Datasets(df[:10000], [tfms_fr, tfms_eng], splits=splits, dl_type=SortedDL)"
      ],
      "execution_count": null,
      "outputs": []
    },
    {
      "cell_type": "code",
      "metadata": {
        "id": "1AgR46G02Shs",
        "colab_type": "code",
        "colab": {}
      },
      "source": [
        ""
      ],
      "execution_count": null,
      "outputs": []
    },
    {
      "cell_type": "code",
      "metadata": {
        "id": "wOliNvJQdPXn",
        "colab_type": "code",
        "colab": {}
      },
      "source": [
        "# dls = dsets.dataloaders(bs=4, val_bs=4, before_batch=[pad], seq_len=120)"
      ],
      "execution_count": null,
      "outputs": []
    },
    {
      "cell_type": "code",
      "metadata": {
        "id": "rf3NQvxJg0L8",
        "colab_type": "code",
        "colab": {}
      },
      "source": [
        "# @typedispatch\n",
        "# def show_batch(x:TensorText, y: TensorText, samples, max_n=2, **kwargs):\n",
        "#     items = random.sample([dsets.decode((x_, y_)) for x_, y_ in zip(x, y)], k=max_n)\n",
        "#     x = [[i_ for i_ in i[0] if i_ != '<pad>'] for i in items]\n",
        "#     y = [[i_ for i_ in i[1] if i_ != '<pad>'] for i in items]\n",
        "#     display(pd.DataFrame({'x':x, 'y':y}))"
      ],
      "execution_count": null,
      "outputs": []
    },
    {
      "cell_type": "code",
      "metadata": {
        "id": "KpVT2EWkg0Fq",
        "colab_type": "code",
        "colab": {}
      },
      "source": [
        "# dls.show_batch(max_n=4)"
      ],
      "execution_count": null,
      "outputs": []
    },
    {
      "cell_type": "code",
      "metadata": {
        "id": "QFjKlzLm1ABL",
        "colab_type": "code",
        "colab": {}
      },
      "source": [
        "# dls.valid.one_batch()[0].shape"
      ],
      "execution_count": null,
      "outputs": []
    },
    {
      "cell_type": "code",
      "metadata": {
        "id": "DcAiawDmDfLi",
        "colab_type": "code",
        "colab": {}
      },
      "source": [
        "dsets[0]"
      ],
      "execution_count": null,
      "outputs": []
    },
    {
      "cell_type": "code",
      "metadata": {
        "id": "P7rFcCd-oVVI",
        "colab_type": "code",
        "colab": {}
      },
      "source": [
        "from torch.nn.utils.rnn import pad_sequence"
      ],
      "execution_count": null,
      "outputs": []
    },
    {
      "cell_type": "code",
      "metadata": {
        "id": "mWZzurxkoGUD",
        "colab_type": "code",
        "colab": {}
      },
      "source": [
        "def pad_collate(batch):\n",
        "  (xx, yy) = zip(*batch)\n",
        "  x_lens = [len(x) for x in xx]\n",
        "  y_lens = [len(y) for y in yy]\n",
        "\n",
        "  xx_pad = pad_sequence(xx, batch_first=True, padding_value=PAD_TOKEN_ID)\n",
        "  yy_pad = pad_sequence(yy, batch_first=True, padding_value=PAD_TOKEN_ID)\n",
        "\n",
        "  return xx_pad, yy_pad"
      ],
      "execution_count": null,
      "outputs": []
    },
    {
      "cell_type": "code",
      "metadata": {
        "id": "82X9RgBCDfIr",
        "colab_type": "code",
        "colab": {}
      },
      "source": [
        "class SortSampler(torch.utils.data.sampler.Sampler):\n",
        "    def __init__(self, data_source, key):\n",
        "        self.data_source, self.key = data_source, key\n",
        "\n",
        "    def __len__(self):\n",
        "        return len(self.data_source)\n",
        "\n",
        "    def __iter__(self):\n",
        "        return iter(sorted(range(len(self.data_source)), key=self.key, reverse=True))\n",
        "\n",
        "class SortishSampler(torch.utils.data.sampler.Sampler):\n",
        "    def __init__(self, data_source, key, bs):\n",
        "        self.data_source, self.key, self.bs = data_source, key, bs\n",
        "\n",
        "    def __len__(self):\n",
        "        return len(self.data_source)\n",
        "\n",
        "    def __iter__(self):\n",
        "        idxs = np.random.permutation(len(self.data_source))\n",
        "        sz = self.bs*50\n",
        "        ck_idx = [idxs[i:i+sz] for i in range(0, len(idxs), sz)]\n",
        "        sort_idx = np.concatenate([sorted(s, key=self.key, reverse=True) for s in ck_idx])\n",
        "        sz = self.bs\n",
        "        ck_idx = [sort_idx[i:i+sz] for i in range(0, len(sort_idx), sz)]\n",
        "        max_ck = np.argmax([self.key(ck[0]) for ck in ck_idx])\n",
        "        ck_idx[0], ck_idx[max_ck] = ck_idx[max_ck], ck_idx[0]\n",
        "        sort_idx = np.concatenate(np.random.permutation(ck_idx[1:]))\n",
        "        sort_idx = np.concatenate((ck_idx[0], sort_idx))\n",
        "        return iter(sort_idx)"
      ],
      "execution_count": null,
      "outputs": []
    },
    {
      "cell_type": "code",
      "metadata": {
        "id": "niYhhxZFQEKq",
        "colab_type": "code",
        "colab": {}
      },
      "source": [
        "trn_enc = [s[0] for s in dsets.train]\n",
        "val_enc = [s[0] for s in dsets.valid]"
      ],
      "execution_count": null,
      "outputs": []
    },
    {
      "cell_type": "code",
      "metadata": {
        "id": "9eQHua5JP0vH",
        "colab_type": "code",
        "colab": {}
      },
      "source": [
        "trn_samp = SortishSampler(trn_enc, key=lambda x: len(trn_enc[x]), bs=4)\n",
        "val_samp = SortSampler(val_enc, key=lambda x: len(val_enc[x]))"
      ],
      "execution_count": null,
      "outputs": []
    },
    {
      "cell_type": "code",
      "metadata": {
        "id": "Jngl2eNZDfFz",
        "colab_type": "code",
        "colab": {}
      },
      "source": [
        "train_dl = torch.utils.data.DataLoader(dsets.train, batch_size=16, sampler=trn_samp, collate_fn=pad_collate)\n",
        "valid_dl = torch.utils.data.DataLoader(dsets.valid, batch_size=16, sampler=val_samp, collate_fn=pad_collate)"
      ],
      "execution_count": null,
      "outputs": []
    },
    {
      "cell_type": "code",
      "metadata": {
        "id": "Y0hHd7PcDfCS",
        "colab_type": "code",
        "colab": {}
      },
      "source": [
        "trn = next(iter(train_dl))\n",
        "val = next(iter(valid_dl))"
      ],
      "execution_count": null,
      "outputs": []
    },
    {
      "cell_type": "code",
      "metadata": {
        "id": "gRRlKionDe_N",
        "colab_type": "code",
        "colab": {
          "base_uri": "https://localhost:8080/",
          "height": 34
        },
        "outputId": "10410e96-19d7-477c-a2ee-63bba388b1a2"
      },
      "source": [
        "trn[0].shape"
      ],
      "execution_count": null,
      "outputs": [
        {
          "output_type": "execute_result",
          "data": {
            "text/plain": [
              "torch.Size([16, 110])"
            ]
          },
          "metadata": {
            "tags": []
          },
          "execution_count": 33
        }
      ]
    },
    {
      "cell_type": "code",
      "metadata": {
        "id": "PYzkUlxqDe7s",
        "colab_type": "code",
        "colab": {
          "base_uri": "https://localhost:8080/",
          "height": 34
        },
        "outputId": "be645214-24ed-40b0-e295-a62d6eba2749"
      },
      "source": [
        "val[0].shape"
      ],
      "execution_count": null,
      "outputs": [
        {
          "output_type": "execute_result",
          "data": {
            "text/plain": [
              "torch.Size([16, 91])"
            ]
          },
          "metadata": {
            "tags": []
          },
          "execution_count": 34
        }
      ]
    },
    {
      "cell_type": "code",
      "metadata": {
        "id": "FVDkPrLeGD2j",
        "colab_type": "code",
        "colab": {
          "base_uri": "https://localhost:8080/",
          "height": 34
        },
        "outputId": "6c714ab5-b330-4e2a-e76b-8457ffdb76f6"
      },
      "source": [
        "len(dsets.train)"
      ],
      "execution_count": null,
      "outputs": [
        {
          "output_type": "execute_result",
          "data": {
            "text/plain": [
              "8000"
            ]
          },
          "metadata": {
            "tags": []
          },
          "execution_count": 35
        }
      ]
    },
    {
      "cell_type": "markdown",
      "metadata": {
        "id": "MGnBY95OqtCi",
        "colab_type": "text"
      },
      "source": [
        "## Training"
      ]
    },
    {
      "cell_type": "code",
      "metadata": {
        "id": "UcETuxnc5jjn",
        "colab_type": "code",
        "colab": {}
      },
      "source": [
        "class PositionalEncoding(nn.Module):\n",
        "    \"Encode the position with a sinusoid.\"\n",
        "    def __init__(self, d):\n",
        "        super().__init__()\n",
        "        self.register_buffer('freq', 1 / (10000 ** (torch.arange(0., d, 2.)/d)))\n",
        "    \n",
        "    def forward(self, pos):\n",
        "        inp = torch.ger(pos, self.freq)\n",
        "        enc = torch.cat([inp.sin(), inp.cos()], dim=-1)\n",
        "        return enc"
      ],
      "execution_count": null,
      "outputs": []
    },
    {
      "cell_type": "code",
      "metadata": {
        "id": "SdnSvnVJ5jbk",
        "colab_type": "code",
        "colab": {}
      },
      "source": [
        "class TransformerEmbedding(nn.Module):\n",
        "    \"Embedding + positional encoding + dropout\"\n",
        "    def __init__(self, vocab_sz, emb_sz, inp_p=0.):\n",
        "        super().__init__()\n",
        "        self.emb_sz = emb_sz\n",
        "        self.embed = nn.Embedding(vocab_sz, emb_sz)\n",
        "        self.pos_enc = PositionalEncoding(emb_sz)\n",
        "        self.drop = nn.Dropout(inp_p)\n",
        "    \n",
        "    def forward(self, inp): \n",
        "        pos = torch.arange(0, inp.size(1), device=inp.device).float()\n",
        "        return self.drop(self.embed(inp) * math.sqrt(self.emb_sz) + self.pos_enc(pos))"
      ],
      "execution_count": null,
      "outputs": []
    },
    {
      "cell_type": "code",
      "metadata": {
        "id": "7dKH2kMz5wJ0",
        "colab_type": "code",
        "colab": {}
      },
      "source": [
        "def feed_forward(d_model, d_ff, ff_p=0., double_drop=True):\n",
        "    layers = [nn.Linear(d_model, d_ff), nn.ReLU()]\n",
        "    if double_drop: layers.append(nn.Dropout(ff_p))\n",
        "    return SequentialEx(*layers, nn.Linear(d_ff, d_model), nn.Dropout(ff_p), MergeLayer(), nn.LayerNorm(d_model))"
      ],
      "execution_count": null,
      "outputs": []
    },
    {
      "cell_type": "code",
      "metadata": {
        "id": "tJYsJPI85wmQ",
        "colab_type": "code",
        "colab": {}
      },
      "source": [
        "class MultiHeadAttention(nn.Module):\n",
        "    def __init__(self, n_heads, d_model, d_head=None, p=0., bias=True, scale=True, device=device):\n",
        "        super().__init__()\n",
        "        d_head = ifnone(d_head, d_model//n_heads)\n",
        "        self.n_heads,self.d_head,self.scale = n_heads,d_head,scale\n",
        "        self.q_wgt,self.k_wgt,self.v_wgt = [nn.Linear(\n",
        "            d_model, n_heads * d_head, bias=bias) for o in range(3)]\n",
        "        self.out = nn.Linear(n_heads * d_head, d_model, bias=bias)\n",
        "        self.drop_att,self.drop_res = nn.Dropout(p),nn.Dropout(p)\n",
        "        self.ln = nn.LayerNorm(d_model)\n",
        "        self.device = device\n",
        "        \n",
        "    def forward(self, q, kv, mask=None):\n",
        "        return self.ln(q + self.drop_res(self.out(self._apply_attention(q, kv, mask=mask))))\n",
        "    \n",
        "    def create_attn_mat(self, x, layer, bs):\n",
        "        return layer(x).view(bs, x.size(1), self.n_heads, self.d_head\n",
        "                            ).permute(0, 2, 1, 3)\n",
        "    \n",
        "    def _apply_attention(self, q, kv, mask=None):\n",
        "        bs,seq_len = q.size(0),q.size(1)\n",
        "        wq,wk,wv = map(lambda o: self.create_attn_mat(*o,bs),\n",
        "                       zip((q,kv,kv),(self.q_wgt,self.k_wgt,self.v_wgt)))\n",
        "        attn_score = wq @ wk.transpose(2,3)\n",
        "        if self.scale: attn_score /= math.sqrt(self.d_head)\n",
        "        if mask is not None: \n",
        "            attn_score = attn_score.float().masked_fill(mask.to(self.device), -float('inf')).type_as(attn_score)\n",
        "        attn_prob = self.drop_att(F.softmax(attn_score, dim=-1))\n",
        "        attn_vec = attn_prob @ wv\n",
        "        return attn_vec.permute(0, 2, 1, 3).contiguous().view(bs, seq_len, -1)"
      ],
      "execution_count": null,
      "outputs": []
    },
    {
      "cell_type": "code",
      "metadata": {
        "id": "kEZigSu5580b",
        "colab_type": "code",
        "colab": {}
      },
      "source": [
        "def get_output_mask(inp, pad_idx=1):\n",
        "    # return torch.triu(inp.new_ones(inp.size(1),inp.size(1)), diagonal=1)[None,None].byte()\n",
        "    return torch.triu(inp.new_ones(inp.size(1),inp.size(1)), diagonal=1)[None,None].byte().bool()\n",
        "#     return ((inp == pad_idx)[:,None,:,None].long() + torch.triu(inp.new_ones(inp.size(1),inp.size(1)), diagonal=1)[None,None] != 0)"
      ],
      "execution_count": null,
      "outputs": []
    },
    {
      "cell_type": "code",
      "metadata": {
        "id": "AVRJ47kQ59By",
        "colab_type": "code",
        "colab": {}
      },
      "source": [
        "class EncoderBlock(nn.Module):\n",
        "    \"Encoder block of a Transformer model.\"\n",
        "    #Can't use Sequential directly cause more than one input...\n",
        "    def __init__(self, n_heads, d_model, d_head, d_inner, p=0., bias=True, scale=True, double_drop=True):\n",
        "        super().__init__()\n",
        "        self.mha = MultiHeadAttention(n_heads, d_model, d_head, p=p, bias=bias, scale=scale, device=device)\n",
        "        self.ff  = feed_forward(d_model, d_inner, ff_p=p, double_drop=double_drop)\n",
        "    \n",
        "    def forward(self, x, mask=None): \n",
        "        return self.ff(self.mha(x, x, mask=mask))"
      ],
      "execution_count": null,
      "outputs": []
    },
    {
      "cell_type": "code",
      "metadata": {
        "id": "tCnq02mb59O_",
        "colab_type": "code",
        "colab": {}
      },
      "source": [
        "class DecoderBlock(nn.Module):\n",
        "    \"Decoder block of a Transformer model.\"\n",
        "    #Can't use Sequential directly cause more than one input...\n",
        "    def __init__(self, n_heads, d_model, d_head, d_inner, p=0., bias=True, scale=True, double_drop=True, device=device):\n",
        "        super().__init__()\n",
        "        self.mha1 = MultiHeadAttention(n_heads, d_model, d_head, p=p, bias=bias, scale=scale, device=device)\n",
        "        self.mha2 = MultiHeadAttention(n_heads, d_model, d_head, p=p, bias=bias, scale=scale, device=device)\n",
        "        self.ff   = feed_forward(d_model, d_inner, ff_p=p, double_drop=double_drop)\n",
        "        self.device = device\n",
        "    \n",
        "    def forward(self, x, enc, mask_out=None): return self.ff(self.mha2(self.mha1(x, x, mask_out), enc))"
      ],
      "execution_count": null,
      "outputs": []
    },
    {
      "cell_type": "code",
      "metadata": {
        "id": "v1CVJ7dW6Pvz",
        "colab_type": "code",
        "colab": {}
      },
      "source": [
        "class Transformer(Module):\n",
        "    def __init__(self, inp_vsz, out_vsz, n_layers=6, n_heads=8, d_model=256, d_head=32, \n",
        "                 d_inner=1024, p=0.1, bias=True, scale=True, double_drop=True, pad_idx=PAD_TOKEN_ID, device=device):\n",
        "        self.enc_emb = TransformerEmbedding(inp_vsz, d_model, p)\n",
        "        self.dec_emb = TransformerEmbedding(out_vsz, d_model, 0.)\n",
        "        args = (n_heads, d_model, d_head, d_inner, p, bias, scale, double_drop)\n",
        "        self.encoder = nn.ModuleList([EncoderBlock(8, 256, 32, 1024) for _ in range(n_layers)])\n",
        "        self.decoder = nn.ModuleList([DecoderBlock(*args) for _ in range(n_layers)])\n",
        "        self.out = nn.Linear(d_model, out_vsz)\n",
        "        self.out.weight = self.dec_emb.embed.weight\n",
        "        self.pad_idx = pad_idx\n",
        "        self.device=device\n",
        "        \n",
        "    def forward(self, inp, out):\n",
        "        mask_out = get_output_mask(out, self.pad_idx)\n",
        "        enc,dec = self.enc_emb(inp.to(self.device)),self.dec_emb(out.to(self.device))\n",
        "        # for enc_layer in self.encoder:\n",
        "        #     enc = enc_layer(enc)\n",
        "        #     break\n",
        "        \n",
        "        # for dec_layer in self.decoder:\n",
        "        #     dec = dec_layer(dec, enc, mask_out)\n",
        "        #     break\n",
        "        # out = compose(self.decoder)(out, enc, mask_out)\n",
        "        return self.out(dec)"
      ],
      "execution_count": null,
      "outputs": []
    },
    {
      "cell_type": "code",
      "metadata": {
        "id": "e2ysBlWwlZLI",
        "colab_type": "code",
        "colab": {}
      },
      "source": [
        "v=next(iter(train_dl))[1][0]"
      ],
      "execution_count": null,
      "outputs": []
    },
    {
      "cell_type": "code",
      "metadata": {
        "id": "k95lIuB6lbm7",
        "colab_type": "code",
        "colab": {
          "base_uri": "https://localhost:8080/",
          "height": 34
        },
        "outputId": "0fa67045-e73c-4f16-f60c-9ccd4d179e85"
      },
      "source": [
        "v.shape"
      ],
      "execution_count": null,
      "outputs": [
        {
          "output_type": "execute_result",
          "data": {
            "text/plain": [
              "torch.Size([92])"
            ]
          },
          "metadata": {
            "tags": []
          },
          "execution_count": 45
        }
      ]
    },
    {
      "cell_type": "code",
      "metadata": {
        "id": "OsBOpnenk9c0",
        "colab_type": "code",
        "colab": {
          "base_uri": "https://localhost:8080/",
          "height": 54
        },
        "outputId": "8b8b2324-f7cd-4954-c328-ef8b0cddbfce"
      },
      "source": [
        "tokenizer_eng.decode(v.numpy())"
      ],
      "execution_count": null,
      "outputs": [
        {
          "output_type": "execute_result",
          "data": {
            "text/plain": [
              "\"<sos>Where specified individuals of a designated plan, as defined in subsection 8515(4) of the Income Tax Regulations (Regulations), have no further pension credits under a defined benefit provision of the plan, determined under subsection 8301(6) of the Regulations and for the purposes of subsection 8515(1) of the Regulations, would the Minister view this condition alone in waiving the plan's designated status under subsection 8515(2) of the Regulations?<eos>\""
            ]
          },
          "metadata": {
            "tags": []
          },
          "execution_count": 46
        }
      ]
    },
    {
      "cell_type": "code",
      "metadata": {
        "id": "AKCSHGMeldgA",
        "colab_type": "code",
        "colab": {
          "base_uri": "https://localhost:8080/",
          "height": 34
        },
        "outputId": "ee105180-79cd-438e-fa3d-285c66962e72"
      },
      "source": [
        "get_output_mask(v[None], PAD_TOKEN_ID).shape"
      ],
      "execution_count": null,
      "outputs": [
        {
          "output_type": "execute_result",
          "data": {
            "text/plain": [
              "torch.Size([1, 1, 92, 92])"
            ]
          },
          "metadata": {
            "tags": []
          },
          "execution_count": 47
        }
      ]
    },
    {
      "cell_type": "code",
      "metadata": {
        "id": "J6eZ_fKql8Zx",
        "colab_type": "code",
        "colab": {
          "base_uri": "https://localhost:8080/",
          "height": 34
        },
        "outputId": "571b7adf-213f-4390-f210-9153669572bd"
      },
      "source": [
        "TransformerEmbedding(vocab_size_fr, 256, 0.1)(v[None]).shape"
      ],
      "execution_count": null,
      "outputs": [
        {
          "output_type": "execute_result",
          "data": {
            "text/plain": [
              "torch.Size([1, 92, 256])"
            ]
          },
          "metadata": {
            "tags": []
          },
          "execution_count": 48
        }
      ]
    },
    {
      "cell_type": "markdown",
      "metadata": {
        "id": "748Yl-UUZB1A",
        "colab_type": "text"
      },
      "source": [
        "https://github.com/scoutbee/pytorch-nlp-notebooks/blob/develop/6_transformer_translation.ipynb"
      ]
    },
    {
      "cell_type": "code",
      "metadata": {
        "id": "k9ME8R2tZ2wf",
        "colab_type": "code",
        "colab": {
          "base_uri": "https://localhost:8080/",
          "height": 34
        },
        "outputId": "f50b3372-7cc2-4ff9-dad1-4405415c7122"
      },
      "source": [
        "for la in nn.ModuleList([EncoderBlock(8, 256, 32, 1024) for _ in range(6)]):\n",
        "    print(la(torch.randn(16, 116, 256)).shape)\n",
        "    break"
      ],
      "execution_count": null,
      "outputs": [
        {
          "output_type": "stream",
          "text": [
            "torch.Size([16, 116, 256])\n"
          ],
          "name": "stdout"
        }
      ]
    },
    {
      "cell_type": "code",
      "metadata": {
        "id": "8_58lLcJ6P-R",
        "colab_type": "code",
        "colab": {}
      },
      "source": [
        "model = Transformer(vocab_size_fr, vocab_size_eng, d_model=256)"
      ],
      "execution_count": null,
      "outputs": []
    },
    {
      "cell_type": "code",
      "metadata": {
        "id": "qJtq17px5wyx",
        "colab_type": "code",
        "colab": {}
      },
      "source": [
        "model.to(device);"
      ],
      "execution_count": null,
      "outputs": []
    },
    {
      "cell_type": "code",
      "metadata": {
        "id": "KGkkRtxo_x5k",
        "colab_type": "code",
        "colab": {}
      },
      "source": [
        "n = next(iter(train_dl))"
      ],
      "execution_count": null,
      "outputs": []
    },
    {
      "cell_type": "code",
      "metadata": {
        "id": "XFA7rvm85w-e",
        "colab_type": "code",
        "colab": {
          "base_uri": "https://localhost:8080/",
          "height": 306
        },
        "outputId": "0a46365c-bcd9-4f4d-b592-b28b9a90a50a"
      },
      "source": [
        "with torch.no_grad():\n",
        "    model.eval()\n",
        "    display(tokenizer_eng.decode_batch(nn.Softmax(dim=2)(model(*n)).argmax(2).cpu().detach().numpy()))"
      ],
      "execution_count": null,
      "outputs": [
        {
          "output_type": "display_data",
          "data": {
            "text/plain": [
              "[\"<sos>Where specified individuals of a designated plan, as defined in subsection 8515(4) of the Income Tax Regulations (Regulations), have no further pension credits under a defined benefit provision of the plan, determined under subsection 8301(6) of the Regulations and for the purposes of subsection 8515(1) of the Regulations, would the Minister view this condition alone in waiving the plan's designated status under subsection 8515(2) of the Regulations?<eos>\",\n",
              " '<sos>What impact would increased harvesting efforts in interception fisheries, as could occur without a PST agreement, have on the probability of extinction of weak Pacific Northwest stocks?<eos><pad><pad><pad><pad><pad><pad><pad><pad><pad><pad><pad><pad><pad><pad><pad><pad><pad><pad><pad><pad><pad><pad><pad><pad><pad><pad><pad><pad><pad><pad><pad><pad><pad><pad><pad><pad><pad><pad><pad><pad><pad><pad><pad><pad><pad><pad><pad><pad><pad><pad><pad><pad><pad><pad><pad><pad><pad><pad>',\n",
              " '<sos>When prompted in the East, groups felt that oil represents the future of resources in that region, as hope for the fishing industry is waning in the area; How are they going to do It all?<eos><pad><pad><pad><pad><pad><pad><pad><pad><pad><pad><pad><pad><pad><pad><pad><pad><pad><pad><pad><pad><pad><pad><pad><pad><pad><pad><pad><pad><pad><pad><pad><pad><pad><pad><pad><pad><pad><pad><pad><pad><pad><pad><pad><pad><pad><pad><pad><pad><pad><pad>',\n",
              " '<sos>What is known about the interface between institutional-level resource allocation decisions and broader system-level decisions such as health human resources planning?<eos><pad><pad><pad><pad><pad><pad><pad><pad><pad><pad><pad><pad><pad><pad><pad><pad><pad><pad><pad><pad><pad><pad><pad><pad><pad><pad><pad><pad><pad><pad><pad><pad><pad><pad><pad><pad><pad><pad><pad><pad><pad><pad><pad><pad><pad><pad><pad><pad><pad><pad><pad><pad><pad><pad><pad><pad><pad><pad><pad><pad><pad><pad><pad><pad>',\n",
              " '<sos>What is the trend in terms of number of inquiries, number of bids received and number of projects funded?<eos><pad><pad><pad><pad><pad><pad><pad><pad><pad><pad><pad><pad><pad><pad><pad><pad><pad><pad><pad><pad><pad><pad><pad><pad><pad><pad><pad><pad><pad><pad><pad><pad><pad><pad><pad><pad><pad><pad><pad><pad><pad><pad><pad><pad><pad><pad><pad><pad><pad><pad><pad><pad><pad><pad><pad><pad><pad><pad><pad><pad><pad><pad><pad><pad><pad><pad><pad><pad><pad>',\n",
              " '<sos>What tax fraction will I use to calculate an ITC when I redeem coupons from the retailers on or after July 1, 2006?<eos><pad><pad><pad><pad><pad><pad><pad><pad><pad><pad><pad><pad><pad><pad><pad><pad><pad><pad><pad><pad><pad><pad><pad><pad><pad><pad><pad><pad><pad><pad><pad><pad><pad><pad><pad><pad><pad><pad><pad><pad><pad><pad><pad><pad><pad><pad><pad><pad><pad><pad><pad><pad><pad><pad><pad><pad><pad><pad><pad><pad><pad><pad><pad><pad><pad>',\n",
              " '<sos>What parallels do you see between the work of the coordinators for section 41 and the objectives of organizations such as the Office of the Commissioner of Official Languages?<eos><pad><pad><pad><pad><pad><pad><pad><pad><pad><pad><pad><pad><pad><pad><pad><pad><pad><pad><pad><pad><pad><pad><pad><pad><pad><pad><pad><pad><pad><pad><pad><pad><pad><pad><pad><pad><pad><pad><pad><pad><pad><pad><pad><pad><pad><pad><pad><pad><pad><pad><pad><pad><pad><pad><pad><pad><pad><pad><pad><pad>',\n",
              " '<sos>What other harbours or marine facilities operate within the area that do or could meet harbour user needs?<eos><pad><pad><pad><pad><pad><pad><pad><pad><pad><pad><pad><pad><pad><pad><pad><pad><pad><pad><pad><pad><pad><pad><pad><pad><pad><pad><pad><pad><pad><pad><pad><pad><pad><pad><pad><pad><pad><pad><pad><pad><pad><pad><pad><pad><pad><pad><pad><pad><pad><pad><pad><pad><pad><pad><pad><pad><pad><pad><pad><pad><pad><pad><pad><pad><pad><pad><pad><pad><pad><pad><pad>',\n",
              " '<sos>What is the refundable medical expense supplement?<eos><pad><pad><pad><pad><pad><pad><pad><pad><pad><pad><pad><pad><pad><pad><pad><pad><pad><pad><pad><pad><pad><pad><pad><pad><pad><pad><pad><pad><pad><pad><pad><pad><pad><pad><pad><pad><pad><pad><pad><pad><pad><pad><pad><pad><pad><pad><pad><pad><pad><pad><pad><pad><pad><pad><pad><pad><pad><pad><pad><pad><pad><pad><pad><pad><pad><pad><pad><pad><pad><pad><pad><pad><pad><pad><pad><pad><pad><pad><pad><pad><pad>',\n",
              " '<sos>What were the strengths and weaknesses of the program?<eos><pad><pad><pad><pad><pad><pad><pad><pad><pad><pad><pad><pad><pad><pad><pad><pad><pad><pad><pad><pad><pad><pad><pad><pad><pad><pad><pad><pad><pad><pad><pad><pad><pad><pad><pad><pad><pad><pad><pad><pad><pad><pad><pad><pad><pad><pad><pad><pad><pad><pad><pad><pad><pad><pad><pad><pad><pad><pad><pad><pad><pad><pad><pad><pad><pad><pad><pad><pad><pad><pad><pad><pad><pad><pad><pad><pad><pad><pad><pad><pad>',\n",
              " '<sos>What does it all mean?<eos><pad><pad><pad><pad><pad><pad><pad><pad><pad><pad><pad><pad><pad><pad><pad><pad><pad><pad><pad><pad><pad><pad><pad><pad><pad><pad><pad><pad><pad><pad><pad><pad><pad><pad><pad><pad><pad><pad><pad><pad><pad><pad><pad><pad><pad><pad><pad><pad><pad><pad><pad><pad><pad><pad><pad><pad><pad><pad><pad><pad><pad><pad><pad><pad><pad><pad><pad><pad><pad><pad><pad><pad><pad><pad><pad><pad><pad><pad><pad><pad><pad><pad><pad><pad>',\n",
              " '<sos>What is a gift?<eos><pad><pad><pad><pad><pad><pad><pad><pad><pad><pad><pad><pad><pad><pad><pad><pad><pad><pad><pad><pad><pad><pad><pad><pad><pad><pad><pad><pad><pad><pad><pad><pad><pad><pad><pad><pad><pad><pad><pad><pad><pad><pad><pad><pad><pad><pad><pad><pad><pad><pad><pad><pad><pad><pad><pad><pad><pad><pad><pad><pad><pad><pad><pad><pad><pad><pad><pad><pad><pad><pad><pad><pad><pad><pad><pad><pad><pad><pad><pad><pad><pad><pad><pad><pad><pad>',\n",
              " '<sos>What is a reasonable rate of return for health research and how would one measure it when many of the most important outcomes of the investment in health research cannot usefully be measured in dollars?<eos><pad><pad><pad><pad><pad><pad><pad><pad><pad><pad><pad><pad><pad><pad><pad><pad><pad><pad><pad><pad><pad><pad><pad><pad><pad><pad><pad><pad><pad><pad><pad><pad><pad><pad><pad><pad><pad><pad><pad><pad><pad><pad><pad><pad><pad><pad><pad><pad><pad><pad><pad><pad><pad>',\n",
              " '<sos>What if it were possible to do so in a way that not only benefits students and researchers, but also supports environmental protection, business investment, and emergency preparedness?<eos><pad><pad><pad><pad><pad><pad><pad><pad><pad><pad><pad><pad><pad><pad><pad><pad><pad><pad><pad><pad><pad><pad><pad><pad><pad><pad><pad><pad><pad><pad><pad><pad><pad><pad><pad><pad><pad><pad><pad><pad><pad><pad><pad><pad><pad><pad><pad><pad><pad><pad><pad><pad><pad><pad><pad><pad><pad><pad>',\n",
              " '<sos>What are the key barriers and solutions to international collaboration to coordinate for early warning and effective rapid response in order to mitigate potential negative health, social and economic impacts of rapid pandemics such as influenza and SARS?<eos><pad><pad><pad><pad><pad><pad><pad><pad><pad><pad><pad><pad><pad><pad><pad><pad><pad><pad><pad><pad><pad><pad><pad><pad><pad><pad><pad><pad><pad><pad><pad><pad><pad><pad><pad><pad><pad><pad><pad><pad><pad><pad><pad><pad><pad><pad><pad><pad><pad><pad>',\n",
              " '<sos>What is the required infrastructure, including surveillance as well as the technical assistance and support, for public health professional intermediaries to sustain comprehensive policy, media and programming?<eos><pad><pad><pad><pad><pad><pad><pad><pad><pad><pad><pad><pad><pad><pad><pad><pad><pad><pad><pad><pad><pad><pad><pad><pad><pad><pad><pad><pad><pad><pad><pad><pad><pad><pad><pad><pad><pad><pad><pad><pad><pad><pad><pad><pad><pad><pad><pad><pad><pad><pad><pad><pad><pad><pad><pad><pad><pad><pad><pad>']"
            ]
          },
          "metadata": {
            "tags": []
          }
        }
      ]
    },
    {
      "cell_type": "code",
      "metadata": {
        "id": "eWDAXsyC_7x0",
        "colab_type": "code",
        "colab": {}
      },
      "source": [
        "prevs = []\n",
        "start = [tokenizer_eng.token_to_id('<sos>')]"
      ],
      "execution_count": null,
      "outputs": []
    },
    {
      "cell_type": "code",
      "metadata": {
        "id": "RQetFGkX_2ET",
        "colab_type": "code",
        "colab": {
          "base_uri": "https://localhost:8080/",
          "height": 202
        },
        "outputId": "70dfb7d2-60f2-42c4-997e-c629ba637e39"
      },
      "source": [
        "for _ in 20:\n",
        "    display(tokenizer_eng.decode_batch(nn.Softmax(dim=2)(model(n[0][1][None], )).argmax(2).cpu().detach().numpy()))\n",
        "    start.append"
      ],
      "execution_count": null,
      "outputs": [
        {
          "output_type": "execute_result",
          "data": {
            "text/plain": [
              "tensor([    0,   355,  1384,  1844,   261,   292,  5112,   271,   261,   292,\n",
              "        10934,   361,   298,  1009,   305,  5093,   260,   292,  1282,  1885,\n",
              "           14,   815,  1067,   949,   406,  2272,   269,   292,   295,   327,\n",
              "          292,    91,   277,   419,   260,   292,  3799,   319,   857,   336,\n",
              "         5434,    14,   376,   288,  4092,   260,   292, 11545,   305,  4828,\n",
              "        14950,  1308,   336, 10592,  2995,    15,  4272,    33,     1,     2,\n",
              "            2,     2,     2,     2,     2,     2,     2,     2,     2,     2,\n",
              "            2,     2,     2,     2,     2,     2,     2,     2,     2,     2,\n",
              "            2,     2,     2,     2,     2,     2,     2,     2,     2,     2,\n",
              "            2,     2,     2,     2,     2,     2,     2,     2,     2,     2,\n",
              "            2,     2,     2,     2,     2,     2,     2,     2,     2,     2])"
            ]
          },
          "metadata": {
            "tags": []
          },
          "execution_count": 80
        }
      ]
    },
    {
      "cell_type": "code",
      "metadata": {
        "id": "-VIKMhEe_2A6",
        "colab_type": "code",
        "colab": {}
      },
      "source": [
        ""
      ],
      "execution_count": null,
      "outputs": []
    },
    {
      "cell_type": "code",
      "metadata": {
        "id": "DMpOSqMG_17r",
        "colab_type": "code",
        "colab": {}
      },
      "source": [
        ""
      ],
      "execution_count": null,
      "outputs": []
    },
    {
      "cell_type": "code",
      "metadata": {
        "id": "HFArsPkm5jUs",
        "colab_type": "code",
        "colab": {}
      },
      "source": [
        ""
      ],
      "execution_count": null,
      "outputs": []
    },
    {
      "cell_type": "code",
      "metadata": {
        "id": "6bmkXCAzwAx6",
        "colab_type": "code",
        "colab": {}
      },
      "source": [
        "lr = 1e-2\n",
        "optimizer = torch.optim.Adam(model.parameters(), lr=lr)\n",
        "loss_fn = nn.CrossEntropyLoss()"
      ],
      "execution_count": null,
      "outputs": []
    },
    {
      "cell_type": "code",
      "metadata": {
        "id": "ELnBzOvZDe1l",
        "colab_type": "code",
        "colab": {}
      },
      "source": [
        "def train():\n",
        "    model.train()\n",
        "    all_losses = []\n",
        "    losses = 0.\n",
        "    for i, data in enumerate(train_dl):\n",
        "        x, y = data\n",
        "        # print(f'Train_Input: {tokenizer_fr.decode_batch(x.detach().numpy().tolist())}')\n",
        "        # print(f'train_output: {tokenizer_eng.decode_batch(y.detach().numpy().tolist())}')\n",
        "        optimizer.zero_grad()\n",
        "        out = model(x, y)\n",
        "        if (i % 2500 == 1):\n",
        "            print(tokenizer_eng.decode_batch(nn.Softmax(dim=2)(out).argmax(2).cpu().numpy()))\n",
        "            print(' ')\n",
        "        loss = loss_fn(out.view(-1, out.shape[-1]), y.view(-1).to(device))\n",
        "        all_losses.append(loss.item())\n",
        "        losses += loss.item()\n",
        "        loss.backward()\n",
        "        optimizer.step()\n",
        "        if(i % 5000 == 1) and i > 0:\n",
        "            print(f'The loss after {i}th minibatch is {loss.cpu().detach().numpy()}')  \n",
        "    return losses/len(train_dl), all_losses\n",
        "\n",
        "def evaluate():\n",
        "    model.eval()\n",
        "    all_losses = []\n",
        "    losses = 0.\n",
        "    with torch.no_grad():\n",
        "        for i, data in enumerate(valid_dl):\n",
        "            x, y = data\n",
        "            # print(f'Valid_Input: {tokenizer_fr.decode_batch(x.detach().numpy().tolist())}')\n",
        "            # print(f'Valid_output: {tokenizer_eng.decode_batch(y.detach().numpy().tolist())}')\n",
        "            out = model(x, y)\n",
        "            print(f'Eval: {tokenizer_eng.decode_batch(nn.Softmax(dim=2)(out).argmax(2).cpu().numpy())}')\n",
        "            loss = loss_fn(out.view(-1, vocab_size_eng), y.view(-1).to(device))\n",
        "            all_losses.append(loss.item())\n",
        "            losses += loss.item()\n",
        "            # if(i % 250 == 0):\n",
        "            #     print(f'The val_ loss after {i}th minibatch is {loss.cpu().detach().numpy()}')    \n",
        "            # break\n",
        "\n",
        "    return losses/len(valid_dl)"
      ],
      "execution_count": null,
      "outputs": []
    },
    {
      "cell_type": "code",
      "metadata": {
        "id": "E42NfN2iDeym",
        "colab_type": "code",
        "colab": {
          "base_uri": "https://localhost:8080/",
          "height": 706
        },
        "outputId": "3f2ea254-e1c8-4733-b524-135a41c954f9"
      },
      "source": [
        "epochs = 2\n",
        "best_model = None\n",
        "best_loss = float('inf')\n",
        "for epoch in range(epochs):\n",
        "    train_loss, all_train_losses = train()\n",
        "    val_loss = evaluate()\n",
        "    print('-'*80)\n",
        "    print(f'EPOCH #{epoch}')\n",
        "    print(f'TRAIN LOSS: {train_loss}')\n",
        "    print(f'VALID LOSS: {val_loss}')\n",
        "    print('-'*80)\n",
        "\n",
        "    if val_loss < best_loss:\n",
        "        best_model = model\n",
        "        best_loss = val_loss"
      ],
      "execution_count": null,
      "outputs": [
        {
          "output_type": "error",
          "ename": "TypeError",
          "evalue": "ignored",
          "traceback": [
            "\u001b[0;31m---------------------------------------------------------------------------\u001b[0m",
            "\u001b[0;31mTypeError\u001b[0m                                 Traceback (most recent call last)",
            "\u001b[0;32m<ipython-input-96-eebc47a8c6b1>\u001b[0m in \u001b[0;36m<module>\u001b[0;34m()\u001b[0m\n\u001b[1;32m      3\u001b[0m \u001b[0mbest_loss\u001b[0m \u001b[0;34m=\u001b[0m \u001b[0mfloat\u001b[0m\u001b[0;34m(\u001b[0m\u001b[0;34m'inf'\u001b[0m\u001b[0;34m)\u001b[0m\u001b[0;34m\u001b[0m\u001b[0;34m\u001b[0m\u001b[0m\n\u001b[1;32m      4\u001b[0m \u001b[0;32mfor\u001b[0m \u001b[0mepoch\u001b[0m \u001b[0;32min\u001b[0m \u001b[0mrange\u001b[0m\u001b[0;34m(\u001b[0m\u001b[0mepochs\u001b[0m\u001b[0;34m)\u001b[0m\u001b[0;34m:\u001b[0m\u001b[0;34m\u001b[0m\u001b[0;34m\u001b[0m\u001b[0m\n\u001b[0;32m----> 5\u001b[0;31m     \u001b[0mtrain_loss\u001b[0m\u001b[0;34m,\u001b[0m \u001b[0mall_train_losses\u001b[0m \u001b[0;34m=\u001b[0m \u001b[0mtrain\u001b[0m\u001b[0;34m(\u001b[0m\u001b[0;34m)\u001b[0m\u001b[0;34m\u001b[0m\u001b[0;34m\u001b[0m\u001b[0m\n\u001b[0m\u001b[1;32m      6\u001b[0m     \u001b[0mval_loss\u001b[0m \u001b[0;34m=\u001b[0m \u001b[0mevaluate\u001b[0m\u001b[0;34m(\u001b[0m\u001b[0;34m)\u001b[0m\u001b[0;34m\u001b[0m\u001b[0;34m\u001b[0m\u001b[0m\n\u001b[1;32m      7\u001b[0m     \u001b[0mprint\u001b[0m\u001b[0;34m(\u001b[0m\u001b[0;34m'-'\u001b[0m\u001b[0;34m*\u001b[0m\u001b[0;36m80\u001b[0m\u001b[0;34m)\u001b[0m\u001b[0;34m\u001b[0m\u001b[0;34m\u001b[0m\u001b[0m\n",
            "\u001b[0;32m<ipython-input-95-05e5cc2db46f>\u001b[0m in \u001b[0;36mtrain\u001b[0;34m()\u001b[0m\n\u001b[1;32m      8\u001b[0m         \u001b[0;31m# print(f'train_output: {tokenizer_eng.decode_batch(y.detach().numpy().tolist())}')\u001b[0m\u001b[0;34m\u001b[0m\u001b[0;34m\u001b[0m\u001b[0;34m\u001b[0m\u001b[0m\n\u001b[1;32m      9\u001b[0m         \u001b[0moptimizer\u001b[0m\u001b[0;34m.\u001b[0m\u001b[0mzero_grad\u001b[0m\u001b[0;34m(\u001b[0m\u001b[0;34m)\u001b[0m\u001b[0;34m\u001b[0m\u001b[0;34m\u001b[0m\u001b[0m\n\u001b[0;32m---> 10\u001b[0;31m         \u001b[0mout\u001b[0m \u001b[0;34m=\u001b[0m \u001b[0mmodel\u001b[0m\u001b[0;34m(\u001b[0m\u001b[0mx\u001b[0m\u001b[0;34m,\u001b[0m \u001b[0my\u001b[0m\u001b[0;34m)\u001b[0m\u001b[0;34m\u001b[0m\u001b[0;34m\u001b[0m\u001b[0m\n\u001b[0m\u001b[1;32m     11\u001b[0m         \u001b[0;32mif\u001b[0m \u001b[0;34m(\u001b[0m\u001b[0mi\u001b[0m \u001b[0;34m%\u001b[0m \u001b[0;36m2500\u001b[0m \u001b[0;34m==\u001b[0m \u001b[0;36m1\u001b[0m\u001b[0;34m)\u001b[0m\u001b[0;34m:\u001b[0m\u001b[0;34m\u001b[0m\u001b[0;34m\u001b[0m\u001b[0m\n\u001b[1;32m     12\u001b[0m             \u001b[0mprint\u001b[0m\u001b[0;34m(\u001b[0m\u001b[0mtokenizer_eng\u001b[0m\u001b[0;34m.\u001b[0m\u001b[0mdecode_batch\u001b[0m\u001b[0;34m(\u001b[0m\u001b[0mnn\u001b[0m\u001b[0;34m.\u001b[0m\u001b[0mSoftmax\u001b[0m\u001b[0;34m(\u001b[0m\u001b[0mdim\u001b[0m\u001b[0;34m=\u001b[0m\u001b[0;36m2\u001b[0m\u001b[0;34m)\u001b[0m\u001b[0;34m(\u001b[0m\u001b[0mout\u001b[0m\u001b[0;34m)\u001b[0m\u001b[0;34m.\u001b[0m\u001b[0margmax\u001b[0m\u001b[0;34m(\u001b[0m\u001b[0;36m2\u001b[0m\u001b[0;34m)\u001b[0m\u001b[0;34m.\u001b[0m\u001b[0mcpu\u001b[0m\u001b[0;34m(\u001b[0m\u001b[0;34m)\u001b[0m\u001b[0;34m.\u001b[0m\u001b[0mnumpy\u001b[0m\u001b[0;34m(\u001b[0m\u001b[0;34m)\u001b[0m\u001b[0;34m)\u001b[0m\u001b[0;34m)\u001b[0m\u001b[0;34m\u001b[0m\u001b[0;34m\u001b[0m\u001b[0m\n",
            "\u001b[0;32m/usr/local/lib/python3.6/dist-packages/torch/nn/modules/module.py\u001b[0m in \u001b[0;36m__call__\u001b[0;34m(self, *input, **kwargs)\u001b[0m\n\u001b[1;32m    548\u001b[0m             \u001b[0mresult\u001b[0m \u001b[0;34m=\u001b[0m \u001b[0mself\u001b[0m\u001b[0;34m.\u001b[0m\u001b[0m_slow_forward\u001b[0m\u001b[0;34m(\u001b[0m\u001b[0;34m*\u001b[0m\u001b[0minput\u001b[0m\u001b[0;34m,\u001b[0m \u001b[0;34m**\u001b[0m\u001b[0mkwargs\u001b[0m\u001b[0;34m)\u001b[0m\u001b[0;34m\u001b[0m\u001b[0;34m\u001b[0m\u001b[0m\n\u001b[1;32m    549\u001b[0m         \u001b[0;32melse\u001b[0m\u001b[0;34m:\u001b[0m\u001b[0;34m\u001b[0m\u001b[0;34m\u001b[0m\u001b[0m\n\u001b[0;32m--> 550\u001b[0;31m             \u001b[0mresult\u001b[0m \u001b[0;34m=\u001b[0m \u001b[0mself\u001b[0m\u001b[0;34m.\u001b[0m\u001b[0mforward\u001b[0m\u001b[0;34m(\u001b[0m\u001b[0;34m*\u001b[0m\u001b[0minput\u001b[0m\u001b[0;34m,\u001b[0m \u001b[0;34m**\u001b[0m\u001b[0mkwargs\u001b[0m\u001b[0;34m)\u001b[0m\u001b[0;34m\u001b[0m\u001b[0;34m\u001b[0m\u001b[0m\n\u001b[0m\u001b[1;32m    551\u001b[0m         \u001b[0;32mfor\u001b[0m \u001b[0mhook\u001b[0m \u001b[0;32min\u001b[0m \u001b[0mself\u001b[0m\u001b[0;34m.\u001b[0m\u001b[0m_forward_hooks\u001b[0m\u001b[0;34m.\u001b[0m\u001b[0mvalues\u001b[0m\u001b[0;34m(\u001b[0m\u001b[0;34m)\u001b[0m\u001b[0;34m:\u001b[0m\u001b[0;34m\u001b[0m\u001b[0;34m\u001b[0m\u001b[0m\n\u001b[1;32m    552\u001b[0m             \u001b[0mhook_result\u001b[0m \u001b[0;34m=\u001b[0m \u001b[0mhook\u001b[0m\u001b[0;34m(\u001b[0m\u001b[0mself\u001b[0m\u001b[0;34m,\u001b[0m \u001b[0minput\u001b[0m\u001b[0;34m,\u001b[0m \u001b[0mresult\u001b[0m\u001b[0;34m)\u001b[0m\u001b[0;34m\u001b[0m\u001b[0;34m\u001b[0m\u001b[0m\n",
            "\u001b[0;32m<ipython-input-91-9b529a5224ee>\u001b[0m in \u001b[0;36mforward\u001b[0;34m(self, inp, out)\u001b[0m\n\u001b[1;32m     20\u001b[0m         \u001b[0;31m# for dec_layer in self.decoder:\u001b[0m\u001b[0;34m\u001b[0m\u001b[0;34m\u001b[0m\u001b[0;34m\u001b[0m\u001b[0m\n\u001b[1;32m     21\u001b[0m         \u001b[0;31m#     dec = dec_layer(dec, enc, mask_out)\u001b[0m\u001b[0;34m\u001b[0m\u001b[0;34m\u001b[0m\u001b[0;34m\u001b[0m\u001b[0m\n\u001b[0;32m---> 22\u001b[0;31m         \u001b[0mout\u001b[0m \u001b[0;34m=\u001b[0m \u001b[0mcompose\u001b[0m\u001b[0;34m(\u001b[0m\u001b[0mself\u001b[0m\u001b[0;34m.\u001b[0m\u001b[0mdecoder\u001b[0m\u001b[0;34m)\u001b[0m\u001b[0;34m(\u001b[0m\u001b[0mout\u001b[0m\u001b[0;34m,\u001b[0m \u001b[0menc\u001b[0m\u001b[0;34m,\u001b[0m \u001b[0mmask_out\u001b[0m\u001b[0;34m)\u001b[0m\u001b[0;34m\u001b[0m\u001b[0;34m\u001b[0m\u001b[0m\n\u001b[0m\u001b[1;32m     23\u001b[0m         \u001b[0;32mreturn\u001b[0m \u001b[0mself\u001b[0m\u001b[0;34m.\u001b[0m\u001b[0mout\u001b[0m\u001b[0;34m(\u001b[0m\u001b[0mdec\u001b[0m\u001b[0;34m)\u001b[0m\u001b[0;34m\u001b[0m\u001b[0;34m\u001b[0m\u001b[0m\n",
            "\u001b[0;32m/usr/local/lib/python3.6/dist-packages/torch/nn/modules/module.py\u001b[0m in \u001b[0;36m__call__\u001b[0;34m(self, *input, **kwargs)\u001b[0m\n\u001b[1;32m    548\u001b[0m             \u001b[0mresult\u001b[0m \u001b[0;34m=\u001b[0m \u001b[0mself\u001b[0m\u001b[0;34m.\u001b[0m\u001b[0m_slow_forward\u001b[0m\u001b[0;34m(\u001b[0m\u001b[0;34m*\u001b[0m\u001b[0minput\u001b[0m\u001b[0;34m,\u001b[0m \u001b[0;34m**\u001b[0m\u001b[0mkwargs\u001b[0m\u001b[0;34m)\u001b[0m\u001b[0;34m\u001b[0m\u001b[0;34m\u001b[0m\u001b[0m\n\u001b[1;32m    549\u001b[0m         \u001b[0;32melse\u001b[0m\u001b[0;34m:\u001b[0m\u001b[0;34m\u001b[0m\u001b[0;34m\u001b[0m\u001b[0m\n\u001b[0;32m--> 550\u001b[0;31m             \u001b[0mresult\u001b[0m \u001b[0;34m=\u001b[0m \u001b[0mself\u001b[0m\u001b[0;34m.\u001b[0m\u001b[0mforward\u001b[0m\u001b[0;34m(\u001b[0m\u001b[0;34m*\u001b[0m\u001b[0minput\u001b[0m\u001b[0;34m,\u001b[0m \u001b[0;34m**\u001b[0m\u001b[0mkwargs\u001b[0m\u001b[0;34m)\u001b[0m\u001b[0;34m\u001b[0m\u001b[0;34m\u001b[0m\u001b[0m\n\u001b[0m\u001b[1;32m    551\u001b[0m         \u001b[0;32mfor\u001b[0m \u001b[0mhook\u001b[0m \u001b[0;32min\u001b[0m \u001b[0mself\u001b[0m\u001b[0;34m.\u001b[0m\u001b[0m_forward_hooks\u001b[0m\u001b[0;34m.\u001b[0m\u001b[0mvalues\u001b[0m\u001b[0;34m(\u001b[0m\u001b[0;34m)\u001b[0m\u001b[0;34m:\u001b[0m\u001b[0;34m\u001b[0m\u001b[0;34m\u001b[0m\u001b[0m\n\u001b[1;32m    552\u001b[0m             \u001b[0mhook_result\u001b[0m \u001b[0;34m=\u001b[0m \u001b[0mhook\u001b[0m\u001b[0;34m(\u001b[0m\u001b[0mself\u001b[0m\u001b[0;34m,\u001b[0m \u001b[0minput\u001b[0m\u001b[0;34m,\u001b[0m \u001b[0mresult\u001b[0m\u001b[0;34m)\u001b[0m\u001b[0;34m\u001b[0m\u001b[0;34m\u001b[0m\u001b[0m\n",
            "\u001b[0;31mTypeError\u001b[0m: forward() takes 1 positional argument but 4 were given"
          ]
        }
      ]
    },
    {
      "cell_type": "code",
      "metadata": {
        "id": "Z1W7TYf4Devd",
        "colab_type": "code",
        "colab": {
          "base_uri": "https://localhost:8080/",
          "height": 34
        },
        "outputId": "dbb83b2e-d8e2-4ff7-f4d6-289ffb9551e4"
      },
      "source": [
        "best_loss"
      ],
      "execution_count": null,
      "outputs": [
        {
          "output_type": "execute_result",
          "data": {
            "text/plain": [
              "0.0"
            ]
          },
          "metadata": {
            "tags": []
          },
          "execution_count": 56
        }
      ]
    },
    {
      "cell_type": "code",
      "metadata": {
        "id": "10XHrqL2IgbF",
        "colab_type": "code",
        "colab": {
          "base_uri": "https://localhost:8080/",
          "height": 1000
        },
        "outputId": "80db1ad9-1f83-46e3-a638-94ad5252f6fd"
      },
      "source": [
        "all_train_losses"
      ],
      "execution_count": null,
      "outputs": [
        {
          "output_type": "execute_result",
          "data": {
            "text/plain": [
              "[0.0,\n",
              " 0.0,\n",
              " 0.0,\n",
              " 0.0,\n",
              " 0.0,\n",
              " 0.0,\n",
              " 0.0,\n",
              " 0.0,\n",
              " 0.0,\n",
              " 0.0,\n",
              " 0.0,\n",
              " 0.0,\n",
              " 0.0,\n",
              " 0.0,\n",
              " 0.0,\n",
              " 0.0,\n",
              " 0.0,\n",
              " 0.0,\n",
              " 0.0,\n",
              " 0.0,\n",
              " 0.0,\n",
              " 0.0,\n",
              " 0.0,\n",
              " 0.0,\n",
              " 0.0,\n",
              " 0.0,\n",
              " 0.0,\n",
              " 0.0,\n",
              " 0.0,\n",
              " 0.0,\n",
              " 0.0,\n",
              " 0.0,\n",
              " 0.0,\n",
              " 0.0,\n",
              " 0.0,\n",
              " 0.0,\n",
              " 0.0,\n",
              " 0.0,\n",
              " 0.0,\n",
              " 0.0,\n",
              " 0.0,\n",
              " 0.0,\n",
              " 0.0,\n",
              " 0.0,\n",
              " 0.0,\n",
              " 0.0,\n",
              " 0.0,\n",
              " 0.0,\n",
              " 0.0,\n",
              " 0.0,\n",
              " 0.0,\n",
              " 0.0,\n",
              " 0.0,\n",
              " 0.0,\n",
              " 0.0,\n",
              " 0.0,\n",
              " 0.0,\n",
              " 0.0,\n",
              " 0.0,\n",
              " 0.0,\n",
              " 0.0,\n",
              " 0.0,\n",
              " 0.0,\n",
              " 0.0,\n",
              " 0.0,\n",
              " 0.0,\n",
              " 0.0,\n",
              " 0.0,\n",
              " 0.0,\n",
              " 0.0,\n",
              " 0.0,\n",
              " 0.0,\n",
              " 0.0,\n",
              " 0.0,\n",
              " 0.0,\n",
              " 0.0,\n",
              " 0.0,\n",
              " 0.0,\n",
              " 0.0,\n",
              " 0.0,\n",
              " 0.0,\n",
              " 0.0,\n",
              " 0.0,\n",
              " 0.0,\n",
              " 0.0,\n",
              " 0.0,\n",
              " 0.0,\n",
              " 0.0,\n",
              " 0.0,\n",
              " 0.0,\n",
              " 0.0,\n",
              " 0.0,\n",
              " 0.0,\n",
              " 0.0,\n",
              " 0.0,\n",
              " 0.0,\n",
              " 0.0,\n",
              " 0.0,\n",
              " 0.0,\n",
              " 0.0,\n",
              " 0.0,\n",
              " 0.0,\n",
              " 0.0,\n",
              " 0.0,\n",
              " 0.0,\n",
              " 0.0,\n",
              " 0.0,\n",
              " 0.0,\n",
              " 0.0,\n",
              " 0.0,\n",
              " 0.0,\n",
              " 0.0,\n",
              " 0.0,\n",
              " 0.0,\n",
              " 0.0,\n",
              " 0.0,\n",
              " 0.0,\n",
              " 0.0,\n",
              " 0.0,\n",
              " 0.0,\n",
              " 0.0,\n",
              " 0.0,\n",
              " 0.0,\n",
              " 0.0,\n",
              " 0.0,\n",
              " 0.0,\n",
              " 0.0,\n",
              " 0.0,\n",
              " 0.0,\n",
              " 0.0,\n",
              " 0.0,\n",
              " 0.0,\n",
              " 0.0,\n",
              " 0.0,\n",
              " 0.0,\n",
              " 0.0,\n",
              " 0.0,\n",
              " 0.0,\n",
              " 0.0,\n",
              " 0.0,\n",
              " 0.0,\n",
              " 0.0,\n",
              " 0.0,\n",
              " 0.0,\n",
              " 0.0,\n",
              " 0.0,\n",
              " 0.0,\n",
              " 0.0,\n",
              " 0.0,\n",
              " 0.0,\n",
              " 0.0,\n",
              " 0.0,\n",
              " 0.0,\n",
              " 0.0,\n",
              " 0.0,\n",
              " 0.0,\n",
              " 0.0,\n",
              " 0.0,\n",
              " 0.0,\n",
              " 0.0,\n",
              " 0.0,\n",
              " 0.0,\n",
              " 0.0,\n",
              " 0.0,\n",
              " 0.0,\n",
              " 0.0,\n",
              " 0.0,\n",
              " 0.0,\n",
              " 0.0,\n",
              " 0.0,\n",
              " 0.0,\n",
              " 0.0,\n",
              " 0.0,\n",
              " 0.0,\n",
              " 0.0,\n",
              " 0.0,\n",
              " 0.0,\n",
              " 0.0,\n",
              " 0.0,\n",
              " 0.0,\n",
              " 0.0,\n",
              " 0.0,\n",
              " 0.0,\n",
              " 0.0,\n",
              " 0.0,\n",
              " 0.0,\n",
              " 0.0,\n",
              " 0.0,\n",
              " 0.0,\n",
              " 0.0,\n",
              " 0.0,\n",
              " 0.0,\n",
              " 0.0,\n",
              " 0.0,\n",
              " 0.0,\n",
              " 0.0,\n",
              " 0.0,\n",
              " 0.0,\n",
              " 0.0,\n",
              " 0.0,\n",
              " 0.0,\n",
              " 0.0,\n",
              " 0.0,\n",
              " 0.0,\n",
              " 0.0,\n",
              " 0.0,\n",
              " 0.0,\n",
              " 0.0,\n",
              " 0.0,\n",
              " 0.0,\n",
              " 0.0,\n",
              " 0.0,\n",
              " 0.0,\n",
              " 0.0,\n",
              " 0.0,\n",
              " 0.0,\n",
              " 0.0,\n",
              " 0.0,\n",
              " 0.0,\n",
              " 0.0,\n",
              " 0.0,\n",
              " 0.0,\n",
              " 0.0,\n",
              " 0.0,\n",
              " 0.0,\n",
              " 0.0,\n",
              " 0.0,\n",
              " 0.0,\n",
              " 0.0,\n",
              " 0.0,\n",
              " 0.0,\n",
              " 0.0,\n",
              " 0.0,\n",
              " 0.0,\n",
              " 0.0,\n",
              " 0.0,\n",
              " 0.0,\n",
              " 0.0,\n",
              " 0.0,\n",
              " 0.0,\n",
              " 0.0,\n",
              " 0.0,\n",
              " 0.0,\n",
              " 0.0,\n",
              " 0.0,\n",
              " 0.0,\n",
              " 0.0,\n",
              " 0.0,\n",
              " 0.0,\n",
              " 0.0,\n",
              " 0.0,\n",
              " 0.0,\n",
              " 0.0,\n",
              " 0.0,\n",
              " 0.0,\n",
              " 0.0,\n",
              " 0.0,\n",
              " 0.0,\n",
              " 0.0,\n",
              " 0.0,\n",
              " 0.0,\n",
              " 0.0,\n",
              " 0.0,\n",
              " 0.0,\n",
              " 0.0,\n",
              " 0.0,\n",
              " 0.0,\n",
              " 0.0,\n",
              " 0.0,\n",
              " 0.0,\n",
              " 0.0,\n",
              " 0.0,\n",
              " 0.0,\n",
              " 0.0,\n",
              " 0.0,\n",
              " 0.0,\n",
              " 0.0,\n",
              " 0.0,\n",
              " 0.0,\n",
              " 0.0,\n",
              " 0.0,\n",
              " 0.0,\n",
              " 0.0,\n",
              " 0.0,\n",
              " 0.0,\n",
              " 0.0,\n",
              " 0.0,\n",
              " 0.0,\n",
              " 0.0,\n",
              " 0.0,\n",
              " 0.0,\n",
              " 0.0,\n",
              " 0.0,\n",
              " 0.0,\n",
              " 0.0,\n",
              " 0.0,\n",
              " 0.0,\n",
              " 0.0,\n",
              " 0.0,\n",
              " 0.0,\n",
              " 0.0,\n",
              " 0.0,\n",
              " 0.0,\n",
              " 0.0,\n",
              " 0.0,\n",
              " 0.0,\n",
              " 0.0,\n",
              " 0.0,\n",
              " 0.0,\n",
              " 0.0,\n",
              " 0.0,\n",
              " 0.0,\n",
              " 0.0,\n",
              " 0.0,\n",
              " 0.0,\n",
              " 0.0,\n",
              " 0.0,\n",
              " 0.0,\n",
              " 0.0,\n",
              " 0.0,\n",
              " 0.0,\n",
              " 0.0,\n",
              " 0.0,\n",
              " 0.0,\n",
              " 0.0,\n",
              " 0.0,\n",
              " 0.0,\n",
              " 0.0,\n",
              " 0.0,\n",
              " 0.0,\n",
              " 0.0,\n",
              " 0.0,\n",
              " 0.0,\n",
              " 0.0,\n",
              " 0.0,\n",
              " 0.0,\n",
              " 0.0,\n",
              " 0.0,\n",
              " 0.0,\n",
              " 0.0,\n",
              " 0.0,\n",
              " 0.0,\n",
              " 0.0,\n",
              " 0.0,\n",
              " 0.0,\n",
              " 0.0,\n",
              " 0.0,\n",
              " 0.0,\n",
              " 0.0,\n",
              " 0.0,\n",
              " 0.0,\n",
              " 0.0,\n",
              " 0.0,\n",
              " 0.0,\n",
              " 0.0,\n",
              " 0.0,\n",
              " 0.0,\n",
              " 0.0,\n",
              " 0.0,\n",
              " 0.0,\n",
              " 0.0,\n",
              " 0.0,\n",
              " 0.0,\n",
              " 0.0,\n",
              " 0.0,\n",
              " 0.0,\n",
              " 0.0,\n",
              " 0.0,\n",
              " 0.0,\n",
              " 0.0,\n",
              " 0.0,\n",
              " 0.0,\n",
              " 0.0,\n",
              " 0.0,\n",
              " 0.0,\n",
              " 0.0,\n",
              " 0.0,\n",
              " 0.0,\n",
              " 0.0,\n",
              " 0.0,\n",
              " 0.0,\n",
              " 0.0,\n",
              " 0.0,\n",
              " 0.0,\n",
              " 0.0,\n",
              " 0.0,\n",
              " 0.0,\n",
              " 0.0,\n",
              " 0.0,\n",
              " 0.0,\n",
              " 0.0,\n",
              " 0.0,\n",
              " 0.0,\n",
              " 0.0,\n",
              " 0.0,\n",
              " 0.0,\n",
              " 0.0,\n",
              " 0.0,\n",
              " 0.0,\n",
              " 0.0,\n",
              " 0.0,\n",
              " 0.0,\n",
              " 0.0,\n",
              " 0.0,\n",
              " 0.0,\n",
              " 0.0,\n",
              " 0.0,\n",
              " 0.0,\n",
              " 0.0,\n",
              " 0.0,\n",
              " 0.0,\n",
              " 0.0,\n",
              " 0.0,\n",
              " 0.0,\n",
              " 0.0,\n",
              " 0.0,\n",
              " 0.0,\n",
              " 0.0,\n",
              " 0.0,\n",
              " 0.0,\n",
              " 0.0,\n",
              " 0.0,\n",
              " 0.0,\n",
              " 0.0,\n",
              " 0.0,\n",
              " 0.0,\n",
              " 0.0,\n",
              " 0.0,\n",
              " 0.0,\n",
              " 0.0,\n",
              " 0.0,\n",
              " 0.0,\n",
              " 0.0,\n",
              " 0.0,\n",
              " 0.0,\n",
              " 0.0,\n",
              " 0.0,\n",
              " 0.0,\n",
              " 0.0,\n",
              " 0.0,\n",
              " 0.0,\n",
              " 0.0,\n",
              " 0.0,\n",
              " 0.0,\n",
              " 0.0,\n",
              " 0.0,\n",
              " 0.0,\n",
              " 0.0,\n",
              " 0.0,\n",
              " 0.0,\n",
              " 0.0,\n",
              " 0.0,\n",
              " 0.0,\n",
              " 0.0,\n",
              " 0.0,\n",
              " 0.0,\n",
              " 0.0,\n",
              " 0.0,\n",
              " 0.0,\n",
              " 0.0,\n",
              " 0.0,\n",
              " 0.0,\n",
              " 0.0,\n",
              " 0.0,\n",
              " 0.0,\n",
              " 0.0,\n",
              " 0.0,\n",
              " 0.0,\n",
              " 0.0,\n",
              " 0.0,\n",
              " 0.0,\n",
              " 0.0,\n",
              " 0.0,\n",
              " 0.0,\n",
              " 0.0,\n",
              " 0.0,\n",
              " 0.0,\n",
              " 0.0,\n",
              " 0.0,\n",
              " 0.0,\n",
              " 0.0,\n",
              " 0.0,\n",
              " 0.0,\n",
              " 0.0,\n",
              " 0.0,\n",
              " 0.0,\n",
              " 0.0,\n",
              " 0.0,\n",
              " 0.0,\n",
              " 0.0,\n",
              " 0.0,\n",
              " 0.0,\n",
              " 0.0,\n",
              " 0.0,\n",
              " 0.0,\n",
              " 0.0,\n",
              " 0.0,\n",
              " 0.0,\n",
              " 0.0,\n",
              " 0.0]"
            ]
          },
          "metadata": {
            "tags": []
          },
          "execution_count": 57
        }
      ]
    },
    {
      "cell_type": "code",
      "metadata": {
        "id": "JoPLh3jGFX78",
        "colab_type": "code",
        "colab": {
          "base_uri": "https://localhost:8080/",
          "height": 34
        },
        "outputId": "569cf562-f850-41d2-d98b-9886d19ce830"
      },
      "source": [
        "1 in splits[0]"
      ],
      "execution_count": null,
      "outputs": [
        {
          "output_type": "execute_result",
          "data": {
            "text/plain": [
              "True"
            ]
          },
          "metadata": {
            "tags": []
          },
          "execution_count": 58
        }
      ]
    },
    {
      "cell_type": "code",
      "metadata": {
        "id": "basSRQdV9Yzc",
        "colab_type": "code",
        "colab": {
          "base_uri": "https://localhost:8080/",
          "height": 34
        },
        "outputId": "ceb3df51-2321-4130-d9af-0832537ece57"
      },
      "source": [
        "# word = 'Comment ca va'\n",
        "word = df.fr[1]; word, df.eng[1]"
      ],
      "execution_count": null,
      "outputs": [
        {
          "output_type": "execute_result",
          "data": {
            "text/plain": [
              "('Où sommes-nous?', 'Who are we?')"
            ]
          },
          "metadata": {
            "tags": []
          },
          "execution_count": 59
        }
      ]
    },
    {
      "cell_type": "code",
      "metadata": {
        "id": "nRBPi3gp-AX_",
        "colab_type": "code",
        "colab": {
          "base_uri": "https://localhost:8080/",
          "height": 34
        },
        "outputId": "46a8e68f-1177-40b0-f44b-6260625d1311"
      },
      "source": [
        "[tokenizer_fr.token_to_id('<sos>')] + tokenizer_fr.encode(word).ids + [tokenizer_fr.token_to_id('<eos>')]"
      ],
      "execution_count": null,
      "outputs": [
        {
          "output_type": "execute_result",
          "data": {
            "text/plain": [
              "[0, 576, 2528, 15, 615, 33, 1]"
            ]
          },
          "metadata": {
            "tags": []
          },
          "execution_count": 60
        }
      ]
    },
    {
      "cell_type": "code",
      "metadata": {
        "id": "DFjG5qxu-qj9",
        "colab_type": "code",
        "colab": {}
      },
      "source": [
        "softmax = nn.Softmax(dim=2)"
      ],
      "execution_count": null,
      "outputs": []
    },
    {
      "cell_type": "code",
      "metadata": {
        "id": "weUXc962bTuQ",
        "colab_type": "code",
        "colab": {}
      },
      "source": [
        "def translate(model, word):\n",
        "    model.eval()\n",
        "    \n",
        "    enc_inp = torch.tensor([tokenizer_fr.token_to_id('<sos>')] + tokenizer_fr.encode(word).ids + [tokenizer_fr.token_to_id('<eos>')])[None]\n",
        "\n",
        "    tok_ids = []\n",
        "\n",
        "    # transpose input sentence\n",
        "    enc_inp = enc_inp.t().to(device)\n",
        "\n",
        "    # get key padding mask of enc input\n",
        "    enc_key_pad_mask = model.get_src_key_pad(enc_inp) #[seq_len, bs]\n",
        "\n",
        "    # turn  word to embedding\n",
        "    enc_inp = model.enc_emb(enc_inp)\n",
        "\n",
        "    # pass through the transformer encoder\n",
        "    enc_out = model.trans_enc(src=enc_inp, src_key_padding_mask=enc_key_pad_mask.t()) #[seq_len, bs, emb_sz]\n",
        "\n",
        "\n",
        "    dec_inp_token_id = [tokenizer_fr.token_to_id('<sos>')]\n",
        "    \n",
        "\n",
        "    for i in range(30):\n",
        "\n",
        "        ###########################decoder######################\n",
        "        dec_inp = torch.tensor([dec_inp_token_id[-1]])[None]\n",
        "        # print(f'dec_inp: {i, dec_inp.shape}')\n",
        "\n",
        "        # transpose decoder input\n",
        "        dec_inp = dec_inp.t().to(device)\n",
        "        # print(f'dec_inp_after: {i, dec_inp.shape}')\n",
        "\n",
        "        # create masks for decoder\n",
        "        dec_mask, dec_key_pad_mask = model.get_trg_key_and_mask(dec_inp)\n",
        "\n",
        "        # turn dec input to embedding\n",
        "        dec_inp = model.dec_emb(dec_inp)\n",
        "        # print(f'dec_inp_after_emb: {i, dec_inp.shape}')\n",
        "\n",
        "        with torch.no_grad():\n",
        "\n",
        "\n",
        "\n",
        "            dec_out = model.trans_dec(tgt=dec_inp, memory=enc_out, tgt_mask=dec_mask, \n",
        "                                 tgt_key_padding_mask=dec_key_pad_mask.t(), \n",
        "                                 memory_key_padding_mask=enc_key_pad_mask.t())\n",
        "            \n",
        "            dec_out = softmax(dec_out)\n",
        "            # print(f\"dec_out: {dec_out.shape}\")\n",
        "            # print(f'reshaped: {dec_out[-1, :, :].shape}')\n",
        "            # pred_token_id = dec_out[-1, :, :].argmax(1)\n",
        "            pred_token_id = dec_out.argmax(2)\n",
        "            # print(f\"pred_token_id : {pred_token_id.shape}\")\n",
        "            dec_inp_token_id.append(pred_token_id.squeeze().item())\n",
        "\n",
        "        if pred_token_id == tokenizer_eng.token_to_id('<eos>') or pred_token_id == tokenizer_eng.token_to_id('<pad>'):\n",
        "            break\n",
        "        print(dec_inp_token_id)\n",
        "\n",
        "        # if i == 3: break\n",
        "    \n",
        "    return tokenizer_eng.decode(dec_inp_token_id)"
      ],
      "execution_count": null,
      "outputs": []
    },
    {
      "cell_type": "code",
      "metadata": {
        "id": "bHWqaJnR8REi",
        "colab_type": "code",
        "colab": {}
      },
      "source": [
        "def translate(model, word):\n",
        "    model.eval()\n",
        "    \n",
        "    # enc_inp = torch.tensor([tokenizer_fr.token_to_id('<sos>')] + tokenizer_fr.encode(word).ids + [tokenizer_fr.token_to_id('<eos>')])[None]\n",
        "\n",
        "    # tok_ids = []\n",
        "\n",
        "    # # transpose input sentence\n",
        "    # enc_inp = enc_inp.t().to(device)\n",
        "\n",
        "    # # get key padding mask of enc input\n",
        "    # enc_key_pad_mask = model.get_src_key_pad(enc_inp) #[seq_len, bs]\n",
        "\n",
        "    # # turn  word to embedding\n",
        "    # enc_inp = model.enc_emb(enc_inp)\n",
        "\n",
        "    # # pass through the transformer encoder\n",
        "    # enc_out = model.trans_enc(src=enc_inp, src_key_padding_mask=enc_key_pad_mask.t()) #[seq_len, bs, emb_sz]\n",
        "\n",
        "\n",
        "    # dec_inp_token_id = [tokenizer_fr.token_to_id('<sos>')]\n",
        "    \n",
        "\n",
        "    # # for i in range(30):\n",
        "\n",
        "    # ###########################decoder######################\n",
        "    # dec_inp = torch.tensor([dec_inp_token_id[-1]])[None]\n",
        "    # # print(f'dec_inp: {i, dec_inp.shape}')\n",
        "\n",
        "    # # transpose decoder input\n",
        "    # dec_inp = dec_inp.t().to(device)\n",
        "    # # print(f'dec_inp_after: {i, dec_inp.shape}')\n",
        "\n",
        "    # # create masks for decoder\n",
        "    # dec_mask, dec_key_pad_mask = model.get_trg_key_and_mask(dec_inp)\n",
        "\n",
        "    # # turn dec input to embedding\n",
        "    # dec_inp = model.dec_emb(dec_inp)\n",
        "    # # print(f'dec_inp_after_emb: {i, dec_inp.shape}')\n",
        "\n",
        "    with torch.no_grad():\n",
        "        for x, y in progress_bar(train_dl):\n",
        "\n",
        "            dec_out = model(x, y)\n",
        "            \n",
        "            dec_out = softmax(dec_out)\n",
        "            # print(f\"dec_out: {dec_out.shape}\")\n",
        "            # print(f'reshaped: {dec_out[-1, :, :].shape}')\n",
        "            # pred_token_id = dec_out[-1, :, :].argmax(1)\n",
        "            pred_token_id = dec_out.argmax(2)\n",
        "            # print(pred_token_id.shape)\n",
        "            print(tokenizer_eng.decode_batch(pred_token_id.cpu().numpy()))\n",
        "            break\n",
        "            # print(f\"pred_token_id : {pred_token_id.shape}\")\n",
        "            # dec_inp_token_id.append(pred_token_id.squeeze().item())\n",
        "\n",
        "    # if pred_token_id == tokenizer_eng.token_to_id('<eos>') or pred_token_id == tokenizer_eng.token_to_id('<pad>'):\n",
        "    #     break\n",
        "        # print(dec_inp_token_id)\n",
        "\n",
        "        # if i == 3: break\n",
        "    \n",
        "    # return tokenizer_eng.decode(dec_inp_token_id)"
      ],
      "execution_count": null,
      "outputs": []
    },
    {
      "cell_type": "code",
      "metadata": {
        "id": "LuoUx5AOjff1",
        "colab_type": "code",
        "colab": {}
      },
      "source": [
        "def forward(self, inp, out):\n",
        "        mask_out = get_output_mask(out, self.pad_idx)\n",
        "        enc,out = self.enc_emb(inp.to(self.device)),self.dec_emb(out.to(self.device))\n",
        "        for enc_layer in self.encoder:\n",
        "            enc = enc_layer(enc)\n",
        "        \n",
        "        for dec_layer in self.decoder:\n",
        "            dec = dec_layer(out, enc, mask_out)\n",
        "        # out = compose(self.decoder)(out, enc, mask_out)\n",
        "        return self.out(out)"
      ],
      "execution_count": null,
      "outputs": []
    },
    {
      "cell_type": "code",
      "metadata": {
        "id": "h0coJ6aylKVs",
        "colab_type": "code",
        "colab": {}
      },
      "source": [
        "def translate(best_model, word):\n",
        "    model.eval()\n",
        "    enc_inp = torch.tensor([tokenizer_fr.token_to_id('<sos>')] + tokenizer_fr.encode(word).ids + [tokenizer_fr.token_to_id('<eos>')])[None]\n",
        "\n",
        "    # tok_ids = []\n",
        "    print(torch.tensor(enc_inp).shape)\n",
        "\n",
        "    enc = model.enc_emb(enc_inp.to(device))\n",
        "\n",
        "    for enc_layer in model.encoder:\n",
        "        enc = enc_layer(enc)\n",
        "\n",
        "    inps = [tokenizer_fr.token_to_id('<sos>')]\n",
        "    \n",
        "    for _ in range(30):\n",
        "        print(torch.tensor(inps[-1])[None].shape)\n",
        "        dec_inp = model.dec_emb(torch.tensor(inps[-1])[None][None].to(device))\n",
        "        for dec_layer in model.decoder:\n",
        "            out = dec_layer(dec_inp, enc)\n",
        "    \n",
        "        fin_out = model.out(out)\n",
        "\n",
        "        # print(fin_out.shape)\n",
        "        fin_out = softmax(fin_out)\n",
        "\n",
        "        fin_out = fin_out.argmax(2)\n",
        "\n",
        "        inps.append(fin_out.cpu().squeeze(1))\n",
        "        print(fin_out.cpu().squeeze(1).squeeze().tolist())\n",
        "        \n",
        "        # break"
      ],
      "execution_count": null,
      "outputs": []
    },
    {
      "cell_type": "code",
      "metadata": {
        "id": "V2xBpMV6Dese",
        "colab_type": "code",
        "colab": {
          "base_uri": "https://localhost:8080/",
          "height": 508
        },
        "outputId": "779b87ac-b8f2-40f4-c4f0-356516c2c38d"
      },
      "source": [
        "translate(best_model, 'D’où venez-vous?')"
      ],
      "execution_count": null,
      "outputs": [
        {
          "output_type": "stream",
          "text": [
            "torch.Size([1, 9])\n",
            "torch.Size([1])\n",
            "0\n",
            "torch.Size([1, 1])\n",
            "[0, 0, 0, 0, 0, 0, 0, 0, 0, 0, 0, 0, 0, 0, 0, 0, 0, 0, 0, 0, 0, 0, 0, 0, 0, 0, 0, 0, 0, 0, 0, 0, 0, 0, 0, 0, 0, 0, 0, 0, 0, 0, 0, 0, 0, 0, 0, 0, 0, 0, 0, 0, 0, 0, 0, 0, 0, 0, 0, 0, 0, 0, 0, 0, 0, 0, 0, 0, 0, 0, 0, 0, 0, 0, 0, 0, 0, 0, 0, 0, 0, 0, 0, 0, 0, 0, 0, 0, 0, 0, 0, 0, 0, 0, 0, 0, 0, 0, 0, 0, 0, 0, 0, 0, 0, 0, 0, 0, 0, 0, 0, 0, 0, 0, 0, 0, 0, 0, 0, 0, 0, 0, 0, 0, 0, 0, 0, 0, 0, 0, 0, 0, 0, 0, 0, 0, 0, 0, 0, 0, 0, 0, 0, 0, 0, 0, 0, 0, 0, 0, 0, 0, 0, 0, 0, 0, 0, 0, 0, 0, 0, 0, 0, 0, 0, 0, 0, 0, 0, 0, 0, 0, 0, 0, 0, 0, 0, 0, 0, 0, 0, 0, 0, 0, 0, 0, 0, 0, 0, 0, 0, 0, 0, 0, 0, 0, 0, 0, 0, 0, 0, 0, 0, 0, 0, 0, 0, 0, 0, 0, 0, 0, 0, 0, 0, 0, 0, 0, 0, 0, 0, 0, 0, 0, 0, 0, 0, 0, 0, 0, 0, 0, 0, 0, 0, 0, 0, 0, 0, 0, 0, 0, 0, 0, 0, 0, 0, 0, 0, 0, 0, 0, 0, 0, 0, 0, 0, 0, 0, 0, 0, 0, 0, 0, 0, 0, 0, 0, 0, 0, 0, 0, 0, 0, 0, 0, 0, 0, 0, 0, 0, 0, 0, 0, 0, 0, 0, 0, 0, 0, 0, 0, 0, 0, 0, 0, 0, 0, 0, 0, 0, 0, 0, 0, 0, 0, 0, 0, 0, 0, 0, 0, 0, 0, 0, 0, 0, 0, 0, 0, 0, 0, 0, 0, 0, 0, 0, 0, 0, 0, 0, 0, 0, 0, 0, 0, 0, 0, 0, 0, 0, 0, 0, 0, 0, 0, 0, 0, 0, 0, 0, 0, 0, 0, 0, 0, 0, 0, 0, 0, 0, 0, 0, 0, 0, 0, 0, 0, 0, 0, 0, 0, 0, 0, 0, 0, 0, 0, 0, 0, 0, 0, 0, 0, 0, 0, 0, 0, 0, 0, 0, 0, 0, 0, 0, 0, 0, 0, 0, 0, 0, 0, 0, 0, 0, 0, 0, 0, 0, 0, 0, 0, 0, 0, 0, 0, 0, 0, 0, 0, 0, 0, 0, 0, 0, 0, 0, 0, 0, 0, 0, 0, 0, 0, 0, 0, 0, 0, 0, 0, 0, 0, 0, 0, 0, 0, 0, 0, 0, 0, 0, 0, 0, 0, 0, 0, 0, 0, 0, 0, 0, 0, 0, 0, 0, 0, 0, 0, 0, 0, 0, 0, 0, 0, 0, 0, 0, 0, 0, 0, 0, 0, 0, 0, 0, 0, 0, 0, 0, 0, 0, 0, 0, 0, 0, 0, 0, 0, 0, 0, 0, 0, 0, 0, 0, 0, 0, 0, 0, 0, 0, 0, 0, 0, 0, 0, 0, 0, 0, 0, 0, 0, 0, 0, 0, 0, 0, 0, 0, 0, 0, 0, 0, 0, 0, 0, 0, 0, 0, 0, 0, 0, 0, 0, 0, 0, 0, 0, 0, 0, 0, 0, 0, 0, 0, 0, 0, 0, 0, 0, 0, 0, 0, 0, 0, 0, 0, 0, 0, 0, 0, 0, 0, 0, 0, 0, 0, 0, 0, 0, 0, 0, 0, 0, 0, 0, 0, 0, 0, 0, 0, 0, 0, 0, 0, 0, 0, 0, 0, 0, 0, 0, 0, 0, 0, 0, 0, 0, 0, 0, 0, 0, 0, 0, 0, 0, 0, 0, 0, 0, 0, 0, 0, 0, 0, 0, 0, 0, 0, 0, 0, 0, 0, 0, 0, 0, 0, 0, 0, 0, 0, 0, 0, 0, 0, 0, 0, 0, 0, 0, 0, 0, 0, 0, 0, 0, 0, 0, 0, 0, 0, 0, 0, 0, 0, 0, 0, 0, 0, 0, 0, 0, 0, 0, 0, 0, 0, 0, 0, 0, 0, 0, 0, 0, 0, 0, 0, 0, 0, 0, 0, 0, 0, 0, 0, 0, 0, 0, 0, 0, 0, 0, 0, 0, 0, 0, 0, 0, 0, 0, 0, 0, 0, 0, 0, 0, 0, 0, 0, 0, 0, 0, 0, 0, 0, 0, 0, 0, 0, 0, 0, 0, 0, 0, 0, 0, 0, 0, 0, 0, 0, 0, 0, 0, 0, 0, 0, 0, 0, 0, 0, 0, 0, 0, 0, 0, 0, 0, 0, 0, 0, 0, 0, 0, 0, 0, 0, 0, 0, 0, 0, 0, 0, 0, 0, 0, 0, 0, 0, 0, 0, 0, 0, 0, 0, 0, 0, 0, 0, 0, 0, 0, 0, 0, 0, 0, 0, 0, 0, 0, 0, 0, 0, 0, 0, 0, 0, 0, 0, 0, 0, 0, 0, 0, 0, 0, 0, 0, 0, 0, 0, 0, 0, 0, 0, 0, 0, 0, 0, 0, 0, 0, 0, 0, 0, 0, 0, 0, 0, 0, 0, 0, 0, 0, 0, 0, 0, 0, 0, 0, 0, 0, 0, 0, 0, 0, 0, 0, 0, 0, 0, 0, 0, 0, 0, 0, 0, 0, 0, 0, 0, 0, 0, 0, 0, 0, 0, 0, 0, 0, 0, 0, 0, 0, 0, 0, 0, 0, 0, 0, 0, 0, 0, 0, 0, 0, 0, 0, 0, 0, 0, 0, 0, 0, 0, 0, 0, 0, 0, 0, 0, 0, 0, 0, 0, 0, 0, 0, 0, 0, 0, 0, 0, 0, 0, 0, 0, 0, 0, 0, 0, 0, 0, 0, 0, 0, 0, 0, 0, 0, 0, 0, 0, 0, 0, 0, 0, 0, 0, 0, 0, 0, 0, 0, 0, 0, 0, 0, 0, 0, 0, 0, 0, 0, 0, 0, 0, 0, 0, 0, 0, 0, 0, 0, 0, 0, 0, 0, 0, 0, 0, 0, 0, 0, 0, 0, 0, 0, 0, 0, 0, 0, 0, 0, 0, 0, 0, 0, 0, 0, 0, 0, 0, 0, 0, 0, 0, 0, 0, 0, 0, 0, 0, 0, 0, 0, 0, 0, 0, 0, 0, 0, 0, 0, 0, 0, 0, 0, 0, 0, 0, 0, 0, 0, 0, 0, 0, 0, 0, 0, 0, 0, 0, 0, 0, 0, 0, 0, 0, 0, 0, 0, 0, 0, 0, 0, 0, 0, 0, 0, 0, 0, 0, 0, 0, 0, 0, 0, 0, 0, 0, 0, 0, 0, 0, 0, 0, 0, 0, 0, 0, 0, 0, 0, 0, 0, 0, 0, 0, 0, 0, 0, 0, 0, 0, 0, 0, 0, 0, 0, 0, 0, 0, 0, 0, 0, 0, 0, 0, 0, 0, 0, 0, 0, 0, 0, 0, 0, 0, 0, 0, 0, 0, 0, 0, 0, 0, 0, 0, 0, 0, 0, 0, 0, 0, 0, 0, 0, 0, 0, 0, 0, 0, 0, 0, 0, 0, 0, 0, 0, 0, 0, 0, 0, 0, 0, 0, 0, 0, 0, 0, 0, 0, 0, 0, 0, 0, 0, 0, 0, 0, 0, 0, 0, 0, 0, 0, 0, 0, 0, 0, 0, 0, 0, 0, 0, 0, 0, 0, 0, 0, 0, 0, 0, 0, 0, 0, 0, 0, 0, 0, 0, 0, 0, 0, 0, 0, 0, 0, 0, 0, 0, 0, 0, 0, 0, 0, 0, 0, 0, 0, 0, 0, 0, 0, 0, 0, 0, 0, 0, 0, 0, 0, 0, 0, 0, 0, 0, 0, 0, 0, 0, 0, 0, 0, 0, 0, 0, 0, 0, 0, 0, 0, 0, 0, 0, 0, 0, 0, 0, 0, 0, 0, 0, 0, 0, 0, 0, 0, 0, 0, 0, 0, 0, 0, 0, 0, 0, 0, 0, 0, 0, 0, 0, 0, 0, 0, 0, 0, 0, 0, 0, 0, 0, 0, 0, 0, 0, 0, 0, 0, 0, 0, 0, 0, 0, 0, 0, 0, 0, 0, 0, 0, 0, 0, 0, 0, 0, 0, 0, 0, 0, 0, 0, 0, 0, 0, 0, 0, 0, 0, 0, 0, 0, 0, 0, 0, 0, 0, 0, 0, 0, 0, 0, 0, 0, 0, 0, 0, 0, 0, 0, 0, 0, 0, 0, 0, 0, 0, 0, 0, 0, 0, 0, 0, 0, 0, 0, 0, 0, 0, 0, 0, 0, 0, 0, 0, 0, 0, 0, 0, 0, 0, 0, 0, 0, 0, 0, 0, 0, 0, 0, 0, 0, 0, 0, 0, 0, 0, 0, 0, 0, 0, 0, 0, 0, 0, 0, 0, 0, 0, 0, 0, 0, 0, 0, 0, 0, 0, 0, 0, 0, 0, 0, 0, 0, 0, 0, 0, 0, 0, 0, 0, 0, 0, 0, 0, 0, 0, 0, 0, 0, 0, 0, 0, 0, 0, 0, 0, 0, 0, 0, 0, 0, 0, 0, 0, 0, 0, 0, 0, 0, 0, 0, 0, 0, 0, 0, 0, 0, 0, 0, 0, 0, 0, 0, 0, 0, 0, 0, 0, 0, 0, 0, 0, 0, 0, 0, 0, 0, 0, 0, 0, 0, 0, 0, 0, 0, 0, 0, 0, 0, 0, 0, 0, 0, 0, 0, 0, 0, 0, 0, 0, 0, 0, 0, 0, 0, 0, 0, 0, 0, 0, 0, 0, 0, 0, 0, 0, 0, 0, 0, 0, 0, 0, 0, 0, 0, 0, 0, 0, 0, 0, 0, 0, 0, 0, 0, 0, 0, 0, 0, 0, 0, 0, 0, 0, 0, 0, 0, 0, 0, 0, 0, 0, 0, 0, 0, 0, 0, 0, 0, 0, 0, 0, 0, 0, 0, 0, 0, 0, 0, 0, 0, 0, 0, 0, 0, 0, 0, 0, 0, 0, 0, 0, 0, 0, 0, 0, 0, 0, 0, 0, 0, 0, 0, 0, 0, 0, 0, 0, 0, 0, 0, 0, 0, 0, 0, 0, 0, 0, 0, 0, 0, 0, 0, 0, 0, 0, 0, 0, 0, 0, 0, 0, 0, 0, 0, 0, 0, 0, 0, 0, 0, 0, 0, 0, 0, 0, 0, 0, 0, 0, 0, 0, 0, 0, 0, 0, 0, 0, 0, 0, 0, 0, 0, 0, 0, 0, 0, 0, 0, 0, 0, 0, 0, 0, 0, 0, 0, 0, 0, 0, 0, 0, 0, 0, 0, 0, 0, 0, 0, 0, 0, 0, 0, 0, 0, 0, 0, 0, 0, 0, 0, 0, 0, 0, 0, 0, 0, 0, 0, 0, 0, 0, 0, 0, 0, 0, 0, 0, 0, 0, 0, 0, 0, 0, 0, 0, 0, 0, 0, 0, 0, 0, 0, 0, 0, 0, 0, 0, 0, 0, 0, 0, 0, 0, 0, 0, 0, 0, 0, 0, 0, 0, 0, 0, 0, 0, 0, 0, 0, 0, 0, 0, 0, 0, 0, 0, 0, 0, 0, 0, 0, 0, 0, 0, 0, 0, 0, 0, 0, 0, 0, 0, 0, 0, 0, 0, 0, 0, 0, 0, 0, 0, 0, 0, 0, 0, 0, 0, 0, 0, 0, 0, 0, 0, 0, 0, 0, 0, 0, 0, 0, 0, 0, 0, 0, 0, 0, 0, 0, 0, 0, 0, 0, 0, 0, 0, 0, 0, 0, 0, 0, 0, 0, 0, 0, 0, 0, 0, 0, 0, 0, 0, 0, 0, 0, 0, 0, 0, 0, 0, 0, 0, 0, 0, 0, 0, 0, 0, 0, 0, 0, 0, 0, 0, 0, 0, 0, 0, 0, 0, 0, 0, 0, 0, 0, 0, 0, 0, 0, 0, 0, 0, 0, 0, 0, 0, 0, 0, 0, 0, 0, 0, 0, 0, 0, 0, 0, 0, 0, 0, 0, 0, 0, 0, 0, 0, 0, 0, 0, 0, 0, 0, 0, 0, 0, 0, 0, 0, 0, 0, 0, 0, 0, 0, 0, 0, 0, 0, 0, 0, 0, 0, 0, 0, 0, 0, 0, 0, 0, 0, 0, 0, 0, 0, 0, 0, 0, 0, 0, 0, 0, 0, 0, 0, 0, 0, 0, 0, 0, 0, 0, 0, 0, 0, 0, 0, 0, 0, 0, 0, 0, 0, 0, 0, 0, 0, 0, 0, 0, 0, 0, 0, 0, 0, 0, 0, 0, 0, 0, 0, 0, 0, 0, 0, 0, 0, 0, 0, 0, 0, 0, 0, 0, 0, 0, 0, 0, 0, 0, 0, 0, 0, 0, 0, 0, 0, 0, 0, 0, 0, 0, 0, 0, 0, 0, 0, 0, 0, 0, 0, 0, 0, 0, 0, 0, 0, 0, 0, 0, 0, 0, 0, 0, 0, 0, 0, 0, 0, 0, 0, 0, 0, 0, 0, 0, 0, 0, 0, 0, 0, 0, 0, 0, 0, 0, 0, 0, 0, 0, 0, 0, 0, 0, 0, 0, 0, 0, 0, 0, 0, 0, 0, 0, 0, 0, 0, 0, 0, 0, 0, 0, 0, 0, 0, 0, 0, 0, 0, 0, 0, 0, 0, 0, 0, 0, 0, 0, 0, 0, 0, 0, 0, 0, 0, 0, 0, 0, 0, 0, 0, 0, 0, 0, 0, 0, 0, 0, 0, 0, 0, 0, 0, 0, 0, 0, 0, 0, 0, 0, 0, 0, 0, 0, 0, 0, 0, 0, 0, 0, 0, 0, 0, 0, 0, 0, 0, 0, 0, 0, 0, 0, 0, 0, 0, 0, 0, 0, 0, 0, 0, 0, 0, 0, 0, 0, 0, 0, 0, 0, 0, 0, 0, 0, 0, 0, 0, 0, 0, 0, 0, 0, 0, 0, 0, 0, 0, 0, 0, 0, 0, 0, 0, 0, 0, 0, 0, 0, 0, 0, 0, 0, 0, 0, 0, 0, 0, 0, 0, 0, 0, 0, 0, 0, 0, 0, 0, 0, 0, 0, 0, 0, 0, 0, 0, 0, 0, 0, 0, 0, 0, 0, 0, 0, 0, 0, 0, 0, 0, 0, 0, 0, 0, 0, 0, 0, 0, 0, 0, 0, 0, 0, 0, 0, 0, 0, 0, 0, 0, 0, 0, 0, 0, 0, 0, 0, 0, 0, 0, 0, 0, 0, 0, 0, 0, 0, 0, 0, 0, 0, 0, 0, 0, 0, 0, 0, 0, 0, 0, 0, 0, 0, 0, 0, 0, 0, 0, 0, 0, 0, 0, 0, 0, 0, 0, 0, 0, 0, 0, 0, 0, 0, 0, 0, 0, 0, 0, 0, 0, 0, 0, 0, 0, 0, 0, 0, 0, 0, 0, 0, 0, 0, 0, 0, 0, 0, 0, 0, 0, 0, 0, 0, 0, 0, 0, 0, 0, 0, 0, 0, 0, 0, 0, 0, 0, 0, 0, 0, 0, 0, 0, 0, 0, 0, 0, 0, 0, 0, 0, 0, 0, 0, 0, 0, 0, 0, 0, 0, 0, 0, 0, 0, 0, 0, 0, 0, 0, 0, 0, 0, 0, 0, 0, 0, 0, 0, 0, 0, 0, 0, 0, 0, 0, 0, 0, 0, 0, 0, 0, 0, 0, 0, 0, 0, 0, 0, 0, 0, 0, 0, 0, 0, 0, 0, 0, 0, 0, 0, 0, 0, 0, 0, 0, 0, 0, 0, 0, 0, 0, 0, 0, 0, 0, 0, 0, 0, 0, 0, 0, 0, 0, 0, 0, 0, 0, 0, 0, 0, 0, 0, 0, 0, 0, 0, 0, 0, 0, 0, 0, 0, 0, 0, 0, 0, 0, 0, 0, 0, 0, 0, 0, 0, 0, 0, 0, 0, 0, 0, 0, 0, 0, 0, 0, 0, 0, 0, 0, 0, 0, 0, 0, 0, 0, 0, 0, 0, 0, 0, 0, 0, 0, 0, 0, 0, 0, 0, 0, 0, 0, 0, 0, 0, 0, 0, 0, 0, 0, 0, 0, 0, 0, 0, 0, 0, 0, 0, 0, 0, 0, 0, 0, 0, 0, 0, 0, 0, 0, 0, 0, 0, 0, 0, 0, 0, 0, 0, 0, 0, 0, 0, 0, 0, 0, 0, 0, 0, 0, 0, 0, 0, 0, 0, 0, 0, 0, 0, 0, 0, 0, 0, 0, 0, 0, 0, 0, 0, 0, 0, 0, 0, 0, 0, 0, 0, 0, 0, 0, 0, 0, 0, 0, 0, 0, 0, 0, 0, 0, 0, 0, 0, 0, 0, 0, 0, 0, 0, 0, 0, 0, 0, 0, 0, 0, 0, 0, 0, 0, 0, 0, 0, 0, 0, 0, 0, 0, 0, 0, 0, 0, 0, 0, 0, 0, 0, 0, 0, 0, 0, 0, 0, 0, 0, 0, 0, 0, 0, 0, 0, 0, 0, 0, 0, 0, 0, 0, 0, 0, 0, 0, 0, 0, 0, 0, 0, 0, 0, 0, 0, 0, 0, 0, 0, 0, 0, 0, 0, 0, 0, 0, 0, 0, 0, 0, 0, 0, 0, 0, 0, 0, 0, 0, 0, 0, 0, 0, 0, 0, 0, 0, 0, 0, 0, 0, 0, 0, 0, 0, 0, 0, 0, 0, 0, 0, 0, 0, 0, 0, 0, 0, 0, 0, 0, 0, 0, 0, 0, 0, 0, 0, 0, 0, 0, 0, 0, 0, 0, 0, 0, 0, 0, 0, 0, 0, 0, 0, 0, 0, 0, 0, 0, 0, 0, 0, 0, 0, 0, 0, 0, 0, 0, 0, 0, 0, 0, 0, 0, 0, 0, 0, 0, 0, 0, 0, 0, 0, 0, 0, 0, 0, 0, 0, 0, 0, 0, 0, 0, 0, 0, 0, 0, 0, 0, 0, 0, 0, 0, 0, 0, 0, 0, 0, 0, 0, 0, 0, 0, 0, 0, 0, 0, 0, 0, 0, 0, 0, 0, 0, 0, 0, 0, 0, 0, 0, 0, 0, 0, 0, 0, 0, 0, 0, 0, 0, 0, 0, 0, 0, 0, 0, 0, 0, 0, 0, 0, 0, 0, 0, 0, 0, 0, 0, 0, 0, 0, 0, 0, 0, 0, 0, 0, 0, 0, 0, 0, 0, 0, 0, 0, 0, 0, 0, 0, 0, 0, 0, 0, 0, 0, 0, 0, 0, 0, 0, 0, 0, 0, 0, 0, 0, 0, 0, 0, 0, 0, 0, 0, 0, 0, 0, 0, 0, 0, 0, 0, 0, 0, 0, 0, 0, 0, 0, 0, 0, 0, 0, 0, 0, 0, 0, 0, 0, 0, 0, 0, 0, 0, 0, 0, 0, 0, 0, 0, 0, 0, 0, 0, 0, 0, 0, 0, 0, 0, 0, 0, 0, 0, 0, 0, 0, 0, 0, 0, 0, 0, 0, 0, 0, 0, 0, 0, 0, 0, 0, 0, 0, 0, 0, 0, 0, 0, 0, 0, 0, 0, 0, 0, 0, 0, 0, 0, 0, 0, 0, 0, 0, 0, 0, 0, 0, 0, 0, 0, 0, 0, 0, 0, 0, 0, 0, 0, 0, 0, 0, 0, 0, 0, 0, 0, 0, 0, 0, 0, 0, 0, 0, 0, 0, 0, 0, 0, 0, 0, 0, 0, 0, 0, 0, 0, 0, 0, 0, 0, 0, 0, 0, 0, 0, 0, 0, 0, 0, 0, 0, 0, 0, 0, 0, 0, 0, 0, 0, 0, 0, 0, 0, 0, 0, 0, 0, 0, 0, 0, 0, 0, 0, 0, 0, 0, 0, 0, 0, 0, 0, 0, 0, 0, 0, 0, 0, 0, 0, 0, 0, 0, 0, 0, 0, 0, 0, 0, 0, 0, 0, 0, 0, 0, 0, 0, 0, 0, 0, 0, 0, 0, 0, 0, 0, 0, 0, 0, 0, 0, 0, 0, 0, 0, 0, 0, 0, 0, 0, 0, 0, 0, 0, 0, 0, 0, 0, 0, 0, 0, 0, 0, 0, 0, 0, 0, 0, 0, 0, 0, 0, 0, 0, 0, 0, 0, 0, 0, 0, 0, 0, 0, 0, 0, 0, 0, 0, 0, 0, 0, 0, 0, 0, 0, 0, 0, 0, 0, 0, 0, 0, 0, 0, 0, 0, 0, 0, 0, 0, 0, 0, 0, 0, 0, 0, 0, 0, 0, 0, 0, 0, 0, 0, 0, 0, 0, 0, 0, 0, 0, 0, 0, 0, 0, 0, 0, 0, 0, 0, 0, 0, 0, 0, 0, 0, 0, 0, 0, 0, 0, 0, 0, 0, 0, 0, 0, 0, 0, 0, 0, 0, 0, 0, 0, 0, 0, 0, 0, 0, 0, 0, 0, 0, 0, 0, 0, 0, 0, 0, 0, 0, 0, 0, 0, 0, 0, 0, 0, 0, 0, 0, 0, 0, 0, 0, 0, 0, 0, 0, 0, 0, 0, 0, 0, 0, 0, 0, 0, 0, 0, 0, 0, 0, 0, 0, 0, 0, 0, 0, 0, 0, 0, 0, 0, 0, 0, 0, 0, 0, 0, 0, 0, 0, 0, 0, 0, 0, 0, 0, 0, 0, 0, 0, 0, 0, 0, 0, 0, 0, 0, 0, 0, 0, 0, 0, 0, 0, 0, 0, 0, 0, 0, 0, 0, 0, 0, 0, 0, 0, 0, 0, 0, 0, 0, 0, 0, 0, 0, 0, 0, 0, 0, 0, 0, 0, 0, 0, 0, 0, 0, 0, 0, 0, 0, 0, 0, 0, 0, 0, 0, 0, 0, 0, 0, 0, 0, 0, 0, 0, 0, 0, 0, 0, 0, 0, 0, 0, 0, 0, 0, 0, 0, 0, 0, 0, 0, 0, 0, 0, 0, 0, 0, 0, 0, 0, 0, 0, 0, 0, 0, 0, 0, 0, 0, 0, 0, 0, 0, 0, 0, 0, 0, 0, 0, 0, 0, 0, 0, 0, 0, 0, 0, 0, 0, 0, 0, 0, 0, 0, 0, 0, 0, 0, 0, 0, 0, 0, 0, 0, 0, 0, 0, 0, 0, 0, 0, 0, 0, 0, 0, 0, 0, 0, 0, 0, 0, 0, 0, 0, 0, 0, 0, 0, 0, 0, 0, 0, 0, 0, 0, 0, 0, 0, 0, 0, 0, 0, 0, 0, 0, 0, 0, 0, 0, 0, 0, 0, 0, 0, 0, 0, 0, 0, 0, 0, 0, 0, 0, 0, 0, 0, 0, 0, 0, 0, 0, 0, 0, 0, 0, 0, 0, 0, 0, 0, 0, 0, 0, 0, 0, 0, 0, 0, 0, 0, 0, 0, 0, 0, 0, 0, 0, 0, 0, 0, 0, 0, 0, 0, 0, 0, 0, 0, 0, 0, 0, 0, 0, 0, 0, 0, 0, 0, 0, 0, 0, 0, 0, 0, 0, 0, 0, 0, 0, 0, 0, 0, 0, 0, 0, 0, 0, 0, 0, 0, 0, 0, 0, 0, 0, 0, 0, 0, 0, 0, 0, 0, 0, 0, 0, 0, 0, 0, 0, 0, 0, 0, 0, 0, 0, 0, 0, 0, 0, 0, 0, 0, 0, 0, 0, 0, 0, 0, 0, 0, 0, 0, 0, 0, 0, 0, 0, 0, 0, 0, 0, 0, 0, 0, 0, 0, 0, 0, 0, 0, 0, 0, 0, 0, 0, 0, 0, 0, 0, 0, 0, 0, 0, 0, 0, 0, 0, 0, 0, 0, 0, 0, 0, 0, 0, 0, 0, 0, 0, 0, 0, 0, 0, 0, 0, 0, 0, 0, 0, 0, 0, 0, 0, 0, 0, 0, 0, 0, 0, 0, 0, 0, 0, 0, 0, 0, 0, 0, 0, 0, 0, 0, 0, 0, 0, 0, 0, 0, 0, 0, 0, 0, 0, 0, 0, 0, 0, 0, 0, 0, 0, 0, 0, 0, 0, 0, 0, 0, 0, 0, 0, 0, 0, 0, 0, 0, 0, 0, 0, 0, 0, 0, 0, 0, 0, 0, 0, 0, 0, 0, 0, 0, 0, 0, 0, 0, 0, 0, 0, 0, 0, 0, 0, 0, 0, 0, 0, 0, 0, 0, 0, 0, 0, 0, 0, 0, 0, 0, 0, 0, 0, 0, 0, 0, 0, 0, 0, 0, 0, 0, 0, 0, 0, 0, 0, 0, 0, 0, 0, 0, 0, 0, 0, 0, 0, 0, 0, 0, 0, 0, 0, 0, 0, 0, 0, 0, 0, 0, 0, 0, 0, 0, 0, 0, 0, 0, 0, 0, 0, 0, 0, 0, 0, 0, 0, 0, 0, 0, 0, 0, 0, 0, 0, 0, 0, 0, 0, 0, 0, 0, 0, 0, 0, 0, 0, 0, 0, 0, 0, 0, 0, 0, 0, 0, 0, 0, 0, 0, 0, 0, 0, 0, 0, 0, 0, 0, 0, 0, 0, 0, 0, 0, 0, 0, 0, 0, 0, 0, 0, 0, 0, 0, 0, 0, 0, 0, 0, 0, 0, 0, 0, 0, 0, 0, 0, 0, 0, 0, 0, 0, 0, 0, 0, 0, 0, 0, 0, 0, 0, 0, 0, 0, 0, 0, 0, 0, 0, 0, 0, 0, 0, 0, 0, 0, 0, 0, 0, 0, 0, 0, 0, 0, 0, 0, 0, 0, 0, 0, 0, 0, 0, 0, 0, 0, 0, 0, 0, 0, 0, 0, 0, 0, 0, 0, 0, 0, 0, 0, 0, 0, 0, 0, 0, 0, 0, 0, 0, 0, 0, 0, 0, 0, 0, 0, 0, 0, 0, 0, 0, 0, 0, 0, 0, 0, 0, 0, 0, 0, 0, 0, 0, 0, 0, 0, 0, 0, 0, 0, 0, 0, 0, 0, 0, 0, 0, 0, 0, 0, 0, 0, 0, 0, 0, 0, 0, 0, 0, 0, 0, 0, 0, 0, 0, 0, 0, 0, 0, 0, 0, 0, 0, 0, 0, 0, 0, 0, 0, 0, 0, 0, 0, 0, 0, 0, 0, 0, 0, 0, 0, 0, 0, 0, 0, 0, 0, 0, 0, 0, 0, 0, 0, 0, 0, 0, 0, 0, 0, 0, 0, 0, 0, 0, 0, 0, 0, 0, 0, 0, 0, 0, 0, 0, 0, 0, 0, 0, 0, 0, 0, 0, 0, 0, 0, 0, 0, 0, 0, 0, 0, 0, 0, 0, 0, 0, 0, 0, 0, 0, 0, 0, 0, 0, 0, 0, 0, 0, 0, 0, 0, 0, 0, 0, 0, 0, 0, 0, 0, 0, 0, 0, 0, 0, 0, 0, 0, 0, 0, 0, 0, 0, 0, 0, 0, 0, 0, 0, 0, 0, 0, 0, 0, 0, 0, 0, 0, 0, 0, 0, 0, 0, 0, 0, 0, 0, 0, 0, 0, 0, 0, 0, 0, 0, 0, 0, 0, 0, 0, 0, 0, 0, 0, 0, 0, 0, 0, 0, 0, 0, 0, 0, 0, 0, 0, 0, 0, 0, 0, 0, 0, 0, 0, 0, 0, 0, 0, 0, 0, 0, 0, 0, 0, 0, 0, 0, 0, 0, 0, 0, 0, 0, 0, 0, 0, 0, 0, 0, 0, 0, 0, 0, 0, 0, 0, 0, 0, 0, 0, 0, 0, 0, 0, 0, 0, 0, 0, 0, 0, 0, 0, 0, 0, 0, 0, 0, 0, 0, 0, 0, 0, 0, 0, 0, 0, 0, 0, 0, 0, 0, 0, 0, 0, 0, 0, 0, 0, 0, 0, 0, 0, 0, 0, 0, 0, 0, 0, 0, 0, 0, 0, 0, 0, 0, 0, 0, 0, 0, 0, 0, 0, 0, 0, 0, 0, 0, 0, 0, 0, 0, 0, 0, 0, 0, 0, 0, 0, 0, 0, 0, 0, 0, 0, 0, 0, 0, 0, 0, 0, 0, 0, 0, 0, 0, 0, 0, 0, 0, 0, 0, 0, 0, 0, 0, 0, 0, 0, 0, 0, 0, 0, 0, 0, 0, 0, 0, 0, 0, 0, 0, 0, 0, 0, 0, 0, 0, 0, 0, 0, 0, 0, 0, 0, 0, 0, 0, 0, 0, 0, 0, 0, 0, 0, 0, 0, 0, 0, 0, 0, 0, 0, 0, 0, 0, 0, 0, 0, 0, 0, 0, 0, 0, 0, 0, 0, 0, 0, 0, 0, 0, 0, 0, 0, 0, 0, 0, 0, 0, 0, 0, 0, 0, 0, 0, 0, 0, 0, 0, 0, 0, 0, 0, 0, 0, 0, 0, 0, 0, 0, 0, 0, 0, 0, 0, 0, 0, 0, 0, 0, 0, 0, 0, 0, 0, 0, 0, 0, 0, 0, 0, 0, 0, 0, 0, 0, 0, 0, 0, 0, 0, 0, 0, 0, 0, 0, 0, 0, 0, 0, 0, 0, 0, 0, 0, 0, 0, 0, 0, 0, 0, 0, 0, 0, 0, 0, 0, 0, 0, 0, 0, 0, 0, 0, 0, 0, 0, 0, 0, 0, 0, 0, 0, 0, 0, 0, 0, 0, 0, 0, 0, 0, 0, 0, 0, 0, 0, 0, 0, 0, 0, 0, 0, 0, 0, 0, 0, 0, 0, 0, 0, 0, 0, 0, 0, 0, 0, 0, 0, 0, 0, 0, 0, 0, 0, 0, 0, 0, 0, 0, 0, 0, 0, 0, 0, 0, 0, 0, 0, 0, 0, 0, 0, 0, 0, 0, 0, 0, 0, 0, 0, 0, 0, 0, 0, 0, 0, 0, 0, 0, 0, 0, 0, 0, 0, 0, 0, 0, 0, 0, 0, 0, 0, 0, 0, 0, 0, 0, 0, 0, 0, 0, 0, 0, 0, 0, 0, 0, 0, 0, 0, 0, 0, 0, 0, 0, 0, 0, 0, 0, 0, 0, 0, 0, 0, 0, 0, 0, 0, 0, 0, 0, 0, 0, 0, 0, 0, 0, 0, 0, 0, 0, 0, 0, 0, 0, 0, 0, 0, 0, 0, 0, 0, 0, 0, 0, 0, 0, 0, 0, 0, 0, 0, 0, 0, 0, 0, 0, 0, 0, 0, 0, 0, 0, 0, 0, 0, 0, 0, 0, 0, 0, 0, 0, 0, 0, 0, 0, 0, 0, 0, 0, 0, 0, 0, 0, 0, 0, 0, 0, 0, 0, 0, 0, 0, 0, 0, 0, 0, 0, 0, 0, 0, 0, 0, 0, 0, 0, 0, 0, 0, 0, 0, 0, 0, 0, 0, 0, 0, 0, 0, 0, 0, 0, 0, 0, 0, 0, 0, 0, 0, 0, 0, 0, 0, 0, 0, 0, 0, 0, 0, 0, 0, 0, 0, 0, 0, 0, 0, 0, 0, 0, 0, 0, 0, 0, 0, 0, 0, 0, 0, 0, 0, 0, 0, 0, 0, 0, 0, 0, 0, 0, 0, 0, 0, 0, 0, 0, 0, 0, 0, 0, 0, 0, 0, 0, 0, 0, 0, 0, 0, 0, 0, 0, 0, 0, 0, 0, 0, 0, 0, 0, 0, 0, 0, 0, 0, 0, 0, 0, 0, 0, 0, 0, 0, 0, 0, 0, 0, 0, 0, 0, 0, 0, 0, 0, 0, 0, 0, 0, 0, 0, 0, 0, 0, 0, 0, 0, 0, 0, 0, 0, 0, 0, 0, 0, 0, 0, 0, 0, 0, 0, 0, 0, 0, 0, 0, 0, 0, 0, 0, 0, 0, 0, 0, 0, 0, 0, 0, 0, 0, 0, 0, 0, 0, 0, 0, 0, 0, 0, 0, 0, 0, 0, 0, 0, 0, 0, 0, 0, 0, 0, 0, 0, 0, 0, 0, 0, 0, 0, 0, 0, 0, 0, 0, 0, 0, 0, 0, 0, 0, 0, 0, 0, 0, 0, 0, 0, 0, 0, 0, 0, 0, 0, 0, 0, 0, 0, 0, 0, 0, 0, 0, 0, 0, 0, 0, 0, 0, 0, 0, 0, 0, 0, 0, 0, 0, 0, 0, 0, 0, 0, 0, 0, 0, 0, 0, 0, 0, 0, 0, 0, 0, 0, 0, 0, 0, 0, 0, 0, 0, 0, 0, 0, 0, 0, 0, 0, 0, 0, 0, 0, 0, 0, 0, 0, 0, 0, 0, 0, 0, 0, 0, 0, 0, 0, 0, 0, 0, 0, 0, 0, 0, 0, 0, 0, 0, 0, 0, 0, 0, 0, 0, 0, 0, 0, 0, 0, 0, 0, 0, 0, 0, 0, 0, 0, 0, 0, 0, 0, 0, 0, 0, 0, 0, 0, 0, 0, 0, 0, 0, 0, 0, 0, 0, 0, 0, 0, 0, 0, 0, 0, 0, 0, 0, 0, 0, 0, 0, 0, 0, 0, 0, 0, 0, 0, 0, 0, 0, 0, 0, 0, 0, 0, 0, 0, 0, 0, 0, 0, 0, 0, 0, 0, 0, 0, 0, 0, 0, 0, 0, 0, 0, 0, 0, 0, 0, 0, 0, 0, 0, 0, 0, 0, 0, 0, 0, 0, 0, 0, 0, 0, 0, 0, 0, 0, 0, 0, 0, 0, 0, 0, 0, 0, 0, 0, 0, 0, 0, 0, 0, 0, 0, 0, 0, 0, 0, 0, 0, 0, 0, 0, 0, 0, 0, 0, 0, 0, 0, 0, 0, 0, 0, 0, 0, 0, 0, 0, 0, 0, 0, 0, 0, 0, 0, 0, 0, 0, 0, 0, 0, 0, 0, 0, 0, 0, 0, 0, 0, 0, 0, 0, 0, 0, 0, 0, 0, 0, 0, 0, 0, 0, 0, 0, 0, 0, 0, 0, 0, 0, 0, 0, 0, 0, 0, 0, 0, 0, 0, 0, 0, 0, 0, 0, 0, 0, 0, 0, 0, 0, 0, 0, 0, 0, 0, 0, 0, 0, 0, 0, 0, 0, 0, 0, 0, 0, 0, 0, 0, 0, 0, 0, 0, 0, 0, 0, 0, 0, 0, 0, 0, 0, 0, 0, 0, 0, 0, 0, 0, 0, 0, 0, 0, 0, 0, 0, 0, 0, 0, 0, 0, 0, 0, 0, 0, 0, 0, 0, 0, 0, 0, 0, 0, 0, 0, 0, 0, 0, 0, 0, 0, 0, 0, 0, 0, 0, 0, 0, 0, 0, 0, 0, 0, 0, 0, 0, 0, 0, 0, 0, 0, 0, 0, 0, 0, 0, 0, 0, 0, 0, 0, 0, 0, 0, 0, 0, 0, 0, 0, 0, 0, 0, 0, 0, 0, 0, 0, 0, 0, 0, 0, 0, 0, 0, 0, 0, 0, 0, 0, 0, 0, 0, 0, 0, 0, 0, 0, 0, 0, 0, 0, 0, 0, 0, 0, 0, 0, 0, 0, 0, 0, 0, 0, 0, 0, 0, 0, 0, 0, 0, 0, 0, 0, 0, 0, 0, 0, 0, 0, 0, 0, 0, 0, 0, 0, 0, 0, 0, 0, 0, 0, 0, 0, 0, 0, 0, 0, 0, 0, 0, 0, 0, 0, 0, 0, 0, 0, 0, 0, 0, 0, 0, 0, 0, 0, 0, 0, 0, 0, 0, 0, 0, 0, 0, 0, 0, 0, 0, 0, 0, 0, 0, 0, 0, 0, 0, 0, 0, 0, 0, 0, 0, 0, 0, 0, 0, 0, 0, 0, 0, 0, 0, 0, 0, 0, 0, 0, 0, 0, 0, 0, 0, 0, 0, 0, 0, 0, 0, 0, 0, 0, 0, 0, 0, 0, 0, 0, 0, 0, 0, 0, 0, 0, 0, 0, 0, 0, 0, 0, 0, 0, 0, 0, 0, 0, 0, 0, 0, 0, 0, 0, 0, 0, 0, 0, 0, 0, 0, 0, 0, 0, 0, 0, 0, 0, 0, 0, 0, 0, 0, 0, 0, 0, 0, 0, 0, 0, 0, 0, 0, 0, 0, 0, 0, 0, 0, 0, 0, 0, 0, 0, 0, 0, 0, 0, 0, 0, 0, 0, 0, 0, 0, 0, 0, 0, 0, 0, 0, 0, 0, 0, 0, 0, 0, 0, 0, 0, 0, 0, 0, 0, 0, 0, 0, 0, 0, 0, 0, 0, 0, 0, 0, 0, 0, 0, 0, 0, 0, 0, 0, 0, 0, 0, 0, 0, 0, 0, 0, 0, 0, 0, 0, 0, 0, 0, 0, 0, 0, 0, 0, 0, 0, 0, 0, 0, 0, 0, 0, 0, 0, 0, 0, 0, 0, 0, 0, 0, 0, 0, 0, 0, 0, 0, 0, 0, 0, 0, 0, 0, 0, 0, 0, 0, 0, 0, 0, 0, 0, 0, 0, 0, 0, 0, 0, 0, 0, 0, 0, 0, 0, 0, 0, 0, 0, 0, 0, 0, 0, 0, 0, 0, 0, 0, 0, 0, 0, 0, 0, 0, 0, 0, 0, 0, 0, 0, 0, 0, 0, 0, 0, 0, 0, 0, 0, 0, 0, 0, 0, 0, 0, 0, 0, 0, 0, 0, 0, 0, 0, 0, 0, 0, 0, 0, 0, 0, 0, 0, 0, 0, 0, 0, 0, 0, 0, 0, 0, 0, 0, 0, 0, 0, 0, 0, 0, 0, 0, 0, 0, 0, 0, 0, 0, 0, 0, 0, 0, 0, 0, 0, 0, 0, 0, 0, 0, 0, 0, 0, 0, 0, 0, 0, 0, 0, 0, 0, 0, 0, 0, 0, 0, 0, 0, 0, 0, 0, 0, 0, 0, 0, 0, 0, 0, 0, 0, 0, 0, 0, 0, 0, 0, 0, 0, 0, 0, 0, 0, 0, 0, 0, 0, 0, 0, 0, 0, 0, 0, 0, 0, 0, 0, 0, 0, 0, 0, 0, 0, 0, 0, 0, 0, 0, 0, 0, 0, 0, 0, 0, 0, 0, 0, 0, 0, 0, 0, 0, 0, 0, 0, 0, 0, 0, 0, 0, 0, 0, 0, 0, 0, 0, 0, 0, 0, 0, 0, 0, 0, 0, 0, 0, 0, 0, 0, 0, 0, 0, 0, 0, 0, 0, 0, 0, 0, 0, 0, 0, 0, 0, 0, 0, 0, 0, 0, 0, 0, 0, 0, 0, 0, 0, 0, 0, 0, 0, 0, 0, 0, 0, 0, 0, 0, 0, 0, 0, 0, 0, 0, 0, 0, 0, 0, 0, 0, 0, 0, 0, 0, 0, 0, 0, 0, 0, 0, 0, 0, 0, 0, 0, 0, 0, 0, 0, 0, 0, 0, 0, 0, 0, 0, 0, 0, 0, 0, 0, 0, 0, 0, 0, 0, 0, 0, 0, 0, 0, 0, 0, 0, 0, 0, 0, 0, 0, 0, 0, 0, 0, 0, 0, 0, 0, 0, 0, 0, 0, 0, 0, 0, 0, 0, 0, 0, 0, 0, 0, 0, 0, 0, 0, 0, 0, 0, 0, 0, 0, 0, 0, 0, 0, 0, 0, 0, 0, 0, 0, 0, 0, 0, 0, 0, 0, 0, 0, 0, 0, 0, 0, 0, 0, 0, 0, 0, 0, 0, 0, 0, 0, 0, 0, 0, 0, 0, 0, 0, 0, 0, 0, 0, 0, 0, 0, 0, 0, 0, 0, 0, 0, 0, 0, 0, 0, 0, 0, 0, 0, 0, 0, 0, 0, 0, 0, 0, 0, 0, 0, 0, 0, 0, 0, 0, 0, 0, 0, 0, 0, 0, 0, 0, 0, 0, 0, 0, 0, 0, 0, 0, 0, 0, 0, 0, 0, 0, 0, 0, 0, 0, 0, 0, 0, 0, 0, 0, 0, 0, 0, 0, 0, 0, 0, 0, 0, 0, 0, 0, 0, 0, 0, 0, 0, 0, 0, 0, 0, 0, 0, 0, 0, 0, 0, 0, 0, 0, 0, 0, 0, 0, 0, 0, 0, 0, 0, 0, 0, 0, 0, 0, 0, 0, 0, 0, 0, 0, 0, 0, 0, 0, 0, 0, 0, 0, 0, 0, 0, 0, 0, 0, 0, 0, 0, 0, 0, 0, 0, 0, 0, 0, 0, 0, 0, 0, 0, 0, 0, 0, 0, 0, 0, 0, 0, 0, 0, 0, 0, 0, 0, 0, 0, 0, 0, 0, 0, 0, 0, 0, 0, 0, 0, 0, 0, 0, 0, 0, 0, 0, 0, 0, 0, 0, 0, 0, 0, 0, 0, 0, 0, 0, 0, 0, 0, 0, 0, 0, 0, 0, 0, 0, 0, 0, 0, 0, 0, 0, 0, 0, 0, 0, 0, 0, 0, 0, 0, 0, 0, 0, 0, 0, 0, 0, 0, 0, 0, 0, 0, 0, 0, 0, 0, 0, 0, 0, 0, 0, 0, 0, 0, 0, 0, 0, 0, 0, 0, 0, 0, 0, 0, 0, 0, 0, 0, 0, 0, 0, 0, 0, 0, 0, 0, 0, 0, 0, 0, 0, 0, 0, 0, 0, 0, 0, 0, 0, 0, 0, 0, 0, 0, 0, 0, 0, 0, 0, 0, 0, 0, 0, 0, 0, 0, 0, 0, 0, 0, 0, 0, 0, 0, 0, 0, 0, 0, 0, 0, 0, 0, 0, 0, 0, 0, 0, 0, 0, 0, 0, 0, 0, 0, 0, 0, 0, 0, 0, 0, 0, 0, 0, 0, 0, 0, 0, 0, 0, 0, 0, 0, 0, 0, 0, 0, 0, 0, 0, 0, 0, 0, 0, 0, 0, 0, 0, 0, 0, 0, 0, 0, 0, 0, 0, 0, 0, 0, 0, 0, 0, 0, 0, 0, 0, 0, 0, 0, 0, 0, 0, 0, 0, 0, 0, 0, 0, 0, 0, 0, 0, 0, 0, 0, 0, 0, 0, 0, 0, 0, 0, 0, 0, 0, 0, 0, 0, 0, 0, 0, 0, 0, 0, 0, 0, 0, 0, 0, 0, 0, 0, 0, 0, 0, 0, 0, 0, 0, 0, 0, 0, 0, 0, 0, 0, 0, 0, 0, 0, 0, 0, 0, 0, 0, 0, 0, 0, 0, 0, 0, 0, 0, 0, 0, 0, 0, 0, 0, 0, 0, 0, 0, 0, 0, 0, 0, 0, 0, 0, 0, 0, 0, 0, 0, 0, 0, 0, 0, 0, 0, 0, 0, 0, 0, 0, 0, 0, 0, 0, 0, 0, 0, 0, 0, 0, 0, 0, 0, 0, 0, 0, 0, 0, 0, 0, 0, 0, 0, 0, 0, 0, 0, 0, 0, 0, 0, 0, 0, 0, 0, 0, 0, 0, 0, 0, 0, 0, 0, 0, 0, 0, 0, 0, 0, 0, 0, 0, 0, 0, 0, 0, 0, 0, 0, 0, 0, 0, 0, 0, 0, 0, 0, 0, 0, 0, 0, 0, 0, 0, 0, 0, 0, 0, 0, 0, 0, 0, 0, 0, 0, 0, 0, 0, 0, 0, 0, 0, 0, 0, 0, 0, 0, 0, 0, 0, 0, 0, 0, 0, 0, 0, 0, 0, 0, 0, 0, 0, 0, 0, 0, 0, 0, 0, 0, 0, 0, 0, 0, 0, 0, 0, 0, 0, 0, 0, 0, 0, 0, 0, 0, 0, 0, 0, 0, 0, 0, 0, 0, 0, 0, 0, 0, 0, 0, 0, 0, 0, 0, 0, 0, 0, 0, 0, 0, 0, 0, 0, 0, 0, 0, 0, 0, 0, 0, 0, 0, 0, 0, 0, 0, 0, 0, 0, 0, 0, 0, 0, 0, 0, 0, 0, 0, 0, 0, 0, 0, 0, 0, 0, 0, 0, 0, 0, 0, 0, 0, 0, 0, 0, 0, 0, 0, 0, 0, 0, 0, 0, 0, 0, 0, 0, 0, 0, 0, 0, 0, 0, 0, 0, 0, 0, 0, 0, 0, 0, 0, 0, 0, 0, 0, 0, 0, 0, 0, 0, 0, 0, 0, 0, 0, 0, 0, 0, 0, 0, 0, 0, 0, 0, 0, 0, 0, 0, 0, 0, 0, 0, 0, 0, 0, 0, 0, 0, 0, 0, 0, 0, 0, 0, 0, 0, 0, 0, 0, 0, 0, 0, 0, 0, 0, 0, 0, 0, 0, 0, 0, 0, 0, 0, 0, 0, 0, 0, 0, 0, 0, 0, 0, 0, 0, 0, 0, 0, 0, 0, 0, 0, 0, 0, 0, 0, 0, 0, 0, 0, 0, 0, 0, 0, 0, 0, 0, 0, 0, 0, 0, 0, 0, 0, 0, 0, 0, 0, 0, 0, 0, 0, 0, 0, 0, 0, 0, 0, 0, 0, 0, 0, 0, 0, 0, 0, 0, 0, 0, 0, 0, 0, 0, 0, 0, 0, 0, 0, 0, 0, 0, 0, 0, 0, 0, 0, 0, 0, 0, 0, 0, 0, 0, 0, 0, 0, 0, 0, 0, 0, 0, 0, 0, 0, 0, 0, 0, 0, 0, 0, 0, 0, 0, 0, 0, 0, 0, 0, 0, 0, 0, 0, 0, 0, 0, 0, 0, 0, 0, 0, 0, 0, 0, 0, 0, 0, 0, 0, 0, 0, 0, 0, 0, 0, 0, 0, 0, 0, 0, 0, 0, 0, 0, 0, 0, 0, 0, 0, 0, 0, 0, 0, 0, 0, 0, 0, 0, 0, 0, 0, 0, 0, 0, 0, 0, 0, 0, 0, 0, 0, 0, 0, 0, 0, 0, 0, 0, 0, 0, 0, 0, 0, 0, 0, 0, 0, 0, 0, 0, 0, 0, 0, 0, 0, 0, 0, 0, 0, 0, 0, 0, 0, 0, 0, 0, 0, 0, 0, 0, 0, 0, 0, 0, 0, 0, 0, 0, 0, 0, 0, 0, 0, 0, 0, 0, 0, 0, 0, 0, 0, 0, 0, 0, 0, 0, 0, 0, 0, 0, 0, 0, 0, 0, 0, 0, 0, 0, 0, 0, 0, 0, 0, 0, 0, 0, 0, 0, 0, 0, 0, 0, 0, 0, 0, 0, 0, 0, 0, 0, 0, 0, 0, 0, 0, 0, 0, 0, 0, 0, 0, 0, 0, 0, 0, 0, 0, 0, 0, 0, 0, 0, 0, 0, 0, 0, 0, 0, 0, 0, 0, 0, 0, 0, 0, 0, 0, 0, 0, 0, 0, 0, 0, 0, 0, 0, 0, 0, 0, 0, 0, 0, 0, 0, 0, 0, 0, 0, 0, 0, 0, 0, 0, 0, 0, 0, 0, 0, 0, 0, 0, 0, 0, 0, 0, 0, 0, 0, 0, 0, 0, 0, 0, 0, 0, 0, 0, 0, 0, 0, 0, 0, 0, 0, 0, 0, 0, 0, 0, 0, 0, 0, 0, 0, 0, 0, 0, 0, 0, 0, 0, 0, 0, 0, 0, 0, 0, 0, 0, 0, 0, 0, 0, 0, 0, 0, 0, 0, 0, 0, 0, 0, 0, 0, 0, 0, 0, 0, 0, 0, 0, 0, 0, 0, 0, 0, 0, 0, 0, 0, 0, 0, 0, 0, 0, 0, 0, 0, 0, 0, 0, 0, 0, 0, 0, 0, 0, 0, 0, 0, 0, 0, 0, 0, 0, 0, 0, 0, 0, 0, 0, 0, 0, 0, 0, 0, 0, 0, 0, 0, 0, 0, 0, 0, 0, 0, 0, 0, 0, 0, 0, 0, 0, 0, 0, 0, 0, 0, 0, 0, 0, 0, 0, 0, 0, 0, 0, 0, 0, 0, 0, 0, 0, 0, 0, 0, 0, 0, 0, 0, 0, 0, 0, 0, 0, 0, 0, 0, 0, 0, 0, 0, 0, 0, 0, 0, 0, 0, 0, 0, 0, 0, 0, 0, 0, 0, 0, 0, 0, 0, 0, 0, 0, 0, 0, 0, 0, 0, 0, 0, 0, 0, 0, 0, 0, 0, 0, 0, 0, 0, 0, 0, 0, 0, 0, 0, 0, 0, 0, 0, 0, 0, 0, 0, 0, 0, 0, 0, 0, 0, 0, 0, 0, 0, 0, 0, 0, 0, 0, 0, 0, 0, 0, 0, 0, 0, 0, 0, 0, 0, 0, 0, 0, 0, 0, 0, 0, 0, 0, 0, 0, 0, 0, 0, 0, 0, 0, 0, 0, 0, 0, 0, 0, 0, 0, 0, 0, 0, 0, 0, 0, 0, 0, 0, 0, 0, 0, 0, 0, 0, 0, 0, 0, 0, 0, 0, 0, 0, 0, 0, 0, 0, 0, 0, 0, 0, 0, 0, 0, 0, 0, 0, 0, 0, 0, 0, 0, 0, 0, 0, 0, 0, 0, 0, 0, 0, 0, 0, 0, 0, 0, 0, 0, 0, 0, 0, 0, 0, 0, 0, 0, 0, 0, 0, 0, 0, 0, 0, 0, 0, 0, 0, 0, 0, 0, 0, 0, 0, 0, 0, 0, 0, 0, 0, 0, 0, 0, 0, 0, 0, 0, 0, 0, 0, 0, 0, 0, 0, 0, 0, 0, 0, 0, 0, 0, 0, 0, 0, 0, 0, 0, 0, 0, 0, 0, 0, 0, 0, 0, 0, 0, 0, 0, 0, 0, 0, 0, 0, 0, 0, 0, 0, 0, 0, 0, 0, 0, 0, 0, 0, 0, 0, 0, 0, 0, 0, 0, 0, 0, 0, 0, 0, 0, 0, 0, 0, 0, 0, 0, 0, 0, 0, 0, 0, 0, 0, 0, 0, 0, 0, 0, 0, 0, 0, 0, 0, 0, 0, 0, 0, 0, 0, 0, 0, 0, 0, 0, 0, 0, 0, 0, 0, 0, 0, 0, 0, 0, 0, 0, 0, 0, 0, 0, 0, 0, 0, 0, 0, 0, 0, 0, 0, 0, 0, 0, 0, 0, 0, 0, 0, 0, 0, 0, 0, 0, 0, 0, 0, 0, 0, 0, 0, 0, 0, 0, 0, 0, 0, 0, 0, 0, 0, 0, 0, 0, 0, 0, 0, 0, 0, 0, 0, 0, 0, 0, 0, 0, 0, 0, 0, 0, 0, 0, 0, 0, 0, 0, 0, 0, 0, 0, 0, 0, 0, 0, 0, 0, 0, 0, 0, 0, 0, 0, 0, 0, 0, 0, 0, 0, 0, 0, 0, 0, 0, 0, 0, 0, 0, 0, 0, 0, 0, 0, 0, 0, 0, 0, 0, 0, 0, 0, 0, 0, 0, 0, 0, 0, 0, 0, 0, 0, 0, 0, 0, 0, 0, 0, 0, 0, 0, 0, 0, 0, 0, 0, 0, 0, 0, 0, 0, 0, 0, 0, 0, 0, 0, 0, 0, 0, 0, 0, 0, 0, 0, 0, 0, 0, 0, 0, 0, 0, 0, 0, 0, 0, 0, 0, 0, 0, 0, 0, 0, 0, 0, 0, 0, 0, 0, 0, 0, 0, 0, 0, 0, 0, 0, 0, 0, 0, 0, 0, 0, 0, 0, 0, 0, 0, 0, 0, 0, 0, 0, 0, 0, 0, 0, 0, 0, 0, 0, 0, 0, 0, 0, 0, 0, 0, 0, 0, 0, 0, 0, 0, 0, 0, 0, 0, 0, 0, 0, 0, 0, 0, 0, 0, 0, 0, 0, 0, 0, 0, 0, 0, 0, 0, 0, 0, 0, 0, 0, 0, 0, 0, 0, 0, 0, 0, 0, 0, 0, 0, 0, 0, 0, 0, 0, 0, 0, 0, 0, 0, 0, 0, 0, 0, 0, 0, 0, 0, 0, 0, 0, 0, 0, 0, 0, 0, 0, 0, 0, 0, 0, 0, 0, 0, 0, 0, 0, 0, 0, 0, 0, 0, 0, 0, 0, 0, 0, 0, 0, 0, 0, 0, 0, 0, 0, 0, 0, 0, 0, 0, 0, 0, 0, 0, 0, 0, 0, 0, 0, 0, 0, 0, 0, 0, 0, 0, 0, 0, 0, 0, 0, 0, 0, 0, 0, 0, 0, 0, 0, 0, 0, 0, 0, 0, 0, 0, 0, 0, 0, 0, 0, 0, 0, 0, 0, 0, 0, 0, 0, 0, 0, 0, 0, 0, 0, 0, 0, 0, 0, 0, 0, 0, 0, 0, 0, 0, 0, 0, 0, 0, 0, 0, 0, 0, 0, 0, 0, 0, 0, 0, 0, 0, 0, 0, 0, 0, 0, 0, 0, 0, 0, 0, 0, 0, 0, 0, 0, 0, 0, 0, 0, 0, 0, 0, 0, 0, 0, 0, 0, 0, 0, 0, 0, 0, 0, 0, 0, 0, 0, 0, 0, 0, 0, 0, 0, 0, 0, 0, 0, 0, 0, 0, 0, 0, 0, 0, 0, 0, 0, 0, 0, 0, 0, 0, 0, 0, 0, 0, 0, 0, 0, 0, 0, 0, 0, 0, 0, 0, 0, 0, 0, 0, 0, 0, 0, 0, 0, 0, 0, 0, 0, 0, 0, 0, 0, 0, 0, 0, 0, 0, 0, 0, 0, 0, 0, 0, 0, 0, 0, 0, 0, 0, 0, 0, 0, 0, 0, 0, 0, 0, 0, 0, 0, 0, 0, 0, 0, 0, 0, 0, 0, 0, 0, 0, 0, 0, 0, 0, 0, 0, 0, 0, 0, 0, 0, 0, 0, 0, 0, 0, 0, 0, 0, 0, 0, 0, 0, 0, 0, 0, 0, 0, 0, 0, 0, 0, 0, 0, 0, 0, 0, 0, 0, 0, 0, 0, 0, 0, 0, 0, 0, 0, 0, 0, 0, 0, 0, 0, 0, 0, 0, 0, 0, 0, 0, 0, 0, 0, 0, 0, 0, 0, 0, 0, 0, 0, 0, 0, 0, 0, 0, 0, 0, 0, 0, 0, 0, 0, 0, 0, 0, 0, 0, 0, 0, 0, 0, 0, 0, 0, 0, 0, 0, 0, 0, 0, 0, 0, 0, 0, 0, 0, 0, 0, 0, 0, 0, 0, 0, 0, 0, 0, 0, 0, 0, 0, 0, 0, 0, 0, 0, 0, 0, 0, 0, 0, 0, 0, 0, 0, 0, 0, 0, 0, 0, 0, 0, 0, 0, 0, 0, 0, 0, 0, 0, 0, 0, 0, 0, 0, 0, 0, 0, 0, 0, 0, 0, 0, 0, 0, 0, 0, 0, 0, 0, 0, 0, 0, 0, 0, 0, 0, 0, 0, 0, 0, 0, 0, 0, 0, 0, 0, 0, 0, 0, 0, 0, 0, 0, 0, 0, 0, 0, 0, 0, 0, 0, 0, 0, 0, 0, 0, 0, 0, 0, 0, 0, 0, 0, 0, 0, 0, 0, 0, 0, 0, 0, 0, 0, 0, 0, 0, 0, 0, 0, 0, 0, 0, 0, 0, 0, 0, 0, 0, 0, 0, 0, 0, 0, 0, 0, 0, 0, 0, 0, 0, 0, 0, 0, 0, 0, 0, 0, 0, 0, 0, 0, 0, 0, 0, 0, 0, 0, 0, 0, 0, 0, 0, 0, 0, 0, 0, 0, 0, 0, 0, 0, 0, 0, 0, 0, 0, 0, 0, 0, 0, 0, 0, 0, 0, 0, 0, 0, 0, 0, 0, 0, 0, 0, 0, 0, 0, 0, 0, 0, 0, 0, 0, 0, 0, 0, 0, 0, 0, 0, 0, 0, 0, 0, 0, 0, 0, 0, 0, 0, 0, 0, 0, 0, 0, 0, 0, 0, 0, 0, 0, 0, 0, 0, 0, 0, 0, 0, 0, 0, 0, 0, 0, 0, 0, 0, 0, 0, 0, 0, 0, 0, 0, 0, 0, 0, 0, 0, 0, 0, 0, 0, 0, 0, 0, 0, 0, 0, 0, 0, 0, 0, 0, 0, 0, 0, 0, 0, 0, 0, 0, 0, 0, 0, 0, 0, 0, 0, 0, 0, 0, 0, 0, 0, 0, 0, 0, 0, 0, 0, 0, 0, 0, 0, 0, 0, 0, 0, 0, 0, 0, 0, 0, 0, 0, 0, 0, 0, 0, 0, 0, 0, 0, 0, 0, 0, 0, 0, 0, 0, 0, 0, 0, 0, 0, 0, 0, 0, 0, 0, 0, 0, 0, 0, 0, 0, 0, 0, 0, 0, 0, 0, 0, 0, 0, 0, 0, 0, 0, 0, 0, 0, 0, 0, 0, 0, 0, 0, 0, 0, 0, 0, 0, 0, 0, 0, 0, 0, 0, 0, 0, 0, 0, 0, 0, 0, 0, 0, 0, 0, 0, 0, 0, 0, 0, 0, 0, 0, 0, 0, 0, 0, 0, 0, 0, 0, 0, 0, 0, 0, 0, 0, 0, 0, 0, 0, 0, 0, 0, 0, 0, 0, 0, 0, 0, 0, 0, 0, 0, 0, 0, 0, 0, 0, 0, 0, 0, 0, 0, 0, 0, 0, 0, 0, 0, 0, 0, 0, 0, 0, 0, 0, 0, 0, 0, 0, 0, 0, 0, 0, 0, 0, 0, 0, 0, 0, 0, 0, 0, 0, 0, 0, 0, 0, 0, 0, 0, 0, 0, 0, 0, 0, 0, 0, 0, 0, 0, 0, 0, 0, 0, 0, 0, 0, 0, 0, 0, 0, 0, 0, 0, 0, 0, 0, 0, 0, 0, 0, 0, 0, 0, 0, 0, 0, 0, 0, 0, 0, 0, 0, 0, 0, 0, 0, 0, 0, 0, 0, 0, 0, 0, 0, 0, 0, 0, 0, 0, 0, 0, 0, 0, 0, 0, 0, 0, 0, 0, 0, 0, 0, 0, 0, 0, 0, 0, 0, 0, 0, 0, 0, 0, 0, 0, 0, 0, 0, 0, 0, 0, 0, 0, 0, 0, 0, 0, 0, 0, 0, 0, 0, 0, 0, 0, 0, 0, 0, 0, 0, 0, 0, 0, 0, 0, 0, 0, 0, 0, 0, 0, 0, 0, 0, 0, 0, 0, 0, 0, 0, 0, 0, 0, 0, 0, 0, 0, 0, 0, 0, 0, 0, 0, 0, 0, 0, 0, 0, 0, 0, 0, 0, 0, 0, 0, 0, 0, 0, 0, 0, 0, 0, 0, 0, 0, 0, 0, 0, 0, 0, 0, 0, 0, 0, 0, 0, 0, 0, 0, 0, 0, 0, 0, 0, 0, 0, 0, 0, 0, 0, 0, 0, 0, 0, 0, 0, 0, 0, 0, 0, 0, 0, 0, 0, 0, 0, 0, 0, 0, 0, 0, 0, 0, 0, 0, 0, 0, 0, 0, 0, 0, 0, 0, 0, 0, 0, 0, 0, 0, 0, 0, 0, 0, 0, 0, 0, 0, 0, 0, 0, 0, 0, 0, 0, 0, 0, 0, 0, 0, 0, 0, 0, 0, 0, 0, 0, 0, 0, 0, 0, 0, 0, 0, 0, 0, 0, 0, 0, 0, 0, 0, 0, 0, 0, 0, 0, 0, 0, 0, 0, 0, 0, 0, 0, 0, 0, 0, 0, 0, 0, 0, 0, 0, 0, 0, 0, 0, 0, 0, 0, 0, 0, 0, 0, 0, 0, 0, 0, 0, 0, 0, 0, 0, 0, 0, 0, 0, 0, 0, 0, 0, 0, 0, 0, 0, 0, 0, 0, 0, 0, 0, 0, 0, 0, 0, 0, 0, 0, 0, 0, 0, 0, 0, 0, 0, 0, 0, 0, 0, 0, 0, 0, 0, 0, 0, 0, 0, 0, 0, 0, 0, 0, 0, 0, 0, 0, 0, 0, 0, 0, 0, 0, 0, 0, 0, 0, 0, 0, 0, 0, 0, 0, 0, 0, 0, 0, 0, 0, 0, 0, 0, 0, 0, 0, 0, 0, 0, 0, 0, 0, 0, 0, 0, 0, 0, 0, 0, 0, 0, 0, 0, 0, 0, 0, 0, 0, 0, 0, 0, 0, 0, 0, 0, 0, 0, 0, 0, 0, 0, 0, 0, 0, 0, 0, 0, 0, 0, 0, 0, 0, 0, 0, 0, 0, 0, 0, 0, 0, 0, 0, 0, 0, 0, 0, 0, 0, 0, 0, 0, 0, 0, 0, 0, 0, 0, 0, 0, 0, 0, 0, 0, 0, 0, 0, 0, 0, 0, 0, 0, 0, 0, 0, 0, 0, 0, 0, 0, 0, 0, 0, 0, 0, 0, 0, 0, 0, 0, 0, 0, 0, 0, 0, 0, 0, 0, 0, 0, 0, 0, 0, 0, 0, 0, 0, 0, 0, 0, 0, 0, 0, 0, 0, 0, 0, 0, 0, 0, 0, 0, 0, 0, 0, 0, 0, 0, 0, 0, 0, 0, 0, 0, 0, 0, 0, 0, 0, 0, 0, 0, 0, 0, 0, 0, 0, 0, 0, 0, 0, 0, 0, 0, 0, 0, 0, 0, 0, 0, 0, 0, 0, 0, 0, 0, 0, 0, 0, 0, 0, 0, 0, 0, 0, 0, 0, 0, 0, 0, 0, 0, 0, 0, 0, 0, 0, 0, 0, 0, 0, 0, 0, 0, 0, 0, 0, 0, 0, 0, 0, 0, 0, 0, 0, 0, 0, 0, 0, 0, 0, 0, 0, 0, 0, 0, 0, 0, 0, 0, 0, 0, 0, 0, 0, 0, 0, 0, 0, 0, 0, 0, 0, 0, 0, 0, 0, 0, 0, 0, 0, 0, 0, 0, 0, 0, 0, 0, 0, 0, 0, 0, 0, 0, 0, 0, 0, 0, 0, 0, 0, 0, 0, 0, 0, 0, 0, 0, 0, 0, 0, 0, 0, 0, 0, 0, 0, 0, 0, 0, 0, 0, 0, 0, 0, 0, 0, 0, 0, 0, 0, 0, 0, 0, 0, 0, 0, 0, 0, 0, 0, 0, 0, 0, 0, 0, 0, 0, 0, 0, 0, 0, 0, 0, 0, 0, 0, 0, 0, 0, 0, 0, 0, 0, 0, 0, 0, 0, 0, 0, 0, 0, 0, 0, 0, 0, 0, 0, 0, 0, 0, 0, 0, 0, 0, 0, 0, 0, 0, 0, 0, 0, 0, 0, 0, 0, 0, 0, 0, 0, 0, 0, 0, 0, 0, 0, 0, 0, 0, 0, 0, 0, 0, 0, 0, 0, 0, 0, 0, 0, 0, 0, 0, 0, 0, 0, 0, 0, 0, 0, 0, 0, 0, 0, 0, 0, 0, 0, 0, 0, 0, 0, 0, 0, 0, 0, 0, 0, 0, 0, 0, 0, 0, 0, 0, 0, 0, 0, 0, 0, 0, 0, 0, 0, 0, 0, 0, 0, 0, 0, 0, 0, 0, 0, 0, 0, 0, 0, 0, 0, 0, 0, 0, 0, 0, 0, 0, 0, 0, 0, 0, 0, 0, 0, 0, 0, 0, 0, 0, 0, 0, 0, 0, 0, 0, 0, 0, 0, 0, 0, 0, 0, 0, 0, 0, 0, 0, 0, 0, 0, 0, 0, 0, 0, 0, 0, 0, 0, 0, 0, 0, 0, 0, 0, 0, 0, 0, 0, 0, 0, 0, 0, 0, 0, 0, 0, 0, 0, 0, 0, 0, 0, 0, 0, 0, 0, 0, 0, 0, 0, 0, 0, 0, 0, 0, 0, 0, 0, 0, 0, 0, 0, 0, 0, 0, 0, 0, 0, 0, 0, 0, 0, 0, 0, 0, 0, 0, 0, 0, 0, 0, 0, 0, 0, 0, 0, 0, 0, 0, 0, 0, 0, 0, 0, 0, 0, 0, 0, 0, 0, 0, 0, 0, 0, 0, 0, 0, 0, 0, 0, 0, 0, 0, 0, 0, 0, 0, 0, 0, 0, 0, 0, 0, 0, 0, 0, 0, 0, 0, 0, 0, 0, 0, 0, 0, 0, 0, 0, 0, 0, 0, 0, 0, 0, 0, 0, 0, 0, 0, 0, 0, 0, 0, 0, 0, 0, 0, 0, 0, 0, 0, 0, 0, 0, 0, 0, 0, 0, 0, 0, 0, 0, 0, 0, 0, 0, 0, 0, 0, 0, 0, 0, 0, 0, 0, 0, 0, 0, 0, 0, 0, 0, 0, 0, 0, 0, 0, 0, 0, 0, 0, 0, 0, 0, 0, 0, 0, 0, 0, 0, 0, 0, 0, 0, 0, 0, 0, 0, 0, 0, 0, 0, 0, 0, 0, 0, 0, 0, 0, 0, 0, 0, 0, 0, 0, 0, 0, 0, 0, 0, 0, 0, 0, 0, 0, 0, 0, 0, 0, 0, 0, 0, 0, 0, 0, 0, 0, 0, 0, 0, 0, 0, 0, 0, 0, 0, 0, 0, 0, 0, 0, 0, 0, 0, 0, 0, 0, 0, 0, 0, 0, 0, 0, 0, 0, 0, 0, 0, 0, 0, 0, 0, 0, 0, 0, 0, 0, 0, 0, 0, 0, 0, 0, 0, 0, 0, 0, 0, 0, 0, 0, 0, 0, 0, 0, 0, 0, 0, 0, 0, 0, 0, 0, 0, 0, 0, 0, 0, 0, 0, 0, 0, 0, 0, 0, 0, 0, 0, 0, 0, 0, 0, 0, 0, 0, 0, 0, 0, 0, 0, 0, 0, 0, 0, 0, 0, 0, 0, 0, 0, 0, 0, 0, 0, 0, 0, 0, 0, 0, 0, 0, 0, 0, 0, 0, 0, 0, 0, 0, 0, 0, 0, 0, 0, 0, 0, 0, 0, 0, 0, 0, 0, 0, 0, 0, 0, 0, 0, 0, 0, 0, 0, 0, 0, 0, 0, 0, 0, 0, 0, 0, 0, 0, 0, 0, 0, 0, 0, 0, 0, 0, 0, 0, 0, 0, 0, 0, 0, 0, 0, 0, 0, 0, 0, 0, 0, 0, 0, 0, 0, 0, 0, 0, 0, 0, 0, 0, 0, 0, 0, 0, 0, 0, 0, 0, 0, 0, 0, 0, 0, 0, 0, 0, 0, 0, 0, 0, 0, 0, 0, 0, 0, 0, 0, 0, 0, 0, 0, 0, 0, 0, 0, 0, 0, 0, 0, 0, 0, 0, 0, 0, 0, 0, 0, 0, 0, 0, 0, 0, 0, 0, 0, 0, 0, 0, 0, 0, 0, 0, 0, 0, 0, 0, 0, 0, 0, 0, 0, 0, 0, 0, 0, 0, 0, 0, 0, 0, 0, 0, 0, 0, 0, 0, 0, 0, 0, 0, 0, 0, 0, 0, 0, 0, 0, 0, 0, 0, 0, 0, 0, 0, 0, 0, 0, 0, 0, 0, 0, 0, 0, 0, 0, 0, 0, 0, 0, 0, 0, 0, 0, 0, 0, 0, 0, 0, 0, 0, 0, 0, 0, 0, 0, 0, 0, 0, 0, 0, 0, 0, 0, 0, 0, 0, 0, 0, 0, 0, 0, 0, 0, 0, 0, 0, 0, 0, 0, 0, 0, 0, 0, 0, 0, 0, 0, 0, 0, 0, 0, 0, 0, 0, 0, 0, 0, 0, 0, 0, 0, 0, 0, 0, 0, 0, 0, 0, 0, 0, 0, 0, 0, 0, 0, 0, 0, 0, 0, 0, 0, 0, 0, 0, 0, 0, 0, 0, 0, 0, 0, 0, 0, 0, 0, 0, 0, 0, 0, 0, 0, 0, 0, 0, 0, 0, 0, 0, 0, 0, 0, 0, 0, 0, 0, 0, 0, 0, 0, 0, 0, 0, 0, 0, 0, 0, 0, 0, 0, 0, 0, 0, 0, 0, 0, 0, 0, 0, 0, 0, 0, 0, 0, 0, 0, 0, 0, 0, 0, 0, 0, 0, 0, 0, 0, 0, 0, 0, 0, 0, 0, 0, 0, 0, 0, 0, 0, 0, 0, 0, 0, 0, 0, 0, 0, 0, 0, 0, 0, 0, 0, 0, 0, 0, 0, 0, 0, 0, 0, 0, 0, 0, 0, 0, 0, 0, 0, 0, 0, 0, 0, 0, 0, 0, 0, 0, 0, 0, 0, 0, 0, 0, 0, 0, 0, 0, 0, 0, 0, 0, 0, 0, 0, 0, 0, 0, 0, 0, 0, 0, 0, 0, 0, 0, 0, 0, 0, 0, 0, 0, 0, 0, 0, 0, 0, 0, 0, 0, 0, 0, 0, 0, 0, 0, 0, 0, 0, 0, 0, 0, 0, 0, 0, 0, 0, 0, 0, 0, 0, 0, 0, 0, 0, 0, 0, 0, 0, 0, 0, 0, 0, 0, 0, 0, 0, 0, 0, 0, 0, 0, 0, 0, 0, 0, 0, 0, 0, 0, 0, 0, 0, 0, 0, 0, 0, 0, 0, 0, 0, 0, 0, 0, 0, 0, 0, 0, 0, 0, 0, 0, 0, 0, 0, 0, 0, 0, 0, 0, 0, 0, 0, 0, 0, 0, 0, 0, 0, 0, 0, 0, 0, 0, 0, 0, 0, 0, 0, 0, 0, 0, 0, 0, 0, 0, 0, 0, 0, 0, 0, 0, 0, 0, 0, 0, 0, 0, 0, 0, 0, 0, 0, 0, 0, 0, 0, 0, 0, 0, 0, 0, 0, 0, 0, 0, 0, 0, 0, 0, 0, 0, 0, 0, 0, 0, 0, 0, 0, 0, 0, 0, 0, 0, 0, 0, 0, 0, 0, 0, 0, 0, 0, 0, 0, 0, 0, 0, 0, 0, 0, 0, 0, 0, 0, 0, 0, 0, 0, 0, 0, 0, 0, 0, 0, 0, 0, 0, 0, 0, 0, 0, 0, 0, 0, 0, 0, 0, 0, 0, 0, 0, 0, 0, 0, 0, 0, 0, 0, 0, 0, 0, 0, 0, 0, 0, 0, 0, 0, 0, 0, 0, 0, 0, 0, 0, 0, 0, 0, 0, 0, 0, 0, 0, 0, 0, 0, 0, 0, 0, 0, 0, 0, 0, 0, 0, 0, 0, 0, 0, 0, 0, 0, 0, 0, 0, 0, 0, 0, 0, 0, 0, 0, 0, 0, 0, 0, 0, 0, 0, 0, 0, 0, 0, 0, 0, 0, 0, 0, 0, 0, 0, 0, 0, 0, 0, 0, 0, 0, 0, 0, 0, 0, 0, 0, 0, 0, 0, 0, 0, 0, 0, 0, 0, 0, 0, 0, 0, 0, 0, 0, 0, 0, 0, 0, 0, 0, 0, 0, 0, 0, 0, 0, 0, 0, 0, 0, 0, 0, 0, 0, 0, 0, 0, 0, 0, 0, 0, 0, 0, 0, 0, 0, 0, 0, 0, 0, 0, 0, 0, 0, 0, 0, 0, 0, 0, 0, 0, 0, 0, 0, 0, 0, 0, 0, 0, 0, 0, 0, 0, 0, 0, 0, 0, 0, 0, 0, 0, 0, 0, 0, 0, 0, 0, 0, 0, 0, 0, 0, 0, 0, 0, 0, 0, 0, 0, 0, 0, 0, 0, 0, 0, 0, 0, 0, 0, 0, 0, 0, 0, 0, 0, 0, 0, 0, 0, 0, 0, 0, 0, 0, 0, 0, 0, 0, 0, 0, 0, 0, 0, 0, 0, 0, 0, 0, 0, 0, 0, 0, 0, 0, 0, 0, 0, 0, 0, 0, 0, 0, 0, 0, 0, 0, 0, 0, 0, 0, 0, 0, 0, 0, 0, 0, 0, 0, 0, 0, 0, 0, 0, 0, 0, 0, 0, 0, 0, 0, 0, 0, 0, 0, 0, 0, 0, 0, 0, 0, 0, 0, 0, 0, 0, 0, 0, 0, 0, 0, 0, 0, 0, 0, 0, 0, 0, 0, 0, 0, 0, 0, 0, 0, 0, 0, 0, 0, 0, 0, 0, 0, 0, 0, 0, 0, 0, 0, 0, 0, 0, 0, 0, 0, 0, 0, 0, 0, 0, 0, 0, 0, 0, 0, 0, 0, 0, 0, 0, 0, 0, 0, 0, 0, 0, 0, 0, 0, 0, 0, 0, 0, 0, 0, 0, 0, 0, 0, 0, 0, 0, 0, 0, 0, 0, 0, 0, 0, 0, 0, 0, 0, 0, 0, 0, 0, 0, 0, 0, 0, 0, 0, 0, 0, 0, 0, 0, 0, 0, 0, 0, 0, 0, 0, 0, 0, 0, 0, 0, 0, 0, 0, 0, 0, 0, 0, 0, 0, 0, 0, 0, 0, 0, 0, 0, 0, 0, 0, 0, 0, 0, 0, 0, 0, 0, 0, 0, 0, 0, 0, 0, 0, 0, 0, 0, 0, 0, 0, 0, 0, 0, 0, 0, 0, 0, 0, 0, 0, 0, 0, 0, 0, 0, 0, 0, 0, 0, 0, 0, 0, 0, 0, 0, 0, 0, 0, 0, 0, 0, 0, 0, 0, 0, 0, 0, 0, 0, 0, 0, 0, 0, 0, 0, 0, 0, 0, 0, 0, 0, 0, 0, 0, 0, 0, 0, 0, 0, 0, 0, 0, 0, 0, 0, 0, 0, 0, 0, 0, 0, 0, 0, 0, 0, 0, 0, 0, 0, 0, 0, 0, 0, 0, 0, 0, 0, 0, 0, 0, 0, 0, 0, 0, 0, 0, 0, 0, 0, 0, 0, 0, 0, 0, 0, 0, 0, 0, 0, 0, 0, 0, 0, 0, 0, 0, 0, 0, 0, 0, 0, 0, 0, 0, 0, 0, 0, 0, 0, 0, 0, 0, 0, 0, 0, 0, 0, 0, 0, 0, 0, 0, 0, 0, 0, 0, 0, 0, 0, 0, 0, 0, 0, 0, 0, 0, 0, 0, 0, 0, 0, 0, 0, 0, 0, 0, 0, 0, 0, 0, 0, 0, 0, 0, 0, 0, 0, 0, 0, 0, 0, 0, 0, 0, 0, 0, 0, 0, 0, 0, 0, 0, 0, 0, 0, 0, 0, 0, 0, 0, 0, 0, 0, 0, 0, 0, 0, 0, 0, 0, 0, 0, 0, 0, 0, 0, 0, 0, 0, 0, 0, 0, 0, 0, 0, 0, 0, 0, 0, 0, 0, 0, 0, 0, 0, 0, 0, 0, 0, 0, 0, 0, 0, 0, 0, 0, 0, 0, 0, 0, 0, 0, 0, 0, 0, 0, 0, 0, 0, 0, 0, 0, 0, 0, 0, 0, 0, 0, 0, 0, 0, 0, 0, 0, 0, 0, 0, 0, 0, 0, 0, 0, 0, 0, 0, 0, 0, 0, 0, 0, 0, 0, 0, 0, 0, 0, 0, 0, 0, 0, 0, 0, 0, 0, 0, 0, 0, 0, 0, 0, 0, 0, 0, 0, 0, 0, 0, 0, 0, 0, 0, 0, 0, 0, 0, 0, 0, 0, 0, 0, 0, 0, 0, 0, 0, 0, 0, 0, 0, 0, 0, 0, 0, 0, 0, 0, 0, 0, 0, 0, 0, 0, 0, 0, 0, 0, 0, 0, 0, 0, 0, 0, 0, 0, 0, 0, 0, 0, 0, 0, 0, 0, 0, 0, 0, 0, 0, 0, 0, 0, 0, 0, 0, 0, 0, 0, 0, 0, 0, 0, 0, 0, 0, 0, 0, 0, 0, 0, 0, 0, 0, 0, 0, 0, 0, 0, 0, 0, 0, 0, 0, 0, 0, 0, 0, 0, 0, 0, 0, 0, 0, 0, 0, 0, 0, 0, 0, 0, 0, 0, 0, 0, 0, 0, 0, 0, 0, 0, 0, 0, 0, 0, 0, 0, 0, 0, 0, 0, 0, 0, 0, 0, 0, 0, 0, 0, 0, 0, 0, 0, 0, 0, 0, 0, 0, 0, 0, 0, 0, 0, 0, 0, 0, 0, 0, 0, 0, 0, 0, 0, 0, 0, 0, 0, 0, 0, 0, 0, 0, 0, 0, 0, 0, 0, 0, 0, 0, 0, 0, 0, 0, 0, 0, 0, 0, 0, 0, 0, 0, 0, 0, 0, 0, 0, 0, 0, 0, 0, 0, 0, 0, 0, 0, 0, 0, 0, 0, 0, 0, 0, 0, 0, 0, 0, 0, 0, 0, 0, 0, 0, 0, 0, 0, 0, 0, 0, 0, 0, 0, 0, 0, 0, 0, 0, 0, 0, 0, 0, 0, 0, 0, 0, 0, 0, 0, 0, 0, 0, 0, 0, 0, 0, 0, 0, 0, 0, 0, 0, 0, 0, 0, 0, 0, 0, 0, 0, 0, 0, 0, 0, 0, 0, 0, 0, 0, 0, 0, 0, 0, 0, 0, 0, 0, 0, 0, 0, 0, 0, 0, 0, 0, 0, 0, 0, 0, 0, 0, 0, 0, 0, 0, 0, 0, 0, 0, 0, 0, 0, 0, 0, 0, 0, 0, 0, 0, 0, 0, 0, 0, 0, 0, 0, 0, 0, 0, 0, 0, 0, 0, 0, 0, 0, 0, 0, 0, 0, 0, 0, 0, 0, 0, 0, 0, 0, 0, 0, 0, 0, 0, 0, 0, 0, 0, 0, 0, 0, 0, 0, 0, 0, 0, 0, 0, 0, 0, 0, 0, 0, 0, 0, 0, 0, 0, 0, 0, 0, 0, 0, 0, 0, 0, 0, 0, 0, 0, 0, 0, 0, 0, 0, 0, 0, 0, 0, 0, 0, 0, 0, 0, 0, 0, 0, 0, 0, 0, 0, 0, 0, 0, 0, 0, 0, 0, 0, 0, 0, 0, 0, 0, 0, 0, 0, 0, 0, 0, 0, 0, 0, 0, 0, 0, 0, 0, 0, 0, 0, 0, 0, 0, 0, 0, 0, 0, 0, 0, 0, 0, 0, 0, 0, 0, 0, 0, 0, 0, 0, 0, 0, 0, 0, 0, 0, 0, 0, 0, 0, 0, 0, 0, 0, 0, 0, 0, 0, 0, 0, 0, 0, 0, 0, 0, 0, 0, 0, 0, 0, 0, 0, 0, 0, 0, 0, 0, 0, 0, 0, 0, 0, 0, 0, 0, 0, 0, 0, 0, 0, 0, 0, 0, 0, 0, 0, 0, 0, 0, 0, 0, 0, 0, 0, 0, 0, 0, 0, 0, 0, 0, 0, 0, 0, 0, 0, 0, 0, 0, 0, 0, 0, 0, 0, 0, 0, 0, 0, 0, 0, 0, 0, 0, 0, 0, 0, 0, 0, 0, 0, 0, 0, 0, 0, 0, 0, 0, 0, 0, 0, 0, 0, 0, 0, 0, 0, 0, 0, 0, 0, 0, 0, 0, 0, 0, 0, 0, 0, 0, 0, 0, 0, 0, 0, 0, 0, 0, 0, 0, 0, 0, 0, 0, 0, 0, 0, 0, 0, 0, 0, 0, 0, 0, 0, 0, 0, 0, 0, 0, 0, 0, 0, 0, 0, 0, 0, 0, 0, 0, 0, 0, 0, 0, 0, 0, 0, 0, 0, 0, 0, 0, 0, 0, 0, 0, 0, 0, 0, 0, 0, 0, 0, 0, 0, 0, 0, 0, 0, 0, 0, 0, 0, 0, 0, 0, 0, 0, 0, 0, 0, 0, 0, 0, 0, 0, 0, 0, 0, 0, 0, 0, 0, 0, 0, 0, 0, 0, 0, 0, 0, 0, 0, 0, 0, 0, 0, 0, 0, 0, 0, 0, 0, 0, 0, 0, 0, 0, 0, 0, 0, 0, 0, 0, 0, 0, 0, 0, 0, 0, 0, 0, 0, 0, 0, 0, 0, 0, 0, 0, 0, 0, 0, 0, 0, 0, 0, 0, 0, 0, 0, 0, 0, 0, 0, 0, 0, 0, 0, 0, 0, 0, 0, 0, 0, 0, 0, 0, 0, 0, 0, 0, 0, 0, 0, 0, 0, 0, 0, 0, 0, 0, 0, 0, 0, 0, 0, 0, 0, 0, 0, 0, 0, 0, 0, 0, 0, 0, 0, 0, 0, 0, 0, 0, 0, 0, 0, 0, 0, 0, 0, 0, 0, 0, 0, 0, 0, 0, 0, 0, 0, 0, 0, 0, 0, 0, 0, 0, 0, 0, 0, 0, 0, 0, 0, 0, 0, 0, 0, 0, 0, 0, 0, 0, 0, 0, 0, 0, 0, 0, 0, 0, 0, 0, 0, 0, 0, 0, 0, 0, 0, 0, 0, 0, 0, 0, 0, 0, 0, 0, 0, 0, 0, 0, 0, 0, 0, 0, 0, 0, 0, 0, 0, 0, 0, 0, 0, 0, 0, 0, 0, 0, 0, 0, 0, 0, 0, 0, 0, 0, 0, 0, 0, 0, 0, 0, 0, 0, 0, 0, 0, 0, 0, 0, 0, 0, 0, 0, 0, 0, 0, 0, 0, 0, 0, 0, 0, 0, 0, 0, 0, 0, 0, 0, 0, 0, 0, 0, 0, 0, 0, 0, 0, 0, 0, 0, 0, 0, 0, 0, 0, 0, 0, 0, 0, 0, 0, 0, 0, 0, 0, 0, 0, 0, 0, 0, 0, 0, 0, 0, 0, 0, 0, 0, 0, 0, 0, 0, 0, 0, 0, 0, 0, 0, 0, 0, 0, 0, 0, 0, 0, 0, 0, 0, 0, 0, 0, 0, 0, 0, 0, 0, 0, 0, 0, 0, 0, 0, 0, 0, 0, 0, 0, 0, 0, 0, 0, 0, 0, 0, 0, 0, 0, 0, 0, 0, 0, 0, 0, 0, 0, 0, 0, 0, 0, 0, 0, 0, 0, 0, 0, 0, 0, 0, 0, 0, 0, 0, 0, 0, 0, 0, 0, 0, 0, 0, 0, 0, 0, 0, 0, 0, 0, 0, 0, 0, 0, 0, 0, 0, 0, 0, 0, 0, 0, 0, 0, 0, 0, 0, 0, 0, 0, 0, 0, 0, 0, 0, 0, 0, 0, 0, 0, 0, 0, 0, 0, 0, 0, 0, 0, 0, 0, 0, 0, 0, 0, 0, 0, 0, 0, 0, 0, 0, 0, 0, 0, 0, 0, 0, 0, 0, 0, 0, 0, 0, 0, 0, 0, 0, 0, 0, 0, 0, 0, 0, 0, 0, 0, 0, 0, 0, 0, 0, 0, 0, 0, 0, 0, 0, 0, 0, 0, 0, 0, 0, 0, 0, 0, 0, 0, 0, 0, 0, 0, 0, 0, 0, 0, 0, 0, 0, 0, 0, 0, 0, 0, 0, 0, 0, 0, 0, 0, 0, 0, 0, 0, 0, 0, 0, 0, 0, 0, 0, 0, 0, 0, 0, 0, 0, 0, 0, 0, 0, 0, 0, 0, 0, 0, 0, 0, 0, 0, 0, 0, 0, 0, 0, 0, 0, 0, 0, 0, 0, 0, 0, 0, 0, 0, 0, 0, 0, 0, 0, 0, 0, 0, 0, 0, 0, 0, 0, 0, 0, 0, 0, 0, 0, 0, 0, 0, 0, 0, 0, 0, 0, 0, 0, 0, 0, 0, 0, 0, 0, 0, 0, 0, 0, 0, 0, 0, 0, 0, 0, 0, 0, 0, 0, 0, 0, 0, 0, 0, 0, 0, 0, 0, 0, 0, 0, 0, 0, 0, 0, 0, 0, 0, 0, 0, 0, 0, 0, 0, 0, 0, 0, 0, 0, 0, 0, 0, 0, 0, 0, 0, 0, 0, 0, 0, 0, 0, 0, 0, 0, 0, 0, 0, 0, 0, 0, 0, 0, 0, 0, 0, 0, 0, 0, 0, 0, 0, 0, 0, 0, 0, 0, 0, 0, 0, 0, 0, 0, 0, 0, 0, 0, 0, 0, 0, 0, 0, 0, 0, 0, 0, 0, 0, 0, 0, 0, 0, 0, 0, 0, 0, 0, 0, 0, 0, 0, 0, 0, 0, 0, 0, 0, 0, 0, 0, 0, 0, 0, 0, 0, 0, 0, 0, 0, 0, 0, 0, 0, 0, 0, 0, 0, 0, 0, 0, 0, 0, 0, 0, 0, 0, 0, 0, 0, 0, 0, 0, 0, 0, 0, 0, 0, 0, 0, 0, 0, 0, 0, 0, 0, 0, 0, 0, 0, 0, 0, 0, 0, 0, 0, 0, 0, 0, 0, 0, 0, 0, 0, 0, 0, 0, 0, 0, 0, 0, 0, 0, 0, 0, 0, 0, 0, 0, 0, 0, 0, 0, 0, 0, 0, 0, 0, 0, 0, 0, 0, 0, 0, 0, 0, 0, 0, 0, 0, 0, 0, 0, 0, 0, 0, 0, 0, 0, 0, 0, 0, 0, 0, 0, 0, 0, 0, 0, 0, 0, 0, 0, 0, 0, 0, 0, 0, 0, 0, 0, 0, 0, 0, 0, 0, 0, 0, 0, 0, 0, 0, 0, 0, 0, 0, 0, 0, 0, 0, 0, 0, 0, 0, 0, 0, 0, 0, 0, 0, 0, 0, 0, 0, 0, 0, 0, 0, 0, 0, 0, 0, 0, 0, 0, 0, 0, 0, 0, 0, 0, 0, 0, 0, 0, 0, 0, 0, 0, 0, 0, 0, 0, 0, 0, 0, 0, 0, 0, 0, 0, 0, 0, 0, 0, 0, 0, 0, 0, 0, 0, 0, 0, 0, 0, 0, 0, 0, 0, 0, 0, 0, 0, 0, 0, 0, 0, 0, 0, 0, 0, 0, 0, 0, 0, 0, 0, 0, 0, 0, 0, 0, 0, 0, 0, 0, 0, 0, 0, 0, 0, 0, 0, 0, 0, 0, 0, 0, 0, 0, 0, 0, 0, 0, 0, 0, 0, 0, 0, 0, 0, 0, 0, 0, 0, 0, 0, 0, 0, 0, 0, 0, 0, 0, 0, 0, 0, 0, 0, 0, 0, 0, 0, 0, 0, 0, 0, 0, 0, 0, 0, 0, 0, 0, 0, 0, 0, 0, 0, 0, 0, 0, 0, 0, 0, 0, 0, 0, 0, 0, 0, 0, 0, 0, 0, 0, 0, 0, 0, 0, 0, 0, 0, 0, 0, 0, 0, 0, 0, 0, 0, 0, 0, 0, 0, 0, 0, 0, 0, 0, 0, 0, 0, 0, 0, 0, 0, 0, 0, 0, 0, 0, 0, 0, 0, 0, 0, 0, 0, 0, 0, 0, 0, 0, 0, 0, 0, 0, 0, 0, 0, 0, 0, 0, 0, 0, 0, 0, 0, 0, 0, 0, 0, 0, 0, 0, 0, 0, 0, 0, 0, 0, 0, 0, 0, 0, 0, 0, 0, 0, 0, 0, 0, 0, 0, 0, 0, 0, 0, 0, 0, 0, 0, 0, 0, 0, 0, 0, 0, 0, 0, 0, 0, 0, 0, 0, 0, 0, 0, 0, 0, 0, 0, 0, 0, 0, 0, 0, 0, 0, 0, 0, 0, 0, 0, 0, 0, 0, 0, 0, 0, 0, 0, 0, 0, 0, 0, 0, 0, 0, 0, 0, 0, 0, 0, 0, 0, 0, 0, 0, 0, 0, 0, 0, 0, 0, 0, 0, 0, 0, 0, 0, 0, 0, 0, 0, 0, 0, 0, 0, 0, 0, 0, 0, 0, 0, 0, 0, 0, 0, 0, 0, 0, 0, 0, 0, 0, 0, 0, 0, 0, 0, 0, 0, 0, 0, 0, 0, 0, 0, 0, 0, 0, 0, 0, 0, 0, 0, 0, 0, 0, 0, 0, 0, 0, 0, 0, 0, 0, 0, 0, 0, 0, 0, 0, 0, 0, 0, 0, 0, 0, 0, 0, 0, 0, 0, 0, 0, 0, 0, 0, 0, 0, 0, 0, 0, 0, 0, 0, 0, 0, 0, 0, 0, 0, 0, 0, 0, 0, 0, 0, 0, 0, 0, 0, 0, 0, 0, 0, 0, 0, 0, 0, 0, 0, 0, 0, 0, 0, 0, 0, 0, 0, 0, 0, 0, 0, 0, 0, 0, 0, 0, 0, 0, 0, 0, 0, 0, 0, 0, 0, 0, 0, 0, 0, 0, 0, 0, 0, 0, 0, 0, 0, 0, 0, 0, 0, 0, 0, 0, 0, 0, 0, 0, 0, 0, 0, 0, 0, 0, 0, 0, 0, 0, 0, 0, 0, 0, 0, 0, 0, 0, 0, 0, 0, 0, 0, 0, 0, 0, 0, 0, 0, 0, 0, 0, 0, 0, 0, 0, 0, 0, 0, 0, 0, 0, 0, 0, 0, 0, 0, 0, 0, 0, 0, 0, 0, 0, 0, 0, 0, 0, 0, 0, 0, 0, 0, 0, 0, 0, 0, 0, 0, 0, 0, 0, 0, 0, 0, 0, 0, 0, 0, 0, 0, 0, 0, 0, 0, 0, 0, 0, 0, 0, 0, 0, 0, 0, 0, 0, 0, 0, 0, 0, 0, 0, 0, 0, 0, 0, 0, 0, 0, 0, 0, 0, 0, 0, 0, 0, 0, 0, 0, 0, 0, 0, 0, 0, 0, 0, 0, 0, 0, 0, 0, 0, 0, 0, 0, 0, 0, 0, 0, 0, 0, 0, 0, 0, 0, 0, 0, 0, 0, 0, 0, 0, 0, 0, 0, 0, 0, 0, 0, 0, 0, 0, 0, 0, 0, 0, 0, 0, 0, 0, 0, 0, 0, 0, 0, 0, 0, 0, 0, 0, 0, 0, 0, 0, 0, 0, 0, 0, 0, 0, 0, 0, 0, 0, 0, 0, 0, 0, 0, 0, 0, 0, 0, 0, 0, 0, 0, 0, 0, 0, 0, 0, 0, 0, 0, 0, 0, 0, 0, 0, 0, 0, 0, 0, 0, 0, 0, 0, 0, 0, 0, 0, 0, 0, 0, 0, 0, 0, 0, 0, 0, 0, 0, 0, 0, 0, 0, 0, 0, 0, 0, 0, 0, 0, 0, 0, 0, 0, 0, 0, 0, 0, 0, 0, 0, 0, 0, 0, 0, 0, 0, 0, 0, 0, 0, 0, 0, 0, 0, 0, 0, 0, 0, 0, 0, 0, 0, 0, 0, 0, 0, 0, 0, 0, 0, 0, 0, 0, 0, 0, 0, 0, 0, 0, 0, 0, 0, 0, 0, 0, 0, 0, 0, 0, 0, 0, 0, 0, 0, 0, 0, 0, 0, 0, 0, 0, 0, 0, 0, 0, 0, 0, 0, 0, 0, 0, 0, 0, 0, 0, 0, 0, 0, 0, 0, 0, 0, 0, 0, 0, 0, 0, 0, 0, 0, 0, 0, 0, 0, 0, 0, 0, 0, 0, 0, 0, 0, 0, 0, 0, 0, 0, 0, 0, 0, 0, 0, 0, 0, 0, 0, 0, 0, 0, 0, 0, 0, 0, 0, 0, 0, 0, 0, 0, 0, 0, 0, 0, 0, 0, 0, 0, 0, 0, 0, 0, 0, 0, 0, 0, 0, 0, 0, 0, 0, 0, 0, 0, 0, 0, 0, 0, 0, 0, 0, 0, 0, 0, 0, 0, 0, 0, 0, 0, 0, 0, 0, 0, 0, 0, 0, 0, 0, 0, 0, 0, 0, 0, 0, 0, 0, 0, 0, 0, 0, 0, 0, 0, 0, 0, 0, 0, 0, 0, 0, 0, 0, 0, 0, 0, 0, 0, 0, 0, 0, 0, 0, 0, 0, 0, 0, 0, 0, 0, 0, 0, 0, 0, 0, 0, 0, 0, 0, 0, 0, 0, 0, 0, 0, 0, 0, 0, 0, 0, 0, 0, 0, 0, 0, 0, 0, 0, 0, 0, 0, 0, 0, 0, 0, 0, 0, 0, 0, 0, 0, 0, 0, 0, 0, 0, 0, 0, 0, 0, 0, 0, 0, 0, 0, 0, 0, 0, 0, 0, 0, 0, 0, 0, 0, 0, 0, 0, 0, 0, 0, 0, 0, 0, 0, 0, 0, 0, 0, 0, 0, 0, 0, 0, 0, 0, 0, 0, 0, 0, 0, 0, 0, 0, 0, 0, 0, 0, 0, 0, 0, 0, 0, 0, 0, 0, 0, 0, 0, 0, 0, 0, 0, 0, 0, 0, 0, 0, 0, 0, 0, 0, 0, 0, 0, 0, 0, 0, 0, 0, 0, 0, 0, 0, 0, 0, 0, 0, 0, 0, 0, 0, 0, 0, 0, 0, 0, 0, 0, 0, 0, 0, 0, 0, 0, 0, 0, 0, 0, 0, 0, 0, 0, 0, 0, 0, 0, 0, 0, 0, 0, 0, 0, 0, 0, 0, 0, 0, 0, 0, 0, 0, 0, 0, 0, 0, 0, 0, 0, 0, 0, 0, 0, 0, 0, 0, 0, 0, 0, 0, 0, 0, 0, 0, 0, 0, 0, 0, 0, 0, 0, 0, 0, 0, 0, 0, 0, 0, 0, 0, 0, 0, 0, 0, 0, 0, 0, 0, 0, 0, 0, 0, 0, 0, 0, 0, 0, 0, 0, 0, 0, 0, 0, 0, 0, 0, 0, 0, 0, 0, 0, 0, 0, 0, 0, 0, 0, 0, 0, 0, 0, 0, 0, 0, 0, 0, 0, 0, 0, 0, 0, 0, 0, 0, 0, 0, 0, 0, 0, 0, 0, 0, 0, 0, 0, 0, 0, 0, 0, 0, 0, 0, 0, 0, 0, 0, 0, 0, 0, 0, 0, 0, 0, 0, 0, 0, 0, 0, 0, 0, 0, 0, 0, 0, 0, 0, 0, 0, 0, 0, 0, 0, 0, 0, 0, 0, 0, 0, 0, 0, 0, 0, 0, 0, 0, 0, 0, 0, 0, 0, 0, 0, 0, 0, 0, 0, 0, 0, 0, 0, 0, 0, 0, 0, 0, 0, 0, 0, 0, 0, 0, 0, 0, 0, 0, 0, 0, 0, 0, 0, 0, 0, 0, 0, 0, 0, 0, 0, 0, 0, 0, 0, 0, 0, 0, 0, 0, 0, 0, 0, 0, 0, 0, 0, 0, 0, 0, 0, 0, 0, 0, 0, 0, 0, 0, 0, 0, 0, 0, 0, 0, 0, 0, 0, 0, 0, 0, 0, 0, 0, 0, 0, 0, 0, 0, 0, 0, 0, 0, 0, 0, 0, 0, 0, 0, 0, 0, 0, 0, 0, 0, 0, 0, 0, 0, 0, 0, 0, 0, 0, 0, 0, 0, 0, 0, 0, 0, 0, 0, 0, 0, 0, 0, 0, 0, 0, 0, 0, 0, 0, 0, 0, 0, 0, 0, 0, 0, 0, 0, 0, 0, 0, 0, 0, 0, 0, 0, 0, 0, 0, 0, 0, 0, 0, 0, 0, 0, 0, 0, 0, 0, 0, 0, 0, 0, 0, 0, 0, 0, 0, 0, 0, 0, 0, 0, 0, 0, 0, 0, 0, 0, 0, 0, 0, 0, 0, 0, 0, 0, 0, 0, 0, 0, 0, 0, 0, 0, 0, 0, 0, 0, 0, 0, 0, 0, 0, 0, 0, 0, 0, 0, 0, 0, 0, 0, 0, 0, 0, 0, 0, 0, 0, 0, 0, 0, 0, 0, 0, 0, 0, 0, 0, 0, 0, 0, 0, 0, 0, 0, 0, 0, 0, 0, 0, 0, 0, 0, 0, 0, 0, 0, 0, 0, 0, 0, 0, 0, 0, 0, 0, 0, 0, 0, 0, 0, 0, 0, 0, 0, 0, 0, 0, 0, 0, 0, 0, 0, 0, 0, 0, 0, 0, 0, 0, 0, 0, 0, 0, 0, 0, 0, 0, 0, 0, 0, 0, 0, 0, 0, 0, 0, 0, 0, 0, 0, 0, 0, 0, 0, 0, 0, 0, 0, 0, 0, 0, 0, 0, 0, 0, 0, 0, 0, 0, 0, 0, 0, 0, 0, 0, 0, 0, 0, 0, 0, 0, 0, 0, 0, 0, 0, 0, 0, 0, 0, 0, 0, 0, 0, 0, 0, 0, 0, 0, 0, 0, 0, 0, 0, 0, 0, 0, 0, 0, 0, 0, 0, 0, 0, 0, 0, 0, 0, 0, 0, 0, 0, 0, 0, 0, 0, 0, 0, 0, 0, 0, 0, 0, 0, 0, 0, 0, 0, 0, 0, 0, 0, 0, 0, 0, 0, 0, 0, 0, 0, 0, 0, 0, 0, 0, 0, 0, 0, 0, 0, 0, 0, 0, 0, 0, 0, 0, 0, 0, 0, 0, 0, 0, 0, 0, 0, 0, 0, 0, 0, 0, 0, 0, 0, 0, 0, 0, 0, 0, 0, 0, 0, 0, 0, 0, 0, 0, 0, 0, 0, 0, 0, 0, 0, 0, 0, 0, 0, 0, 0, 0, 0, 0, 0, 0, 0, 0, 0, 0, 0, 0, 0, 0, 0, 0, 0, 0, 0, 0, 0, 0, 0, 0, 0, 0, 0, 0, 0, 0, 0, 0, 0, 0, 0, 0, 0, 0, 0, 0, 0, 0, 0, 0, 0, 0, 0, 0, 0, 0, 0, 0, 0, 0, 0, 0, 0, 0, 0, 0, 0, 0, 0, 0, 0, 0, 0, 0, 0, 0, 0, 0, 0, 0, 0, 0, 0, 0, 0, 0, 0, 0, 0, 0, 0, 0, 0, 0, 0, 0, 0, 0, 0, 0, 0, 0, 0, 0, 0, 0, 0, 0, 0, 0, 0, 0, 0, 0, 0, 0, 0, 0, 0, 0, 0, 0, 0, 0, 0, 0, 0, 0, 0, 0, 0, 0, 0, 0, 0, 0, 0, 0, 0, 0, 0, 0, 0, 0, 0, 0, 0, 0, 0, 0, 0, 0, 0, 0, 0, 0, 0, 0, 0, 0, 0, 0, 0, 0, 0, 0, 0, 0, 0, 0, 0, 0, 0, 0, 0, 0, 0, 0, 0, 0, 0, 0, 0, 0, 0, 0, 0, 0, 0, 0, 0, 0, 0, 0, 0, 0, 0, 0, 0, 0, 0, 0, 0, 0, 0, 0, 0, 0, 0, 0, 0, 0, 0, 0, 0, 0, 0, 0, 0, 0, 0, 0, 0, 0, 0, 0, 0, 0, 0, 0, 0, 0, 0, 0, 0, 0, 0, 0, 0, 0, 0, 0, 0, 0, 0, 0, 0, 0, 0, 0, 0, 0, 0, 0, 0, 0, 0, 0, 0, 0, 0, 0, 0, 0, 0, 0, 0, 0, 0, 0, 0, 0, 0, 0, 0, 0, 0, 0, 0, 0, 0, 0, 0, 0, 0, 0, 0, 0, 0, 0, 0, 0, 0, 0, 0, 0, 0, 0, 0, 0, 0, 0, 0, 0, 0, 0, 0, 0, 0, 0, 0, 0, 0, 0, 0, 0, 0, 0, 0, 0, 0, 0, 0, 0, 0, 0, 0, 0, 0, 0, 0, 0, 0, 0, 0, 0, 0, 0, 0, 0, 0, 0, 0, 0, 0, 0, 0, 0, 0, 0, 0, 0, 0, 0, 0, 0, 0, 0, 0, 0, 0, 0, 0, 0, 0, 0, 0, 0, 0, 0, 0, 0, 0, 0, 0, 0, 0, 0, 0, 0, 0, 0, 0, 0, 0, 0, 0, 0, 0, 0, 0, 0, 0, 0, 0, 0, 0, 0, 0, 0, 0, 0, 0, 0, 0, 0, 0, 0, 0, 0, 0, 0, 0, 0, 0, 0, 0, 0, 0, 0, 0, 0, 0, 0, 0, 0, 0, 0, 0, 0, 0, 0, 0, 0, 0, 0, 0, 0, 0, 0, 0, 0, 0, 0, 0, 0, 0, 0, 0, 0, 0, 0, 0, 0, 0, 0, 0, 0, 0, 0, 0, 0, 0, 0, 0, 0, 0, 0, 0, 0, 0, 0, 0, 0, 0, 0, 0, 0, 0, 0, 0, 0, 0, 0, 0, 0, 0, 0, 0, 0, 0, 0, 0, 0, 0, 0, 0, 0, 0, 0, 0, 0, 0, 0, 0, 0, 0, 0, 0, 0, 0, 0, 0, 0, 0, 0, 0, 0, 0, 0, 0, 0, 0, 0, 0, 0, 0, 0, 0, 0, 0, 0, 0, 0, 0, 0, 0, 0, 0, 0, 0, 0, 0, 0, 0, 0, 0, 0, 0, 0, 0, 0, 0, 0, 0, 0, 0, 0, 0, 0, 0, 0, 0, 0, 0, 0, 0, 0, 0, 0, 0, 0, 0, 0, 0, 0, 0, 0, 0, 0, 0, 0, 0, 0, 0, 0, 0, 0, 0, 0, 0, 0, 0, 0, 0, 0, 0, 0, 0, 0, 0, 0, 0, 0, 0, 0, 0, 0, 0, 0, 0, 0, 0, 0, 0, 0, 0, 0, 0, 0, 0, 0, 0, 0, 0, 0, 0, 0, 0, 0, 0, 0, 0, 0, 0, 0, 0, 0, 0, 0, 0, 0, 0, 0, 0, 0, 0, 0, 0, 0, 0, 0, 0, 0, 0, 0, 0, 0, 0, 0, 0, 0, 0, 0, 0, 0, 0, 0, 0, 0, 0, 0, 0, 0, 0, 0, 0, 0, 0, 0, 0, 0, 0, 0, 0, 0, 0, 0, 0, 0, 0, 0, 0, 0, 0, 0, 0, 0, 0, 0, 0, 0, 0, 0, 0, 0, 0, 0, 0, 0, 0, 0, 0, 0, 0, 0, 0, 0, 0, 0, 0, 0, 0, 0, 0, 0, 0, 0, 0, 0, 0, 0, 0, 0, 0, 0, 0, 0, 0, 0, 0, 0, 0, 0, 0, 0, 0, 0, 0, 0, 0, 0, 0, 0, 0, 0, 0, 0, 0, 0, 0, 0, 0, 0, 0, 0, 0, 0, 0, 0, 0, 0, 0, 0, 0, 0, 0, 0, 0, 0, 0, 0, 0, 0, 0, 0, 0, 0, 0, 0, 0, 0, 0, 0, 0, 0, 0, 0, 0, 0, 0, 0, 0, 0, 0, 0, 0, 0, 0, 0, 0, 0, 0, 0, 0, 0, 0, 0, 0, 0, 0, 0, 0, 0, 0, 0, 0, 0, 0, 0, 0, 0, 0, 0, 0, 0, 0, 0, 0, 0, 0, 0, 0, 0, 0, 0, 0, 0, 0, 0, 0, 0, 0, 0, 0, 0, 0, 0, 0, 0, 0, 0, 0, 0, 0, 0, 0, 0, 0, 0, 0, 0, 0, 0, 0, 0, 0, 0, 0, 0, 0, 0, 0, 0, 0, 0, 0, 0, 0, 0, 0, 0, 0, 0, 0, 0, 0, 0, 0, 0, 0, 0, 0, 0, 0, 0, 0, 0, 0, 0, 0, 0, 0, 0, 0, 0, 0, 0, 0, 0, 0, 0, 0, 0, 0, 0, 0, 0, 0, 0, 0, 0, 0, 0, 0, 0, 0, 0, 0, 0, 0, 0, 0, 0, 0, 0, 0, 0, 0, 0, 0, 0, 0, 0, 0, 0, 0, 0, 0, 0, 0, 0, 0, 0, 0, 0, 0, 0, 0, 0, 0, 0, 0, 0, 0, 0, 0, 0, 0, 0, 0, 0, 0, 0, 0, 0, 0, 0, 0, 0, 0, 0, 0, 0, 0, 0, 0, 0, 0, 0, 0, 0, 0, 0, 0, 0, 0, 0, 0, 0, 0, 0, 0, 0, 0, 0, 0, 0, 0, 0, 0, 0, 0, 0, 0, 0, 0, 0, 0, 0, 0, 0, 0, 0, 0, 0, 0, 0, 0, 0, 0, 0, 0, 0, 0, 0, 0, 0, 0, 0, 0, 0, 0, 0, 0, 0, 0, 0, 0, 0, 0, 0, 0, 0, 0, 0, 0, 0, 0, 0, 0, 0, 0, 0, 0, 0, 0, 0, 0, 0, 0, 0, 0, 0, 0, 0, 0, 0, 0, 0, 0, 0, 0, 0, 0, 0, 0, 0, 0, 0, 0, 0, 0, 0, 0, 0, 0, 0, 0, 0, 0, 0, 0, 0, 0, 0, 0, 0, 0, 0, 0, 0, 0, 0, 0, 0, 0, 0, 0, 0, 0, 0, 0, 0, 0, 0, 0, 0, 0, 0, 0, 0, 0, 0, 0, 0, 0, 0, 0, 0, 0, 0, 0, 0, 0, 0, 0, 0, 0, 0, 0, 0, 0, 0, 0, 0, 0, 0, 0, 0, 0, 0, 0, 0, 0, 0, 0, 0, 0, 0, 0, 0, 0, 0, 0, 0, 0, 0, 0, 0, 0, 0, 0, 0, 0, 0, 0, 0, 0, 0, 0, 0, 0, 0, 0, 0, 0, 0, 0, 0, 0, 0, 0, 0, 0, 0, 0, 0, 0, 0, 0, 0, 0, 0, 0, 0, 0, 0, 0, 0, 0, 0, 0, 0, 0, 0, 0, 0, 0, 0, 0, 0, 0, 0, 0, 0, 0, 0, 0, 0, 0, 0, 0, 0, 0, 0, 0, 0, 0, 0, 0, 0, 0, 0, 0, 0, 0, 0, 0, 0, 0, 0, 0, 0, 0, 0, 0, 0, 0, 0, 0, 0, 0, 0, 0, 0, 0, 0, 0, 0, 0, 0, 0, 0, 0, 0, 0, 0, 0, 0, 0, 0, 0, 0, 0, 0, 0, 0, 0, 0, 0, 0, 0, 0, 0, 0, 0, 0, 0, 0, 0, 0, 0, 0, 0, 0, 0, 0, 0, 0, 0, 0, 0, 0, 0, 0, 0, 0, 0, 0, 0, 0, 0, 0, 0, 0, 0, 0, 0, 0, 0, 0, 0, 0, 0, 0, 0, 0, 0, 0, 0, 0, 0, 0, 0, 0, 0, 0, 0, 0, 0, 0, 0, 0, 0, 0, 0, 0, 0, 0, 0, 0, 0, 0, 0, 0, 0, 0, 0, 0, 0, 0, 0, 0, 0, 0, 0, 0, 0, 0, 0, 0, 0, 0, 0, 0, 0, 0, 0, 0, 0, 0, 0, 0, 0, 0, 0, 0, 0, 0, 0, 0, 0, 0, 0, 0, 0, 0, 0, 0, 0, 0, 0, 0, 0, 0, 0, 0, 0, 0, 0, 0, 0, 0, 0, 0, 0, 0, 0, 0, 0, 0, 0, 0, 0, 0, 0, 0, 0, 0, 0, 0, 0, 0, 0, 0, 0, 0, 0, 0, 0, 0, 0, 0, 0, 0, 0, 0, 0, 0, 0, 0, 0, 0, 0, 0, 0, 0, 0, 0, 0, 0, 0, 0, 0, 0, 0, 0, 0, 0, 0, 0, 0, 0, 0, 0, 0, 0, 0, 0, 0, 0, 0, 0, 0, 0, 0, 0, 0, 0, 0, 0, 0, 0, 0, 0, 0, 0, 0, 0, 0, 0, 0, 0, 0, 0, 0, 0, 0, 0, 0, 0, 0, 0, 0, 0, 0, 0, 0, 0, 0, 0, 0, 0, 0, 0, 0, 0, 0, 0, 0, 0, 0, 0, 0, 0, 0, 0, 0, 0, 0, 0, 0, 0, 0, 0, 0, 0, 0, 0, 0, 0, 0, 0, 0, 0, 0, 0, 0, 0, 0, 0, 0, 0, 0, 0, 0, 0, 0, 0, 0, 0, 0, 0, 0, 0, 0, 0, 0, 0, 0, 0, 0, 0, 0, 0, 0, 0, 0, 0, 0, 0, 0, 0, 0, 0, 0, 0, 0, 0, 0, 0, 0, 0, 0, 0, 0, 0, 0, 0, 0, 0, 0, 0, 0, 0, 0, 0, 0, 0, 0, 0, 0, 0, 0, 0, 0, 0, 0, 0, 0, 0, 0, 0, 0, 0, 0, 0, 0, 0, 0, 0, 0, 0, 0, 0, 0, 0, 0, 0, 0, 0, 0, 0, 0, 0, 0, 0, 0, 0, 0, 0, 0, 0, 0, 0, 0, 0, 0, 0, 0, 0, 0, 0, 0, 0, 0, 0, 0, 0, 0, 0, 0, 0, 0, 0, 0, 0, 0, 0, 0, 0, 0, 0, 0, 0, 0, 0, 0, 0, 0, 0, 0, 0, 0, 0, 0, 0, 0, 0, 0, 0, 0, 0, 0, 0, 0, 0, 0, 0, 0, 0, 0, 0, 0, 0, 0, 0, 0, 0, 0, 0, 0, 0, 0, 0, 0, 0, 0, 0, 0, 0, 0, 0, 0, 0, 0, 0, 0, 0, 0, 0, 0, 0, 0, 0, 0, 0, 0, 0, 0, 0, 0, 0, 0, 0, 0, 0, 0, 0, 0, 0, 0, 0, 0, 0, 0, 0, 0, 0, 0, 0, 0, 0, 0, 0, 0, 0, 0, 0, 0, 0, 0, 0, 0, 0, 0, 0, 0, 0, 0, 0, 0, 0, 0, 0, 0, 0, 0, 0, 0, 0, 0, 0, 0, 0, 0, 0, 0, 0, 0, 0, 0, 0, 0, 0, 0, 0, 0, 0, 0, 0, 0, 0, 0, 0, 0, 0, 0, 0, 0, 0, 0, 0, 0, 0, 0, 0, 0, 0, 0, 0, 0, 0, 0, 0, 0, 0, 0, 0, 0, 0, 0, 0, 0, 0, 0, 0, 0, 0, 0, 0, 0, 0, 0, 0, 0, 0, 0, 0, 0, 0, 0, 0, 0, 0, 0, 0, 0, 0, 0, 0, 0, 0, 0, 0, 0, 0, 0, 0, 0, 0, 0, 0, 0, 0, 0, 0, 0, 0, 0, 0, 0, 0, 0, 0, 0, 0, 0, 0, 0, 0, 0, 0, 0, 0, 0, 0, 0, 0, 0, 0, 0, 0, 0, 0, 0, 0, 0, 0, 0, 0, 0, 0, 0, 0, 0, 0, 0, 0, 0, 0, 0, 0, 0, 0, 0, 0, 0, 0, 0, 0, 0, 0, 0, 0, 0, 0, 0, 0, 0, 0, 0, 0, 0, 0, 0, 0, 0, 0, 0, 0, 0, 0, 0, 0, 0, 0, 0, 0, 0, 0, 0, 0, 0, 0, 0, 0, 0, 0, 0, 0, 0, 0, 0, 0, 0, 0, 0, 0, 0, 0, 0, 0, 0, 0, 0, 0, 0, 0, 0, 0, 0, 0, 0, 0, 0, 0, 0, 0, 0, 0, 0, 0, 0, 0, 0, 0, 0, 0, 0, 0, 0, 0, 0, 0, 0, 0, 0, 0, 0, 0, 0, 0, 0, 0, 0, 0, 0, 0, 0, 0, 0, 0, 0, 0, 0, 0, 0, 0, 0, 0, 0, 0, 0, 0, 0, 0, 0, 0, 0, 0, 0, 0, 0, 0, 0, 0, 0, 0, 0, 0, 0, 0, 0, 0, 0, 0, 0, 0, 0, 0, 0, 0, 0, 0, 0, 0, 0, 0, 0, 0, 0, 0, 0, 0, 0, 0, 0, 0, 0, 0, 0, 0, 0, 0, 0, 0, 0, 0, 0, 0, 0, 0, 0, 0, 0, 0, 0, 0, 0, 0, 0, 0, 0, 0, 0, 0, 0, 0, 0, 0, 0, 0, 0, 0, 0, 0, 0, 0, 0, 0, 0, 0, 0, 0, 0, 0, 0, 0, 0, 0, 0, 0, 0, 0, 0, 0, 0, 0, 0, 0, 0, 0, 0, 0, 0, 0, 0, 0, 0, 0, 0, 0, 0, 0, 0, 0, 0, 0, 0, 0, 0, 0, 0, 0, 0, 0, 0, 0, 0, 0, 0, 0, 0, 0, 0, 0, 0, 0, 0, 0, 0, 0, 0, 0, 0, 0, 0, 0, 0, 0, 0, 0, 0, 0, 0, 0, 0, 0, 0, 0, 0, 0, 0, 0, 0, 0, 0, 0, 0, 0, 0, 0, 0, 0, 0, 0, 0, 0, 0, 0, 0, 0, 0, 0, 0, 0, 0, 0, 0, 0, 0, 0, 0, 0, 0, 0, 0, 0, 0, 0, 0, 0, 0, 0, 0, 0, 0, 0, 0, 0, 0, 0, 0, 0, 0, 0, 0, 0, 0, 0, 0, 0, 0, 0, 0, 0, 0, 0, 0, 0, 0, 0, 0, 0, 0, 0, 0, 0, 0, 0, 0, 0, 0, 0, 0, 0, 0, 0, 0, 0, 0, 0, 0, 0, 0, 0, 0, 0, 0, 0, 0, 0, 0, 0, 0, 0, 0, 0, 0, 0, 0, 0, 0, 0, 0, 0, 0, 0, 0, 0, 0, 0, 0, 0, 0, 0, 0, 0, 0, 0, 0, 0, 0, 0, 0, 0, 0, 0, 0, 0, 0, 0, 0, 0, 0, 0, 0, 0, 0, 0, 0, 0, 0, 0, 0, 0, 0, 0, 0, 0, 0, 0, 0, 0, 0, 0, 0, 0, 0, 0, 0, 0, 0, 0, 0, 0, 0, 0, 0, 0, 0, 0, 0, 0, 0, 0, 0, 0, 0, 0, 0, 0, 0, 0, 0, 0, 0, 0, 0, 0, 0, 0, 0, 0, 0, 0, 0, 0, 0, 0, 0, 0, 0, 0, 0, 0, 0, 0, 0, 0, 0, 0, 0, 0, 0, 0, 0, 0, 0, 0, 0, 0, 0, 0, 0, 0, 0, 0, 0, 0, 0, 0, 0, 0, 0, 0, 0, 0, 0, 0, 0, 0, 0, 0, 0, 0, 0, 0, 0, 0, 0, 0, 0, 0, 0, 0, 0, 0, 0, 0, 0, 0, 0, 0, 0, 0, 0, 0, 0, 0, 0, 0, 0, 0, 0, 0, 0, 0, 0, 0, 0, 0, 0, 0, 0, 0, 0, 0, 0, 0, 0, 0, 0, 0, 0, 0, 0, 0, 0, 0, 0, 0, 0, 0, 0, 0, 0, 0, 0, 0, 0, 0, 0, 0, 0, 0, 0, 0, 0, 0, 0, 0, 0, 0, 0, 0, 0, 0, 0, 0, 0, 0, 0, 0, 0, 0, 0, 0, 0, 0, 0, 0, 0, 0, 0, 0, 0, 0, 0, 0, 0, 0, 0, 0, 0, 0, 0, 0, 0, 0, 0, 0, 0, 0, 0, 0, 0, 0, 0, 0, 0, 0, 0, 0, 0, 0, 0, 0, 0, 0, 0, 0, 0, 0, 0, 0, 0, 0, 0, 0, 0, 0, 0, 0, 0, 0, 0, 0, 0, 0, 0, 0, 0, 0, 0, 0, 0, 0, 0, 0, 0, 0, 0, 0, 0, 0, 0, 0, 0, 0, 0, 0, 0, 0, 0, 0, 0, 0, 0, 0, 0, 0, 0, 0, 0, 0, 0, 0, 0, 0, 0, 0, 0, 0, 0, 0, 0, 0, 0, 0, 0, 0, 0, 0, 0, 0, 0, 0, 0, 0, 0, 0, 0, 0, 0, 0, 0, 0, 0, 0, 0, 0, 0, 0, 0, 0, 0, 0, 0, 0, 0, 0, 0, 0, 0, 0, 0, 0, 0, 0, 0, 0, 0, 0, 0, 0, 0, 0, 0, 0, 0, 0, 0, 0, 0, 0, 0, 0, 0, 0, 0, 0, 0, 0, 0, 0, 0, 0, 0, 0, 0, 0, 0, 0, 0, 0, 0, 0, 0, 0, 0, 0, 0, 0, 0, 0, 0, 0, 0, 0, 0, 0, 0, 0, 0, 0, 0, 0, 0, 0, 0, 0, 0, 0, 0, 0, 0, 0, 0, 0, 0, 0, 0, 0, 0, 0, 0, 0, 0, 0, 0, 0, 0, 0, 0, 0, 0, 0, 0, 0, 0, 0, 0, 0, 0, 0, 0, 0, 0, 0, 0, 0, 0, 0, 0, 0, 0, 0, 0, 0, 0, 0, 0, 0, 0, 0, 0, 0, 0, 0, 0, 0, 0, 0, 0, 0, 0, 0, 0, 0, 0, 0, 0, 0, 0, 0, 0, 0, 0, 0, 0, 0, 0, 0, 0, 0, 0, 0, 0, 0, 0, 0, 0, 0, 0, 0, 0, 0, 0, 0, 0, 0, 0, 0, 0, 0, 0, 0, 0, 0, 0, 0, 0, 0, 0, 0, 0, 0, 0, 0, 0, 0, 0, 0, 0, 0, 0, 0, 0, 0, 0, 0, 0, 0, 0, 0, 0, 0, 0, 0, 0, 0, 0, 0, 0, 0, 0, 0, 0, 0, 0, 0, 0, 0, 0, 0, 0, 0, 0, 0, 0, 0, 0, 0, 0, 0, 0, 0, 0, 0, 0, 0, 0, 0, 0, 0, 0, 0, 0, 0, 0, 0, 0, 0, 0, 0, 0, 0, 0, 0, 0, 0, 0, 0, 0, 0, 0, 0, 0, 0, 0, 0, 0, 0, 0, 0, 0, 0, 0, 0, 0, 0, 0, 0, 0, 0, 0, 0, 0, 0, 0, 0, 0, 0, 0, 0, 0, 0, 0, 0, 0, 0, 0, 0, 0, 0, 0, 0, 0, 0, 0, 0, 0, 0, 0, 0, 0, 0, 0, 0, 0, 0, 0, 0, 0, 0, 0, 0, 0, 0, 0, 0, 0, 0, 0, 0, 0, 0, 0, 0, 0, 0, 0, 0, 0, 0, 0, 0, 0, 0, 0, 0, 0, 0, 0, 0, 0, 0, 0, 0, 0, 0, 0, 0, 0, 0, 0, 0, 0, 0, 0, 0, 0, 0, 0, 0, 0, 0, 0, 0, 0, 0, 0, 0, 0, 0, 0, 0, 0, 0, 0, 0, 0, 0, 0, 0, 0, 0, 0, 0, 0, 0, 0, 0, 0, 0, 0, 0, 0, 0, 0, 0, 0, 0, 0, 0, 0, 0, 0, 0, 0, 0, 0, 0, 0, 0, 0, 0, 0, 0, 0, 0, 0, 0, 0, 0, 0, 0, 0, 0, 0, 0, 0, 0, 0, 0, 0, 0, 0, 0, 0, 0, 0, 0, 0, 0, 0, 0, 0, 0, 0, 0, 0, 0, 0, 0, 0, 0, 0, 0, 0, 0, 0, 0, 0, 0, 0, 0, 0, 0, 0, 0, 0, 0, 0, 0, 0, 0, 0, 0, 0, 0, 0, 0, 0, 0, 0, 0, 0, 0, 0, 0, 0, 0, 0, 0, 0, 0, 0, 0, 0, 0, 0, 0, 0, 0, 0, 0, 0, 0, 0, 0, 0, 0, 0, 0, 0, 0, 0, 0, 0, 0, 0, 0, 0, 0, 0, 0, 0, 0, 0, 0, 0, 0, 0, 0, 0, 0, 0, 0, 0, 0, 0, 0, 0, 0, 0, 0, 0, 0, 0, 0, 0, 0, 0, 0, 0, 0, 0, 0, 0, 0, 0, 0, 0, 0, 0, 0, 0, 0, 0, 0, 0, 0, 0, 0, 0, 0, 0, 0, 0, 0, 0, 0, 0, 0, 0, 0, 0, 0, 0, 0, 0, 0, 0, 0, 0, 0, 0, 0, 0, 0, 0, 0, 0, 0, 0, 0, 0, 0, 0, 0, 0, 0, 0, 0, 0, 0, 0, 0, 0, 0, 0, 0, 0, 0, 0, 0, 0, 0, 0, 0, 0, 0, 0, 0, 0, 0, 0, 0, 0, 0, 0, 0, 0, 0, 0, 0, 0, 0, 0, 0, 0, 0, 0, 0, 0, 0, 0, 0, 0, 0, 0, 0, 0, 0, 0, 0, 0, 0, 0, 0, 0, 0, 0, 0, 0, 0, 0, 0, 0, 0, 0, 0, 0, 0, 0, 0, 0, 0, 0, 0, 0, 0, 0, 0, 0, 0, 0, 0, 0, 0, 0, 0, 0, 0, 0, 0, 0, 0, 0, 0, 0, 0, 0, 0, 0, 0, 0, 0, 0, 0, 0, 0, 0, 0, 0, 0, 0, 0, 0, 0, 0, 0, 0, 0, 0, 0, 0, 0, 0, 0, 0, 0, 0, 0, 0, 0, 0, 0, 0, 0, 0, 0, 0, 0, 0, 0, 0, 0, 0, 0, 0, 0, 0, 0, 0, 0, 0, 0, 0, 0, 0, 0, 0, 0, 0, 0, 0, 0, 0, 0, 0, 0, 0, 0, 0, 0, 0, 0, 0, 0, 0, 0, 0, 0, 0, 0, 0, 0, 0, 0, 0, 0, 0, 0, 0, 0, 0, 0, 0, 0, 0, 0, 0, 0, 0, 0, 0, 0, 0, 0, 0, 0, 0, 0, 0, 0, 0, 0, 0, 0, 0, 0, 0, 0, 0, 0, 0, 0, 0, 0, 0, 0, 0, 0, 0, 0, 0, 0, 0, 0, 0, 0, 0, 0, 0, 0, 0, 0, 0, 0, 0, 0, 0, 0, 0, 0, 0, 0, 0, 0, 0, 0, 0, 0, 0, 0, 0, 0, 0, 0, 0, 0, 0, 0, 0, 0, 0, 0, 0, 0, 0, 0, 0, 0, 0, 0, 0, 0, 0, 0, 0, 0, 0, 0, 0, 0, 0, 0, 0, 0, 0, 0, 0, 0, 0, 0, 0, 0, 0, 0, 0, 0, 0, 0, 0, 0, 0, 0, 0, 0, 0, 0, 0, 0, 0, 0, 0, 0, 0, 0, 0, 0, 0, 0, 0, 0, 0, 0, 0, 0, 0, 0, 0, 0, 0, 0, 0, 0, 0, 0, 0, 0, 0, 0, 0, 0, 0, 0, 0, 0, 0, 0, 0, 0, 0, 0, 0, 0, 0, 0, 0, 0, 0, 0, 0, 0, 0, 0, 0, 0, 0, 0, 0, 0, 0, 0, 0, 0, 0, 0, 0, 0, 0, 0, 0, 0, 0, 0, 0, 0, 0, 0, 0, 0, 0, 0, 0, 0, 0, 0, 0, 0, 0, 0, 0, 0, 0, 0, 0, 0, 0, 0, 0, 0, 0, 0, 0, 0, 0, 0, 0, 0, 0, 0, 0, 0, 0, 0, 0, 0, 0, 0, 0, 0, 0, 0, 0, 0, 0, 0, 0, 0, 0, 0, 0, 0, 0, 0, 0, 0, 0, 0, 0, 0, 0, 0, 0, 0, 0, 0, 0, 0, 0, 0, 0, 0, 0, 0, 0, 0, 0, 0, 0, 0, 0, 0, 0, 0, 0, 0, 0, 0, 0, 0, 0, 0, 0, 0, 0, 0, 0, 0, 0, 0, 0, 0, 0, 0, 0, 0, 0, 0, 0, 0, 0, 0, 0, 0, 0, 0, 0, 0, 0, 0, 0, 0, 0, 0, 0, 0, 0, 0, 0, 0, 0, 0, 0, 0, 0, 0, 0, 0, 0, 0, 0, 0, 0, 0, 0, 0, 0, 0, 0, 0, 0, 0, 0, 0, 0, 0, 0, 0, 0, 0, 0, 0, 0, 0, 0, 0, 0, 0, 0, 0, 0, 0, 0, 0, 0, 0, 0, 0, 0, 0, 0, 0, 0, 0, 0, 0, 0, 0, 0, 0, 0, 0, 0, 0, 0, 0, 0, 0, 0, 0, 0, 0, 0, 0, 0, 0, 0, 0, 0, 0, 0, 0, 0, 0, 0, 0, 0, 0, 0, 0, 0, 0, 0, 0, 0, 0, 0, 0, 0, 0, 0, 0, 0, 0, 0, 0, 0, 0, 0, 0, 0, 0, 0, 0, 0, 0, 0, 0, 0, 0, 0, 0, 0, 0, 0, 0, 0, 0, 0, 0, 0, 0, 0, 0, 0, 0, 0, 0, 0, 0, 0, 0, 0, 0, 0, 0, 0, 0, 0, 0, 0, 0, 0, 0, 0, 0, 0, 0, 0, 0, 0, 0, 0, 0, 0, 0, 0, 0, 0, 0, 0, 0, 0, 0, 0, 0, 0, 0, 0, 0, 0, 0, 0, 0, 0, 0, 0, 0, 0, 0, 0, 0, 0, 0, 0, 0, 0, 0, 0, 0, 0, 0, 0, 0, 0, 0, 0, 0, 0, 0, 0, 0, 0, 0, 0, 0, 0, 0, 0, 0, 0, 0, 0, 0, 0, 0, 0, 0, 0, 0, 0, 0, 0, 0, 0, 0, 0, 0, 0, 0, 0, 0, 0, 0, 0, 0, 0, 0, 0, 0, 0, 0, 0, 0, 0, 0, 0, 0, 0, 0, 0, 0, 0, 0, 0, 0, 0, 0, 0, 0, 0, 0, 0, 0, 0, 0, 0, 0, 0, 0, 0, 0, 0, 0, 0, 0, 0, 0, 0, 0, 0, 0, 0, 0, 0, 0, 0, 0, 0, 0, 0, 0, 0, 0, 0, 0, 0, 0, 0, 0, 0, 0, 0, 0, 0, 0, 0, 0, 0, 0, 0, 0, 0, 0, 0, 0, 0, 0, 0, 0, 0, 0, 0, 0, 0, 0, 0, 0, 0, 0, 0, 0, 0, 0, 0, 0, 0, 0, 0, 0, 0, 0, 0, 0, 0, 0, 0, 0, 0, 0, 0, 0, 0, 0, 0, 0, 0, 0, 0, 0, 0, 0, 0, 0, 0, 0, 0, 0, 0, 0, 0, 0, 0, 0, 0, 0, 0, 0, 0, 0, 0, 0, 0, 0, 0, 0, 0, 0, 0, 0, 0, 0, 0, 0, 0, 0, 0, 0, 0, 0, 0, 0, 0, 0, 0, 0, 0, 0, 0, 0, 0, 0, 0, 0, 0, 0, 0, 0, 0, 0, 0, 0, 0, 0, 0, 0, 0, 0, 0, 0, 0, 0, 0, 0, 0, 0, 0, 0, 0, 0, 0, 0, 0, 0, 0, 0, 0, 0, 0, 0, 0, 0, 0, 0, 0, 0, 0, 0, 0, 0, 0, 0, 0, 0, 0, 0, 0, 0, 0, 0, 0, 0, 0, 0, 0, 0, 0, 0, 0, 0, 0, 0, 0, 0, 0, 0, 0, 0, 0, 0, 0, 0, 0, 0, 0, 0, 0, 0, 0, 0, 0, 0, 0, 0, 0, 0, 0, 0, 0, 0, 0, 0, 0, 0, 0, 0, 0, 0, 0, 0, 0, 0, 0, 0, 0, 0, 0, 0, 0, 0, 0, 0, 0, 0, 0, 0, 0, 0, 0, 0, 0, 0, 0, 0, 0, 0, 0, 0, 0, 0, 0, 0, 0, 0, 0, 0, 0, 0, 0, 0, 0, 0, 0, 0, 0, 0, 0, 0, 0, 0, 0, 0, 0, 0, 0, 0, 0, 0, 0, 0, 0, 0, 0, 0, 0, 0, 0, 0, 0, 0, 0, 0, 0, 0, 0, 0, 0, 0, 0, 0, 0, 0, 0, 0, 0, 0, 0, 0, 0, 0, 0, 0, 0, 0, 0, 0, 0, 0, 0, 0, 0, 0, 0, 0, 0, 0, 0, 0, 0, 0, 0, 0, 0, 0, 0, 0, 0, 0, 0, 0, 0, 0, 0, 0, 0, 0, 0, 0, 0, 0, 0, 0, 0, 0, 0, 0, 0, 0, 0, 0, 0, 0, 0, 0, 0, 0, 0, 0, 0, 0, 0, 0, 0, 0, 0, 0, 0, 0, 0, 0, 0, 0, 0, 0, 0, 0, 0, 0, 0, 0, 0, 0, 0, 0, 0, 0, 0, 0, 0, 0, 0, 0, 0, 0, 0, 0, 0, 0, 0, 0, 0, 0, 0, 0, 0, 0, 0, 0, 0, 0, 0, 0, 0, 0, 0, 0, 0, 0, 0, 0, 0, 0, 0, 0, 0, 0, 0, 0, 0, 0, 0, 0, 0, 0, 0, 0, 0, 0, 0, 0, 0, 0, 0, 0, 0, 0, 0, 0, 0, 0, 0, 0, 0, 0, 0, 0, 0, 0, 0, 0, 0, 0, 0, 0, 0, 0, 0, 0, 0, 0, 0, 0, 0, 0, 0, 0, 0, 0, 0, 0, 0, 0, 0, 0, 0, 0, 0, 0, 0, 0, 0, 0, 0, 0, 0, 0, 0, 0, 0, 0, 0, 0, 0, 0, 0, 0, 0, 0, 0, 0, 0, 0, 0, 0, 0, 0, 0, 0, 0, 0, 0, 0, 0, 0, 0, 0, 0, 0, 0, 0, 0, 0, 0, 0, 0, 0, 0, 0, 0, 0, 0, 0, 0, 0, 0, 0, 0, 0, 0, 0, 0, 0, 0, 0, 0, 0, 0, 0, 0, 0, 0, 0, 0, 0, 0, 0, 0, 0, 0, 0, 0, 0, 0, 0, 0, 0, 0, 0, 0, 0, 0, 0, 0, 0, 0, 0, 0, 0, 0, 0, 0, 0, 0, 0, 0, 0, 0, 0, 0, 0, 0, 0, 0, 0, 0, 0, 0, 0, 0, 0, 0, 0, 0, 0, 0, 0, 0, 0, 0, 0, 0, 0, 0, 0, 0, 0, 0, 0, 0, 0, 0, 0, 0, 0, 0, 0, 0, 0, 0, 0, 0, 0, 0, 0, 0, 0, 0, 0, 0, 0, 0, 0, 0, 0, 0, 0, 0, 0, 0, 0, 0, 0, 0, 0, 0, 0, 0, 0, 0, 0, 0, 0, 0, 0, 0, 0, 0, 0, 0, 0, 0, 0, 0, 0, 0, 0, 0, 0, 0, 0, 0, 0, 0, 0, 0, 0, 0, 0, 0, 0, 0, 0, 0, 0, 0, 0, 0, 0, 0, 0, 0, 0, 0, 0, 0, 0, 0, 0, 0, 0, 0, 0, 0, 0, 0, 0, 0, 0, 0, 0, 0, 0, 0, 0, 0, 0, 0, 0, 0, 0, 0, 0, 0, 0, 0, 0, 0, 0, 0, 0, 0, 0, 0, 0, 0, 0, 0, 0, 0, 0, 0, 0, 0, 0, 0, 0, 0, 0, 0, 0, 0, 0, 0, 0, 0, 0, 0, 0, 0, 0, 0, 0, 0, 0, 0, 0, 0, 0, 0, 0, 0, 0, 0, 0, 0, 0, 0, 0, 0, 0, 0, 0, 0, 0, 0, 0, 0, 0, 0, 0, 0, 0, 0, 0, 0, 0, 0, 0, 0, 0, 0, 0, 0, 0, 0, 0, 0, 0, 0, 0, 0, 0, 0, 0, 0, 0, 0, 0, 0, 0, 0, 0, 0, 0, 0, 0, 0, 0, 0, 0, 0, 0, 0, 0, 0, 0, 0, 0, 0, 0, 0, 0, 0, 0, 0, 0, 0, 0, 0, 0, 0, 0, 0, 0, 0, 0, 0, 0, 0, 0, 0, 0, 0, 0, 0, 0, 0, 0, 0, 0, 0, 0, 0, 0, 0, 0, 0, 0, 0, 0, 0, 0, 0, 0, 0, 0, 0, 0, 0, 0, 0, 0, 0, 0, 0, 0, 0, 0, 0, 0, 0, 0, 0, 0, 0, 0, 0, 0, 0, 0, 0, 0, 0, 0, 0, 0, 0, 0, 0, 0, 0, 0, 0, 0, 0, 0, 0, 0, 0, 0, 0, 0, 0, 0, 0, 0, 0, 0, 0, 0, 0, 0, 0, 0, 0, 0, 0, 0, 0, 0, 0, 0, 0, 0, 0, 0, 0, 0, 0, 0, 0, 0, 0, 0, 0, 0, 0, 0, 0, 0, 0, 0, 0, 0, 0, 0, 0, 0, 0, 0, 0, 0, 0, 0, 0, 0, 0, 0, 0, 0, 0, 0, 0, 0, 0, 0, 0, 0, 0, 0, 0, 0, 0, 0, 0, 0, 0, 0, 0, 0, 0, 0, 0, 0, 0, 0, 0, 0, 0, 0, 0, 0, 0, 0, 0, 0, 0, 0, 0, 0, 0, 0, 0, 0, 0, 0, 0, 0, 0, 0, 0, 0, 0, 0, 0, 0, 0, 0, 0, 0, 0, 0, 0, 0, 0, 0, 0, 0, 0, 0, 0, 0, 0, 0, 0, 0, 0, 0, 0, 0, 0, 0, 0, 0, 0, 0, 0, 0, 0, 0, 0, 0, 0, 0, 0, 0, 0, 0, 0, 0, 0, 0, 0, 0, 0, 0, 0, 0, 0, 0, 0, 0, 0, 0, 0, 0, 0, 0, 0, 0, 0, 0, 0, 0, 0, 0, 0, 0, 0, 0, 0, 0, 0, 0, 0, 0, 0, 0, 0, 0, 0, 0, 0, 0, 0, 0, 0, 0, 0, 0, 0, 0, 0, 0, 0, 0, 0, 0, 0, 0, 0, 0, 0, 0, 0, 0, 0, 0, 0, 0, 0, 0, 0, 0, 0, 0, 0, 0, 0, 0, 0, 0, 0, 0, 0, 0, 0, 0, 0, 0, 0, 0, 0, 0, 0, 0, 0, 0, 0, 0, 0, 0, 0, 0, 0, 0, 0, 0, 0, 0, 0, 0, 0, 0, 0, 0, 0, 0, 0, 0, 0, 0, 0, 0, 0, 0, 0, 0, 0, 0, 0, 0, 0, 0, 0, 0, 0, 0, 0, 0, 0, 0, 0, 0, 0, 0, 0, 0, 0, 0, 0, 0, 0, 0, 0, 0, 0, 0, 0, 0, 0, 0, 0, 0, 0, 0, 0, 0, 0, 0, 0, 0, 0, 0, 0, 0, 0, 0, 0, 0, 0, 0, 0, 0, 0, 0, 0, 0, 0, 0, 0, 0, 0, 0, 0, 0, 0, 0, 0, 0, 0, 0, 0, 0, 0, 0, 0, 0, 0, 0, 0, 0, 0, 0, 0, 0, 0, 0, 0, 0, 0, 0, 0, 0, 0, 0, 0, 0, 0, 0, 0, 0, 0, 0, 0, 0, 0, 0, 0, 0, 0, 0, 0, 0, 0, 0, 0, 0, 0, 0, 0, 0, 0, 0, 0, 0, 0, 0, 0, 0, 0, 0, 0, 0, 0, 0, 0, 0, 0, 0, 0, 0, 0, 0, 0, 0, 0, 0, 0, 0, 0, 0, 0, 0, 0, 0, 0, 0, 0, 0, 0, 0, 0, 0, 0, 0, 0, 0, 0, 0, 0, 0, 0, 0, 0, 0, 0, 0, 0, 0, 0, 0, 0, 0, 0, 0, 0, 0, 0, 0, 0, 0, 0, 0, 0, 0, 0, 0, 0, 0, 0, 0, 0, 0, 0, 0, 0, 0, 0, 0, 0, 0, 0, 0, 0, 0, 0, 0, 0, 0, 0, 0, 0, 0, 0, 0, 0, 0, 0, 0, 0, 0, 0, 0, 0, 0, 0, 0, 0, 0, 0, 0, 0, 0, 0, 0, 0, 0, 0, 0, 0, 0, 0, 0, 0, 0, 0, 0, 0, 0, 0, 0, 0, 0, 0, 0, 0, 0, 0, 0, 0, 0, 0, 0, 0, 0, 0, 0, 0, 0, 0, 0, 0, 0, 0, 0, 0, 0, 0, 0, 0, 0, 0, 0, 0, 0, 0, 0, 0, 0, 0, 0, 0, 0, 0, 0, 0, 0, 0, 0, 0, 0, 0, 0, 0, 0, 0, 0, 0, 0, 0, 0, 0, 0, 0, 0, 0, 0, 0, 0, 0, 0, 0, 0, 0, 0, 0, 0, 0, 0, 0, 0, 0, 0, 0, 0, 0, 0, 0, 0, 0, 0, 0, 0, 0, 0, 0, 0, 0, 0, 0, 0, 0, 0, 0, 0, 0, 0, 0, 0, 0, 0, 0, 0, 0, 0, 0, 0, 0, 0, 0, 0, 0, 0, 0, 0, 0, 0, 0, 0, 0, 0, 0, 0, 0, 0, 0, 0, 0, 0, 0, 0, 0, 0, 0, 0, 0, 0, 0, 0, 0, 0, 0, 0, 0, 0, 0, 0, 0, 0, 0, 0, 0, 0, 0, 0, 0, 0, 0, 0, 0, 0, 0, 0, 0, 0, 0, 0, 0, 0, 0, 0, 0, 0, 0, 0, 0, 0, 0, 0, 0, 0, 0, 0, 0, 0, 0, 0, 0, 0, 0, 0, 0, 0, 0, 0, 0, 0, 0, 0, 0, 0, 0, 0, 0, 0, 0, 0, 0, 0, 0, 0, 0, 0, 0, 0, 0, 0, 0, 0, 0, 0, 0, 0, 0, 0, 0, 0, 0, 0, 0, 0, 0, 0, 0, 0, 0, 0, 0, 0, 0, 0, 0, 0, 0, 0, 0, 0, 0, 0, 0, 0, 0, 0, 0, 0, 0, 0, 0, 0, 0, 0, 0, 0, 0, 0, 0, 0, 0, 0, 0, 0, 0, 0, 0, 0, 0, 0, 0, 0, 0, 0, 0, 0, 0, 0, 0, 0, 0, 0, 0, 0, 0, 0, 0, 0, 0, 0, 0, 0, 0, 0, 0, 0, 0, 0, 0, 0, 0, 0, 0, 0, 0, 0, 0, 0, 0, 0, 0, 0, 0, 0, 0, 0, 0, 0, 0, 0, 0, 0, 0, 0, 0, 0, 0, 0, 0, 0, 0, 0, 0, 0, 0, 0, 0, 0, 0, 0, 0, 0, 0, 0, 0, 0, 0, 0, 0, 0, 0, 0, 0, 0, 0, 0, 0, 0, 0, 0, 0, 0, 0, 0, 0, 0, 0, 0, 0, 0, 0, 0, 0, 0, 0, 0, 0, 0, 0, 0, 0, 0, 0, 0, 0, 0, 0, 0, 0, 0, 0, 0, 0, 0, 0, 0, 0, 0, 0, 0, 0, 0, 0, 0, 0, 0, 0, 0, 0, 0, 0, 0, 0, 0, 0, 0, 0, 0, 0, 0, 0, 0, 0, 0, 0, 0, 0, 0, 0, 0, 0, 0, 0, 0, 0, 0, 0, 0, 0, 0, 0, 0, 0, 0, 0, 0, 0, 0, 0, 0, 0, 0, 0, 0, 0, 0, 0, 0, 0, 0, 0, 0, 0, 0, 0, 0, 0, 0, 0, 0, 0, 0, 0, 0, 0, 0, 0, 0, 0, 0, 0, 0, 0, 0, 0, 0, 0, 0, 0, 0, 0, 0, 0, 0, 0, 0, 0, 0, 0, 0, 0, 0, 0, 0, 0, 0, 0, 0, 0, 0, 0, 0, 0, 0, 0, 0, 0, 0, 0, 0, 0, 0, 0, 0, 0, 0, 0, 0, 0, 0, 0, 0, 0, 0, 0, 0, 0, 0, 0, 0, 0, 0, 0, 0, 0, 0, 0, 0, 0, 0, 0, 0, 0, 0, 0, 0, 0, 0, 0, 0, 0, 0, 0, 0, 0, 0, 0, 0, 0, 0, 0, 0, 0, 0, 0, 0, 0, 0, 0, 0, 0, 0, 0, 0, 0, 0, 0, 0, 0, 0, 0, 0, 0, 0, 0, 0, 0, 0, 0, 0, 0, 0, 0, 0, 0, 0, 0, 0, 0, 0, 0, 0, 0, 0, 0, 0, 0, 0, 0, 0, 0, 0, 0, 0, 0, 0, 0, 0, 0, 0, 0, 0, 0, 0, 0, 0, 0, 0, 0, 0, 0, 0, 0, 0, 0, 0, 0, 0, 0, 0, 0, 0, 0, 0, 0, 0, 0, 0, 0, 0, 0, 0, 0, 0, 0, 0, 0, 0, 0, 0, 0, 0, 0, 0, 0, 0, 0, 0, 0, 0, 0, 0, 0, 0, 0, 0, 0, 0, 0, 0, 0, 0, 0, 0, 0, 0, 0, 0, 0, 0, 0, 0, 0, 0, 0, 0, 0, 0, 0, 0, 0, 0, 0, 0, 0, 0, 0, 0, 0, 0, 0, 0, 0, 0, 0, 0, 0, 0, 0, 0, 0, 0, 0, 0, 0, 0, 0, 0, 0, 0, 0, 0, 0, 0, 0, 0, 0, 0, 0, 0, 0, 0, 0, 0, 0, 0, 0, 0, 0, 0, 0, 0, 0, 0, 0, 0, 0, 0, 0, 0, 0, 0, 0, 0, 0, 0, 0, 0, 0, 0, 0, 0, 0, 0, 0, 0, 0, 0, 0, 0, 0, 0, 0, 0, 0, 0, 0, 0, 0, 0, 0, 0, 0, 0, 0, 0, 0, 0, 0, 0, 0, 0, 0, 0, 0, 0, 0, 0, 0, 0, 0, 0, 0, 0, 0, 0, 0, 0, 0, 0, 0, 0, 0, 0, 0, 0, 0, 0, 0, 0, 0, 0, 0, 0, 0, 0, 0, 0, 0, 0, 0, 0, 0, 0, 0, 0, 0, 0, 0, 0, 0, 0, 0, 0, 0, 0, 0, 0, 0, 0, 0, 0, 0, 0, 0, 0, 0, 0, 0, 0, 0, 0, 0, 0, 0, 0, 0, 0, 0, 0, 0, 0, 0, 0, 0, 0, 0, 0, 0, 0, 0, 0, 0, 0, 0, 0, 0, 0, 0, 0, 0, 0, 0, 0, 0, 0, 0, 0, 0, 0, 0, 0, 0, 0, 0, 0, 0, 0, 0, 0, 0, 0, 0, 0, 0, 0, 0, 0, 0, 0, 0, 0, 0, 0, 0, 0, 0, 0, 0, 0, 0, 0, 0, 0, 0, 0, 0, 0, 0, 0, 0, 0, 0, 0, 0, 0, 0, 0, 0, 0, 0, 0, 0, 0, 0, 0, 0, 0, 0, 0, 0, 0, 0, 0, 0, 0, 0, 0, 0, 0, 0, 0, 0, 0, 0, 0, 0, 0, 0, 0, 0, 0, 0, 0, 0, 0, 0, 0, 0, 0, 0, 0, 0, 0, 0, 0, 0, 0, 0, 0, 0, 0, 0, 0, 0, 0, 0, 0, 0, 0, 0, 0, 0, 0, 0, 0, 0, 0, 0, 0, 0, 0, 0, 0, 0, 0, 0, 0, 0, 0, 0, 0, 0, 0, 0, 0, 0, 0, 0, 0, 0, 0, 0, 0, 0, 0, 0, 0, 0, 0, 0, 0, 0, 0, 0, 0, 0, 0, 0, 0, 0, 0, 0, 0, 0, 0, 0, 0, 0, 0, 0, 0, 0, 0, 0, 0, 0, 0, 0, 0, 0, 0, 0, 0, 0, 0, 0, 0, 0, 0, 0, 0, 0, 0, 0, 0, 0, 0, 0, 0, 0, 0, 0, 0, 0, 0, 0, 0, 0, 0, 0, 0, 0, 0, 0, 0, 0, 0, 0, 0, 0, 0, 0, 0, 0, 0, 0, 0, 0, 0, 0, 0, 0, 0, 0, 0, 0, 0, 0, 0, 0, 0, 0, 0, 0, 0, 0, 0, 0, 0, 0, 0, 0, 0, 0, 0, 0, 0, 0, 0, 0, 0, 0, 0, 0, 0, 0, 0, 0, 0, 0, 0, 0, 0, 0, 0, 0, 0, 0, 0, 0, 0, 0, 0, 0, 0, 0, 0, 0, 0, 0, 0, 0, 0, 0, 0, 0, 0, 0, 0, 0, 0, 0, 0, 0, 0, 0, 0, 0, 0, 0, 0, 0, 0, 0, 0, 0, 0, 0, 0, 0, 0, 0, 0, 0, 0, 0, 0, 0, 0, 0, 0, 0, 0, 0, 0, 0, 0, 0, 0, 0, 0, 0, 0, 0, 0, 0, 0, 0, 0, 0, 0, 0, 0, 0, 0, 0, 0, 0, 0, 0, 0, 0, 0, 0, 0, 0, 0, 0, 0, 0, 0, 0, 0, 0, 0, 0, 0, 0, 0, 0, 0, 0, 0, 0, 0, 0, 0, 0, 0, 0, 0, 0, 0, 0, 0, 0, 0, 0, 0, 0, 0, 0, 0, 0, 0, 0, 0, 0, 0, 0, 0, 0, 0, 0, 0, 0, 0, 0, 0, 0, 0, 0, 0, 0, 0, 0, 0, 0, 0, 0, 0, 0, 0, 0, 0, 0, 0, 0, 0, 0, 0, 0, 0, 0, 0, 0, 0, 0, 0, 0, 0, 0, 0, 0, 0, 0, 0, 0, 0, 0, 0, 0, 0, 0, 0, 0, 0, 0, 0, 0, 0, 0, 0, 0, 0, 0, 0, 0, 0, 0, 0, 0, 0, 0, 0, 0, 0, 0, 0, 0, 0, 0, 0, 0, 0, 0, 0, 0, 0, 0, 0, 0, 0, 0, 0, 0, 0, 0, 0, 0, 0, 0, 0, 0, 0, 0, 0, 0, 0, 0, 0, 0, 0, 0, 0, 0, 0, 0, 0, 0, 0, 0, 0, 0, 0, 0, 0, 0, 0, 0, 0, 0, 0, 0, 0, 0, 0, 0, 0, 0, 0, 0, 0, 0, 0, 0, 0, 0, 0, 0, 0, 0, 0, 0, 0, 0, 0, 0, 0, 0, 0, 0, 0, 0, 0, 0, 0, 0, 0, 0, 0, 0, 0, 0, 0, 0, 0, 0, 0, 0, 0, 0, 0, 0, 0, 0, 0, 0, 0, 0, 0, 0, 0, 0, 0, 0, 0, 0, 0, 0, 0, 0, 0, 0, 0, 0, 0, 0, 0, 0, 0, 0, 0, 0, 0, 0, 0, 0, 0, 0, 0, 0, 0, 0, 0, 0, 0, 0, 0, 0, 0, 0, 0, 0, 0, 0, 0, 0, 0, 0, 0, 0, 0, 0, 0, 0, 0, 0, 0, 0, 0, 0, 0, 0, 0, 0, 0, 0, 0, 0, 0, 0, 0, 0, 0, 0, 0, 0, 0, 0, 0, 0, 0, 0, 0, 0, 0, 0, 0, 0, 0, 0, 0, 0, 0, 0, 0, 0, 0, 0, 0, 0, 0, 0, 0, 0, 0, 0, 0, 0, 0, 0, 0, 0, 0, 0, 0, 0, 0, 0, 0, 0, 0, 0, 0, 0, 0, 0, 0, 0, 0, 0, 0, 0, 0, 0, 0, 0, 0, 0, 0, 0, 0, 0, 0, 0, 0, 0, 0, 0, 0, 0, 0, 0, 0, 0, 0, 0, 0, 0, 0, 0, 0, 0, 0, 0, 0, 0, 0, 0, 0, 0, 0, 0, 0, 0, 0, 0, 0, 0, 0, 0, 0, 0, 0, 0, 0, 0, 0, 0, 0, 0, 0, 0, 0, 0, 0, 0, 0, 0, 0, 0, 0, 0, 0, 0, 0, 0, 0, 0, 0, 0, 0, 0, 0, 0, 0, 0, 0, 0, 0, 0, 0, 0, 0, 0, 0, 0, 0, 0, 0, 0, 0, 0, 0, 0, 0, 0, 0, 0, 0, 0, 0, 0, 0, 0, 0, 0, 0, 0, 0, 0, 0, 0, 0, 0, 0, 0, 0, 0, 0, 0, 0, 0, 0, 0, 0, 0, 0, 0, 0, 0, 0, 0, 0, 0, 0, 0, 0, 0, 0, 0, 0, 0, 0, 0, 0, 0, 0, 0, 0, 0, 0, 0, 0, 0, 0, 0, 0, 0, 0, 0, 0, 0, 0, 0, 0, 0, 0, 0, 0, 0, 0, 0, 0, 0, 0, 0, 0, 0, 0, 0, 0, 0, 0, 0, 0, 0, 0, 0, 0, 0, 0, 0, 0, 0, 0, 0, 0, 0, 0, 0, 0, 0, 0, 0, 0, 0, 0, 0, 0, 0, 0, 0, 0, 0, 0, 0, 0, 0, 0, 0, 0, 0, 0, 0, 0, 0, 0, 0, 0, 0, 0, 0, 0, 0, 0, 0, 0, 0, 0, 0, 0, 0, 0, 0, 0, 0, 0, 0, 0, 0, 0, 0, 0, 0, 0, 0, 0, 0, 0, 0, 0, 0, 0, 0, 0, 0, 0, 0, 0, 0, 0, 0, 0, 0, 0, 0, 0, 0, 0, 0, 0, 0, 0, 0, 0, 0, 0, 0, 0, 0, 0, 0, 0, 0, 0, 0, 0, 0, 0, 0, 0, 0, 0, 0, 0, 0, 0, 0, 0, 0, 0, 0, 0, 0, 0, 0, 0, 0, 0, 0, 0, 0, 0, 0, 0, 0, 0, 0, 0, 0, 0, 0, 0, 0, 0, 0, 0, 0, 0, 0, 0, 0, 0, 0, 0, 0, 0, 0, 0, 0, 0, 0, 0, 0, 0, 0, 0, 0, 0, 0, 0, 0, 0, 0, 0, 0, 0, 0, 0, 0, 0, 0, 0, 0, 0, 0, 0, 0, 0, 0, 0, 0, 0, 0, 0, 0, 0, 0, 0, 0, 0, 0, 0, 0, 0, 0, 0, 0, 0, 0, 0, 0, 0, 0, 0, 0, 0, 0, 0, 0, 0, 0, 0, 0, 0, 0, 0, 0, 0, 0, 0, 0, 0, 0, 0, 0, 0, 0, 0, 0, 0, 0, 0, 0, 0, 0, 0, 0, 0, 0, 0, 0, 0, 0, 0, 0, 0, 0, 0, 0, 0, 0, 0, 0, 0, 0, 0, 0, 0, 0, 0, 0, 0, 0, 0, 0, 0, 0, 0, 0, 0, 0, 0, 0, 0, 0, 0, 0, 0, 0, 0, 0, 0, 0, 0, 0, 0, 0, 0, 0, 0, 0, 0, 0, 0, 0, 0, 0, 0, 0, 0, 0, 0, 0, 0, 0, 0, 0, 0, 0, 0, 0, 0, 0, 0, 0, 0, 0, 0, 0, 0, 0, 0, 0, 0, 0, 0, 0, 0, 0, 0, 0, 0, 0, 0, 0, 0, 0, 0, 0, 0, 0, 0, 0, 0, 0, 0, 0, 0, 0, 0, 0, 0, 0, 0, 0, 0, 0, 0, 0, 0, 0, 0, 0, 0, 0, 0, 0, 0, 0, 0, 0, 0, 0, 0, 0, 0, 0, 0, 0, 0, 0, 0, 0, 0, 0, 0, 0, 0, 0, 0, 0, 0, 0, 0, 0, 0, 0, 0, 0, 0, 0, 0, 0, 0, 0, 0, 0, 0, 0, 0, 0, 0, 0, 0, 0, 0, 0, 0, 0, 0, 0, 0, 0, 0, 0, 0, 0, 0, 0, 0, 0, 0, 0, 0, 0, 0, 0, 0, 0, 0, 0, 0, 0, 0, 0, 0, 0, 0, 0, 0, 0, 0, 0, 0, 0, 0, 0, 0, 0, 0, 0, 0, 0, 0, 0, 0, 0, 0, 0, 0, 0, 0, 0, 0, 0, 0, 0, 0, 0, 0, 0, 0, 0, 0, 0, 0, 0, 0, 0, 0, 0, 0, 0, 0, 0, 0, 0, 0, 0, 0, 0, 0, 0, 0, 0, 0, 0, 0, 0, 0, 0, 0, 0, 0, 0, 0, 0, 0, 0, 0, 0, 0, 0, 0, 0, 0, 0, 0, 0, 0, 0, 0, 0, 0, 0, 0, 0, 0, 0, 0, 0, 0, 0, 0, 0, 0, 0, 0, 0, 0, 0, 0, 0, 0, 0, 0, 0, 0, 0, 0, 0, 0, 0, 0, 0, 0, 0, 0, 0, 0, 0, 0, 0, 0, 0, 0, 0, 0, 0, 0, 0, 0, 0, 0, 0, 0, 0, 0, 0, 0, 0, 0, 0, 0, 0, 0, 0, 0, 0, 0, 0, 0, 0, 0, 0, 0, 0, 0, 0, 0, 0, 0, 0, 0, 0, 0, 0, 0, 0, 0, 0, 0, 0, 0, 0, 0, 0, 0, 0, 0, 0, 0, 0, 0, 0, 0, 0, 0, 0, 0, 0, 0, 0, 0, 0, 0, 0, 0, 0, 0, 0, 0, 0, 0, 0, 0, 0, 0, 0, 0, 0, 0, 0, 0, 0, 0, 0, 0]\n",
            "torch.Size([1, 1, 23077])\n"
          ],
          "name": "stdout"
        },
        {
          "output_type": "stream",
          "text": [
            "/usr/local/lib/python3.6/dist-packages/ipykernel_launcher.py:6: UserWarning: To copy construct from a tensor, it is recommended to use sourceTensor.clone().detach() or sourceTensor.clone().detach().requires_grad_(True), rather than torch.tensor(sourceTensor).\n",
            "  \n",
            "/usr/local/lib/python3.6/dist-packages/ipykernel_launcher.py:16: UserWarning: To copy construct from a tensor, it is recommended to use sourceTensor.clone().detach() or sourceTensor.clone().detach().requires_grad_(True), rather than torch.tensor(sourceTensor).\n",
            "  app.launch_new_instance()\n",
            "/usr/local/lib/python3.6/dist-packages/ipykernel_launcher.py:17: UserWarning: To copy construct from a tensor, it is recommended to use sourceTensor.clone().detach() or sourceTensor.clone().detach().requires_grad_(True), rather than torch.tensor(sourceTensor).\n"
          ],
          "name": "stderr"
        },
        {
          "output_type": "error",
          "ename": "RuntimeError",
          "evalue": "ignored",
          "traceback": [
            "\u001b[0;31m---------------------------------------------------------------------------\u001b[0m",
            "\u001b[0;31mRuntimeError\u001b[0m                              Traceback (most recent call last)",
            "\u001b[0;32m<ipython-input-106-8201c2855560>\u001b[0m in \u001b[0;36m<module>\u001b[0;34m()\u001b[0m\n\u001b[0;32m----> 1\u001b[0;31m \u001b[0mtranslate\u001b[0m\u001b[0;34m(\u001b[0m\u001b[0mbest_model\u001b[0m\u001b[0;34m,\u001b[0m \u001b[0;34m'D’où venez-vous?'\u001b[0m\u001b[0;34m)\u001b[0m\u001b[0;34m\u001b[0m\u001b[0;34m\u001b[0m\u001b[0m\n\u001b[0m",
            "\u001b[0;32m<ipython-input-105-9700900b8882>\u001b[0m in \u001b[0;36mtranslate\u001b[0;34m(best_model, word)\u001b[0m\n\u001b[1;32m     17\u001b[0m         \u001b[0mdec_inp\u001b[0m \u001b[0;34m=\u001b[0m \u001b[0mmodel\u001b[0m\u001b[0;34m.\u001b[0m\u001b[0mdec_emb\u001b[0m\u001b[0;34m(\u001b[0m\u001b[0mtorch\u001b[0m\u001b[0;34m.\u001b[0m\u001b[0mtensor\u001b[0m\u001b[0;34m(\u001b[0m\u001b[0minps\u001b[0m\u001b[0;34m[\u001b[0m\u001b[0;34m-\u001b[0m\u001b[0;36m1\u001b[0m\u001b[0;34m]\u001b[0m\u001b[0;34m)\u001b[0m\u001b[0;34m[\u001b[0m\u001b[0;32mNone\u001b[0m\u001b[0;34m]\u001b[0m\u001b[0;34m[\u001b[0m\u001b[0;32mNone\u001b[0m\u001b[0;34m]\u001b[0m\u001b[0;34m.\u001b[0m\u001b[0mto\u001b[0m\u001b[0;34m(\u001b[0m\u001b[0mdevice\u001b[0m\u001b[0;34m)\u001b[0m\u001b[0;34m)\u001b[0m\u001b[0;34m\u001b[0m\u001b[0;34m\u001b[0m\u001b[0m\n\u001b[1;32m     18\u001b[0m         \u001b[0;32mfor\u001b[0m \u001b[0mdec_layer\u001b[0m \u001b[0;32min\u001b[0m \u001b[0mmodel\u001b[0m\u001b[0;34m.\u001b[0m\u001b[0mdecoder\u001b[0m\u001b[0;34m:\u001b[0m\u001b[0;34m\u001b[0m\u001b[0;34m\u001b[0m\u001b[0m\n\u001b[0;32m---> 19\u001b[0;31m             \u001b[0mout\u001b[0m \u001b[0;34m=\u001b[0m \u001b[0mdec_layer\u001b[0m\u001b[0;34m(\u001b[0m\u001b[0mdec_inp\u001b[0m\u001b[0;34m,\u001b[0m \u001b[0menc\u001b[0m\u001b[0;34m)\u001b[0m\u001b[0;34m\u001b[0m\u001b[0;34m\u001b[0m\u001b[0m\n\u001b[0m\u001b[1;32m     20\u001b[0m \u001b[0;34m\u001b[0m\u001b[0m\n\u001b[1;32m     21\u001b[0m         \u001b[0mfin_out\u001b[0m \u001b[0;34m=\u001b[0m \u001b[0mmodel\u001b[0m\u001b[0;34m.\u001b[0m\u001b[0mout\u001b[0m\u001b[0;34m(\u001b[0m\u001b[0mout\u001b[0m\u001b[0;34m)\u001b[0m\u001b[0;34m\u001b[0m\u001b[0;34m\u001b[0m\u001b[0m\n",
            "\u001b[0;32m/usr/local/lib/python3.6/dist-packages/torch/nn/modules/module.py\u001b[0m in \u001b[0;36m__call__\u001b[0;34m(self, *input, **kwargs)\u001b[0m\n\u001b[1;32m    548\u001b[0m             \u001b[0mresult\u001b[0m \u001b[0;34m=\u001b[0m \u001b[0mself\u001b[0m\u001b[0;34m.\u001b[0m\u001b[0m_slow_forward\u001b[0m\u001b[0;34m(\u001b[0m\u001b[0;34m*\u001b[0m\u001b[0minput\u001b[0m\u001b[0;34m,\u001b[0m \u001b[0;34m**\u001b[0m\u001b[0mkwargs\u001b[0m\u001b[0;34m)\u001b[0m\u001b[0;34m\u001b[0m\u001b[0;34m\u001b[0m\u001b[0m\n\u001b[1;32m    549\u001b[0m         \u001b[0;32melse\u001b[0m\u001b[0;34m:\u001b[0m\u001b[0;34m\u001b[0m\u001b[0;34m\u001b[0m\u001b[0m\n\u001b[0;32m--> 550\u001b[0;31m             \u001b[0mresult\u001b[0m \u001b[0;34m=\u001b[0m \u001b[0mself\u001b[0m\u001b[0;34m.\u001b[0m\u001b[0mforward\u001b[0m\u001b[0;34m(\u001b[0m\u001b[0;34m*\u001b[0m\u001b[0minput\u001b[0m\u001b[0;34m,\u001b[0m \u001b[0;34m**\u001b[0m\u001b[0mkwargs\u001b[0m\u001b[0;34m)\u001b[0m\u001b[0;34m\u001b[0m\u001b[0;34m\u001b[0m\u001b[0m\n\u001b[0m\u001b[1;32m    551\u001b[0m         \u001b[0;32mfor\u001b[0m \u001b[0mhook\u001b[0m \u001b[0;32min\u001b[0m \u001b[0mself\u001b[0m\u001b[0;34m.\u001b[0m\u001b[0m_forward_hooks\u001b[0m\u001b[0;34m.\u001b[0m\u001b[0mvalues\u001b[0m\u001b[0;34m(\u001b[0m\u001b[0;34m)\u001b[0m\u001b[0;34m:\u001b[0m\u001b[0;34m\u001b[0m\u001b[0;34m\u001b[0m\u001b[0m\n\u001b[1;32m    552\u001b[0m             \u001b[0mhook_result\u001b[0m \u001b[0;34m=\u001b[0m \u001b[0mhook\u001b[0m\u001b[0;34m(\u001b[0m\u001b[0mself\u001b[0m\u001b[0;34m,\u001b[0m \u001b[0minput\u001b[0m\u001b[0;34m,\u001b[0m \u001b[0mresult\u001b[0m\u001b[0;34m)\u001b[0m\u001b[0;34m\u001b[0m\u001b[0;34m\u001b[0m\u001b[0m\n",
            "\u001b[0;32m<ipython-input-45-74b5d70c5fbc>\u001b[0m in \u001b[0;36mforward\u001b[0;34m(self, x, enc, mask_out)\u001b[0m\n\u001b[1;32m      9\u001b[0m         \u001b[0mself\u001b[0m\u001b[0;34m.\u001b[0m\u001b[0mdevice\u001b[0m \u001b[0;34m=\u001b[0m \u001b[0mdevice\u001b[0m\u001b[0;34m\u001b[0m\u001b[0;34m\u001b[0m\u001b[0m\n\u001b[1;32m     10\u001b[0m \u001b[0;34m\u001b[0m\u001b[0m\n\u001b[0;32m---> 11\u001b[0;31m     \u001b[0;32mdef\u001b[0m \u001b[0mforward\u001b[0m\u001b[0;34m(\u001b[0m\u001b[0mself\u001b[0m\u001b[0;34m,\u001b[0m \u001b[0mx\u001b[0m\u001b[0;34m,\u001b[0m \u001b[0menc\u001b[0m\u001b[0;34m,\u001b[0m \u001b[0mmask_out\u001b[0m\u001b[0;34m=\u001b[0m\u001b[0;32mNone\u001b[0m\u001b[0;34m)\u001b[0m\u001b[0;34m:\u001b[0m \u001b[0;32mreturn\u001b[0m \u001b[0mself\u001b[0m\u001b[0;34m.\u001b[0m\u001b[0mff\u001b[0m\u001b[0;34m(\u001b[0m\u001b[0mself\u001b[0m\u001b[0;34m.\u001b[0m\u001b[0mmha2\u001b[0m\u001b[0;34m(\u001b[0m\u001b[0mself\u001b[0m\u001b[0;34m.\u001b[0m\u001b[0mmha1\u001b[0m\u001b[0;34m(\u001b[0m\u001b[0mx\u001b[0m\u001b[0;34m,\u001b[0m \u001b[0mx\u001b[0m\u001b[0;34m,\u001b[0m \u001b[0mmask_out\u001b[0m\u001b[0;34m)\u001b[0m\u001b[0;34m,\u001b[0m \u001b[0menc\u001b[0m\u001b[0;34m)\u001b[0m\u001b[0;34m)\u001b[0m\u001b[0;34m\u001b[0m\u001b[0;34m\u001b[0m\u001b[0m\n\u001b[0m",
            "\u001b[0;32m/usr/local/lib/python3.6/dist-packages/torch/nn/modules/module.py\u001b[0m in \u001b[0;36m__call__\u001b[0;34m(self, *input, **kwargs)\u001b[0m\n\u001b[1;32m    548\u001b[0m             \u001b[0mresult\u001b[0m \u001b[0;34m=\u001b[0m \u001b[0mself\u001b[0m\u001b[0;34m.\u001b[0m\u001b[0m_slow_forward\u001b[0m\u001b[0;34m(\u001b[0m\u001b[0;34m*\u001b[0m\u001b[0minput\u001b[0m\u001b[0;34m,\u001b[0m \u001b[0;34m**\u001b[0m\u001b[0mkwargs\u001b[0m\u001b[0;34m)\u001b[0m\u001b[0;34m\u001b[0m\u001b[0;34m\u001b[0m\u001b[0m\n\u001b[1;32m    549\u001b[0m         \u001b[0;32melse\u001b[0m\u001b[0;34m:\u001b[0m\u001b[0;34m\u001b[0m\u001b[0;34m\u001b[0m\u001b[0m\n\u001b[0;32m--> 550\u001b[0;31m             \u001b[0mresult\u001b[0m \u001b[0;34m=\u001b[0m \u001b[0mself\u001b[0m\u001b[0;34m.\u001b[0m\u001b[0mforward\u001b[0m\u001b[0;34m(\u001b[0m\u001b[0;34m*\u001b[0m\u001b[0minput\u001b[0m\u001b[0;34m,\u001b[0m \u001b[0;34m**\u001b[0m\u001b[0mkwargs\u001b[0m\u001b[0;34m)\u001b[0m\u001b[0;34m\u001b[0m\u001b[0;34m\u001b[0m\u001b[0m\n\u001b[0m\u001b[1;32m    551\u001b[0m         \u001b[0;32mfor\u001b[0m \u001b[0mhook\u001b[0m \u001b[0;32min\u001b[0m \u001b[0mself\u001b[0m\u001b[0;34m.\u001b[0m\u001b[0m_forward_hooks\u001b[0m\u001b[0;34m.\u001b[0m\u001b[0mvalues\u001b[0m\u001b[0;34m(\u001b[0m\u001b[0;34m)\u001b[0m\u001b[0;34m:\u001b[0m\u001b[0;34m\u001b[0m\u001b[0;34m\u001b[0m\u001b[0m\n\u001b[1;32m    552\u001b[0m             \u001b[0mhook_result\u001b[0m \u001b[0;34m=\u001b[0m \u001b[0mhook\u001b[0m\u001b[0;34m(\u001b[0m\u001b[0mself\u001b[0m\u001b[0;34m,\u001b[0m \u001b[0minput\u001b[0m\u001b[0;34m,\u001b[0m \u001b[0mresult\u001b[0m\u001b[0;34m)\u001b[0m\u001b[0;34m\u001b[0m\u001b[0;34m\u001b[0m\u001b[0m\n",
            "\u001b[0;32m<ipython-input-42-c5c7b06d6e59>\u001b[0m in \u001b[0;36mforward\u001b[0;34m(self, q, kv, mask)\u001b[0m\n\u001b[1;32m     12\u001b[0m \u001b[0;34m\u001b[0m\u001b[0m\n\u001b[1;32m     13\u001b[0m     \u001b[0;32mdef\u001b[0m \u001b[0mforward\u001b[0m\u001b[0;34m(\u001b[0m\u001b[0mself\u001b[0m\u001b[0;34m,\u001b[0m \u001b[0mq\u001b[0m\u001b[0;34m,\u001b[0m \u001b[0mkv\u001b[0m\u001b[0;34m,\u001b[0m \u001b[0mmask\u001b[0m\u001b[0;34m=\u001b[0m\u001b[0;32mNone\u001b[0m\u001b[0;34m)\u001b[0m\u001b[0;34m:\u001b[0m\u001b[0;34m\u001b[0m\u001b[0;34m\u001b[0m\u001b[0m\n\u001b[0;32m---> 14\u001b[0;31m         \u001b[0;32mreturn\u001b[0m \u001b[0mself\u001b[0m\u001b[0;34m.\u001b[0m\u001b[0mln\u001b[0m\u001b[0;34m(\u001b[0m\u001b[0mq\u001b[0m \u001b[0;34m+\u001b[0m \u001b[0mself\u001b[0m\u001b[0;34m.\u001b[0m\u001b[0mdrop_res\u001b[0m\u001b[0;34m(\u001b[0m\u001b[0mself\u001b[0m\u001b[0;34m.\u001b[0m\u001b[0mout\u001b[0m\u001b[0;34m(\u001b[0m\u001b[0mself\u001b[0m\u001b[0;34m.\u001b[0m\u001b[0m_apply_attention\u001b[0m\u001b[0;34m(\u001b[0m\u001b[0mq\u001b[0m\u001b[0;34m,\u001b[0m \u001b[0mkv\u001b[0m\u001b[0;34m,\u001b[0m \u001b[0mmask\u001b[0m\u001b[0;34m=\u001b[0m\u001b[0mmask\u001b[0m\u001b[0;34m)\u001b[0m\u001b[0;34m)\u001b[0m\u001b[0;34m)\u001b[0m\u001b[0;34m)\u001b[0m\u001b[0;34m\u001b[0m\u001b[0;34m\u001b[0m\u001b[0m\n\u001b[0m\u001b[1;32m     15\u001b[0m \u001b[0;34m\u001b[0m\u001b[0m\n\u001b[1;32m     16\u001b[0m     \u001b[0;32mdef\u001b[0m \u001b[0mcreate_attn_mat\u001b[0m\u001b[0;34m(\u001b[0m\u001b[0mself\u001b[0m\u001b[0;34m,\u001b[0m \u001b[0mx\u001b[0m\u001b[0;34m,\u001b[0m \u001b[0mlayer\u001b[0m\u001b[0;34m,\u001b[0m \u001b[0mbs\u001b[0m\u001b[0;34m)\u001b[0m\u001b[0;34m:\u001b[0m\u001b[0;34m\u001b[0m\u001b[0;34m\u001b[0m\u001b[0m\n",
            "\u001b[0;32m<ipython-input-42-c5c7b06d6e59>\u001b[0m in \u001b[0;36m_apply_attention\u001b[0;34m(self, q, kv, mask)\u001b[0m\n\u001b[1;32m     21\u001b[0m         \u001b[0mbs\u001b[0m\u001b[0;34m,\u001b[0m\u001b[0mseq_len\u001b[0m \u001b[0;34m=\u001b[0m \u001b[0mq\u001b[0m\u001b[0;34m.\u001b[0m\u001b[0msize\u001b[0m\u001b[0;34m(\u001b[0m\u001b[0;36m0\u001b[0m\u001b[0;34m)\u001b[0m\u001b[0;34m,\u001b[0m\u001b[0mq\u001b[0m\u001b[0;34m.\u001b[0m\u001b[0msize\u001b[0m\u001b[0;34m(\u001b[0m\u001b[0;36m1\u001b[0m\u001b[0;34m)\u001b[0m\u001b[0;34m\u001b[0m\u001b[0;34m\u001b[0m\u001b[0m\n\u001b[1;32m     22\u001b[0m         wq,wk,wv = map(lambda o: self.create_attn_mat(*o,bs),\n\u001b[0;32m---> 23\u001b[0;31m                        zip((q,kv,kv),(self.q_wgt,self.k_wgt,self.v_wgt)))\n\u001b[0m\u001b[1;32m     24\u001b[0m         \u001b[0mattn_score\u001b[0m \u001b[0;34m=\u001b[0m \u001b[0mwq\u001b[0m \u001b[0;34m@\u001b[0m \u001b[0mwk\u001b[0m\u001b[0;34m.\u001b[0m\u001b[0mtranspose\u001b[0m\u001b[0;34m(\u001b[0m\u001b[0;36m2\u001b[0m\u001b[0;34m,\u001b[0m\u001b[0;36m3\u001b[0m\u001b[0;34m)\u001b[0m\u001b[0;34m\u001b[0m\u001b[0;34m\u001b[0m\u001b[0m\n\u001b[1;32m     25\u001b[0m         \u001b[0;32mif\u001b[0m \u001b[0mself\u001b[0m\u001b[0;34m.\u001b[0m\u001b[0mscale\u001b[0m\u001b[0;34m:\u001b[0m \u001b[0mattn_score\u001b[0m \u001b[0;34m/=\u001b[0m \u001b[0mmath\u001b[0m\u001b[0;34m.\u001b[0m\u001b[0msqrt\u001b[0m\u001b[0;34m(\u001b[0m\u001b[0mself\u001b[0m\u001b[0;34m.\u001b[0m\u001b[0md_head\u001b[0m\u001b[0;34m)\u001b[0m\u001b[0;34m\u001b[0m\u001b[0;34m\u001b[0m\u001b[0m\n",
            "\u001b[0;32m<ipython-input-42-c5c7b06d6e59>\u001b[0m in \u001b[0;36m<lambda>\u001b[0;34m(o)\u001b[0m\n\u001b[1;32m     20\u001b[0m     \u001b[0;32mdef\u001b[0m \u001b[0m_apply_attention\u001b[0m\u001b[0;34m(\u001b[0m\u001b[0mself\u001b[0m\u001b[0;34m,\u001b[0m \u001b[0mq\u001b[0m\u001b[0;34m,\u001b[0m \u001b[0mkv\u001b[0m\u001b[0;34m,\u001b[0m \u001b[0mmask\u001b[0m\u001b[0;34m=\u001b[0m\u001b[0;32mNone\u001b[0m\u001b[0;34m)\u001b[0m\u001b[0;34m:\u001b[0m\u001b[0;34m\u001b[0m\u001b[0;34m\u001b[0m\u001b[0m\n\u001b[1;32m     21\u001b[0m         \u001b[0mbs\u001b[0m\u001b[0;34m,\u001b[0m\u001b[0mseq_len\u001b[0m \u001b[0;34m=\u001b[0m \u001b[0mq\u001b[0m\u001b[0;34m.\u001b[0m\u001b[0msize\u001b[0m\u001b[0;34m(\u001b[0m\u001b[0;36m0\u001b[0m\u001b[0;34m)\u001b[0m\u001b[0;34m,\u001b[0m\u001b[0mq\u001b[0m\u001b[0;34m.\u001b[0m\u001b[0msize\u001b[0m\u001b[0;34m(\u001b[0m\u001b[0;36m1\u001b[0m\u001b[0;34m)\u001b[0m\u001b[0;34m\u001b[0m\u001b[0;34m\u001b[0m\u001b[0m\n\u001b[0;32m---> 22\u001b[0;31m         wq,wk,wv = map(lambda o: self.create_attn_mat(*o,bs),\n\u001b[0m\u001b[1;32m     23\u001b[0m                        zip((q,kv,kv),(self.q_wgt,self.k_wgt,self.v_wgt)))\n\u001b[1;32m     24\u001b[0m         \u001b[0mattn_score\u001b[0m \u001b[0;34m=\u001b[0m \u001b[0mwq\u001b[0m \u001b[0;34m@\u001b[0m \u001b[0mwk\u001b[0m\u001b[0;34m.\u001b[0m\u001b[0mtranspose\u001b[0m\u001b[0;34m(\u001b[0m\u001b[0;36m2\u001b[0m\u001b[0;34m,\u001b[0m\u001b[0;36m3\u001b[0m\u001b[0;34m)\u001b[0m\u001b[0;34m\u001b[0m\u001b[0;34m\u001b[0m\u001b[0m\n",
            "\u001b[0;32m<ipython-input-42-c5c7b06d6e59>\u001b[0m in \u001b[0;36mcreate_attn_mat\u001b[0;34m(self, x, layer, bs)\u001b[0m\n\u001b[1;32m     15\u001b[0m \u001b[0;34m\u001b[0m\u001b[0m\n\u001b[1;32m     16\u001b[0m     \u001b[0;32mdef\u001b[0m \u001b[0mcreate_attn_mat\u001b[0m\u001b[0;34m(\u001b[0m\u001b[0mself\u001b[0m\u001b[0;34m,\u001b[0m \u001b[0mx\u001b[0m\u001b[0;34m,\u001b[0m \u001b[0mlayer\u001b[0m\u001b[0;34m,\u001b[0m \u001b[0mbs\u001b[0m\u001b[0;34m)\u001b[0m\u001b[0;34m:\u001b[0m\u001b[0;34m\u001b[0m\u001b[0;34m\u001b[0m\u001b[0m\n\u001b[0;32m---> 17\u001b[0;31m         return layer(x).view(bs, x.size(1), self.n_heads, self.d_head\n\u001b[0m\u001b[1;32m     18\u001b[0m                             ).permute(0, 2, 1, 3)\n\u001b[1;32m     19\u001b[0m \u001b[0;34m\u001b[0m\u001b[0m\n",
            "\u001b[0;31mRuntimeError\u001b[0m: shape '[1, 1, 8, 32]' is invalid for input of size 5907712"
          ]
        }
      ]
    },
    {
      "cell_type": "code",
      "metadata": {
        "id": "18l7qX4sjevr",
        "colab_type": "code",
        "colab": {}
      },
      "source": [
        "'D’où venez-vous?'"
      ],
      "execution_count": null,
      "outputs": []
    },
    {
      "cell_type": "code",
      "metadata": {
        "id": "-4S12TOkDeok",
        "colab_type": "code",
        "colab": {
          "base_uri": "https://localhost:8080/",
          "height": 34
        },
        "outputId": "3c6968a6-72a0-49d9-eb64-3f2454662d48"
      },
      "source": [
        "[0][-1]"
      ],
      "execution_count": null,
      "outputs": [
        {
          "output_type": "execute_result",
          "data": {
            "text/plain": [
              "0"
            ]
          },
          "metadata": {
            "tags": []
          },
          "execution_count": 166
        }
      ]
    },
    {
      "cell_type": "code",
      "metadata": {
        "id": "_DO7g7BW-p0b",
        "colab_type": "code",
        "colab": {}
      },
      "source": [
        "import pdb"
      ],
      "execution_count": null,
      "outputs": []
    },
    {
      "cell_type": "code",
      "metadata": {
        "id": "YF-V_Toj90pt",
        "colab_type": "code",
        "colab": {}
      },
      "source": [
        "class Test(Callback):\n",
        "    def begin_batch(self):\n",
        "        pdb.set_trace()\n",
        "        self.learn.xb = (self.xb[0], self.yb[0])\n",
        "        print(self.learn.xb)"
      ],
      "execution_count": null,
      "outputs": []
    },
    {
      "cell_type": "code",
      "metadata": {
        "id": "AthPs0Aj0esu",
        "colab_type": "code",
        "colab": {}
      },
      "source": [
        "learn = Learner(dls, model, loss_func=CrossEntropyLossFlat, cbs=[Test])"
      ],
      "execution_count": null,
      "outputs": []
    },
    {
      "cell_type": "code",
      "metadata": {
        "id": "KwwWhBOn0epY",
        "colab_type": "code",
        "colab": {
          "base_uri": "https://localhost:8080/",
          "height": 303
        },
        "outputId": "dea878f5-ee2a-4fe5-d811-95ad7b7de25e"
      },
      "source": [
        "learn.lr_find()"
      ],
      "execution_count": null,
      "outputs": [
        {
          "output_type": "display_data",
          "data": {
            "text/html": [
              ""
            ],
            "text/plain": [
              "<IPython.core.display.HTML object>"
            ]
          },
          "metadata": {
            "tags": []
          }
        },
        {
          "output_type": "error",
          "ename": "KeyboardInterrupt",
          "evalue": "ignored",
          "traceback": [
            "\u001b[0;31m---------------------------------------------------------------------------\u001b[0m",
            "\u001b[0;31mKeyboardInterrupt\u001b[0m                         Traceback (most recent call last)",
            "\u001b[0;32m<ipython-input-680-d81c6bd29d71>\u001b[0m in \u001b[0;36m<module>\u001b[0;34m()\u001b[0m\n\u001b[0;32m----> 1\u001b[0;31m \u001b[0mlearn\u001b[0m\u001b[0;34m.\u001b[0m\u001b[0mlr_find\u001b[0m\u001b[0;34m(\u001b[0m\u001b[0;34m)\u001b[0m\u001b[0;34m\u001b[0m\u001b[0;34m\u001b[0m\u001b[0m\n\u001b[0m",
            "\u001b[0;32m/usr/local/lib/python3.6/dist-packages/fastai2/callback/schedule.py\u001b[0m in \u001b[0;36mlr_find\u001b[0;34m(self, start_lr, end_lr, num_it, stop_div, show_plot, suggestions)\u001b[0m\n\u001b[1;32m    226\u001b[0m     \u001b[0mn_epoch\u001b[0m \u001b[0;34m=\u001b[0m \u001b[0mnum_it\u001b[0m\u001b[0;34m//\u001b[0m\u001b[0mlen\u001b[0m\u001b[0;34m(\u001b[0m\u001b[0mself\u001b[0m\u001b[0;34m.\u001b[0m\u001b[0mdls\u001b[0m\u001b[0;34m.\u001b[0m\u001b[0mtrain\u001b[0m\u001b[0;34m)\u001b[0m \u001b[0;34m+\u001b[0m \u001b[0;36m1\u001b[0m\u001b[0;34m\u001b[0m\u001b[0;34m\u001b[0m\u001b[0m\n\u001b[1;32m    227\u001b[0m     \u001b[0mcb\u001b[0m\u001b[0;34m=\u001b[0m\u001b[0mLRFinder\u001b[0m\u001b[0;34m(\u001b[0m\u001b[0mstart_lr\u001b[0m\u001b[0;34m=\u001b[0m\u001b[0mstart_lr\u001b[0m\u001b[0;34m,\u001b[0m \u001b[0mend_lr\u001b[0m\u001b[0;34m=\u001b[0m\u001b[0mend_lr\u001b[0m\u001b[0;34m,\u001b[0m \u001b[0mnum_it\u001b[0m\u001b[0;34m=\u001b[0m\u001b[0mnum_it\u001b[0m\u001b[0;34m,\u001b[0m \u001b[0mstop_div\u001b[0m\u001b[0;34m=\u001b[0m\u001b[0mstop_div\u001b[0m\u001b[0;34m)\u001b[0m\u001b[0;34m\u001b[0m\u001b[0;34m\u001b[0m\u001b[0m\n\u001b[0;32m--> 228\u001b[0;31m     \u001b[0;32mwith\u001b[0m \u001b[0mself\u001b[0m\u001b[0;34m.\u001b[0m\u001b[0mno_logging\u001b[0m\u001b[0;34m(\u001b[0m\u001b[0;34m)\u001b[0m\u001b[0;34m:\u001b[0m \u001b[0mself\u001b[0m\u001b[0;34m.\u001b[0m\u001b[0mfit\u001b[0m\u001b[0;34m(\u001b[0m\u001b[0mn_epoch\u001b[0m\u001b[0;34m,\u001b[0m \u001b[0mcbs\u001b[0m\u001b[0;34m=\u001b[0m\u001b[0mcb\u001b[0m\u001b[0;34m)\u001b[0m\u001b[0;34m\u001b[0m\u001b[0;34m\u001b[0m\u001b[0m\n\u001b[0m\u001b[1;32m    229\u001b[0m     \u001b[0;32mif\u001b[0m \u001b[0mshow_plot\u001b[0m\u001b[0;34m:\u001b[0m \u001b[0mself\u001b[0m\u001b[0;34m.\u001b[0m\u001b[0mrecorder\u001b[0m\u001b[0;34m.\u001b[0m\u001b[0mplot_lr_find\u001b[0m\u001b[0;34m(\u001b[0m\u001b[0;34m)\u001b[0m\u001b[0;34m\u001b[0m\u001b[0;34m\u001b[0m\u001b[0m\n\u001b[1;32m    230\u001b[0m     \u001b[0;32mif\u001b[0m \u001b[0msuggestions\u001b[0m\u001b[0;34m:\u001b[0m\u001b[0;34m\u001b[0m\u001b[0;34m\u001b[0m\u001b[0m\n",
            "\u001b[0;32m/usr/local/lib/python3.6/dist-packages/fastcore/utils.py\u001b[0m in \u001b[0;36m_f\u001b[0;34m(*args, **kwargs)\u001b[0m\n\u001b[1;32m    429\u001b[0m         \u001b[0minit_args\u001b[0m\u001b[0;34m.\u001b[0m\u001b[0mupdate\u001b[0m\u001b[0;34m(\u001b[0m\u001b[0mlog\u001b[0m\u001b[0;34m)\u001b[0m\u001b[0;34m\u001b[0m\u001b[0;34m\u001b[0m\u001b[0m\n\u001b[1;32m    430\u001b[0m         \u001b[0msetattr\u001b[0m\u001b[0;34m(\u001b[0m\u001b[0minst\u001b[0m\u001b[0;34m,\u001b[0m \u001b[0;34m'init_args'\u001b[0m\u001b[0;34m,\u001b[0m \u001b[0minit_args\u001b[0m\u001b[0;34m)\u001b[0m\u001b[0;34m\u001b[0m\u001b[0;34m\u001b[0m\u001b[0m\n\u001b[0;32m--> 431\u001b[0;31m         \u001b[0;32mreturn\u001b[0m \u001b[0minst\u001b[0m \u001b[0;32mif\u001b[0m \u001b[0mto_return\u001b[0m \u001b[0;32melse\u001b[0m \u001b[0mf\u001b[0m\u001b[0;34m(\u001b[0m\u001b[0;34m*\u001b[0m\u001b[0margs\u001b[0m\u001b[0;34m,\u001b[0m \u001b[0;34m**\u001b[0m\u001b[0mkwargs\u001b[0m\u001b[0;34m)\u001b[0m\u001b[0;34m\u001b[0m\u001b[0;34m\u001b[0m\u001b[0m\n\u001b[0m\u001b[1;32m    432\u001b[0m     \u001b[0;32mreturn\u001b[0m \u001b[0m_f\u001b[0m\u001b[0;34m\u001b[0m\u001b[0;34m\u001b[0m\u001b[0m\n\u001b[1;32m    433\u001b[0m \u001b[0;34m\u001b[0m\u001b[0m\n",
            "\u001b[0;32m/usr/local/lib/python3.6/dist-packages/fastai2/learner.py\u001b[0m in \u001b[0;36mfit\u001b[0;34m(self, n_epoch, lr, wd, cbs, reset_opt)\u001b[0m\n\u001b[1;32m    198\u001b[0m                     \u001b[0;32mtry\u001b[0m\u001b[0;34m:\u001b[0m\u001b[0;34m\u001b[0m\u001b[0;34m\u001b[0m\u001b[0m\n\u001b[1;32m    199\u001b[0m                         \u001b[0mself\u001b[0m\u001b[0;34m.\u001b[0m\u001b[0mepoch\u001b[0m\u001b[0;34m=\u001b[0m\u001b[0mepoch\u001b[0m\u001b[0;34m;\u001b[0m          \u001b[0mself\u001b[0m\u001b[0;34m(\u001b[0m\u001b[0;34m'begin_epoch'\u001b[0m\u001b[0;34m)\u001b[0m\u001b[0;34m\u001b[0m\u001b[0;34m\u001b[0m\u001b[0m\n\u001b[0;32m--> 200\u001b[0;31m                         \u001b[0mself\u001b[0m\u001b[0;34m.\u001b[0m\u001b[0m_do_epoch_train\u001b[0m\u001b[0;34m(\u001b[0m\u001b[0;34m)\u001b[0m\u001b[0;34m\u001b[0m\u001b[0;34m\u001b[0m\u001b[0m\n\u001b[0m\u001b[1;32m    201\u001b[0m                         \u001b[0mself\u001b[0m\u001b[0;34m.\u001b[0m\u001b[0m_do_epoch_validate\u001b[0m\u001b[0;34m(\u001b[0m\u001b[0;34m)\u001b[0m\u001b[0;34m\u001b[0m\u001b[0;34m\u001b[0m\u001b[0m\n\u001b[1;32m    202\u001b[0m                     \u001b[0;32mexcept\u001b[0m \u001b[0mCancelEpochException\u001b[0m\u001b[0;34m:\u001b[0m   \u001b[0mself\u001b[0m\u001b[0;34m(\u001b[0m\u001b[0;34m'after_cancel_epoch'\u001b[0m\u001b[0;34m)\u001b[0m\u001b[0;34m\u001b[0m\u001b[0;34m\u001b[0m\u001b[0m\n",
            "\u001b[0;32m/usr/local/lib/python3.6/dist-packages/fastai2/learner.py\u001b[0m in \u001b[0;36m_do_epoch_train\u001b[0;34m(self)\u001b[0m\n\u001b[1;32m    173\u001b[0m         \u001b[0;32mtry\u001b[0m\u001b[0;34m:\u001b[0m\u001b[0;34m\u001b[0m\u001b[0;34m\u001b[0m\u001b[0m\n\u001b[1;32m    174\u001b[0m             \u001b[0mself\u001b[0m\u001b[0;34m.\u001b[0m\u001b[0mdl\u001b[0m \u001b[0;34m=\u001b[0m \u001b[0mself\u001b[0m\u001b[0;34m.\u001b[0m\u001b[0mdls\u001b[0m\u001b[0;34m.\u001b[0m\u001b[0mtrain\u001b[0m\u001b[0;34m;\u001b[0m                        \u001b[0mself\u001b[0m\u001b[0;34m(\u001b[0m\u001b[0;34m'begin_train'\u001b[0m\u001b[0;34m)\u001b[0m\u001b[0;34m\u001b[0m\u001b[0;34m\u001b[0m\u001b[0m\n\u001b[0;32m--> 175\u001b[0;31m             \u001b[0mself\u001b[0m\u001b[0;34m.\u001b[0m\u001b[0mall_batches\u001b[0m\u001b[0;34m(\u001b[0m\u001b[0;34m)\u001b[0m\u001b[0;34m\u001b[0m\u001b[0;34m\u001b[0m\u001b[0m\n\u001b[0m\u001b[1;32m    176\u001b[0m         \u001b[0;32mexcept\u001b[0m \u001b[0mCancelTrainException\u001b[0m\u001b[0;34m:\u001b[0m                         \u001b[0mself\u001b[0m\u001b[0;34m(\u001b[0m\u001b[0;34m'after_cancel_train'\u001b[0m\u001b[0;34m)\u001b[0m\u001b[0;34m\u001b[0m\u001b[0;34m\u001b[0m\u001b[0m\n\u001b[1;32m    177\u001b[0m         \u001b[0;32mfinally\u001b[0m\u001b[0;34m:\u001b[0m                                             \u001b[0mself\u001b[0m\u001b[0;34m(\u001b[0m\u001b[0;34m'after_train'\u001b[0m\u001b[0;34m)\u001b[0m\u001b[0;34m\u001b[0m\u001b[0;34m\u001b[0m\u001b[0m\n",
            "\u001b[0;32m/usr/local/lib/python3.6/dist-packages/fastai2/learner.py\u001b[0m in \u001b[0;36mall_batches\u001b[0;34m(self)\u001b[0m\n\u001b[1;32m    151\u001b[0m     \u001b[0;32mdef\u001b[0m \u001b[0mall_batches\u001b[0m\u001b[0;34m(\u001b[0m\u001b[0mself\u001b[0m\u001b[0;34m)\u001b[0m\u001b[0;34m:\u001b[0m\u001b[0;34m\u001b[0m\u001b[0;34m\u001b[0m\u001b[0m\n\u001b[1;32m    152\u001b[0m         \u001b[0mself\u001b[0m\u001b[0;34m.\u001b[0m\u001b[0mn_iter\u001b[0m \u001b[0;34m=\u001b[0m \u001b[0mlen\u001b[0m\u001b[0;34m(\u001b[0m\u001b[0mself\u001b[0m\u001b[0;34m.\u001b[0m\u001b[0mdl\u001b[0m\u001b[0;34m)\u001b[0m\u001b[0;34m\u001b[0m\u001b[0;34m\u001b[0m\u001b[0m\n\u001b[0;32m--> 153\u001b[0;31m         \u001b[0;32mfor\u001b[0m \u001b[0mo\u001b[0m \u001b[0;32min\u001b[0m \u001b[0menumerate\u001b[0m\u001b[0;34m(\u001b[0m\u001b[0mself\u001b[0m\u001b[0;34m.\u001b[0m\u001b[0mdl\u001b[0m\u001b[0;34m)\u001b[0m\u001b[0;34m:\u001b[0m \u001b[0mself\u001b[0m\u001b[0;34m.\u001b[0m\u001b[0mone_batch\u001b[0m\u001b[0;34m(\u001b[0m\u001b[0;34m*\u001b[0m\u001b[0mo\u001b[0m\u001b[0;34m)\u001b[0m\u001b[0;34m\u001b[0m\u001b[0;34m\u001b[0m\u001b[0m\n\u001b[0m\u001b[1;32m    154\u001b[0m \u001b[0;34m\u001b[0m\u001b[0m\n\u001b[1;32m    155\u001b[0m     \u001b[0;32mdef\u001b[0m \u001b[0mone_batch\u001b[0m\u001b[0;34m(\u001b[0m\u001b[0mself\u001b[0m\u001b[0;34m,\u001b[0m \u001b[0mi\u001b[0m\u001b[0;34m,\u001b[0m \u001b[0mb\u001b[0m\u001b[0;34m)\u001b[0m\u001b[0;34m:\u001b[0m\u001b[0;34m\u001b[0m\u001b[0;34m\u001b[0m\u001b[0m\n",
            "\u001b[0;32m/usr/local/lib/python3.6/dist-packages/fastai2/data/load.py\u001b[0m in \u001b[0;36m__iter__\u001b[0;34m(self)\u001b[0m\n\u001b[1;32m     96\u001b[0m         \u001b[0mself\u001b[0m\u001b[0;34m.\u001b[0m\u001b[0mrandomize\u001b[0m\u001b[0;34m(\u001b[0m\u001b[0;34m)\u001b[0m\u001b[0;34m\u001b[0m\u001b[0;34m\u001b[0m\u001b[0m\n\u001b[1;32m     97\u001b[0m         \u001b[0mself\u001b[0m\u001b[0;34m.\u001b[0m\u001b[0mbefore_iter\u001b[0m\u001b[0;34m(\u001b[0m\u001b[0;34m)\u001b[0m\u001b[0;34m\u001b[0m\u001b[0;34m\u001b[0m\u001b[0m\n\u001b[0;32m---> 98\u001b[0;31m         \u001b[0;32mfor\u001b[0m \u001b[0mb\u001b[0m \u001b[0;32min\u001b[0m \u001b[0m_loaders\u001b[0m\u001b[0;34m[\u001b[0m\u001b[0mself\u001b[0m\u001b[0;34m.\u001b[0m\u001b[0mfake_l\u001b[0m\u001b[0;34m.\u001b[0m\u001b[0mnum_workers\u001b[0m\u001b[0;34m==\u001b[0m\u001b[0;36m0\u001b[0m\u001b[0;34m]\u001b[0m\u001b[0;34m(\u001b[0m\u001b[0mself\u001b[0m\u001b[0;34m.\u001b[0m\u001b[0mfake_l\u001b[0m\u001b[0;34m)\u001b[0m\u001b[0;34m:\u001b[0m\u001b[0;34m\u001b[0m\u001b[0;34m\u001b[0m\u001b[0m\n\u001b[0m\u001b[1;32m     99\u001b[0m             \u001b[0;32mif\u001b[0m \u001b[0mself\u001b[0m\u001b[0;34m.\u001b[0m\u001b[0mdevice\u001b[0m \u001b[0;32mis\u001b[0m \u001b[0;32mnot\u001b[0m \u001b[0;32mNone\u001b[0m\u001b[0;34m:\u001b[0m \u001b[0mb\u001b[0m \u001b[0;34m=\u001b[0m \u001b[0mto_device\u001b[0m\u001b[0;34m(\u001b[0m\u001b[0mb\u001b[0m\u001b[0;34m,\u001b[0m \u001b[0mself\u001b[0m\u001b[0;34m.\u001b[0m\u001b[0mdevice\u001b[0m\u001b[0;34m)\u001b[0m\u001b[0;34m\u001b[0m\u001b[0;34m\u001b[0m\u001b[0m\n\u001b[1;32m    100\u001b[0m             \u001b[0;32myield\u001b[0m \u001b[0mself\u001b[0m\u001b[0;34m.\u001b[0m\u001b[0mafter_batch\u001b[0m\u001b[0;34m(\u001b[0m\u001b[0mb\u001b[0m\u001b[0;34m)\u001b[0m\u001b[0;34m\u001b[0m\u001b[0;34m\u001b[0m\u001b[0m\n",
            "\u001b[0;32m/usr/local/lib/python3.6/dist-packages/torch/utils/data/dataloader.py\u001b[0m in \u001b[0;36m__next__\u001b[0;34m(self)\u001b[0m\n\u001b[1;32m    343\u001b[0m \u001b[0;34m\u001b[0m\u001b[0m\n\u001b[1;32m    344\u001b[0m     \u001b[0;32mdef\u001b[0m \u001b[0m__next__\u001b[0m\u001b[0;34m(\u001b[0m\u001b[0mself\u001b[0m\u001b[0;34m)\u001b[0m\u001b[0;34m:\u001b[0m\u001b[0;34m\u001b[0m\u001b[0;34m\u001b[0m\u001b[0m\n\u001b[0;32m--> 345\u001b[0;31m         \u001b[0mdata\u001b[0m \u001b[0;34m=\u001b[0m \u001b[0mself\u001b[0m\u001b[0;34m.\u001b[0m\u001b[0m_next_data\u001b[0m\u001b[0;34m(\u001b[0m\u001b[0;34m)\u001b[0m\u001b[0;34m\u001b[0m\u001b[0;34m\u001b[0m\u001b[0m\n\u001b[0m\u001b[1;32m    346\u001b[0m         \u001b[0mself\u001b[0m\u001b[0;34m.\u001b[0m\u001b[0m_num_yielded\u001b[0m \u001b[0;34m+=\u001b[0m \u001b[0;36m1\u001b[0m\u001b[0;34m\u001b[0m\u001b[0;34m\u001b[0m\u001b[0m\n\u001b[1;32m    347\u001b[0m         \u001b[0;32mif\u001b[0m \u001b[0mself\u001b[0m\u001b[0;34m.\u001b[0m\u001b[0m_dataset_kind\u001b[0m \u001b[0;34m==\u001b[0m \u001b[0m_DatasetKind\u001b[0m\u001b[0;34m.\u001b[0m\u001b[0mIterable\u001b[0m \u001b[0;32mand\u001b[0m\u001b[0;31m \u001b[0m\u001b[0;31m\\\u001b[0m\u001b[0;34m\u001b[0m\u001b[0;34m\u001b[0m\u001b[0m\n",
            "\u001b[0;32m/usr/local/lib/python3.6/dist-packages/torch/utils/data/dataloader.py\u001b[0m in \u001b[0;36m_next_data\u001b[0;34m(self)\u001b[0m\n\u001b[1;32m    839\u001b[0m \u001b[0;34m\u001b[0m\u001b[0m\n\u001b[1;32m    840\u001b[0m             \u001b[0;32massert\u001b[0m \u001b[0;32mnot\u001b[0m \u001b[0mself\u001b[0m\u001b[0;34m.\u001b[0m\u001b[0m_shutdown\u001b[0m \u001b[0;32mand\u001b[0m \u001b[0mself\u001b[0m\u001b[0;34m.\u001b[0m\u001b[0m_tasks_outstanding\u001b[0m \u001b[0;34m>\u001b[0m \u001b[0;36m0\u001b[0m\u001b[0;34m\u001b[0m\u001b[0;34m\u001b[0m\u001b[0m\n\u001b[0;32m--> 841\u001b[0;31m             \u001b[0midx\u001b[0m\u001b[0;34m,\u001b[0m \u001b[0mdata\u001b[0m \u001b[0;34m=\u001b[0m \u001b[0mself\u001b[0m\u001b[0;34m.\u001b[0m\u001b[0m_get_data\u001b[0m\u001b[0;34m(\u001b[0m\u001b[0;34m)\u001b[0m\u001b[0;34m\u001b[0m\u001b[0;34m\u001b[0m\u001b[0m\n\u001b[0m\u001b[1;32m    842\u001b[0m             \u001b[0mself\u001b[0m\u001b[0;34m.\u001b[0m\u001b[0m_tasks_outstanding\u001b[0m \u001b[0;34m-=\u001b[0m \u001b[0;36m1\u001b[0m\u001b[0;34m\u001b[0m\u001b[0;34m\u001b[0m\u001b[0m\n\u001b[1;32m    843\u001b[0m \u001b[0;34m\u001b[0m\u001b[0m\n",
            "\u001b[0;32m/usr/local/lib/python3.6/dist-packages/torch/utils/data/dataloader.py\u001b[0m in \u001b[0;36m_get_data\u001b[0;34m(self)\u001b[0m\n\u001b[1;32m    806\u001b[0m         \u001b[0;32melse\u001b[0m\u001b[0;34m:\u001b[0m\u001b[0;34m\u001b[0m\u001b[0;34m\u001b[0m\u001b[0m\n\u001b[1;32m    807\u001b[0m             \u001b[0;32mwhile\u001b[0m \u001b[0;32mTrue\u001b[0m\u001b[0;34m:\u001b[0m\u001b[0;34m\u001b[0m\u001b[0;34m\u001b[0m\u001b[0m\n\u001b[0;32m--> 808\u001b[0;31m                 \u001b[0msuccess\u001b[0m\u001b[0;34m,\u001b[0m \u001b[0mdata\u001b[0m \u001b[0;34m=\u001b[0m \u001b[0mself\u001b[0m\u001b[0;34m.\u001b[0m\u001b[0m_try_get_data\u001b[0m\u001b[0;34m(\u001b[0m\u001b[0;34m)\u001b[0m\u001b[0;34m\u001b[0m\u001b[0;34m\u001b[0m\u001b[0m\n\u001b[0m\u001b[1;32m    809\u001b[0m                 \u001b[0;32mif\u001b[0m \u001b[0msuccess\u001b[0m\u001b[0;34m:\u001b[0m\u001b[0;34m\u001b[0m\u001b[0;34m\u001b[0m\u001b[0m\n\u001b[1;32m    810\u001b[0m                     \u001b[0;32mreturn\u001b[0m \u001b[0mdata\u001b[0m\u001b[0;34m\u001b[0m\u001b[0;34m\u001b[0m\u001b[0m\n",
            "\u001b[0;32m/usr/local/lib/python3.6/dist-packages/torch/utils/data/dataloader.py\u001b[0m in \u001b[0;36m_try_get_data\u001b[0;34m(self, timeout)\u001b[0m\n\u001b[1;32m    759\u001b[0m         \u001b[0;31m#   (bool: whether successfully get data, any: data if successful else None)\u001b[0m\u001b[0;34m\u001b[0m\u001b[0;34m\u001b[0m\u001b[0;34m\u001b[0m\u001b[0m\n\u001b[1;32m    760\u001b[0m         \u001b[0;32mtry\u001b[0m\u001b[0;34m:\u001b[0m\u001b[0;34m\u001b[0m\u001b[0;34m\u001b[0m\u001b[0m\n\u001b[0;32m--> 761\u001b[0;31m             \u001b[0mdata\u001b[0m \u001b[0;34m=\u001b[0m \u001b[0mself\u001b[0m\u001b[0;34m.\u001b[0m\u001b[0m_data_queue\u001b[0m\u001b[0;34m.\u001b[0m\u001b[0mget\u001b[0m\u001b[0;34m(\u001b[0m\u001b[0mtimeout\u001b[0m\u001b[0;34m=\u001b[0m\u001b[0mtimeout\u001b[0m\u001b[0;34m)\u001b[0m\u001b[0;34m\u001b[0m\u001b[0;34m\u001b[0m\u001b[0m\n\u001b[0m\u001b[1;32m    762\u001b[0m             \u001b[0;32mreturn\u001b[0m \u001b[0;34m(\u001b[0m\u001b[0;32mTrue\u001b[0m\u001b[0;34m,\u001b[0m \u001b[0mdata\u001b[0m\u001b[0;34m)\u001b[0m\u001b[0;34m\u001b[0m\u001b[0;34m\u001b[0m\u001b[0m\n\u001b[1;32m    763\u001b[0m         \u001b[0;32mexcept\u001b[0m \u001b[0mException\u001b[0m \u001b[0;32mas\u001b[0m \u001b[0me\u001b[0m\u001b[0;34m:\u001b[0m\u001b[0;34m\u001b[0m\u001b[0;34m\u001b[0m\u001b[0m\n",
            "\u001b[0;32m/usr/lib/python3.6/multiprocessing/queues.py\u001b[0m in \u001b[0;36mget\u001b[0;34m(self, block, timeout)\u001b[0m\n\u001b[1;32m    102\u001b[0m                 \u001b[0;32mif\u001b[0m \u001b[0mblock\u001b[0m\u001b[0;34m:\u001b[0m\u001b[0;34m\u001b[0m\u001b[0;34m\u001b[0m\u001b[0m\n\u001b[1;32m    103\u001b[0m                     \u001b[0mtimeout\u001b[0m \u001b[0;34m=\u001b[0m \u001b[0mdeadline\u001b[0m \u001b[0;34m-\u001b[0m \u001b[0mtime\u001b[0m\u001b[0;34m.\u001b[0m\u001b[0mmonotonic\u001b[0m\u001b[0;34m(\u001b[0m\u001b[0;34m)\u001b[0m\u001b[0;34m\u001b[0m\u001b[0;34m\u001b[0m\u001b[0m\n\u001b[0;32m--> 104\u001b[0;31m                     \u001b[0;32mif\u001b[0m \u001b[0;32mnot\u001b[0m \u001b[0mself\u001b[0m\u001b[0;34m.\u001b[0m\u001b[0m_poll\u001b[0m\u001b[0;34m(\u001b[0m\u001b[0mtimeout\u001b[0m\u001b[0;34m)\u001b[0m\u001b[0;34m:\u001b[0m\u001b[0;34m\u001b[0m\u001b[0;34m\u001b[0m\u001b[0m\n\u001b[0m\u001b[1;32m    105\u001b[0m                         \u001b[0;32mraise\u001b[0m \u001b[0mEmpty\u001b[0m\u001b[0;34m\u001b[0m\u001b[0;34m\u001b[0m\u001b[0m\n\u001b[1;32m    106\u001b[0m                 \u001b[0;32melif\u001b[0m \u001b[0;32mnot\u001b[0m \u001b[0mself\u001b[0m\u001b[0;34m.\u001b[0m\u001b[0m_poll\u001b[0m\u001b[0;34m(\u001b[0m\u001b[0;34m)\u001b[0m\u001b[0;34m:\u001b[0m\u001b[0;34m\u001b[0m\u001b[0;34m\u001b[0m\u001b[0m\n",
            "\u001b[0;32m/usr/lib/python3.6/multiprocessing/connection.py\u001b[0m in \u001b[0;36mpoll\u001b[0;34m(self, timeout)\u001b[0m\n\u001b[1;32m    255\u001b[0m         \u001b[0mself\u001b[0m\u001b[0;34m.\u001b[0m\u001b[0m_check_closed\u001b[0m\u001b[0;34m(\u001b[0m\u001b[0;34m)\u001b[0m\u001b[0;34m\u001b[0m\u001b[0;34m\u001b[0m\u001b[0m\n\u001b[1;32m    256\u001b[0m         \u001b[0mself\u001b[0m\u001b[0;34m.\u001b[0m\u001b[0m_check_readable\u001b[0m\u001b[0;34m(\u001b[0m\u001b[0;34m)\u001b[0m\u001b[0;34m\u001b[0m\u001b[0;34m\u001b[0m\u001b[0m\n\u001b[0;32m--> 257\u001b[0;31m         \u001b[0;32mreturn\u001b[0m \u001b[0mself\u001b[0m\u001b[0;34m.\u001b[0m\u001b[0m_poll\u001b[0m\u001b[0;34m(\u001b[0m\u001b[0mtimeout\u001b[0m\u001b[0;34m)\u001b[0m\u001b[0;34m\u001b[0m\u001b[0;34m\u001b[0m\u001b[0m\n\u001b[0m\u001b[1;32m    258\u001b[0m \u001b[0;34m\u001b[0m\u001b[0m\n\u001b[1;32m    259\u001b[0m     \u001b[0;32mdef\u001b[0m \u001b[0m__enter__\u001b[0m\u001b[0;34m(\u001b[0m\u001b[0mself\u001b[0m\u001b[0;34m)\u001b[0m\u001b[0;34m:\u001b[0m\u001b[0;34m\u001b[0m\u001b[0;34m\u001b[0m\u001b[0m\n",
            "\u001b[0;32m/usr/lib/python3.6/multiprocessing/connection.py\u001b[0m in \u001b[0;36m_poll\u001b[0;34m(self, timeout)\u001b[0m\n\u001b[1;32m    412\u001b[0m \u001b[0;34m\u001b[0m\u001b[0m\n\u001b[1;32m    413\u001b[0m     \u001b[0;32mdef\u001b[0m \u001b[0m_poll\u001b[0m\u001b[0;34m(\u001b[0m\u001b[0mself\u001b[0m\u001b[0;34m,\u001b[0m \u001b[0mtimeout\u001b[0m\u001b[0;34m)\u001b[0m\u001b[0;34m:\u001b[0m\u001b[0;34m\u001b[0m\u001b[0;34m\u001b[0m\u001b[0m\n\u001b[0;32m--> 414\u001b[0;31m         \u001b[0mr\u001b[0m \u001b[0;34m=\u001b[0m \u001b[0mwait\u001b[0m\u001b[0;34m(\u001b[0m\u001b[0;34m[\u001b[0m\u001b[0mself\u001b[0m\u001b[0;34m]\u001b[0m\u001b[0;34m,\u001b[0m \u001b[0mtimeout\u001b[0m\u001b[0;34m)\u001b[0m\u001b[0;34m\u001b[0m\u001b[0;34m\u001b[0m\u001b[0m\n\u001b[0m\u001b[1;32m    415\u001b[0m         \u001b[0;32mreturn\u001b[0m \u001b[0mbool\u001b[0m\u001b[0;34m(\u001b[0m\u001b[0mr\u001b[0m\u001b[0;34m)\u001b[0m\u001b[0;34m\u001b[0m\u001b[0;34m\u001b[0m\u001b[0m\n\u001b[1;32m    416\u001b[0m \u001b[0;34m\u001b[0m\u001b[0m\n",
            "\u001b[0;32m/usr/lib/python3.6/multiprocessing/connection.py\u001b[0m in \u001b[0;36mwait\u001b[0;34m(object_list, timeout)\u001b[0m\n\u001b[1;32m    909\u001b[0m \u001b[0;34m\u001b[0m\u001b[0m\n\u001b[1;32m    910\u001b[0m             \u001b[0;32mwhile\u001b[0m \u001b[0;32mTrue\u001b[0m\u001b[0;34m:\u001b[0m\u001b[0;34m\u001b[0m\u001b[0;34m\u001b[0m\u001b[0m\n\u001b[0;32m--> 911\u001b[0;31m                 \u001b[0mready\u001b[0m \u001b[0;34m=\u001b[0m \u001b[0mselector\u001b[0m\u001b[0;34m.\u001b[0m\u001b[0mselect\u001b[0m\u001b[0;34m(\u001b[0m\u001b[0mtimeout\u001b[0m\u001b[0;34m)\u001b[0m\u001b[0;34m\u001b[0m\u001b[0;34m\u001b[0m\u001b[0m\n\u001b[0m\u001b[1;32m    912\u001b[0m                 \u001b[0;32mif\u001b[0m \u001b[0mready\u001b[0m\u001b[0;34m:\u001b[0m\u001b[0;34m\u001b[0m\u001b[0;34m\u001b[0m\u001b[0m\n\u001b[1;32m    913\u001b[0m                     \u001b[0;32mreturn\u001b[0m \u001b[0;34m[\u001b[0m\u001b[0mkey\u001b[0m\u001b[0;34m.\u001b[0m\u001b[0mfileobj\u001b[0m \u001b[0;32mfor\u001b[0m \u001b[0;34m(\u001b[0m\u001b[0mkey\u001b[0m\u001b[0;34m,\u001b[0m \u001b[0mevents\u001b[0m\u001b[0;34m)\u001b[0m \u001b[0;32min\u001b[0m \u001b[0mready\u001b[0m\u001b[0;34m]\u001b[0m\u001b[0;34m\u001b[0m\u001b[0;34m\u001b[0m\u001b[0m\n",
            "\u001b[0;32m/usr/lib/python3.6/selectors.py\u001b[0m in \u001b[0;36mselect\u001b[0;34m(self, timeout)\u001b[0m\n\u001b[1;32m    374\u001b[0m             \u001b[0mready\u001b[0m \u001b[0;34m=\u001b[0m \u001b[0;34m[\u001b[0m\u001b[0;34m]\u001b[0m\u001b[0;34m\u001b[0m\u001b[0;34m\u001b[0m\u001b[0m\n\u001b[1;32m    375\u001b[0m             \u001b[0;32mtry\u001b[0m\u001b[0;34m:\u001b[0m\u001b[0;34m\u001b[0m\u001b[0;34m\u001b[0m\u001b[0m\n\u001b[0;32m--> 376\u001b[0;31m                 \u001b[0mfd_event_list\u001b[0m \u001b[0;34m=\u001b[0m \u001b[0mself\u001b[0m\u001b[0;34m.\u001b[0m\u001b[0m_poll\u001b[0m\u001b[0;34m.\u001b[0m\u001b[0mpoll\u001b[0m\u001b[0;34m(\u001b[0m\u001b[0mtimeout\u001b[0m\u001b[0;34m)\u001b[0m\u001b[0;34m\u001b[0m\u001b[0;34m\u001b[0m\u001b[0m\n\u001b[0m\u001b[1;32m    377\u001b[0m             \u001b[0;32mexcept\u001b[0m \u001b[0mInterruptedError\u001b[0m\u001b[0;34m:\u001b[0m\u001b[0;34m\u001b[0m\u001b[0;34m\u001b[0m\u001b[0m\n\u001b[1;32m    378\u001b[0m                 \u001b[0;32mreturn\u001b[0m \u001b[0mready\u001b[0m\u001b[0;34m\u001b[0m\u001b[0;34m\u001b[0m\u001b[0m\n",
            "\u001b[0;31mKeyboardInterrupt\u001b[0m: "
          ]
        }
      ]
    },
    {
      "cell_type": "code",
      "metadata": {
        "id": "TxIzfwot0emL",
        "colab_type": "code",
        "colab": {}
      },
      "source": [
        ""
      ],
      "execution_count": null,
      "outputs": []
    },
    {
      "cell_type": "code",
      "metadata": {
        "id": "z1XsQSgu0ejg",
        "colab_type": "code",
        "colab": {}
      },
      "source": [
        ""
      ],
      "execution_count": null,
      "outputs": []
    },
    {
      "cell_type": "code",
      "metadata": {
        "id": "ovh0Ca3p0egZ",
        "colab_type": "code",
        "colab": {}
      },
      "source": [
        ""
      ],
      "execution_count": null,
      "outputs": []
    },
    {
      "cell_type": "code",
      "metadata": {
        "id": "9ish0V-5-jUC",
        "colab_type": "code",
        "colab": {}
      },
      "source": [
        "# class TranslateDataset(torch.utils.data.Dataset):\n",
        "#     def __init__(self, prll_data:pd.DataFrame):\n",
        "#         self.prll_data = prll_data\n",
        "\n",
        "#     def __len__(self):\n",
        "#         return len(self.prll_data)\n",
        "    \n",
        "#     def __getitem__(self, i):\n",
        "#        res = self.prll_data.loc[i]\n",
        "#        x, y = res[0], res[1]\n",
        "#     #    return padd(x, True, PAD_TOKEN).to(device), padd(y, PAD_TOKEN).to(device)\n",
        "#     #    return padd(x, True, 1).to(device), padd(y, True, 1).to(device)\n",
        "#        return x, y"
      ],
      "execution_count": null,
      "outputs": []
    },
    {
      "cell_type": "code",
      "metadata": {
        "id": "QN1YT7LoFx2M",
        "colab_type": "code",
        "colab": {}
      },
      "source": [
        "# dset = TranslateDataset(df)"
      ],
      "execution_count": null,
      "outputs": []
    },
    {
      "cell_type": "code",
      "metadata": {
        "id": "K4dosD7dTM-x",
        "colab_type": "code",
        "colab": {}
      },
      "source": [
        "# def custom_collate(batch):\n",
        "#     x = [item[0] for item in batch]\n",
        "#     print(x)\n",
        "#     y = [item[1] for item in batch]\n",
        "#     return padd(x, True, 1).to(device), padd(y, True, 1).to(device)"
      ],
      "execution_count": null,
      "outputs": []
    },
    {
      "cell_type": "code",
      "metadata": {
        "id": "bNNh0wdpBOms",
        "colab_type": "code",
        "colab": {}
      },
      "source": [
        "# dls = torch.utils.data.DataLoader(dset, batch_size=4, shuffle=True, collate_fn=custom_collate)"
      ],
      "execution_count": null,
      "outputs": []
    },
    {
      "cell_type": "code",
      "metadata": {
        "id": "7ZXh4uohIkeX",
        "colab_type": "code",
        "colab": {}
      },
      "source": [
        ""
      ],
      "execution_count": null,
      "outputs": []
    }
  ]
}